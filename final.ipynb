{
 "cells": [
  {
   "attachments": {},
   "cell_type": "markdown",
   "metadata": {},
   "source": [
    "Final Project by Alicia Bergeron and Nick Arangio"
   ]
  },
  {
   "attachments": {},
   "cell_type": "markdown",
   "metadata": {},
   "source": [
    "Installation instructions, create pip venv, and install all required files using requirements.txt\n",
    "\n",
    "Once done, ensure you are in the correct env in terminal and type the following:\n",
    "\n",
    "python -m ipykernel intall --user --name:[env name]"
   ]
  },
  {
   "cell_type": "code",
   "execution_count": 123,
   "metadata": {},
   "outputs": [],
   "source": [
    "import argparse\n",
    "import functools\n",
    "import logging\n",
    "import os\n",
    "import math\n",
    "\n",
    "import re\n",
    "import pandas as pd\n",
    "import matplotlib.pyplot as plt\n",
    "import numpy as np\n",
    "from tqdm import tqdm, trange\n",
    "from collections import Counter\n",
    "\n",
    "import torch\n",
    "import torch.nn.functional as F\n",
    "from torch import nn\n",
    "from torch.distributions import constraints\n",
    "from sklearn.feature_extraction.text import CountVectorizer\n",
    "import tomotopy as tp\n",
    "\n",
    "import nltk\n",
    "from nltk.corpus import stopwords\n",
    "\n",
    "import pyro\n",
    "import pyro.distributions as dist\n",
    "from pyro.infer import Predictive, SVI, Trace_ELBO, JitTraceEnum_ELBO, TraceEnum_ELBO, NUTS, MCMC, TraceMeanField_ELBO\n",
    "from pyro.optim import Adam\n",
    "\n",
    "stop = set(stopwords.words('english'))\n",
    "pyro.set_rng_seed(0)\n",
    "logging.basicConfig(format=\"%(relativeCreated) 9d %(message)s\", level=logging.INFO)"
   ]
  },
  {
   "attachments": {},
   "cell_type": "markdown",
   "metadata": {},
   "source": [
    "### Dataset Information\n",
    "Sentiments: sadness, anger, love, surprise, fear, joy"
   ]
  },
  {
   "cell_type": "code",
   "execution_count": 124,
   "metadata": {},
   "outputs": [],
   "source": [
    "dataset = 'Emotions dataset for NLP/train.txt'"
   ]
  },
  {
   "cell_type": "code",
   "execution_count": 125,
   "metadata": {},
   "outputs": [
    {
     "data": {
      "text/html": [
       "<div>\n",
       "<style scoped>\n",
       "    .dataframe tbody tr th:only-of-type {\n",
       "        vertical-align: middle;\n",
       "    }\n",
       "\n",
       "    .dataframe tbody tr th {\n",
       "        vertical-align: top;\n",
       "    }\n",
       "\n",
       "    .dataframe thead th {\n",
       "        text-align: right;\n",
       "    }\n",
       "</style>\n",
       "<table border=\"1\" class=\"dataframe\">\n",
       "  <thead>\n",
       "    <tr style=\"text-align: right;\">\n",
       "      <th></th>\n",
       "      <th>Text</th>\n",
       "      <th>Sentiment</th>\n",
       "    </tr>\n",
       "  </thead>\n",
       "  <tbody>\n",
       "    <tr>\n",
       "      <th>0</th>\n",
       "      <td>i didnt feel humiliated</td>\n",
       "      <td>sadness</td>\n",
       "    </tr>\n",
       "    <tr>\n",
       "      <th>1</th>\n",
       "      <td>i can go from feeling so hopeless to so damned...</td>\n",
       "      <td>sadness</td>\n",
       "    </tr>\n",
       "    <tr>\n",
       "      <th>2</th>\n",
       "      <td>im grabbing a minute to post i feel greedy wrong</td>\n",
       "      <td>anger</td>\n",
       "    </tr>\n",
       "    <tr>\n",
       "      <th>3</th>\n",
       "      <td>i am ever feeling nostalgic about the fireplac...</td>\n",
       "      <td>love</td>\n",
       "    </tr>\n",
       "    <tr>\n",
       "      <th>4</th>\n",
       "      <td>i am feeling grouchy</td>\n",
       "      <td>anger</td>\n",
       "    </tr>\n",
       "  </tbody>\n",
       "</table>\n",
       "</div>"
      ],
      "text/plain": [
       "                                                Text Sentiment\n",
       "0                            i didnt feel humiliated   sadness\n",
       "1  i can go from feeling so hopeless to so damned...   sadness\n",
       "2   im grabbing a minute to post i feel greedy wrong     anger\n",
       "3  i am ever feeling nostalgic about the fireplac...      love\n",
       "4                               i am feeling grouchy     anger"
      ]
     },
     "metadata": {},
     "output_type": "display_data"
    },
    {
     "data": {
      "text/plain": [
       "array(['sadness', 'anger', 'love', 'surprise', 'fear', 'joy'],\n",
       "      dtype=object)"
      ]
     },
     "metadata": {},
     "output_type": "display_data"
    },
    {
     "data": {
      "text/html": [
       "<div>\n",
       "<style scoped>\n",
       "    .dataframe tbody tr th:only-of-type {\n",
       "        vertical-align: middle;\n",
       "    }\n",
       "\n",
       "    .dataframe tbody tr th {\n",
       "        vertical-align: top;\n",
       "    }\n",
       "\n",
       "    .dataframe thead th {\n",
       "        text-align: right;\n",
       "    }\n",
       "</style>\n",
       "<table border=\"1\" class=\"dataframe\">\n",
       "  <thead>\n",
       "    <tr style=\"text-align: right;\">\n",
       "      <th></th>\n",
       "      <th>Text</th>\n",
       "      <th>Sentiment</th>\n",
       "    </tr>\n",
       "  </thead>\n",
       "  <tbody>\n",
       "    <tr>\n",
       "      <th>count</th>\n",
       "      <td>16000</td>\n",
       "      <td>16000</td>\n",
       "    </tr>\n",
       "    <tr>\n",
       "      <th>unique</th>\n",
       "      <td>15969</td>\n",
       "      <td>6</td>\n",
       "    </tr>\n",
       "    <tr>\n",
       "      <th>top</th>\n",
       "      <td>i feel on the verge of tears from weariness i ...</td>\n",
       "      <td>joy</td>\n",
       "    </tr>\n",
       "    <tr>\n",
       "      <th>freq</th>\n",
       "      <td>2</td>\n",
       "      <td>5362</td>\n",
       "    </tr>\n",
       "  </tbody>\n",
       "</table>\n",
       "</div>"
      ],
      "text/plain": [
       "                                                     Text Sentiment\n",
       "count                                               16000     16000\n",
       "unique                                              15969         6\n",
       "top     i feel on the verge of tears from weariness i ...       joy\n",
       "freq                                                    2      5362"
      ]
     },
     "metadata": {},
     "output_type": "display_data"
    },
    {
     "data": {
      "text/plain": [
       "Text         in the army\n",
       "Sentiment          anger\n",
       "Name: 3111, dtype: object"
      ]
     },
     "metadata": {},
     "output_type": "display_data"
    }
   ],
   "source": [
    "ds = pd.read_csv(dataset, sep=';', header=None)\n",
    "ds.columns = [\"Text\", \"Sentiment\"]\n",
    "display(ds.head())\n",
    "display(ds.Sentiment.unique())\n",
    "display(ds.describe())\n",
    "display(ds.iloc[3111])\n",
    "\n",
    "def filter(text):\n",
    "    lemmatizer = nltk.stem.WordNetLemmatizer()\n",
    "    return \" \".join([lemmatizer.lemmatize(word) for word in str(text).split() if word not in stop])\n",
    "df = ds\n",
    "df.Text = df.Text.apply(lambda t: filter(t))\n",
    "\n"
   ]
  },
  {
   "cell_type": "code",
   "execution_count": 126,
   "metadata": {},
   "outputs": [],
   "source": [
    "dfA = df\n",
    "dfA.Sentiment = dfA.Sentiment.map({\n",
    "    'sadness':1,\n",
    "    'anger':2,\n",
    "    'love':3,\n",
    "    'surprise':4,\n",
    "    'fear':5,\n",
    "    'joy':6\n",
    "}\n",
    ")"
   ]
  },
  {
   "cell_type": "code",
   "execution_count": 127,
   "metadata": {},
   "outputs": [
    {
     "data": {
      "text/plain": [
       "False"
      ]
     },
     "metadata": {},
     "output_type": "display_data"
    },
    {
     "data": {
      "text/html": [
       "<div>\n",
       "<style scoped>\n",
       "    .dataframe tbody tr th:only-of-type {\n",
       "        vertical-align: middle;\n",
       "    }\n",
       "\n",
       "    .dataframe tbody tr th {\n",
       "        vertical-align: top;\n",
       "    }\n",
       "\n",
       "    .dataframe thead th {\n",
       "        text-align: right;\n",
       "    }\n",
       "</style>\n",
       "<table border=\"1\" class=\"dataframe\">\n",
       "  <thead>\n",
       "    <tr style=\"text-align: right;\">\n",
       "      <th></th>\n",
       "      <th>Text</th>\n",
       "      <th>Sentiment</th>\n",
       "      <th>Length</th>\n",
       "    </tr>\n",
       "  </thead>\n",
       "  <tbody>\n",
       "    <tr>\n",
       "      <th>0</th>\n",
       "      <td>didnt feel humiliated</td>\n",
       "      <td>1</td>\n",
       "      <td>3</td>\n",
       "    </tr>\n",
       "    <tr>\n",
       "      <th>1</th>\n",
       "      <td>go feeling hopeless damned hopeful around some...</td>\n",
       "      <td>1</td>\n",
       "      <td>9</td>\n",
       "    </tr>\n",
       "    <tr>\n",
       "      <th>2</th>\n",
       "      <td>grabbing minute post feel greedy wrong</td>\n",
       "      <td>2</td>\n",
       "      <td>6</td>\n",
       "    </tr>\n",
       "    <tr>\n",
       "      <th>3</th>\n",
       "      <td>ever feeling nostalgic fireplace know still pr...</td>\n",
       "      <td>3</td>\n",
       "      <td>7</td>\n",
       "    </tr>\n",
       "    <tr>\n",
       "      <th>4</th>\n",
       "      <td>feeling grouchy</td>\n",
       "      <td>2</td>\n",
       "      <td>2</td>\n",
       "    </tr>\n",
       "  </tbody>\n",
       "</table>\n",
       "</div>"
      ],
      "text/plain": [
       "                                                Text  Sentiment  Length\n",
       "0                              didnt feel humiliated          1       3\n",
       "1  go feeling hopeless damned hopeful around some...          1       9\n",
       "2             grabbing minute post feel greedy wrong          2       6\n",
       "3  ever feeling nostalgic fireplace know still pr...          3       7\n",
       "4                                    feeling grouchy          2       2"
      ]
     },
     "metadata": {},
     "output_type": "display_data"
    },
    {
     "data": {
      "text/plain": [
       "<Axes: xlabel='Length'>"
      ]
     },
     "execution_count": 127,
     "metadata": {},
     "output_type": "execute_result"
    },
    {
     "data": {
      "image/png": "[encoded data removed]",
      "text/plain": [
       "<Figure size 640x480 with 1 Axes>"
      ]
     },
     "metadata": {},
     "output_type": "display_data"
    }
   ],
   "source": [
    "df['Length'] = dfA.Text.str.split(\"\\\\s+\").apply(lambda a: len(a))\n",
    "graphing = df.groupby('Length').nunique()\n",
    "# display(graphing)\n",
    "display(df['Length'].iloc[0] > 5)\n",
    "display(df.head())\n",
    "norm_index = df[(df['Length'] < 5) | (df['Length'] > 20)].index\n",
    "df_norm = df.drop(norm_index)\n",
    "\n",
    "graphing.plot(y='Text', use_index=True, kind='line')"
   ]
  },
  {
   "cell_type": "code",
   "execution_count": 128,
   "metadata": {},
   "outputs": [
    {
     "data": {
      "text/html": [
       "<div>\n",
       "<style scoped>\n",
       "    .dataframe tbody tr th:only-of-type {\n",
       "        vertical-align: middle;\n",
       "    }\n",
       "\n",
       "    .dataframe tbody tr th {\n",
       "        vertical-align: top;\n",
       "    }\n",
       "\n",
       "    .dataframe thead th {\n",
       "        text-align: right;\n",
       "    }\n",
       "</style>\n",
       "<table border=\"1\" class=\"dataframe\">\n",
       "  <thead>\n",
       "    <tr style=\"text-align: right;\">\n",
       "      <th></th>\n",
       "      <th>Sentiment</th>\n",
       "      <th>Length</th>\n",
       "    </tr>\n",
       "  </thead>\n",
       "  <tbody>\n",
       "    <tr>\n",
       "      <th>count</th>\n",
       "      <td>12324.000000</td>\n",
       "      <td>12324.000000</td>\n",
       "    </tr>\n",
       "    <tr>\n",
       "      <th>mean</th>\n",
       "      <td>3.618468</td>\n",
       "      <td>9.866926</td>\n",
       "    </tr>\n",
       "    <tr>\n",
       "      <th>std</th>\n",
       "      <td>2.117923</td>\n",
       "      <td>3.860105</td>\n",
       "    </tr>\n",
       "    <tr>\n",
       "      <th>min</th>\n",
       "      <td>1.000000</td>\n",
       "      <td>5.000000</td>\n",
       "    </tr>\n",
       "    <tr>\n",
       "      <th>25%</th>\n",
       "      <td>1.000000</td>\n",
       "      <td>7.000000</td>\n",
       "    </tr>\n",
       "    <tr>\n",
       "      <th>50%</th>\n",
       "      <td>4.000000</td>\n",
       "      <td>9.000000</td>\n",
       "    </tr>\n",
       "    <tr>\n",
       "      <th>75%</th>\n",
       "      <td>6.000000</td>\n",
       "      <td>12.000000</td>\n",
       "    </tr>\n",
       "    <tr>\n",
       "      <th>max</th>\n",
       "      <td>6.000000</td>\n",
       "      <td>20.000000</td>\n",
       "    </tr>\n",
       "  </tbody>\n",
       "</table>\n",
       "</div>"
      ],
      "text/plain": [
       "          Sentiment        Length\n",
       "count  12324.000000  12324.000000\n",
       "mean       3.618468      9.866926\n",
       "std        2.117923      3.860105\n",
       "min        1.000000      5.000000\n",
       "25%        1.000000      7.000000\n",
       "50%        4.000000      9.000000\n",
       "75%        6.000000     12.000000\n",
       "max        6.000000     20.000000"
      ]
     },
     "execution_count": 128,
     "metadata": {},
     "output_type": "execute_result"
    }
   ],
   "source": [
    "df_norm.describe()"
   ]
  },
  {
   "cell_type": "code",
   "execution_count": 129,
   "metadata": {},
   "outputs": [
    {
     "data": {
      "text/plain": [
       "12188"
      ]
     },
     "execution_count": 129,
     "metadata": {},
     "output_type": "execute_result"
    }
   ],
   "source": [
    "vocab = Counter()\n",
    "df_norm.Text.str.lower().str.split().apply(vocab.update)\n",
    "len(list(vocab.keys()))"
   ]
  },
  {
   "cell_type": "code",
   "execution_count": 130,
   "metadata": {},
   "outputs": [],
   "source": [
    "analysis = {}\n",
    "for index, row in df_norm.iterrows():\n",
    "    for w in str(row['Text']).split():\n",
    "        if w in analysis:\n",
    "            analysis[w] += row['Sentiment']\n",
    "        else:\n",
    "            analysis [w] = row['Sentiment']\n",
    "# print(analysis)"
   ]
  },
  {
   "cell_type": "code",
   "execution_count": 131,
   "metadata": {},
   "outputs": [],
   "source": [
    "for key in analysis:\n",
    "    # print(analysis[key])\n",
    "    # print(key)\n",
    "    analysis[key] = [analysis[key] / vocab[key], vocab[key]]\n"
   ]
  },
  {
   "cell_type": "code",
   "execution_count": 132,
   "metadata": {},
   "outputs": [
    {
     "name": "stdout",
     "output_type": "stream",
     "text": [
      "{'go': [3.7257617728531858, 361], 'feeling': [3.517281644091546, 4282], 'feel': [3.6459523009741353, 8931], 'know': [3.400259067357513, 772], 'still': [3.4390243902439024, 492], 'ive': [3.3830645161290325, 496], 'time': [3.6404358353510897, 826], 'like': [3.5404658507698383, 2533], 'life': [3.518375241779497, 517], 'make': [3.9251497005988023, 668], 'something': [3.8067415730337077, 445], 'think': [3.622093023255814, 516], 'thing': [3.373263888888889, 576], 'dont': [3.4168618266978923, 427], 'need': [3.6481481481481484, 378], 'get': [3.550147492625369, 678], 'day': [3.6283185840707963, 565], 'pretty': [3.9714285714285715, 315], 'much': [3.5754060324825985, 431], 'would': [3.4456521739130435, 552], 'want': [3.511864406779661, 590], 'bit': [3.2685851318944845, 417], 'way': [3.511879049676026, 463], 'one': [3.5644283121597096, 551], 'could': [3.5800970873786406, 412], 'people': [3.6236933797909407, 574], 'back': [3.4226190476190474, 336], 'love': [3.844943820224719, 445], 'see': [3.6710097719869705, 307], 'going': [3.8, 425], 'good': [3.973607038123167, 341], 'really': [3.5421994884910486, 782], 'even': [3.3041666666666667, 480], 'always': [3.7081967213114755, 305], 'say': [3.454258675078864, 317]}\n"
     ]
    }
   ],
   "source": [
    "new_analysis = {k: v for k, v in analysis.items() if v[1] <= 300}\n",
    "outliers = {k: v for k, v in analysis.items() if v[1] > 300}\n",
    "print(outliers)\n"
   ]
  },
  {
   "cell_type": "code",
   "execution_count": 133,
   "metadata": {},
   "outputs": [
    {
     "data": {
      "text/plain": [
       "<matplotlib.collections.PathCollection at 0x7fa61024d100>"
      ]
     },
     "execution_count": 133,
     "metadata": {},
     "output_type": "execute_result"
    },
    {
     "data": {
      "image/png": "[encoded data removed]",
      "text/plain": [
       "<Figure size 640x480 with 1 Axes>"
      ]
     },
     "metadata": {},
     "output_type": "display_data"
    }
   ],
   "source": [
    "txt = new_analysis.keys\n",
    "values = list(new_analysis.values())\n",
    "fig, ax = plt.subplots()\n",
    "ax.scatter([item[1] for item in values], [item[0] for item in values])\n"
   ]
  },
  {
   "cell_type": "code",
   "execution_count": 183,
   "metadata": {},
   "outputs": [
    {
     "data": {
      "text/html": [
       "<div>\n",
       "<style scoped>\n",
       "    .dataframe tbody tr th:only-of-type {\n",
       "        vertical-align: middle;\n",
       "    }\n",
       "\n",
       "    .dataframe tbody tr th {\n",
       "        vertical-align: top;\n",
       "    }\n",
       "\n",
       "    .dataframe thead th {\n",
       "        text-align: right;\n",
       "    }\n",
       "</style>\n",
       "<table border=\"1\" class=\"dataframe\">\n",
       "  <thead>\n",
       "    <tr style=\"text-align: right;\">\n",
       "      <th></th>\n",
       "      <th>Text</th>\n",
       "      <th>Sentiment</th>\n",
       "      <th>Length</th>\n",
       "    </tr>\n",
       "  </thead>\n",
       "  <tbody>\n",
       "    <tr>\n",
       "      <th>1</th>\n",
       "      <td>go feeling hopeless damned hopeful around some...</td>\n",
       "      <td>1</td>\n",
       "      <td>9</td>\n",
       "    </tr>\n",
       "    <tr>\n",
       "      <th>2</th>\n",
       "      <td>grabbing minute post feel greedy wrong</td>\n",
       "      <td>2</td>\n",
       "      <td>6</td>\n",
       "    </tr>\n",
       "    <tr>\n",
       "      <th>3</th>\n",
       "      <td>ever feeling nostalgic fireplace know still pr...</td>\n",
       "      <td>3</td>\n",
       "      <td>7</td>\n",
       "    </tr>\n",
       "    <tr>\n",
       "      <th>5</th>\n",
       "      <td>ive feeling burdened lately wasnt sure</td>\n",
       "      <td>1</td>\n",
       "      <td>6</td>\n",
       "    </tr>\n",
       "    <tr>\n",
       "      <th>6</th>\n",
       "      <td>ive taking milligram time recommended amount i...</td>\n",
       "      <td>4</td>\n",
       "      <td>15</td>\n",
       "    </tr>\n",
       "    <tr>\n",
       "      <th>...</th>\n",
       "      <td>...</td>\n",
       "      <td>...</td>\n",
       "      <td>...</td>\n",
       "    </tr>\n",
       "    <tr>\n",
       "      <th>15993</th>\n",
       "      <td>day feel like braeden calvin happy successful day</td>\n",
       "      <td>6</td>\n",
       "      <td>8</td>\n",
       "    </tr>\n",
       "    <tr>\n",
       "      <th>15995</th>\n",
       "      <td>brief time beanbag said anna feel like beaten</td>\n",
       "      <td>1</td>\n",
       "      <td>8</td>\n",
       "    </tr>\n",
       "    <tr>\n",
       "      <th>15996</th>\n",
       "      <td>turning feel pathetic still waiting table subb...</td>\n",
       "      <td>1</td>\n",
       "      <td>9</td>\n",
       "    </tr>\n",
       "    <tr>\n",
       "      <th>15998</th>\n",
       "      <td>feel like rude comment glad</td>\n",
       "      <td>2</td>\n",
       "      <td>5</td>\n",
       "    </tr>\n",
       "    <tr>\n",
       "      <th>15999</th>\n",
       "      <td>know lot feel stupid portray</td>\n",
       "      <td>1</td>\n",
       "      <td>5</td>\n",
       "    </tr>\n",
       "  </tbody>\n",
       "</table>\n",
       "<p>12324 rows × 3 columns</p>\n",
       "</div>"
      ],
      "text/plain": [
       "                                                    Text  Sentiment  Length\n",
       "1      go feeling hopeless damned hopeful around some...          1       9\n",
       "2                 grabbing minute post feel greedy wrong          2       6\n",
       "3      ever feeling nostalgic fireplace know still pr...          3       7\n",
       "5                 ive feeling burdened lately wasnt sure          1       6\n",
       "6      ive taking milligram time recommended amount i...          4      15\n",
       "...                                                  ...        ...     ...\n",
       "15993  day feel like braeden calvin happy successful day          6       8\n",
       "15995      brief time beanbag said anna feel like beaten          1       8\n",
       "15996  turning feel pathetic still waiting table subb...          1       9\n",
       "15998                        feel like rude comment glad          2       5\n",
       "15999                       know lot feel stupid portray          1       5\n",
       "\n",
       "[12324 rows x 3 columns]"
      ]
     },
     "metadata": {},
     "output_type": "display_data"
    },
    {
     "data": {
      "text/plain": [
       "0       go feeling hopeless damned hopeful around some...\n",
       "1          feel like make suffering seeing mean something\n",
       "2       started feeling sentimental doll child began c...\n",
       "3       feel inhibited someone el kitchen like paintin...\n",
       "6       feeling discouraged already robbing peter pay ...\n",
       "                              ...                        \n",
       "2279    feeling inspired get work done feeling like ci...\n",
       "2280    sure parent feeling grandparent manchester one...\n",
       "2282         need work better nutrition time feel amazing\n",
       "2283    dont even know going write wine flowing dining...\n",
       "2284    feel really glad dont look like celebrity beau...\n",
       "Name: Text, Length: 7495, dtype: object"
      ]
     },
     "metadata": {},
     "output_type": "display_data"
    },
    {
     "data": {
      "text/plain": [
       "0       go feeling hopeless damned hopeful around some...\n",
       "1       feel confused life teenager jaded year old man...\n",
       "2       started feeling sentimental doll child began c...\n",
       "3       feeling completely overwhelmed two strategy he...\n",
       "4       feel kinda appalled feel like need explain wid...\n",
       "                              ...                        \n",
       "2281    feeling bit discouraged word really hit home f...\n",
       "2282    feeling much like guy pic overwhelmed starved ...\n",
       "2283    dont even know going write wine flowing dining...\n",
       "2284    feel really glad dont look like celebrity beau...\n",
       "2285    brief time beanbag said anna feel like beaten ...\n",
       "Name: Text, Length: 2286, dtype: object"
      ]
     },
     "metadata": {},
     "output_type": "display_data"
    }
   ],
   "source": [
    "df_sad = df_norm[df_norm[\"Sentiment\"] == 1]\n",
    "# display(df_sad)\n",
    "df_sad = df_sad.groupby(df_sad.index // 7)['Text'].apply(' '.join)\n",
    "\n",
    "df_anger = df_norm[df_norm[\"Sentiment\"] == 2]\n",
    "# display(df_anger)\n",
    "df_anger = df_anger.groupby(df_anger.index // 7)['Text'].apply(' '.join)\n",
    "\n",
    "df_love = df_norm[df_norm[\"Sentiment\"] == 3]\n",
    "# display(df_love)\n",
    "df_love = df_love.groupby(df_love.index // 7)['Text'].apply(' '.join)\n",
    "\n",
    "df_surprise = df_norm[df_norm[\"Sentiment\"] == 4]\n",
    "# display(df_surprise)\n",
    "df_surprise = df_surprise.groupby(df_surprise.index // 7)['Text'].apply(' '.join)\n",
    "\n",
    "df_fear = df_norm[df_norm[\"Sentiment\"] == 5]\n",
    "# display(df_fear)\n",
    "df_fear = df_fear.groupby(df_fear.index // 7)['Text'].apply(' '.join)\n",
    "\n",
    "df_joy = df_norm[df_norm[\"Sentiment\"] == 6]\n",
    "# display(df_joy)\n",
    "df_joy = df_joy.groupby(df_joy.index // 7)['Text'].apply(' '.join)\n",
    "\n",
    "df_concat = pd.concat([df_sad, df_anger, df_love, df_surprise, df_fear, df_joy], axis=0)\n",
    "\n",
    "\n",
    "df_random = df_norm.groupby(df_norm.index // 7)['Text'].apply(' '.join)\n",
    "\n",
    "display(df_norm)\n",
    "display(df_concat)\n",
    "display(df_random)"
   ]
  },
  {
   "cell_type": "code",
   "execution_count": 160,
   "metadata": {},
   "outputs": [],
   "source": [
    "vectorizer = CountVectorizer(stop_words='english')\n",
    "docs = torch.from_numpy(vectorizer.fit_transform(df_norm['Text']).toarray())"
   ]
  },
  {
   "cell_type": "code",
   "execution_count": 189,
   "metadata": {},
   "outputs": [
    {
     "name": "stderr",
     "output_type": "stream",
     "text": [
      "/var/folders/d5/d4vbmxhd4wxdb9smqpxs6x500000gn/T/ipykernel_33179/142465985.py:10: RuntimeWarning: The training result may differ even with fixed seed if `workers` != 1.\n",
      "  hdp.train(0)\n",
      "  0%|          | 0/100 [00:00<?, ?it/s]/var/folders/d5/d4vbmxhd4wxdb9smqpxs6x500000gn/T/ipykernel_33179/142465985.py:12: RuntimeWarning: The training result may differ even with fixed seed if `workers` != 1.\n",
      "  hdp.train(100)\n",
      "  2%|▏         | 2/100 [00:02<01:44,  1.07s/it]"
     ]
    },
    {
     "name": "stdout",
     "output_type": "stream",
     "text": [
      "i: 0, log_probs: -7.83463327338396, topics: 60\n",
      "i: 100, log_probs: -7.794624264047455, topics: 52\n"
     ]
    },
    {
     "name": "stderr",
     "output_type": "stream",
     "text": [
      "  3%|▎         | 3/100 [00:03<01:47,  1.11s/it]"
     ]
    },
    {
     "name": "stdout",
     "output_type": "stream",
     "text": [
      "i: 200, log_probs: -7.763244932443928, topics: 42\n",
      "i: 300, log_probs: -7.762697566283178, topics: 40\n"
     ]
    },
    {
     "name": "stderr",
     "output_type": "stream",
     "text": [
      "  5%|▌         | 5/100 [00:05<01:48,  1.14s/it]"
     ]
    },
    {
     "name": "stdout",
     "output_type": "stream",
     "text": [
      "i: 400, log_probs: -7.760789900536639, topics: 36\n",
      "i: 500, log_probs: -7.76061154978513, topics: 43\n"
     ]
    },
    {
     "name": "stderr",
     "output_type": "stream",
     "text": [
      "  7%|▋         | 7/100 [00:08<01:55,  1.24s/it]"
     ]
    },
    {
     "name": "stdout",
     "output_type": "stream",
     "text": [
      "i: 600, log_probs: -7.761819734196617, topics: 43\n",
      "i: 700, log_probs: -7.762375655551211, topics: 47\n"
     ]
    },
    {
     "name": "stderr",
     "output_type": "stream",
     "text": [
      "  9%|▉         | 9/100 [00:10<01:51,  1.23s/it]"
     ]
    },
    {
     "name": "stdout",
     "output_type": "stream",
     "text": [
      "i: 800, log_probs: -7.760923347927141, topics: 36\n",
      "i: 900, log_probs: -7.760602786780145, topics: 42\n"
     ]
    },
    {
     "name": "stderr",
     "output_type": "stream",
     "text": [
      " 11%|█         | 11/100 [00:13<01:47,  1.21s/it]"
     ]
    },
    {
     "name": "stdout",
     "output_type": "stream",
     "text": [
      "i: 1000, log_probs: -7.760730477944529, topics: 41\n",
      "i: 1100, log_probs: -7.7603903105413545, topics: 41\n"
     ]
    },
    {
     "name": "stderr",
     "output_type": "stream",
     "text": [
      " 13%|█▎        | 13/100 [00:15<01:46,  1.22s/it]"
     ]
    },
    {
     "name": "stdout",
     "output_type": "stream",
     "text": [
      "i: 1200, log_probs: -7.761054846395298, topics: 43\n",
      "i: 1300, log_probs: -7.761855731685742, topics: 39\n"
     ]
    },
    {
     "name": "stderr",
     "output_type": "stream",
     "text": [
      " 15%|█▌        | 15/100 [00:18<01:48,  1.27s/it]"
     ]
    },
    {
     "name": "stdout",
     "output_type": "stream",
     "text": [
      "i: 1400, log_probs: -7.761458506472573, topics: 49\n",
      "i: 1500, log_probs: -7.761499742358927, topics: 45\n"
     ]
    },
    {
     "name": "stderr",
     "output_type": "stream",
     "text": [
      " 17%|█▋        | 17/100 [00:20<01:44,  1.26s/it]"
     ]
    },
    {
     "name": "stdout",
     "output_type": "stream",
     "text": [
      "i: 1600, log_probs: -7.762502908082929, topics: 40\n"
     ]
    },
    {
     "name": "stderr",
     "output_type": "stream",
     "text": [
      " 18%|█▊        | 18/100 [00:21<01:42,  1.25s/it]"
     ]
    },
    {
     "name": "stdout",
     "output_type": "stream",
     "text": [
      "i: 1700, log_probs: -7.760630281015162, topics: 39\n",
      "i: 1800, log_probs: -7.761211506750638, topics: 41\n"
     ]
    },
    {
     "name": "stderr",
     "output_type": "stream",
     "text": [
      " 20%|██        | 20/100 [00:24<01:39,  1.25s/it]"
     ]
    },
    {
     "name": "stdout",
     "output_type": "stream",
     "text": [
      "i: 1900, log_probs: -7.761142315829175, topics: 40\n",
      "i: 2000, log_probs: -7.761091549042942, topics: 43\n"
     ]
    },
    {
     "name": "stderr",
     "output_type": "stream",
     "text": [
      " 22%|██▏       | 22/100 [00:26<01:37,  1.25s/it]"
     ]
    },
    {
     "name": "stdout",
     "output_type": "stream",
     "text": [
      "i: 2100, log_probs: -7.760708424058937, topics: 43\n",
      "i: 2200, log_probs: -7.76104141663292, topics: 44\n"
     ]
    },
    {
     "name": "stderr",
     "output_type": "stream",
     "text": [
      " 24%|██▍       | 24/100 [00:29<01:35,  1.26s/it]"
     ]
    },
    {
     "name": "stdout",
     "output_type": "stream",
     "text": [
      "i: 2300, log_probs: -7.761547010731711, topics: 47\n",
      "i: 2400, log_probs: -7.761086386999893, topics: 41\n"
     ]
    },
    {
     "name": "stderr",
     "output_type": "stream",
     "text": [
      " 26%|██▌       | 26/100 [00:31<01:33,  1.26s/it]"
     ]
    },
    {
     "name": "stdout",
     "output_type": "stream",
     "text": [
      "i: 2500, log_probs: -7.761578105148342, topics: 44\n",
      "i: 2600, log_probs: -7.762036497788972, topics: 44\n"
     ]
    },
    {
     "name": "stderr",
     "output_type": "stream",
     "text": [
      " 28%|██▊       | 28/100 [00:34<01:29,  1.25s/it]"
     ]
    },
    {
     "name": "stdout",
     "output_type": "stream",
     "text": [
      "i: 2700, log_probs: -7.76127128706196, topics: 43\n",
      "i: 2800, log_probs: -7.760776184513292, topics: 41\n"
     ]
    },
    {
     "name": "stderr",
     "output_type": "stream",
     "text": [
      " 30%|███       | 30/100 [00:36<01:27,  1.25s/it]"
     ]
    },
    {
     "name": "stdout",
     "output_type": "stream",
     "text": [
      "i: 2900, log_probs: -7.762085441441392, topics: 41\n",
      "i: 3000, log_probs: -7.7611454923921555, topics: 41\n"
     ]
    },
    {
     "name": "stderr",
     "output_type": "stream",
     "text": [
      " 32%|███▏      | 32/100 [00:39<01:25,  1.25s/it]"
     ]
    },
    {
     "name": "stdout",
     "output_type": "stream",
     "text": [
      "i: 3100, log_probs: -7.760958560821424, topics: 40\n",
      "i: 3200, log_probs: -7.761618134034766, topics: 42\n"
     ]
    },
    {
     "name": "stderr",
     "output_type": "stream",
     "text": [
      " 34%|███▍      | 34/100 [00:42<01:24,  1.28s/it]"
     ]
    },
    {
     "name": "stdout",
     "output_type": "stream",
     "text": [
      "i: 3300, log_probs: -7.761865888023351, topics: 40\n",
      "i: 3400, log_probs: -7.76097958225926, topics: 38\n"
     ]
    },
    {
     "name": "stderr",
     "output_type": "stream",
     "text": [
      " 36%|███▌      | 36/100 [00:44<01:19,  1.25s/it]"
     ]
    },
    {
     "name": "stdout",
     "output_type": "stream",
     "text": [
      "i: 3500, log_probs: -7.761868731699128, topics: 40\n",
      "i: 3600, log_probs: -7.761863382746624, topics: 38\n"
     ]
    },
    {
     "name": "stderr",
     "output_type": "stream",
     "text": [
      " 38%|███▊      | 38/100 [00:46<01:16,  1.24s/it]"
     ]
    },
    {
     "name": "stdout",
     "output_type": "stream",
     "text": [
      "i: 3700, log_probs: -7.761211699868747, topics: 47\n",
      "i: 3800, log_probs: -7.761087040811095, topics: 46\n"
     ]
    },
    {
     "name": "stderr",
     "output_type": "stream",
     "text": [
      " 40%|████      | 40/100 [00:49<01:13,  1.23s/it]"
     ]
    },
    {
     "name": "stdout",
     "output_type": "stream",
     "text": [
      "i: 3900, log_probs: -7.761589270662346, topics: 38\n",
      "i: 4000, log_probs: -7.7607901350457755, topics: 42\n"
     ]
    },
    {
     "name": "stderr",
     "output_type": "stream",
     "text": [
      " 42%|████▏     | 42/100 [00:51<01:14,  1.28s/it]"
     ]
    },
    {
     "name": "stdout",
     "output_type": "stream",
     "text": [
      "i: 4100, log_probs: -7.761767402782588, topics: 47\n"
     ]
    },
    {
     "name": "stderr",
     "output_type": "stream",
     "text": [
      " 43%|████▎     | 43/100 [00:53<01:12,  1.26s/it]"
     ]
    },
    {
     "name": "stdout",
     "output_type": "stream",
     "text": [
      "i: 4200, log_probs: -7.762249569246912, topics: 46\n",
      "i: 4300, log_probs: -7.761206308682259, topics: 40\n"
     ]
    },
    {
     "name": "stderr",
     "output_type": "stream",
     "text": [
      " 45%|████▌     | 45/100 [00:55<01:08,  1.24s/it]"
     ]
    },
    {
     "name": "stdout",
     "output_type": "stream",
     "text": [
      "i: 4400, log_probs: -7.761985485798747, topics: 47\n",
      "i: 4500, log_probs: -7.76220655651632, topics: 44\n"
     ]
    },
    {
     "name": "stderr",
     "output_type": "stream",
     "text": [
      " 47%|████▋     | 47/100 [00:58<01:05,  1.23s/it]"
     ]
    },
    {
     "name": "stdout",
     "output_type": "stream",
     "text": [
      "i: 4600, log_probs: -7.7617032771285075, topics: 42\n",
      "i: 4700, log_probs: -7.7605328224284555, topics: 42\n"
     ]
    },
    {
     "name": "stderr",
     "output_type": "stream",
     "text": [
      " 49%|████▉     | 49/100 [01:00<01:03,  1.25s/it]"
     ]
    },
    {
     "name": "stdout",
     "output_type": "stream",
     "text": [
      "i: 4800, log_probs: -7.759935641587315, topics: 41\n",
      "i: 4900, log_probs: -7.7618477828104195, topics: 42\n"
     ]
    },
    {
     "name": "stderr",
     "output_type": "stream",
     "text": [
      " 51%|█████     | 51/100 [01:03<01:03,  1.29s/it]"
     ]
    },
    {
     "name": "stdout",
     "output_type": "stream",
     "text": [
      "i: 5000, log_probs: -7.761059427382446, topics: 44\n",
      "i: 5100, log_probs: -7.761005972348181, topics: 40\n"
     ]
    },
    {
     "name": "stderr",
     "output_type": "stream",
     "text": [
      " 53%|█████▎    | 53/100 [01:05<00:58,  1.25s/it]"
     ]
    },
    {
     "name": "stdout",
     "output_type": "stream",
     "text": [
      "i: 5200, log_probs: -7.759889729825016, topics: 38\n",
      "i: 5300, log_probs: -7.762104591644658, topics: 39\n"
     ]
    },
    {
     "name": "stderr",
     "output_type": "stream",
     "text": [
      " 55%|█████▌    | 55/100 [01:08<00:55,  1.24s/it]"
     ]
    },
    {
     "name": "stdout",
     "output_type": "stream",
     "text": [
      "i: 5400, log_probs: -7.761218944141434, topics: 42\n",
      "i: 5500, log_probs: -7.760649110722435, topics: 39\n"
     ]
    },
    {
     "name": "stderr",
     "output_type": "stream",
     "text": [
      " 57%|█████▋    | 57/100 [01:10<00:53,  1.24s/it]"
     ]
    },
    {
     "name": "stdout",
     "output_type": "stream",
     "text": [
      "i: 5600, log_probs: -7.761143602735185, topics: 40\n",
      "i: 5700, log_probs: -7.761104384288202, topics: 40\n"
     ]
    },
    {
     "name": "stderr",
     "output_type": "stream",
     "text": [
      " 59%|█████▉    | 59/100 [01:13<00:50,  1.23s/it]"
     ]
    },
    {
     "name": "stdout",
     "output_type": "stream",
     "text": [
      "i: 5800, log_probs: -7.760879883454985, topics: 39\n",
      "i: 5900, log_probs: -7.761296336512217, topics: 42\n"
     ]
    },
    {
     "name": "stderr",
     "output_type": "stream",
     "text": [
      " 61%|██████    | 61/100 [01:15<00:48,  1.24s/it]"
     ]
    },
    {
     "name": "stdout",
     "output_type": "stream",
     "text": [
      "i: 6000, log_probs: -7.7610372865704775, topics: 42\n",
      "i: 6100, log_probs: -7.7605575179593345, topics: 41\n"
     ]
    },
    {
     "name": "stderr",
     "output_type": "stream",
     "text": [
      " 63%|██████▎   | 63/100 [01:18<00:45,  1.23s/it]"
     ]
    },
    {
     "name": "stdout",
     "output_type": "stream",
     "text": [
      "i: 6200, log_probs: -7.760866500010888, topics: 41\n",
      "i: 6300, log_probs: -7.760714594863426, topics: 44\n"
     ]
    },
    {
     "name": "stderr",
     "output_type": "stream",
     "text": [
      " 65%|██████▌   | 65/100 [01:20<00:43,  1.23s/it]"
     ]
    },
    {
     "name": "stdout",
     "output_type": "stream",
     "text": [
      "i: 6400, log_probs: -7.759913574929485, topics: 48\n",
      "i: 6500, log_probs: -7.7609671838407035, topics: 41\n"
     ]
    },
    {
     "name": "stderr",
     "output_type": "stream",
     "text": [
      " 67%|██████▋   | 67/100 [01:22<00:40,  1.24s/it]"
     ]
    },
    {
     "name": "stdout",
     "output_type": "stream",
     "text": [
      "i: 6600, log_probs: -7.760709070113887, topics: 40\n",
      "i: 6700, log_probs: -7.76021766357254, topics: 37\n"
     ]
    },
    {
     "name": "stderr",
     "output_type": "stream",
     "text": [
      " 69%|██████▉   | 69/100 [01:25<00:39,  1.27s/it]"
     ]
    },
    {
     "name": "stdout",
     "output_type": "stream",
     "text": [
      "i: 6800, log_probs: -7.762001982325665, topics: 43\n",
      "i: 6900, log_probs: -7.75937925640529, topics: 37\n"
     ]
    },
    {
     "name": "stderr",
     "output_type": "stream",
     "text": [
      " 71%|███████   | 71/100 [01:27<00:35,  1.23s/it]"
     ]
    },
    {
     "name": "stdout",
     "output_type": "stream",
     "text": [
      "i: 7000, log_probs: -7.7603924751041635, topics: 42\n",
      "i: 7100, log_probs: -7.760840842323924, topics: 40\n"
     ]
    },
    {
     "name": "stderr",
     "output_type": "stream",
     "text": [
      " 73%|███████▎  | 73/100 [01:30<00:33,  1.24s/it]"
     ]
    },
    {
     "name": "stdout",
     "output_type": "stream",
     "text": [
      "i: 7200, log_probs: -7.760385928528651, topics: 37\n",
      "i: 7300, log_probs: -7.761330194247051, topics: 46\n"
     ]
    },
    {
     "name": "stderr",
     "output_type": "stream",
     "text": [
      " 75%|███████▌  | 75/100 [01:32<00:30,  1.23s/it]"
     ]
    },
    {
     "name": "stdout",
     "output_type": "stream",
     "text": [
      "i: 7400, log_probs: -7.760554581576531, topics: 42\n",
      "i: 7500, log_probs: -7.760860811988622, topics: 41\n"
     ]
    },
    {
     "name": "stderr",
     "output_type": "stream",
     "text": [
      " 77%|███████▋  | 77/100 [01:35<00:30,  1.30s/it]"
     ]
    },
    {
     "name": "stdout",
     "output_type": "stream",
     "text": [
      "i: 7600, log_probs: -7.7606256273379595, topics: 38\n",
      "i: 7700, log_probs: -7.760467919706124, topics: 39\n"
     ]
    },
    {
     "name": "stderr",
     "output_type": "stream",
     "text": [
      " 79%|███████▉  | 79/100 [01:38<00:26,  1.28s/it]"
     ]
    },
    {
     "name": "stdout",
     "output_type": "stream",
     "text": [
      "i: 7800, log_probs: -7.7604973094153, topics: 41\n",
      "i: 7900, log_probs: -7.761494309392554, topics: 45\n"
     ]
    },
    {
     "name": "stderr",
     "output_type": "stream",
     "text": [
      " 81%|████████  | 81/100 [01:40<00:23,  1.24s/it]"
     ]
    },
    {
     "name": "stdout",
     "output_type": "stream",
     "text": [
      "i: 8000, log_probs: -7.761321161808924, topics: 40\n",
      "i: 8100, log_probs: -7.760258555276584, topics: 43\n"
     ]
    },
    {
     "name": "stderr",
     "output_type": "stream",
     "text": [
      " 83%|████████▎ | 83/100 [01:42<00:20,  1.21s/it]"
     ]
    },
    {
     "name": "stdout",
     "output_type": "stream",
     "text": [
      "i: 8200, log_probs: -7.7610890305816325, topics: 40\n",
      "i: 8300, log_probs: -7.7606394426110406, topics: 38\n"
     ]
    },
    {
     "name": "stderr",
     "output_type": "stream",
     "text": [
      " 85%|████████▌ | 85/100 [01:45<00:17,  1.19s/it]"
     ]
    },
    {
     "name": "stdout",
     "output_type": "stream",
     "text": [
      "i: 8400, log_probs: -7.760944825809355, topics: 41\n",
      "i: 8500, log_probs: -7.760581639298019, topics: 40\n"
     ]
    },
    {
     "name": "stderr",
     "output_type": "stream",
     "text": [
      " 87%|████████▋ | 87/100 [01:47<00:16,  1.25s/it]"
     ]
    },
    {
     "name": "stdout",
     "output_type": "stream",
     "text": [
      "i: 8600, log_probs: -7.7609376974550335, topics: 43\n",
      "i: 8700, log_probs: -7.76136795566464, topics: 38\n"
     ]
    },
    {
     "name": "stderr",
     "output_type": "stream",
     "text": [
      " 89%|████████▉ | 89/100 [01:50<00:13,  1.24s/it]"
     ]
    },
    {
     "name": "stdout",
     "output_type": "stream",
     "text": [
      "i: 8800, log_probs: -7.760668578182964, topics: 38\n",
      "i: 8900, log_probs: -7.7612360430200145, topics: 45\n"
     ]
    },
    {
     "name": "stderr",
     "output_type": "stream",
     "text": [
      " 91%|█████████ | 91/100 [01:52<00:11,  1.24s/it]"
     ]
    },
    {
     "name": "stdout",
     "output_type": "stream",
     "text": [
      "i: 9000, log_probs: -7.760519448215132, topics: 38\n",
      "i: 9100, log_probs: -7.7604619376040045, topics: 39\n"
     ]
    },
    {
     "name": "stderr",
     "output_type": "stream",
     "text": [
      " 93%|█████████▎| 93/100 [01:55<00:08,  1.24s/it]"
     ]
    },
    {
     "name": "stdout",
     "output_type": "stream",
     "text": [
      "i: 9200, log_probs: -7.760000112600713, topics: 35\n",
      "i: 9300, log_probs: -7.760636118982035, topics: 43\n"
     ]
    },
    {
     "name": "stderr",
     "output_type": "stream",
     "text": [
      " 96%|█████████▌| 96/100 [01:59<00:05,  1.28s/it]"
     ]
    },
    {
     "name": "stdout",
     "output_type": "stream",
     "text": [
      "i: 9400, log_probs: -7.759631434293463, topics: 37\n",
      "i: 9500, log_probs: -7.760744033691172, topics: 37\n"
     ]
    },
    {
     "name": "stderr",
     "output_type": "stream",
     "text": [
      " 98%|█████████▊| 98/100 [02:01<00:02,  1.25s/it]"
     ]
    },
    {
     "name": "stdout",
     "output_type": "stream",
     "text": [
      "i: 9600, log_probs: -7.759418444813767, topics: 36\n",
      "i: 9700, log_probs: -7.760530706905923, topics: 40\n"
     ]
    },
    {
     "name": "stderr",
     "output_type": "stream",
     "text": [
      " 99%|█████████▉| 99/100 [02:02<00:01,  1.24s/it]"
     ]
    },
    {
     "name": "stdout",
     "output_type": "stream",
     "text": [
      "i: 9800, log_probs: -7.76253064658764, topics: 42\n",
      "i: 9900, log_probs: -7.760380177271544, topics: 41\n"
     ]
    },
    {
     "name": "stderr",
     "output_type": "stream",
     "text": [
      "100%|██████████| 100/100 [02:04<00:00,  1.24s/it]\n"
     ]
    }
   ],
   "source": [
    "hdp = tp.HDPModel(min_cf=3, rm_top=10, gamma=1, alpha=0.1, initial_k = 3, seed=0)\n",
    "\n",
    "# for doc in list(df_random):\n",
    "#     hdp.add_doc(doc.split())\n",
    "\n",
    "for doc in list(df_concat):\n",
    "    hdp.add_doc(doc.split())\n",
    "\n",
    "hdp.burn_in = 100\n",
    "hdp.train(0)\n",
    "for i in tqdm(range(0, 10000, 100)):\n",
    "    hdp.train(100)\n",
    "    print(f'i: {i}, log_probs: {hdp.ll_per_word}, topics: {hdp.live_k}')\n",
    "    n_topics = hdp.live_k"
   ]
  },
  {
   "cell_type": "code",
   "execution_count": 190,
   "metadata": {},
   "outputs": [
    {
     "data": {
      "text/plain": [
       "{2: [('would', 0.006268275901675224),\n",
       "  ('people', 0.006145850755274296),\n",
       "  ('day', 0.006145850755274296),\n",
       "  ('one', 0.005913243629038334),\n",
       "  ('life', 0.005803061183542013),\n",
       "  ('think', 0.005680636502802372)],\n",
       " 1: [('ive', 0.008102759718894958),\n",
       "  ('one', 0.008102759718894958),\n",
       "  ('people', 0.007871318608522415),\n",
       "  ('day', 0.0076398770324885845),\n",
       "  ('think', 0.0060197883285582066),\n",
       "  ('dont', 0.0060197883285582066)],\n",
       " 0: [('dont', 0.010355579666793346),\n",
       "  ('bit', 0.008876563049852848),\n",
       "  ('people', 0.008630060590803623),\n",
       "  ('still', 0.008383558131754398),\n",
       "  ('one', 0.007151044439524412),\n",
       "  ('love', 0.006658039055764675)],\n",
       " 7: [('love', 0.05619238689541817),\n",
       "  ('naughty', 0.0481763556599617),\n",
       "  ('never', 0.040160320699214935),\n",
       "  ('sweet', 0.024128256365656853),\n",
       "  ('smell', 0.024128256365656853),\n",
       "  ('cute', 0.016112225130200386)],\n",
       " 4: [('unnatural', 0.026696231216192245),\n",
       "  ('racism', 0.017827050760388374),\n",
       "  ('song', 0.017827050760388374),\n",
       "  ('punished', 0.017827050760388374),\n",
       "  ('yeah', 0.017827050760388374),\n",
       "  ('taught', 0.017827050760388374)],\n",
       " 3: [('pain', 0.04523702338337898),\n",
       "  ('character', 0.03620767593383789),\n",
       "  ('loneliness', 0.027178330346941948),\n",
       "  ('came', 0.027178330346941948),\n",
       "  ('season', 0.027178330346941948),\n",
       "  ('cc', 0.018148984760046005)],\n",
       " 22: [('cool', 0.09204597771167755),\n",
       "  ('song', 0.03687356412410736),\n",
       "  ('swift', 0.02767815999686718),\n",
       "  ('taylor', 0.02767815999686718),\n",
       "  ('probably', 0.018482757732272148),\n",
       "  ('girl', 0.018482757732272148)],\n",
       " 15: [('tea', 0.02819672040641308),\n",
       "  ('face', 0.02819672040641308),\n",
       "  ('lovely', 0.02819672040641308),\n",
       "  ('skin', 0.02819672040641308),\n",
       "  ('smooth', 0.018829040229320526),\n",
       "  ('isnt', 0.018829040229320526)],\n",
       " 10: [('supporting', 0.050734180957078934),\n",
       "  ('packet', 0.030481012538075447),\n",
       "  ('manager', 0.030481012538075447),\n",
       "  ('ha', 0.030481012538075447),\n",
       "  ('already', 0.020354431122541428),\n",
       "  ('look', 0.020354431122541428)],\n",
       " 34: [('title', 0.04102301970124245),\n",
       "  ('rel', 0.04102301970124245),\n",
       "  ('blank', 0.04102301970124245),\n",
       "  ('nofollow', 0.0307928379625082),\n",
       "  ('target', 0.0307928379625082),\n",
       "  ('resentful', 0.020562659949064255)],\n",
       " 16: [('dream', 0.06343007832765579),\n",
       "  ('bla', 0.03176781162619591),\n",
       "  ('limb', 0.021213719621300697),\n",
       "  ('amp', 0.021213719621300697),\n",
       "  ('woke', 0.021213719621300697),\n",
       "  ('infuriated', 0.021213719621300697)],\n",
       " 26: [('leg', 0.04370572417974472),\n",
       "  ('stomach', 0.03280653804540634),\n",
       "  ('top', 0.03280653804540634),\n",
       "  ('gentle', 0.03280653804540634),\n",
       "  ('clench', 0.02190735749900341),\n",
       "  ('fearful', 0.02190735749900341)],\n",
       " 28: [('search', 0.02214876003563404),\n",
       "  ('named', 0.02214876003563404),\n",
       "  ('criminal', 0.02214876003563404),\n",
       "  ('man', 0.02214876003563404),\n",
       "  ('outside', 0.02214876003563404),\n",
       "  ('window', 0.02214876003563404)],\n",
       " 14: [('chicken', 0.045183099806308746),\n",
       "  ('elegant', 0.022647887468338013),\n",
       "  ('cup', 0.022647887468338013),\n",
       "  ('bbq', 0.022647887468338013),\n",
       "  ('skirt', 0.022647887468338013),\n",
       "  ('pencil', 0.022647887468338013)],\n",
       " 19: [('curious', 0.04569800943136215),\n",
       "  ('next', 0.0343019925057888),\n",
       "  ('load', 0.0343019925057888),\n",
       "  ('benjamin', 0.02290598303079605),\n",
       "  ('reserved', 0.02290598303079605),\n",
       "  ('strange', 0.02290598303079605)],\n",
       " 33: [('got', 0.04569800943136215),\n",
       "  ('found', 0.04569800943136215),\n",
       "  ('gold', 0.02290598303079605),\n",
       "  ('classmate', 0.01150997169315815),\n",
       "  ('secretary', 0.01150997169315815),\n",
       "  ('package', 0.01150997169315815)],\n",
       " 21: [('resentful', 0.034697405993938446),\n",
       "  ('pedestrian', 0.023170027881860733),\n",
       "  ('road', 0.023170027881860733),\n",
       "  ('also', 0.023170027881860733),\n",
       "  ('noticed', 0.023170027881860733),\n",
       "  ('crossing', 0.023170027881860733)],\n",
       " 25: [('companion', 0.05775216221809387),\n",
       "  ('arm', 0.04622478783130646),\n",
       "  ('shimmer', 0.034697405993938446),\n",
       "  ('liked', 0.034697405993938446),\n",
       "  ('around', 0.023170027881860733),\n",
       "  ('put', 0.023170027881860733)],\n",
       " 6: [('said', 0.03510203957557678),\n",
       "  ('someone', 0.023440232500433922),\n",
       "  ('quiet', 0.023440232500433922),\n",
       "  ('cow', 0.023440232500433922),\n",
       "  ('close', 0.023440232500433922),\n",
       "  ('rude', 0.023440232500433922)],\n",
       " 37: [('pretty', 0.07091445475816727),\n",
       "  ('giving', 0.04731563851237297),\n",
       "  ('dangerous', 0.035516224801540375),\n",
       "  ('one', 0.035516224801540375),\n",
       "  ('prize', 0.023716814815998077),\n",
       "  ('rushed', 0.023716814815998077)],\n",
       " 60: [('yesterday', 0.035940296947956085),\n",
       "  ('day', 0.024000000208616257),\n",
       "  ('agitated', 0.024000000208616257),\n",
       "  ('brew', 0.024000000208616257),\n",
       "  ('peak', 0.024000000208616257),\n",
       "  ('post', 0.024000000208616257)],\n",
       " 36: [('n', 0.060543809086084366),\n",
       "  ('shy', 0.03637462109327316),\n",
       "  ('red', 0.02429003082215786),\n",
       "  ('face', 0.02429003082215786),\n",
       "  ('color', 0.02429003082215786),\n",
       "  ('love', 0.02429003082215786)],\n",
       " 11: [('wallet', 0.025203760713338852),\n",
       "  ('reader', 0.025203760713338852),\n",
       "  ('typing', 0.025203760713338852),\n",
       "  ('legion', 0.025203760713338852),\n",
       "  ('tablet', 0.025203760713338852),\n",
       "  ('dont', 0.025203760713338852)],\n",
       " 9: [('pushover', 0.03822222352027893),\n",
       "  ('uncertain', 0.03822222352027893),\n",
       "  ('forgive', 0.02552380971610546),\n",
       "  ('moment', 0.02552380971610546),\n",
       "  ('within', 0.02552380971610546),\n",
       "  ('accepting', 0.012825396843254566)],\n",
       " 24: [('tick', 0.03871382772922516),\n",
       "  ('intelligent', 0.03871382772922516),\n",
       "  ('moment', 0.025852089747786522),\n",
       "  ('would', 0.025852089747786522),\n",
       "  ('hear', 0.025852089747786522),\n",
       "  ('speak', 0.025852089747786522)],\n",
       " 20: [('vile', 0.0392182394862175),\n",
       "  ('puppy', 0.026188924908638),\n",
       "  ('queer', 0.026188924908638),\n",
       "  ('mill', 0.026188924908638),\n",
       "  ('even', 0.026188924908638),\n",
       "  ('think', 0.013159609399735928)],\n",
       " 52: [('shaken', 0.05293729528784752),\n",
       "  ('still', 0.05293729528784752),\n",
       "  ('core', 0.026534654200077057),\n",
       "  ('waiting', 0.026534654200077057),\n",
       "  ('settle', 0.026534654200077057),\n",
       "  ('dust', 0.026534654200077057)],\n",
       " 32: [('burger', 0.027628865092992783),\n",
       "  ('absence', 0.01388316135853529),\n",
       "  ('bounce', 0.01388316135853529),\n",
       "  ('us', 0.01388316135853529),\n",
       "  ('reference', 0.01388316135853529),\n",
       "  ('tomato', 0.01388316135853529)],\n",
       " 8: [('pastor', 0.029236363247036934),\n",
       "  ('gracious', 0.029236363247036934),\n",
       "  ('drop', 0.029236363247036934),\n",
       "  ('pity', 0.029236363247036934),\n",
       "  ('perceive', 0.029236363247036934),\n",
       "  ('dint', 0.029236363247036934)],\n",
       " 23: [('car', 0.030112359672784805),\n",
       "  ('nearly', 0.030112359672784805),\n",
       "  ('traffic', 0.030112359672784805),\n",
       "  ('alarm', 0.015131086111068726),\n",
       "  ('opened', 0.015131086111068726),\n",
       "  ('organization', 0.015131086111068726)],\n",
       " 27: [('charming', 0.030112359672784805),\n",
       "  ('wear', 0.030112359672784805),\n",
       "  ('sweater', 0.030112359672784805),\n",
       "  ('artwork', 0.015131086111068726),\n",
       "  ('tale', 0.015131086111068726),\n",
       "  ('regain', 0.015131086111068726)],\n",
       " 29: [('dash', 0.031042471528053284),\n",
       "  ('semi', 0.01559845544397831),\n",
       "  ('influenced', 0.01559845544397831),\n",
       "  ('emily', 0.01559845544397831),\n",
       "  ('claim', 0.01559845544397831),\n",
       "  ('genre', 0.01559845544397831)],\n",
       " 31: [('hateful', 0.04648648574948311),\n",
       "  ('furious', 0.031042471528053284),\n",
       "  ('campaign', 0.031042471528053284),\n",
       "  ('ra', 0.01559845544397831),\n",
       "  ('prop', 0.01559845544397831),\n",
       "  ('downright', 0.01559845544397831)],\n",
       " 35: [('everyone', 0.031042471528053284),\n",
       "  ('standing', 0.031042471528053284),\n",
       "  ('grandfather', 0.01559845544397831),\n",
       "  ('odds', 0.01559845544397831),\n",
       "  ('fuel', 0.01559845544397831),\n",
       "  ('private', 0.01559845544397831)],\n",
       " 18: [('leave', 0.033640168607234955),\n",
       "  ('disdain', 0.016903765499591827),\n",
       "  ('laced', 0.016903765499591827),\n",
       "  ('hatred', 0.016903765499591827),\n",
       "  ('savage', 0.016903765499591827),\n",
       "  ('lunch', 0.016903765499591827)],\n",
       " 41: [('unattractive', 0.05212121084332466),\n",
       "  ('ugly', 0.05212121084332466),\n",
       "  ('phase', 0.017489178106188774),\n",
       "  ('fat', 0.017489178106188774),\n",
       "  ('odd', 0.017489178106188774),\n",
       "  ('shit', 0.017489178106188774)],\n",
       " 38: [('tax', 0.017797356471419334),\n",
       "  ('imposed', 0.017797356471419334),\n",
       "  ('improving', 0.017797356471419334),\n",
       "  ('technique', 0.017797356471419334),\n",
       "  ('complain', 0.017797356471419334),\n",
       "  ('holding', 0.017797356471419334)],\n",
       " 12: [('burger', 0.01844748854637146),\n",
       "  ('secretary', 0.01844748854637146),\n",
       "  ('remark', 0.01844748854637146),\n",
       "  ('eaten', 0.01844748854637146),\n",
       "  ('hence', 0.01844748854637146),\n",
       "  ('suggestion', 0.01844748854637146)],\n",
       " 17: [('dedicated', 0.01951690763235092),\n",
       "  ('serving', 0.01951690763235092),\n",
       "  ('youth', 0.01951690763235092),\n",
       "  ('committed', 0.01951690763235092),\n",
       "  ('development', 0.01951690763235092),\n",
       "  ('education', 0.01951690763235092)],\n",
       " 39: [('production', 0.02030150778591633),\n",
       "  ('assume', 0.02030150778591633),\n",
       "  ('former', 0.02030150778591633),\n",
       "  ('equal', 0.02030150778591633),\n",
       "  ('season', 0.02030150778591633),\n",
       "  ('generous', 0.02030150778591633)],\n",
       " 30: [('bubble', 0.02115183137357235),\n",
       "  ('emptiness', 0.02115183137357235),\n",
       "  ('pang', 0.02115183137357235),\n",
       "  ('loneliness', 0.02115183137357235),\n",
       "  ('strange', 0.02115183137357235),\n",
       "  ('think', 0.00020942407718393952)]}"
      ]
     },
     "execution_count": 190,
     "metadata": {},
     "output_type": "execute_result"
    }
   ],
   "source": [
    "sorted_topics = [k for k, v in sorted(enumerate(hdp.get_count_by_topics()), key=lambda x:x[1], reverse=True)]\n",
    "\n",
    "topics={}\n",
    "\n",
    "# For topics found, extract only those that are still assigned\n",
    "for k in sorted_topics:\n",
    "    if not hdp.is_live_topic(k): continue # remove un-assigned topics at the end (i.e. not alive)\n",
    "    topic_wp =[]\n",
    "    for word, prob in hdp.get_topic_words(k, top_n=6):\n",
    "        topic_wp.append((word, prob))\n",
    "\n",
    "    topics[k] = topic_wp # store topic word/frequency array\n",
    "# print(hdp.removed_top_words)\n",
    "topics\n"
   ]
  },
  {
   "cell_type": "code",
   "execution_count": null,
   "metadata": {},
   "outputs": [],
   "source": [
    "# def mix_weights(beta):\n",
    "#     beta1m_cumprod = (1 - beta).cumprod(-1)\n",
    "#     print(beta1m_cumprod)\n",
    "#     return F.pad(beta, (0, 1), value=1) * F.pad(beta1m_cumprod, (1, 0), value=1)\n",
    "\n",
    "# def model(data):\n",
    "#     alpha = 0.1\n",
    "#     T = 5\n",
    "#     N = 30\n",
    "\n",
    "#     # T-1 conditionally independent Beta distributions of B\n",
    "#     with pyro.plate(\"beta_plate\", T-1): \n",
    "#         beta = pyro.sample(\"beta\", dist.Beta(1, alpha)) \n",
    "\n",
    "#     # T conditionally independent priors\n",
    "#     with pyro.plate(\"mu_plate\", T):\n",
    "#         mu = pyro.sample(\"mu\", dist.MultivariateNormal(torch.zeros(2), 5 * torch.eye(2)))\n",
    "\n",
    "#     # N conditionally independent Categorical distributions for cluster assignment\n",
    "#     with pyro.plate(\"data\", N):\n",
    "#         z = pyro.sample(\"z\", dist.Categorical(mix_weights(beta)))\n",
    "#         pyro.sample(\"obs\", dist.MultivariateNormal(mu[z], torch.eye(2)), obs=data)\n",
    "\n",
    "# model([1,1,1])"
   ]
  },
  {
   "cell_type": "code",
   "execution_count": null,
   "metadata": {},
   "outputs": [],
   "source": [
    "# def guide(data):\n",
    "#     kappa = pyro.param('kappa', lambda: dist.Uniform(0, 2).sample([T-1]), constraint=constraints.positive)\n",
    "#     tau = pyro.param('tau', lambda: dist.MultivariateNormal(torch.zeros(2), 3 * torch.eye(2)).sample([T]))\n",
    "#     phi = pyro.param('phi', lambda: dist.Dirichlet(1/T * torch.ones(T)).sample([N]), constraint=constraints.simplex)\n",
    "\n",
    "#     with pyro.plate(\"beta_plate\", T-1):\n",
    "#         q_beta = pyro.sample(\"beta\", dist.Beta(torch.ones(T-1), kappa))\n",
    "\n",
    "#     with pyro.plate(\"mu_plate\", T):\n",
    "#         q_mu = pyro.sample(\"mu\", dist.MultivariateNormal(tau, torch.eye(2)))\n",
    "\n",
    "#     with pyro.plate(\"data\", N):\n",
    "#         z = pyro.sample(\"z\", dist.Categorical(phi))"
   ]
  },
  {
   "cell_type": "code",
   "execution_count": null,
   "metadata": {},
   "outputs": [],
   "source": [
    "# T = 10\n",
    "\n",
    "# def train(num_iterations):\n",
    "#     pyro.clear_param_store()\n",
    "#     for j in tqdm(range(num_iterations)):\n",
    "#         loss = svi.step(data)\n",
    "#         losses.append(loss)\n",
    "\n",
    "# def truncate(alpha, centers, weights):\n",
    "#     threshold = alpha**-1 / 100.\n",
    "#     true_centers = centers[weights > threshold]\n",
    "#     true_weights = weights[weights > threshold] / torch.sum(weights[weights > threshold])\n",
    "#     return true_centers, true_weights\n",
    "\n",
    "# alpha = 0.1\n",
    "# train(1000)\n",
    "\n",
    "# # We make a point-estimate of our model parameters using the posterior means of tau and phi for the centers and weights\n",
    "# Bayes_Centers_01, Bayes_Weights_01 = truncate(alpha, pyro.param(\"tau\").detach(), torch.mean(pyro.param(\"phi\").detach(), dim=0))\n",
    "\n",
    "# alpha = 1.5\n",
    "# train(1000)\n",
    "\n",
    "# # We make a point-estimate of our model parameters using the posterior means of tau and phi for the centers and weights\n",
    "# Bayes_Centers_15, Bayes_Weights_15 = truncate(alpha, pyro.param(\"tau\").detach(), torch.mean(pyro.param(\"phi\").detach(), dim=0))\n",
    "\n",
    "# plt.figure(figsize=(15, 5))\n",
    "# plt.subplot(1, 2, 1)\n",
    "# plt.scatter(data[:, 0], data[:, 1], color=\"blue\")\n",
    "# plt.scatter(Bayes_Centers_01[:, 0], Bayes_Centers_01[:, 1], color=\"red\")\n",
    "\n",
    "# plt.subplot(1, 2, 2)\n",
    "# plt.scatter(data[:, 0], data[:, 1], color=\"blue\")\n",
    "# plt.scatter(Bayes_Centers_15[:, 0], Bayes_Centers_15[:, 1], color=\"red\")\n",
    "# plt.tight_layout()\n",
    "# plt.show()\n"
   ]
  },
  {
   "cell_type": "code",
   "execution_count": null,
   "metadata": {},
   "outputs": [],
   "source": [
    "# data = torch.tensor([5, 4, 2, 5, 6, 5, 3, 3, 1, 5, 5, 3, 5, 3, 5, \\\n",
    "#                      3, 5, 5, 3, 5, 5, 3, 1, 5, 3, 3, 6, 5, 5, 6])\n",
    "# counts = torch.unique(data, return_counts=True)[1].float()\n",
    "# counts.sum()\n"
   ]
  },
  {
   "cell_type": "code",
   "execution_count": null,
   "metadata": {},
   "outputs": [],
   "source": [
    "\n",
    "# def model(counts):\n",
    "#     theta = pyro.sample('theta', dist.Dirichlet(torch.ones(6)))\n",
    "#     total_count = int(counts.sum())\n",
    "#     pyro.sample('counts', dist.Multinomial(total_count, theta), obs=counts)\n",
    "\n",
    "# data = torch.tensor([5, 4, 2, 5, 6, 5, 3, 3, 1, 5, 5, 3, 5, 3, 5, \\\n",
    "#                      3, 5, 5, 3, 5, 5, 3, 1, 5, 3, 3, 6, 5, 5, 6])\n",
    "# counts = torch.unique(data, return_counts=True)[1].float()\n",
    "\n",
    "# nuts_kernel = NUTS(model)\n",
    "# num_samples, warmup_steps = (1000, 200)\n",
    "# mcmc = MCMC(nuts_kernel, num_samples=1000, warmup_steps=200)\n",
    "# mcmc.run(counts)\n",
    "# hmc_samples = {k: v.detach().cpu().numpy()\n",
    "#                for k, v in mcmc.get_samples().items()}"
   ]
  },
  {
   "cell_type": "code",
   "execution_count": null,
   "metadata": {},
   "outputs": [],
   "source": [
    "# means = hmc_samples['theta'].mean(axis=0)\n",
    "# stds = hmc_samples['theta'].std(axis=0)\n",
    "# print('Inferred dice probabilities from the data (68% confidence intervals):')\n",
    "# for i in range(6):\n",
    "#     print('%d: %.2f ± %.2f' % (i + 1, means[i], stds[i]))"
   ]
  },
  {
   "cell_type": "code",
   "execution_count": null,
   "metadata": {},
   "outputs": [],
   "source": [
    "# def model(data):\n",
    "#     with pyro.plate(\"topics\", T):\n",
    "#         topic_weights = pyro.sample(\n",
    "#             \"topic_weights\", dist.Gamma(1.0 / T, 1.0)\n",
    "#         )\n",
    "#         topic_words = pyro.sample(\n",
    "#             \"topic_words\", dist.Dirichlet(torch.ones(N) / N)\n",
    "#         )\n",
    "\n",
    "#     with pyro.plate(\"documents\", data.shape[0]) as ind:\n",
    "#         doc_topics = pyro.sample(\"doc_topics\", dist.Dirichlet(topic_weights))\n",
    "#         with pyro.plate(\"words\", max_words):\n",
    "#             word_topics = pyro.sample(\n",
    "#                 \"word_topics\",\n",
    "#                 dist.Categorical(doc_topics),\n",
    "#                 infer={\"enumerate\": \"parallel\"},\n",
    "#                 )\n",
    "#             data = pyro.sample(\"doc_words\", dist.Categorical(topic_words[word_topics]), obs=data)\n",
    "#     return topic_weights, topic_words, data\n",
    "\n",
    "\n",
    "# T = 20\n",
    "# N = len(list(vocab.keys()))\n",
    "# max_words = 12\n",
    "# optim = Adam({\"lr\": 0.05})\n",
    "# svi = SVI(model, guide, optim, loss=Trace_ELBO())\n",
    "# losses = []\n"
   ]
  },
  {
   "cell_type": "code",
   "execution_count": null,
   "metadata": {},
   "outputs": [],
   "source": []
  },
  {
   "cell_type": "code",
   "execution_count": null,
   "metadata": {},
   "outputs": [],
   "source": [
    "# def model(docs):\n",
    "#     with pyro.plate(\"beta\", docs.size()[0]):\n",
    "        \n",
    "#     theta = pyro.sample('theta', dist.Dirichlet(torch.ones[1,T]))\n",
    "#     with pyro.plate(\"data\", words):\n",
    "#         z = pyro.sample('obs', dist.Multinomial(words, theta), obs=words)\n",
    "\n",
    "# nuts_kernel = NUTS(model)\n",
    "# mcmc = MCMC(nuts_kernel, num_samples=1000, warmup_steps=200)\n",
    "# T = 6\n",
    "# mcmc.run(docs)\n",
    "\n",
    "\n",
    "# hmc_samples = {k: v.detach().cpu().numpy()\n",
    "#                for k, v in mcmc.get_samples().items()}"
   ]
  }
 ],
 "metadata": {
  "kernelspec": {
   "display_name": "compcog",
   "language": "python",
   "name": "compcog"
  },
  "language_info": {
   "codemirror_mode": {
    "name": "ipython",
    "version": 3
   },
   "file_extension": ".py",
   "mimetype": "text/x-python",
   "name": "python",
   "nbconvert_exporter": "python",
   "pygments_lexer": "ipython3",
   "version": "3.9.13"
  },
  "orig_nbformat": 4,
  "vscode": {
   "interpreter": {
    "hash": "5ce9a0a13be4ee4cf9cd9142f1ce1137306d57b32ab37bbb53246363ac0ddbd6"
   }
  }
 },
 "nbformat": 4,
 "nbformat_minor": 2
}
