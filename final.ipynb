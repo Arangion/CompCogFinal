{
 "cells": [
  {
   "attachments": {},
   "cell_type": "markdown",
   "metadata": {},
   "source": [
    "Final Project by Alicia Bergeron and Nick Arangio"
   ]
  },
  {
   "attachments": {},
   "cell_type": "markdown",
   "metadata": {},
   "source": [
    "Installation instructions, create pip venv, and install all required files using requirements.txt\n",
    "\n",
    "Once done, ensure you are in the correct env in terminal and type the following:\n",
    "\n",
    "python -m ipykernel intall --user --name:[env name]"
   ]
  },
  {
   "cell_type": "code",
   "execution_count": 76,
   "metadata": {},
   "outputs": [],
   "source": [
    "import argparse\n",
    "import functools\n",
    "import logging\n",
    "import os\n",
    "import math\n",
    "\n",
    "import re\n",
    "import pandas as pd\n",
    "import matplotlib.pyplot as plt\n",
    "import numpy as np\n",
    "from tqdm import tqdm, trange\n",
    "from collections import Counter\n",
    "\n",
    "import torch\n",
    "import torch.nn.functional as F\n",
    "from torch import nn\n",
    "from torch.distributions import constraints\n",
    "from sklearn.feature_extraction.text import CountVectorizer\n",
    "\n",
    "import nltk\n",
    "from nltk.corpus import stopwords\n",
    "\n",
    "import pyro\n",
    "import pyro.distributions as dist\n",
    "from pyro.infer import Predictive, SVI, Trace_ELBO, JitTraceEnum_ELBO, TraceEnum_ELBO, NUTS, MCMC, TraceMeanField_ELBO\n",
    "from pyro.optim import Adam, ClippedAdam\n",
    "\n",
    "stop = set(stopwords.words('english'))\n",
    "pyro.set_rng_seed(0)\n",
    "logging.basicConfig(format=\"%(relativeCreated) 9d %(message)s\", level=logging.INFO)"
   ]
  },
  {
   "attachments": {},
   "cell_type": "markdown",
   "metadata": {},
   "source": [
    "### Dataset Information\n",
    "Sentiments: sadness, anger, love, surprise, fear, joy"
   ]
  },
  {
   "cell_type": "code",
   "execution_count": 77,
   "metadata": {},
   "outputs": [],
   "source": [
    "dataset = 'Emotions dataset for NLP/train.txt'"
   ]
  },
  {
   "attachments": {},
   "cell_type": "markdown",
   "metadata": {},
   "source": [
    "NLTK Tags: https://www.ling.upenn.edu/courses/Fall_2003/ling001/penn_treebank_pos.html"
   ]
  },
  {
   "cell_type": "code",
   "execution_count": 78,
   "metadata": {},
   "outputs": [
    {
     "data": {
      "text/html": [
       "<div>\n",
       "<style scoped>\n",
       "    .dataframe tbody tr th:only-of-type {\n",
       "        vertical-align: middle;\n",
       "    }\n",
       "\n",
       "    .dataframe tbody tr th {\n",
       "        vertical-align: top;\n",
       "    }\n",
       "\n",
       "    .dataframe thead th {\n",
       "        text-align: right;\n",
       "    }\n",
       "</style>\n",
       "<table border=\"1\" class=\"dataframe\">\n",
       "  <thead>\n",
       "    <tr style=\"text-align: right;\">\n",
       "      <th></th>\n",
       "      <th>Text</th>\n",
       "      <th>Sentiment</th>\n",
       "    </tr>\n",
       "  </thead>\n",
       "  <tbody>\n",
       "    <tr>\n",
       "      <th>0</th>\n",
       "      <td>i didnt feel humiliated</td>\n",
       "      <td>sadness</td>\n",
       "    </tr>\n",
       "    <tr>\n",
       "      <th>1</th>\n",
       "      <td>i can go from feeling so hopeless to so damned...</td>\n",
       "      <td>sadness</td>\n",
       "    </tr>\n",
       "    <tr>\n",
       "      <th>2</th>\n",
       "      <td>im grabbing a minute to post i feel greedy wrong</td>\n",
       "      <td>anger</td>\n",
       "    </tr>\n",
       "    <tr>\n",
       "      <th>3</th>\n",
       "      <td>i am ever feeling nostalgic about the fireplac...</td>\n",
       "      <td>love</td>\n",
       "    </tr>\n",
       "    <tr>\n",
       "      <th>4</th>\n",
       "      <td>i am feeling grouchy</td>\n",
       "      <td>anger</td>\n",
       "    </tr>\n",
       "  </tbody>\n",
       "</table>\n",
       "</div>"
      ],
      "text/plain": [
       "                                                Text Sentiment\n",
       "0                            i didnt feel humiliated   sadness\n",
       "1  i can go from feeling so hopeless to so damned...   sadness\n",
       "2   im grabbing a minute to post i feel greedy wrong     anger\n",
       "3  i am ever feeling nostalgic about the fireplac...      love\n",
       "4                               i am feeling grouchy     anger"
      ]
     },
     "metadata": {},
     "output_type": "display_data"
    },
    {
     "data": {
      "text/plain": [
       "array(['sadness', 'anger', 'love', 'surprise', 'fear', 'joy'],\n",
       "      dtype=object)"
      ]
     },
     "metadata": {},
     "output_type": "display_data"
    },
    {
     "data": {
      "text/html": [
       "<div>\n",
       "<style scoped>\n",
       "    .dataframe tbody tr th:only-of-type {\n",
       "        vertical-align: middle;\n",
       "    }\n",
       "\n",
       "    .dataframe tbody tr th {\n",
       "        vertical-align: top;\n",
       "    }\n",
       "\n",
       "    .dataframe thead th {\n",
       "        text-align: right;\n",
       "    }\n",
       "</style>\n",
       "<table border=\"1\" class=\"dataframe\">\n",
       "  <thead>\n",
       "    <tr style=\"text-align: right;\">\n",
       "      <th></th>\n",
       "      <th>Text</th>\n",
       "      <th>Sentiment</th>\n",
       "    </tr>\n",
       "  </thead>\n",
       "  <tbody>\n",
       "    <tr>\n",
       "      <th>count</th>\n",
       "      <td>16000</td>\n",
       "      <td>16000</td>\n",
       "    </tr>\n",
       "    <tr>\n",
       "      <th>unique</th>\n",
       "      <td>15969</td>\n",
       "      <td>6</td>\n",
       "    </tr>\n",
       "    <tr>\n",
       "      <th>top</th>\n",
       "      <td>i feel on the verge of tears from weariness i ...</td>\n",
       "      <td>joy</td>\n",
       "    </tr>\n",
       "    <tr>\n",
       "      <th>freq</th>\n",
       "      <td>2</td>\n",
       "      <td>5362</td>\n",
       "    </tr>\n",
       "  </tbody>\n",
       "</table>\n",
       "</div>"
      ],
      "text/plain": [
       "                                                     Text Sentiment\n",
       "count                                               16000     16000\n",
       "unique                                              15969         6\n",
       "top     i feel on the verge of tears from weariness i ...       joy\n",
       "freq                                                    2      5362"
      ]
     },
     "metadata": {},
     "output_type": "display_data"
    },
    {
     "data": {
      "text/plain": [
       "Text         in the army\n",
       "Sentiment          anger\n",
       "Name: 3111, dtype: object"
      ]
     },
     "metadata": {},
     "output_type": "display_data"
    }
   ],
   "source": [
    "ds = pd.read_csv(dataset, sep=';', header=None)\n",
    "ds.columns = [\"Text\", \"Sentiment\"]\n",
    "display(ds.head())\n",
    "display(ds.Sentiment.unique())\n",
    "display(ds.describe())\n",
    "display(ds.iloc[3111])\n",
    "\n",
    "def filter(text):\n",
    "    lemmatizer = nltk.stem.WordNetLemmatizer()\n",
    "    return \" \".join([lemmatizer.lemmatize(word) for word in str(text).split() if word not in stop])\n",
    "df = ds\n",
    "df.Text = df.Text.apply(lambda t: filter(t))\n",
    "\n"
   ]
  },
  {
   "cell_type": "code",
   "execution_count": null,
   "metadata": {},
   "outputs": [],
   "source": []
  },
  {
   "cell_type": "code",
   "execution_count": null,
   "metadata": {},
   "outputs": [],
   "source": []
  },
  {
   "cell_type": "code",
   "execution_count": null,
   "metadata": {},
   "outputs": [],
   "source": []
  },
  {
   "cell_type": "code",
   "execution_count": 79,
   "metadata": {},
   "outputs": [],
   "source": [
    "dfA = df\n",
    "dfA.Sentiment = dfA.Sentiment.map({\n",
    "    'sadness':1,\n",
    "    'anger':2,\n",
    "    'love':3,\n",
    "    'surprise':4,\n",
    "    'fear':5,\n",
    "    'joy':6\n",
    "}\n",
    ")"
   ]
  },
  {
   "cell_type": "code",
   "execution_count": 80,
   "metadata": {},
   "outputs": [
    {
     "data": {
      "text/plain": [
       "False"
      ]
     },
     "metadata": {},
     "output_type": "display_data"
    },
    {
     "data": {
      "text/html": [
       "<div>\n",
       "<style scoped>\n",
       "    .dataframe tbody tr th:only-of-type {\n",
       "        vertical-align: middle;\n",
       "    }\n",
       "\n",
       "    .dataframe tbody tr th {\n",
       "        vertical-align: top;\n",
       "    }\n",
       "\n",
       "    .dataframe thead th {\n",
       "        text-align: right;\n",
       "    }\n",
       "</style>\n",
       "<table border=\"1\" class=\"dataframe\">\n",
       "  <thead>\n",
       "    <tr style=\"text-align: right;\">\n",
       "      <th></th>\n",
       "      <th>Text</th>\n",
       "      <th>Sentiment</th>\n",
       "      <th>Length</th>\n",
       "    </tr>\n",
       "  </thead>\n",
       "  <tbody>\n",
       "    <tr>\n",
       "      <th>0</th>\n",
       "      <td>didnt feel humiliated</td>\n",
       "      <td>1</td>\n",
       "      <td>3</td>\n",
       "    </tr>\n",
       "    <tr>\n",
       "      <th>1</th>\n",
       "      <td>go feeling hopeless damned hopeful around some...</td>\n",
       "      <td>1</td>\n",
       "      <td>9</td>\n",
       "    </tr>\n",
       "    <tr>\n",
       "      <th>2</th>\n",
       "      <td>grabbing minute post feel greedy wrong</td>\n",
       "      <td>2</td>\n",
       "      <td>6</td>\n",
       "    </tr>\n",
       "    <tr>\n",
       "      <th>3</th>\n",
       "      <td>ever feeling nostalgic fireplace know still pr...</td>\n",
       "      <td>3</td>\n",
       "      <td>7</td>\n",
       "    </tr>\n",
       "    <tr>\n",
       "      <th>4</th>\n",
       "      <td>feeling grouchy</td>\n",
       "      <td>2</td>\n",
       "      <td>2</td>\n",
       "    </tr>\n",
       "  </tbody>\n",
       "</table>\n",
       "</div>"
      ],
      "text/plain": [
       "                                                Text  Sentiment  Length\n",
       "0                              didnt feel humiliated          1       3\n",
       "1  go feeling hopeless damned hopeful around some...          1       9\n",
       "2             grabbing minute post feel greedy wrong          2       6\n",
       "3  ever feeling nostalgic fireplace know still pr...          3       7\n",
       "4                                    feeling grouchy          2       2"
      ]
     },
     "metadata": {},
     "output_type": "display_data"
    },
    {
     "data": {
      "text/plain": [
       "<Axes: xlabel='Length'>"
      ]
     },
     "execution_count": 80,
     "metadata": {},
     "output_type": "execute_result"
    },
    {
     "data": {
      "image/png": "[encoded data removed]",
      "text/plain": [
       "<Figure size 640x480 with 1 Axes>"
      ]
     },
     "metadata": {},
     "output_type": "display_data"
    }
   ],
   "source": [
    "df['Length'] = dfA.Text.str.split(\"\\\\s+\").apply(lambda a: len(a))\n",
    "graphing = df.groupby('Length').nunique()\n",
    "# display(graphing)\n",
    "display(df['Length'].iloc[0] > 5)\n",
    "display(df.head())\n",
    "norm_index = df[(df['Length'] < 5) | (df['Length'] > 20)].index\n",
    "df_norm = df.drop(norm_index)\n",
    "\n",
    "graphing.plot(y='Text', use_index=True, kind='line')"
   ]
  },
  {
   "cell_type": "code",
   "execution_count": 81,
   "metadata": {},
   "outputs": [
    {
     "data": {
      "text/html": [
       "<div>\n",
       "<style scoped>\n",
       "    .dataframe tbody tr th:only-of-type {\n",
       "        vertical-align: middle;\n",
       "    }\n",
       "\n",
       "    .dataframe tbody tr th {\n",
       "        vertical-align: top;\n",
       "    }\n",
       "\n",
       "    .dataframe thead th {\n",
       "        text-align: right;\n",
       "    }\n",
       "</style>\n",
       "<table border=\"1\" class=\"dataframe\">\n",
       "  <thead>\n",
       "    <tr style=\"text-align: right;\">\n",
       "      <th></th>\n",
       "      <th>Sentiment</th>\n",
       "      <th>Length</th>\n",
       "    </tr>\n",
       "  </thead>\n",
       "  <tbody>\n",
       "    <tr>\n",
       "      <th>count</th>\n",
       "      <td>12370.000000</td>\n",
       "      <td>12370.000000</td>\n",
       "    </tr>\n",
       "    <tr>\n",
       "      <th>mean</th>\n",
       "      <td>3.614551</td>\n",
       "      <td>9.881083</td>\n",
       "    </tr>\n",
       "    <tr>\n",
       "      <th>std</th>\n",
       "      <td>2.117958</td>\n",
       "      <td>3.865598</td>\n",
       "    </tr>\n",
       "    <tr>\n",
       "      <th>min</th>\n",
       "      <td>1.000000</td>\n",
       "      <td>5.000000</td>\n",
       "    </tr>\n",
       "    <tr>\n",
       "      <th>25%</th>\n",
       "      <td>1.000000</td>\n",
       "      <td>7.000000</td>\n",
       "    </tr>\n",
       "    <tr>\n",
       "      <th>50%</th>\n",
       "      <td>4.000000</td>\n",
       "      <td>9.000000</td>\n",
       "    </tr>\n",
       "    <tr>\n",
       "      <th>75%</th>\n",
       "      <td>6.000000</td>\n",
       "      <td>12.000000</td>\n",
       "    </tr>\n",
       "    <tr>\n",
       "      <th>max</th>\n",
       "      <td>6.000000</td>\n",
       "      <td>20.000000</td>\n",
       "    </tr>\n",
       "  </tbody>\n",
       "</table>\n",
       "</div>"
      ],
      "text/plain": [
       "          Sentiment        Length\n",
       "count  12370.000000  12370.000000\n",
       "mean       3.614551      9.881083\n",
       "std        2.117958      3.865598\n",
       "min        1.000000      5.000000\n",
       "25%        1.000000      7.000000\n",
       "50%        4.000000      9.000000\n",
       "75%        6.000000     12.000000\n",
       "max        6.000000     20.000000"
      ]
     },
     "execution_count": 81,
     "metadata": {},
     "output_type": "execute_result"
    }
   ],
   "source": [
    "df_norm.describe()"
   ]
  },
  {
   "cell_type": "code",
   "execution_count": 82,
   "metadata": {},
   "outputs": [
    {
     "data": {
      "text/plain": [
       "12182"
      ]
     },
     "execution_count": 82,
     "metadata": {},
     "output_type": "execute_result"
    }
   ],
   "source": [
    "vocab = Counter()\n",
    "df_norm.Text.str.lower().str.split().apply(vocab.update)\n",
    "len(list(vocab.keys()))"
   ]
  },
  {
   "cell_type": "code",
   "execution_count": 91,
   "metadata": {},
   "outputs": [],
   "source": [
    "analysis = {}\n",
    "for index, row in df_norm.iterrows():\n",
    "    for w in str(row['Text']).split():\n",
    "        if w in analysis:\n",
    "            analysis[w] += row['Sentiment']\n",
    "        else:\n",
    "            analysis [w] = row['Sentiment']\n",
    "# print(analysis)"
   ]
  },
  {
   "cell_type": "code",
   "execution_count": 84,
   "metadata": {},
   "outputs": [],
   "source": [
    "for key in analysis:\n",
    "    # print(analysis[key])\n",
    "    # print(key)\n",
    "    analysis[key] = [analysis[key] / vocab[key], vocab[key]]\n"
   ]
  },
  {
   "cell_type": "code",
   "execution_count": 85,
   "metadata": {},
   "outputs": [
    {
     "name": "stdout",
     "output_type": "stream",
     "text": [
      "{'go': [3.7305555555555556, 360], 'feeling': [3.51149291850476, 4307], 'feel': [3.6437590792267294, 8949], 'know': [3.398701298701299, 770], 'still': [3.428861788617886, 492], 'ive': [3.3782696177062372, 497], 'little': [3.5768595041322313, 605], 'time': [3.64087061668682, 827], 'like': [3.537519747235387, 2532], 'life': [3.527237354085603, 514], 'make': [3.923538230884558, 667], 'something': [3.8067415730337077, 445], 'think': [3.6216216216216215, 518], 'work': [3.8172757475083055, 301], 'thing': [3.3663194444444446, 576], 'dont': [3.4262295081967213, 427], 'need': [3.6481481481481484, 378], 'get': [3.5427728613569323, 678], 'day': [3.6269982238010656, 563], 'pretty': [3.9714285714285715, 315], 'much': [3.5734265734265733, 429], 'would': [3.4527272727272726, 550], 'want': [3.512690355329949, 591], 'bit': [3.2772511848341233, 422], 'way': [3.511879049676026, 463], 'one': [3.5672727272727274, 550], 'could': [3.5762711864406778, 413], 'people': [3.629370629370629, 572], 'back': [3.4226190476190474, 336], 'love': [3.8475336322869955, 446], 'see': [3.673202614379085, 306], 'going': [3.8023529411764705, 425], 'good': [3.973607038123167, 341], 'really': [3.546153846153846, 780], 'even': [3.3041666666666667, 480], 'always': [3.712418300653595, 306], 'say': [3.454258675078864, 317]}\n"
     ]
    }
   ],
   "source": [
    "new_analysis = {k: v for k, v in analysis.items() if v[1] <= 300}\n",
    "outliers = {k: v for k, v in analysis.items() if v[1] > 300}\n",
    "print(outliers)\n"
   ]
  },
  {
   "cell_type": "code",
   "execution_count": 86,
   "metadata": {},
   "outputs": [
    {
     "data": {
      "text/plain": [
       "<matplotlib.collections.PathCollection at 0x7fa6200412e0>"
      ]
     },
     "execution_count": 86,
     "metadata": {},
     "output_type": "execute_result"
    },
    {
     "data": {
      "image/png": "[encoded data removed]",
      "text/plain": [
       "<Figure size 640x480 with 1 Axes>"
      ]
     },
     "metadata": {},
     "output_type": "display_data"
    }
   ],
   "source": [
    "txt = new_analysis.keys\n",
    "values = list(new_analysis.values())\n",
    "fig, ax = plt.subplots()\n",
    "ax.scatter([item[1] for item in values], [item[0] for item in values])\n"
   ]
  },
  {
   "attachments": {},
   "cell_type": "markdown",
   "metadata": {},
   "source": [
    "### Variable Definitions:\n",
    "N = number of unique words in total vocabulary\n",
    "T = numebr of topics in total document of twweets\n",
    "alpha = parameter "
   ]
  },
  {
   "cell_type": "code",
   "execution_count": null,
   "metadata": {},
   "outputs": [],
   "source": [
    "df_sad = df_norm[df_norm[\"Sentiment\"] == 1]\n",
    "df_sad = df_sad.groupby(df_sad.index // 5)['Text'].apply(' '.join)\n",
    "df_anger = df_norm[df_norm[\"Sentiment\"] == 2]\n",
    "df_anger = df_anger.groupby(df_anger.index // 5)['Text'].apply(' '.join)\n",
    "df_love = df_norm[df_norm[\"Sentiment\"] == 3]\n",
    "df_love = df_love.groupby(df_love.index // 5)['Text'].apply(' '.join)\n",
    "df_surprise = df_norm[df_norm[\"Sentiment\"] == 4]\n",
    "df_surprise = df_surprise.groupby(df_surprise.index // 5)['Text'].apply(' '.join)\n",
    "df_fear = df_norm[df_norm[\"Sentiment\"] == 5]\n",
    "df_fear = df_fear.groupby(df_fear.index // 5)['Text'].apply(' '.join)\n",
    "df_joy = df_norm[df_norm[\"Sentiment\"] == 6]\n",
    "df_joy = df_joy.groupby(df_joy.index // 5)['Text'].apply(' '.join)\n",
    "\n",
    "df_concat = pd.concat([df_sad, df_anger, df_love, df_surprise, df_fear, df_joy], axis=0)\n",
    "df_concat"
   ]
  },
  {
   "cell_type": "code",
   "execution_count": 48,
   "metadata": {},
   "outputs": [],
   "source": [
    "# def mix_weights(beta):\n",
    "#     beta1m_cumprod = (1 - beta).cumprod(-1)\n",
    "#     print(beta1m_cumprod)\n",
    "#     return F.pad(beta, (0, 1), value=1) * F.pad(beta1m_cumprod, (1, 0), value=1)\n",
    "\n",
    "# def model(data):\n",
    "#     alpha = 0.1\n",
    "#     T = 5\n",
    "#     N = 30\n",
    "\n",
    "#     # T-1 conditionally independent Beta distributions of B\n",
    "#     with pyro.plate(\"beta_plate\", T-1): \n",
    "#         beta = pyro.sample(\"beta\", dist.Beta(1, alpha)) \n",
    "\n",
    "#     # T conditionally independent priors\n",
    "#     with pyro.plate(\"mu_plate\", T):\n",
    "#         mu = pyro.sample(\"mu\", dist.MultivariateNormal(torch.zeros(2), 5 * torch.eye(2)))\n",
    "\n",
    "#     # N conditionally independent Categorical distributions for cluster assignment\n",
    "#     with pyro.plate(\"data\", N):\n",
    "#         z = pyro.sample(\"z\", dist.Categorical(mix_weights(beta)))\n",
    "#         pyro.sample(\"obs\", dist.MultivariateNormal(mu[z], torch.eye(2)), obs=data)\n",
    "\n",
    "# model([1,1,1])"
   ]
  },
  {
   "cell_type": "code",
   "execution_count": 49,
   "metadata": {},
   "outputs": [],
   "source": [
    "# def guide(data):\n",
    "#     kappa = pyro.param('kappa', lambda: dist.Uniform(0, 2).sample([T-1]), constraint=constraints.positive)\n",
    "#     tau = pyro.param('tau', lambda: dist.MultivariateNormal(torch.zeros(2), 3 * torch.eye(2)).sample([T]))\n",
    "#     phi = pyro.param('phi', lambda: dist.Dirichlet(1/T * torch.ones(T)).sample([N]), constraint=constraints.simplex)\n",
    "\n",
    "#     with pyro.plate(\"beta_plate\", T-1):\n",
    "#         q_beta = pyro.sample(\"beta\", dist.Beta(torch.ones(T-1), kappa))\n",
    "\n",
    "#     with pyro.plate(\"mu_plate\", T):\n",
    "#         q_mu = pyro.sample(\"mu\", dist.MultivariateNormal(tau, torch.eye(2)))\n",
    "\n",
    "#     with pyro.plate(\"data\", N):\n",
    "#         z = pyro.sample(\"z\", dist.Categorical(phi))"
   ]
  },
  {
   "cell_type": "code",
   "execution_count": 50,
   "metadata": {},
   "outputs": [],
   "source": [
    "# T = 10\n",
    "\n",
    "# def train(num_iterations):\n",
    "#     pyro.clear_param_store()\n",
    "#     for j in tqdm(range(num_iterations)):\n",
    "#         loss = svi.step(data)\n",
    "#         losses.append(loss)\n",
    "\n",
    "# def truncate(alpha, centers, weights):\n",
    "#     threshold = alpha**-1 / 100.\n",
    "#     true_centers = centers[weights > threshold]\n",
    "#     true_weights = weights[weights > threshold] / torch.sum(weights[weights > threshold])\n",
    "#     return true_centers, true_weights\n",
    "\n",
    "# alpha = 0.1\n",
    "# train(1000)\n",
    "\n",
    "# # We make a point-estimate of our model parameters using the posterior means of tau and phi for the centers and weights\n",
    "# Bayes_Centers_01, Bayes_Weights_01 = truncate(alpha, pyro.param(\"tau\").detach(), torch.mean(pyro.param(\"phi\").detach(), dim=0))\n",
    "\n",
    "# alpha = 1.5\n",
    "# train(1000)\n",
    "\n",
    "# # We make a point-estimate of our model parameters using the posterior means of tau and phi for the centers and weights\n",
    "# Bayes_Centers_15, Bayes_Weights_15 = truncate(alpha, pyro.param(\"tau\").detach(), torch.mean(pyro.param(\"phi\").detach(), dim=0))\n",
    "\n",
    "# plt.figure(figsize=(15, 5))\n",
    "# plt.subplot(1, 2, 1)\n",
    "# plt.scatter(data[:, 0], data[:, 1], color=\"blue\")\n",
    "# plt.scatter(Bayes_Centers_01[:, 0], Bayes_Centers_01[:, 1], color=\"red\")\n",
    "\n",
    "# plt.subplot(1, 2, 2)\n",
    "# plt.scatter(data[:, 0], data[:, 1], color=\"blue\")\n",
    "# plt.scatter(Bayes_Centers_15[:, 0], Bayes_Centers_15[:, 1], color=\"red\")\n",
    "# plt.tight_layout()\n",
    "# plt.show()\n"
   ]
  },
  {
   "cell_type": "code",
   "execution_count": 51,
   "metadata": {},
   "outputs": [],
   "source": [
    "# data = torch.tensor([5, 4, 2, 5, 6, 5, 3, 3, 1, 5, 5, 3, 5, 3, 5, \\\n",
    "#                      3, 5, 5, 3, 5, 5, 3, 1, 5, 3, 3, 6, 5, 5, 6])\n",
    "# counts = torch.unique(data, return_counts=True)[1].float()\n",
    "# counts.sum()\n"
   ]
  },
  {
   "cell_type": "code",
   "execution_count": 52,
   "metadata": {},
   "outputs": [],
   "source": [
    "\n",
    "# def model(counts):\n",
    "#     theta = pyro.sample('theta', dist.Dirichlet(torch.ones(6)))\n",
    "#     total_count = int(counts.sum())\n",
    "#     pyro.sample('counts', dist.Multinomial(total_count, theta), obs=counts)\n",
    "\n",
    "# data = torch.tensor([5, 4, 2, 5, 6, 5, 3, 3, 1, 5, 5, 3, 5, 3, 5, \\\n",
    "#                      3, 5, 5, 3, 5, 5, 3, 1, 5, 3, 3, 6, 5, 5, 6])\n",
    "# counts = torch.unique(data, return_counts=True)[1].float()\n",
    "\n",
    "# nuts_kernel = NUTS(model)\n",
    "# num_samples, warmup_steps = (1000, 200)\n",
    "# mcmc = MCMC(nuts_kernel, num_samples=1000, warmup_steps=200)\n",
    "# mcmc.run(counts)\n",
    "# hmc_samples = {k: v.detach().cpu().numpy()\n",
    "#                for k, v in mcmc.get_samples().items()}"
   ]
  },
  {
   "cell_type": "code",
   "execution_count": 53,
   "metadata": {},
   "outputs": [],
   "source": [
    "# means = hmc_samples['theta'].mean(axis=0)\n",
    "# stds = hmc_samples['theta'].std(axis=0)\n",
    "# print('Inferred dice probabilities from the data (68% confidence intervals):')\n",
    "# for i in range(6):\n",
    "#     print('%d: %.2f ± %.2f' % (i + 1, means[i], stds[i]))"
   ]
  },
  {
   "cell_type": "code",
   "execution_count": 54,
   "metadata": {},
   "outputs": [],
   "source": [
    "# def model(data):\n",
    "#     with pyro.plate(\"topics\", T):\n",
    "#         topic_weights = pyro.sample(\n",
    "#             \"topic_weights\", dist.Gamma(1.0 / T, 1.0)\n",
    "#         )\n",
    "#         topic_words = pyro.sample(\n",
    "#             \"topic_words\", dist.Dirichlet(torch.ones(N) / N)\n",
    "#         )\n",
    "\n",
    "#     with pyro.plate(\"documents\", data.shape[0]) as ind:\n",
    "#         doc_topics = pyro.sample(\"doc_topics\", dist.Dirichlet(topic_weights))\n",
    "#         with pyro.plate(\"words\", max_words):\n",
    "#             word_topics = pyro.sample(\n",
    "#                 \"word_topics\",\n",
    "#                 dist.Categorical(doc_topics),\n",
    "#                 infer={\"enumerate\": \"parallel\"},\n",
    "#                 )\n",
    "#             data = pyro.sample(\"doc_words\", dist.Categorical(topic_words[word_topics]), obs=data)\n",
    "#     return topic_weights, topic_words, data\n",
    "\n",
    "\n",
    "# T = 20\n",
    "# N = len(list(vocab.keys()))\n",
    "# max_words = 12\n",
    "# optim = Adam({\"lr\": 0.05})\n",
    "# svi = SVI(model, guide, optim, loss=Trace_ELBO())\n",
    "# losses = []\n"
   ]
  },
  {
   "cell_type": "code",
   "execution_count": 61,
   "metadata": {},
   "outputs": [
    {
     "name": "stdout",
     "output_type": "stream",
     "text": [
      "8752\n",
      "torch.Size([9378, 8752])\n",
      "8951\n"
     ]
    }
   ],
   "source": [
    "vectorizer = CountVectorizer(stop_words='english')\n",
    "docs = torch.from_numpy(vectorizer.fit_transform(df_norm['Text']).toarray())"
   ]
  },
  {
   "cell_type": "code",
   "execution_count": 36,
   "metadata": {},
   "outputs": [
    {
     "name": "stderr",
     "output_type": "stream",
     "text": [
      "  0%|          | 0/1500 [00:02<?, ?it/s]\n"
     ]
    },
    {
     "ename": "ValueError",
     "evalue": "at site \"obs\", invalid log_prob shape\n  Expected [8752], actual [9378, 8752]\n  Try one of the following fixes:\n  - enclose the batched tensor in a with pyro.plate(...): context\n  - .to_event(...) the distribution being sampled\n  - .permute() data dimensions",
     "output_type": "error",
     "traceback": [
      "\u001b[0;31m---------------------------------------------------------------------------\u001b[0m",
      "\u001b[0;31mValueError\u001b[0m                                Traceback (most recent call last)",
      "Cell \u001b[0;32mIn[36], line 46\u001b[0m\n\u001b[1;32m     43\u001b[0m losses \u001b[39m=\u001b[39m []\n\u001b[1;32m     44\u001b[0m N \u001b[39m=\u001b[39m docs\u001b[39m.\u001b[39msize()[\u001b[39m1\u001b[39m]\n\u001b[0;32m---> 46\u001b[0m train(n_iter)\n\u001b[1;32m     48\u001b[0m samples \u001b[39m=\u001b[39m torch\u001b[39m.\u001b[39marange(\u001b[39m0\u001b[39m, \u001b[39m300\u001b[39m)\u001b[39m.\u001b[39mtype(torch\u001b[39m.\u001b[39mfloat)\n\u001b[1;32m     50\u001b[0m tau0_optimal \u001b[39m=\u001b[39m pyro\u001b[39m.\u001b[39mparam(\u001b[39m\"\u001b[39m\u001b[39mtau_0\u001b[39m\u001b[39m\"\u001b[39m)\u001b[39m.\u001b[39mdetach()\n",
      "Cell \u001b[0;32mIn[36], line 35\u001b[0m, in \u001b[0;36mtrain\u001b[0;34m(num_iterations)\u001b[0m\n\u001b[1;32m     33\u001b[0m pyro\u001b[39m.\u001b[39mclear_param_store()\n\u001b[1;32m     34\u001b[0m \u001b[39mfor\u001b[39;00m j \u001b[39min\u001b[39;00m tqdm(\u001b[39mrange\u001b[39m(num_iterations)):\n\u001b[0;32m---> 35\u001b[0m     loss \u001b[39m=\u001b[39m svi\u001b[39m.\u001b[39;49mstep(docs)\n\u001b[1;32m     36\u001b[0m     losses\u001b[39m.\u001b[39mappend(loss)\n",
      "File \u001b[0;32m~/Desktop/CompCog/CompCogFinal/env/lib/python3.9/site-packages/pyro/infer/svi.py:145\u001b[0m, in \u001b[0;36mSVI.step\u001b[0;34m(self, *args, **kwargs)\u001b[0m\n\u001b[1;32m    143\u001b[0m \u001b[39m# get loss and compute gradients\u001b[39;00m\n\u001b[1;32m    144\u001b[0m \u001b[39mwith\u001b[39;00m poutine\u001b[39m.\u001b[39mtrace(param_only\u001b[39m=\u001b[39m\u001b[39mTrue\u001b[39;00m) \u001b[39mas\u001b[39;00m param_capture:\n\u001b[0;32m--> 145\u001b[0m     loss \u001b[39m=\u001b[39m \u001b[39mself\u001b[39;49m\u001b[39m.\u001b[39;49mloss_and_grads(\u001b[39mself\u001b[39;49m\u001b[39m.\u001b[39;49mmodel, \u001b[39mself\u001b[39;49m\u001b[39m.\u001b[39;49mguide, \u001b[39m*\u001b[39;49margs, \u001b[39m*\u001b[39;49m\u001b[39m*\u001b[39;49mkwargs)\n\u001b[1;32m    147\u001b[0m params \u001b[39m=\u001b[39m \u001b[39mset\u001b[39m(\n\u001b[1;32m    148\u001b[0m     site[\u001b[39m\"\u001b[39m\u001b[39mvalue\u001b[39m\u001b[39m\"\u001b[39m]\u001b[39m.\u001b[39munconstrained() \u001b[39mfor\u001b[39;00m site \u001b[39min\u001b[39;00m param_capture\u001b[39m.\u001b[39mtrace\u001b[39m.\u001b[39mnodes\u001b[39m.\u001b[39mvalues()\n\u001b[1;32m    149\u001b[0m )\n\u001b[1;32m    151\u001b[0m \u001b[39m# actually perform gradient steps\u001b[39;00m\n\u001b[1;32m    152\u001b[0m \u001b[39m# torch.optim objects gets instantiated for any params that haven't been seen yet\u001b[39;00m\n",
      "File \u001b[0;32m~/Desktop/CompCog/CompCogFinal/env/lib/python3.9/site-packages/pyro/infer/trace_elbo.py:140\u001b[0m, in \u001b[0;36mTrace_ELBO.loss_and_grads\u001b[0;34m(self, model, guide, *args, **kwargs)\u001b[0m\n\u001b[1;32m    138\u001b[0m loss \u001b[39m=\u001b[39m \u001b[39m0.0\u001b[39m\n\u001b[1;32m    139\u001b[0m \u001b[39m# grab a trace from the generator\u001b[39;00m\n\u001b[0;32m--> 140\u001b[0m \u001b[39mfor\u001b[39;00m model_trace, guide_trace \u001b[39min\u001b[39;00m \u001b[39mself\u001b[39m\u001b[39m.\u001b[39m_get_traces(model, guide, args, kwargs):\n\u001b[1;32m    141\u001b[0m     loss_particle, surrogate_loss_particle \u001b[39m=\u001b[39m \u001b[39mself\u001b[39m\u001b[39m.\u001b[39m_differentiable_loss_particle(\n\u001b[1;32m    142\u001b[0m         model_trace, guide_trace\n\u001b[1;32m    143\u001b[0m     )\n\u001b[1;32m    144\u001b[0m     loss \u001b[39m+\u001b[39m\u001b[39m=\u001b[39m loss_particle \u001b[39m/\u001b[39m \u001b[39mself\u001b[39m\u001b[39m.\u001b[39mnum_particles\n",
      "File \u001b[0;32m~/Desktop/CompCog/CompCogFinal/env/lib/python3.9/site-packages/pyro/infer/elbo.py:236\u001b[0m, in \u001b[0;36mELBO._get_traces\u001b[0;34m(self, model, guide, args, kwargs)\u001b[0m\n\u001b[1;32m    234\u001b[0m \u001b[39melse\u001b[39;00m:\n\u001b[1;32m    235\u001b[0m     \u001b[39mfor\u001b[39;00m i \u001b[39min\u001b[39;00m \u001b[39mrange\u001b[39m(\u001b[39mself\u001b[39m\u001b[39m.\u001b[39mnum_particles):\n\u001b[0;32m--> 236\u001b[0m         \u001b[39myield\u001b[39;00m \u001b[39mself\u001b[39;49m\u001b[39m.\u001b[39;49m_get_trace(model, guide, args, kwargs)\n",
      "File \u001b[0;32m~/Desktop/CompCog/CompCogFinal/env/lib/python3.9/site-packages/pyro/infer/trace_elbo.py:57\u001b[0m, in \u001b[0;36mTrace_ELBO._get_trace\u001b[0;34m(self, model, guide, args, kwargs)\u001b[0m\n\u001b[1;32m     52\u001b[0m \u001b[39mdef\u001b[39;00m \u001b[39m_get_trace\u001b[39m(\u001b[39mself\u001b[39m, model, guide, args, kwargs):\n\u001b[1;32m     53\u001b[0m \u001b[39m    \u001b[39m\u001b[39m\"\"\"\u001b[39;00m\n\u001b[1;32m     54\u001b[0m \u001b[39m    Returns a single trace from the guide, and the model that is run\u001b[39;00m\n\u001b[1;32m     55\u001b[0m \u001b[39m    against it.\u001b[39;00m\n\u001b[1;32m     56\u001b[0m \u001b[39m    \"\"\"\u001b[39;00m\n\u001b[0;32m---> 57\u001b[0m     model_trace, guide_trace \u001b[39m=\u001b[39m get_importance_trace(\n\u001b[1;32m     58\u001b[0m         \u001b[39m\"\u001b[39;49m\u001b[39mflat\u001b[39;49m\u001b[39m\"\u001b[39;49m, \u001b[39mself\u001b[39;49m\u001b[39m.\u001b[39;49mmax_plate_nesting, model, guide, args, kwargs\n\u001b[1;32m     59\u001b[0m     )\n\u001b[1;32m     60\u001b[0m     \u001b[39mif\u001b[39;00m is_validation_enabled():\n\u001b[1;32m     61\u001b[0m         check_if_enumerated(guide_trace)\n",
      "File \u001b[0;32m~/Desktop/CompCog/CompCogFinal/env/lib/python3.9/site-packages/pyro/infer/enum.py:80\u001b[0m, in \u001b[0;36mget_importance_trace\u001b[0;34m(graph_type, max_plate_nesting, model, guide, args, kwargs, detach)\u001b[0m\n\u001b[1;32m     78\u001b[0m \u001b[39mfor\u001b[39;00m site \u001b[39min\u001b[39;00m model_trace\u001b[39m.\u001b[39mnodes\u001b[39m.\u001b[39mvalues():\n\u001b[1;32m     79\u001b[0m     \u001b[39mif\u001b[39;00m site[\u001b[39m\"\u001b[39m\u001b[39mtype\u001b[39m\u001b[39m\"\u001b[39m] \u001b[39m==\u001b[39m \u001b[39m\"\u001b[39m\u001b[39msample\u001b[39m\u001b[39m\"\u001b[39m:\n\u001b[0;32m---> 80\u001b[0m         check_site_shape(site, max_plate_nesting)\n\u001b[1;32m     81\u001b[0m \u001b[39mfor\u001b[39;00m site \u001b[39min\u001b[39;00m guide_trace\u001b[39m.\u001b[39mnodes\u001b[39m.\u001b[39mvalues():\n\u001b[1;32m     82\u001b[0m     \u001b[39mif\u001b[39;00m site[\u001b[39m\"\u001b[39m\u001b[39mtype\u001b[39m\u001b[39m\"\u001b[39m] \u001b[39m==\u001b[39m \u001b[39m\"\u001b[39m\u001b[39msample\u001b[39m\u001b[39m\"\u001b[39m:\n",
      "File \u001b[0;32m~/Desktop/CompCog/CompCogFinal/env/lib/python3.9/site-packages/pyro/util.py:437\u001b[0m, in \u001b[0;36mcheck_site_shape\u001b[0;34m(site, max_plate_nesting)\u001b[0m\n\u001b[1;32m    433\u001b[0m \u001b[39mfor\u001b[39;00m actual_size, expected_size \u001b[39min\u001b[39;00m zip_longest(\n\u001b[1;32m    434\u001b[0m     \u001b[39mreversed\u001b[39m(actual_shape), \u001b[39mreversed\u001b[39m(expected_shape), fillvalue\u001b[39m=\u001b[39m\u001b[39m1\u001b[39m\n\u001b[1;32m    435\u001b[0m ):\n\u001b[1;32m    436\u001b[0m     \u001b[39mif\u001b[39;00m expected_size \u001b[39m!=\u001b[39m \u001b[39m-\u001b[39m\u001b[39m1\u001b[39m \u001b[39mand\u001b[39;00m expected_size \u001b[39m!=\u001b[39m actual_size:\n\u001b[0;32m--> 437\u001b[0m         \u001b[39mraise\u001b[39;00m \u001b[39mValueError\u001b[39;00m(\n\u001b[1;32m    438\u001b[0m             \u001b[39m\"\u001b[39m\u001b[39m\\n\u001b[39;00m\u001b[39m  \u001b[39m\u001b[39m\"\u001b[39m\u001b[39m.\u001b[39mjoin(\n\u001b[1;32m    439\u001b[0m                 [\n\u001b[1;32m    440\u001b[0m                     \u001b[39m'\u001b[39m\u001b[39mat site \u001b[39m\u001b[39m\"\u001b[39m\u001b[39m{}\u001b[39;00m\u001b[39m\"\u001b[39m\u001b[39m, invalid log_prob shape\u001b[39m\u001b[39m'\u001b[39m\u001b[39m.\u001b[39mformat(site[\u001b[39m\"\u001b[39m\u001b[39mname\u001b[39m\u001b[39m\"\u001b[39m]),\n\u001b[1;32m    441\u001b[0m                     \u001b[39m\"\u001b[39m\u001b[39mExpected \u001b[39m\u001b[39m{}\u001b[39;00m\u001b[39m, actual \u001b[39m\u001b[39m{}\u001b[39;00m\u001b[39m\"\u001b[39m\u001b[39m.\u001b[39mformat(expected_shape, actual_shape),\n\u001b[1;32m    442\u001b[0m                     \u001b[39m\"\u001b[39m\u001b[39mTry one of the following fixes:\u001b[39m\u001b[39m\"\u001b[39m,\n\u001b[1;32m    443\u001b[0m                     \u001b[39m\"\u001b[39m\u001b[39m- enclose the batched tensor in a with pyro.plate(...): context\u001b[39m\u001b[39m\"\u001b[39m,\n\u001b[1;32m    444\u001b[0m                     \u001b[39m\"\u001b[39m\u001b[39m- .to_event(...) the distribution being sampled\u001b[39m\u001b[39m\"\u001b[39m,\n\u001b[1;32m    445\u001b[0m                     \u001b[39m\"\u001b[39m\u001b[39m- .permute() data dimensions\u001b[39m\u001b[39m\"\u001b[39m,\n\u001b[1;32m    446\u001b[0m                 ]\n\u001b[1;32m    447\u001b[0m             )\n\u001b[1;32m    448\u001b[0m         )\n\u001b[1;32m    450\u001b[0m \u001b[39m# Check parallel dimensions on the left of max_plate_nesting.\u001b[39;00m\n\u001b[1;32m    451\u001b[0m enum_dim \u001b[39m=\u001b[39m site[\u001b[39m\"\u001b[39m\u001b[39minfer\u001b[39m\u001b[39m\"\u001b[39m]\u001b[39m.\u001b[39mget(\u001b[39m\"\u001b[39m\u001b[39m_enumerate_dim\u001b[39m\u001b[39m\"\u001b[39m)\n",
      "\u001b[0;31mValueError\u001b[0m: at site \"obs\", invalid log_prob shape\n  Expected [8752], actual [9378, 8752]\n  Try one of the following fixes:\n  - enclose the batched tensor in a with pyro.plate(...): context\n  - .to_event(...) the distribution being sampled\n  - .permute() data dimensions"
     ]
    }
   ],
   "source": [
    "def model(docs):\n",
    "    with pyro.plate(\"beta\", docs.size()[0]):\n",
    "        \n",
    "    theta = pyro.sample('theta', dist.Dirichlet(torch.ones[1,T]))\n",
    "    with pyro.plate(\"data\", words):\n",
    "        z = pyro.sample('obs', dist.Multinomial(words, theta), obs=words)\n",
    "\n",
    "nuts_kernel = NUTS(model)\n",
    "mcmc = MCMC(nuts_kernel, num_samples=1000, warmup_steps=200)\n",
    "T = 6\n",
    "mcmc.run(docs)\n",
    "\n",
    "\n",
    "hmc_samples = {k: v.detach().cpu().numpy()\n",
    "               for k, v in mcmc.get_samples().items()}"
   ]
  },
  {
   "cell_type": "code",
   "execution_count": 88,
   "metadata": {},
   "outputs": [
    {
     "name": "stderr",
     "output_type": "stream",
     "text": [
      "/var/folders/d5/d4vbmxhd4wxdb9smqpxs6x500000gn/T/ipykernel_33179/380873803.py:11: RuntimeWarning: The training result may differ even with fixed seed if `workers` != 1.\n",
      "  hdp.train(0)\n",
      "  0%|          | 0/100 [00:00<?, ?it/s]/var/folders/d5/d4vbmxhd4wxdb9smqpxs6x500000gn/T/ipykernel_33179/380873803.py:13: RuntimeWarning: The training result may differ even with fixed seed if `workers` != 1.\n",
      "  hdp.train(100)\n",
      "  1%|          | 1/100 [00:00<01:32,  1.07it/s]"
     ]
    },
    {
     "name": "stdout",
     "output_type": "stream",
     "text": [
      "i: 0, loss: -7.525953962284248, topics: 30\n"
     ]
    },
    {
     "name": "stderr",
     "output_type": "stream",
     "text": [
      "  2%|▏         | 2/100 [00:02<01:42,  1.04s/it]"
     ]
    },
    {
     "name": "stdout",
     "output_type": "stream",
     "text": [
      "i: 100, loss: -7.492867265030906, topics: 37\n",
      "i: 200, loss: -7.491677054618174, topics: 35\n"
     ]
    },
    {
     "name": "stderr",
     "output_type": "stream",
     "text": [
      "  4%|▍         | 4/100 [00:04<01:45,  1.10s/it]"
     ]
    },
    {
     "name": "stdout",
     "output_type": "stream",
     "text": [
      "i: 300, loss: -7.493253929001053, topics: 43\n",
      "i: 400, loss: -7.492679076760149, topics: 39\n"
     ]
    },
    {
     "name": "stderr",
     "output_type": "stream",
     "text": [
      "  6%|▌         | 6/100 [00:06<01:39,  1.06s/it]"
     ]
    },
    {
     "name": "stdout",
     "output_type": "stream",
     "text": [
      "i: 500, loss: -7.490428087064546, topics: 37\n",
      "i: 600, loss: -7.492871783478086, topics: 41\n"
     ]
    },
    {
     "name": "stderr",
     "output_type": "stream",
     "text": [
      "  8%|▊         | 8/100 [00:08<01:37,  1.06s/it]"
     ]
    },
    {
     "name": "stdout",
     "output_type": "stream",
     "text": [
      "i: 700, loss: -7.492929448993541, topics: 41\n",
      "i: 800, loss: -7.493706294792736, topics: 39\n"
     ]
    },
    {
     "name": "stderr",
     "output_type": "stream",
     "text": [
      " 10%|█         | 10/100 [00:10<01:35,  1.06s/it]"
     ]
    },
    {
     "name": "stdout",
     "output_type": "stream",
     "text": [
      "i: 900, loss: -7.490780328491356, topics: 34\n",
      "i: 1000, loss: -7.491692190411254, topics: 41\n"
     ]
    },
    {
     "name": "stderr",
     "output_type": "stream",
     "text": [
      " 12%|█▏        | 12/100 [00:12<01:35,  1.09s/it]"
     ]
    },
    {
     "name": "stdout",
     "output_type": "stream",
     "text": [
      "i: 1100, loss: -7.491930656500796, topics: 39\n",
      "i: 1200, loss: -7.492027136998707, topics: 43\n"
     ]
    },
    {
     "name": "stderr",
     "output_type": "stream",
     "text": [
      " 14%|█▍        | 14/100 [00:15<01:34,  1.10s/it]"
     ]
    },
    {
     "name": "stdout",
     "output_type": "stream",
     "text": [
      "i: 1300, loss: -7.492818256517917, topics: 35\n",
      "i: 1400, loss: -7.49244842625813, topics: 42\n"
     ]
    },
    {
     "name": "stderr",
     "output_type": "stream",
     "text": [
      " 16%|█▌        | 16/100 [00:17<01:31,  1.08s/it]"
     ]
    },
    {
     "name": "stdout",
     "output_type": "stream",
     "text": [
      "i: 1500, loss: -7.492122054027163, topics: 38\n",
      "i: 1600, loss: -7.491884433711445, topics: 41\n"
     ]
    },
    {
     "name": "stderr",
     "output_type": "stream",
     "text": [
      " 18%|█▊        | 18/100 [00:19<01:27,  1.07s/it]"
     ]
    },
    {
     "name": "stdout",
     "output_type": "stream",
     "text": [
      "i: 1700, loss: -7.491717136363969, topics: 39\n",
      "i: 1800, loss: -7.492475419607722, topics: 39\n"
     ]
    },
    {
     "name": "stderr",
     "output_type": "stream",
     "text": [
      " 20%|██        | 20/100 [00:21<01:25,  1.07s/it]"
     ]
    },
    {
     "name": "stdout",
     "output_type": "stream",
     "text": [
      "i: 1900, loss: -7.493085248622854, topics: 42\n",
      "i: 2000, loss: -7.492567163363593, topics: 35\n"
     ]
    },
    {
     "name": "stderr",
     "output_type": "stream",
     "text": [
      " 22%|██▏       | 22/100 [00:23<01:22,  1.06s/it]"
     ]
    },
    {
     "name": "stdout",
     "output_type": "stream",
     "text": [
      "i: 2100, loss: -7.493015380103591, topics: 41\n",
      "i: 2200, loss: -7.490981297828952, topics: 39\n"
     ]
    },
    {
     "name": "stderr",
     "output_type": "stream",
     "text": [
      " 24%|██▍       | 24/100 [00:25<01:21,  1.08s/it]"
     ]
    },
    {
     "name": "stdout",
     "output_type": "stream",
     "text": [
      "i: 2300, loss: -7.493264894558022, topics: 47\n",
      "i: 2400, loss: -7.493789945342277, topics: 41\n"
     ]
    },
    {
     "name": "stderr",
     "output_type": "stream",
     "text": [
      " 26%|██▌       | 26/100 [00:27<01:19,  1.08s/it]"
     ]
    },
    {
     "name": "stdout",
     "output_type": "stream",
     "text": [
      "i: 2500, loss: -7.492832882446216, topics: 41\n",
      "i: 2600, loss: -7.491812449081547, topics: 42\n"
     ]
    },
    {
     "name": "stderr",
     "output_type": "stream",
     "text": [
      " 28%|██▊       | 28/100 [00:29<01:16,  1.07s/it]"
     ]
    },
    {
     "name": "stdout",
     "output_type": "stream",
     "text": [
      "i: 2700, loss: -7.491929159364586, topics: 39\n",
      "i: 2800, loss: -7.491601300415538, topics: 37\n"
     ]
    },
    {
     "name": "stderr",
     "output_type": "stream",
     "text": [
      " 30%|███       | 30/100 [00:32<01:14,  1.07s/it]"
     ]
    },
    {
     "name": "stdout",
     "output_type": "stream",
     "text": [
      "i: 2900, loss: -7.491499179111531, topics: 44\n",
      "i: 3000, loss: -7.492456993500061, topics: 43\n"
     ]
    },
    {
     "name": "stderr",
     "output_type": "stream",
     "text": [
      " 32%|███▏      | 32/100 [00:34<01:12,  1.06s/it]"
     ]
    },
    {
     "name": "stdout",
     "output_type": "stream",
     "text": [
      "i: 3100, loss: -7.49268775750569, topics: 42\n",
      "i: 3200, loss: -7.490764337580525, topics: 39\n"
     ]
    },
    {
     "name": "stderr",
     "output_type": "stream",
     "text": [
      " 34%|███▍      | 34/100 [00:36<01:09,  1.06s/it]"
     ]
    },
    {
     "name": "stdout",
     "output_type": "stream",
     "text": [
      "i: 3300, loss: -7.493704910501581, topics: 40\n",
      "i: 3400, loss: -7.491885248098635, topics: 35\n"
     ]
    },
    {
     "name": "stderr",
     "output_type": "stream",
     "text": [
      " 36%|███▌      | 36/100 [00:38<01:11,  1.12s/it]"
     ]
    },
    {
     "name": "stdout",
     "output_type": "stream",
     "text": [
      "i: 3500, loss: -7.492304096487937, topics: 37\n",
      "i: 3600, loss: -7.4920102529439605, topics: 37\n"
     ]
    },
    {
     "name": "stderr",
     "output_type": "stream",
     "text": [
      " 38%|███▊      | 38/100 [00:41<01:11,  1.16s/it]"
     ]
    },
    {
     "name": "stdout",
     "output_type": "stream",
     "text": [
      "i: 3700, loss: -7.493030642587581, topics: 39\n",
      "i: 3800, loss: -7.492303948097094, topics: 40\n"
     ]
    },
    {
     "name": "stderr",
     "output_type": "stream",
     "text": [
      " 40%|████      | 40/100 [00:43<01:14,  1.24s/it]"
     ]
    },
    {
     "name": "stdout",
     "output_type": "stream",
     "text": [
      "i: 3900, loss: -7.49170965996207, topics: 41\n",
      "i: 4000, loss: -7.492416167206316, topics: 41\n"
     ]
    },
    {
     "name": "stderr",
     "output_type": "stream",
     "text": [
      " 42%|████▏     | 42/100 [00:46<01:11,  1.23s/it]"
     ]
    },
    {
     "name": "stdout",
     "output_type": "stream",
     "text": [
      "i: 4100, loss: -7.493692554407978, topics: 47\n",
      "i: 4200, loss: -7.49242773043453, topics: 43\n"
     ]
    },
    {
     "name": "stderr",
     "output_type": "stream",
     "text": [
      " 44%|████▍     | 44/100 [00:49<01:14,  1.33s/it]"
     ]
    },
    {
     "name": "stdout",
     "output_type": "stream",
     "text": [
      "i: 4300, loss: -7.491553160053754, topics: 38\n",
      "i: 4400, loss: -7.492379255812791, topics: 38\n"
     ]
    },
    {
     "name": "stderr",
     "output_type": "stream",
     "text": [
      " 46%|████▌     | 46/100 [00:51<01:05,  1.21s/it]"
     ]
    },
    {
     "name": "stdout",
     "output_type": "stream",
     "text": [
      "i: 4500, loss: -7.492014330520813, topics: 37\n",
      "i: 4600, loss: -7.492609352683097, topics: 45\n"
     ]
    },
    {
     "name": "stderr",
     "output_type": "stream",
     "text": [
      " 48%|████▊     | 48/100 [00:53<01:02,  1.21s/it]"
     ]
    },
    {
     "name": "stdout",
     "output_type": "stream",
     "text": [
      "i: 4700, loss: -7.49230552305078, topics: 42\n",
      "i: 4800, loss: -7.492645315255102, topics: 38\n"
     ]
    },
    {
     "name": "stderr",
     "output_type": "stream",
     "text": [
      " 50%|█████     | 50/100 [00:55<00:58,  1.18s/it]"
     ]
    },
    {
     "name": "stdout",
     "output_type": "stream",
     "text": [
      "i: 4900, loss: -7.491360329122587, topics: 43\n",
      "i: 5000, loss: -7.492179967966379, topics: 44\n"
     ]
    },
    {
     "name": "stderr",
     "output_type": "stream",
     "text": [
      " 52%|█████▏    | 52/100 [00:58<00:54,  1.13s/it]"
     ]
    },
    {
     "name": "stdout",
     "output_type": "stream",
     "text": [
      "i: 5100, loss: -7.4914667514560875, topics: 38\n",
      "i: 5200, loss: -7.493469384674835, topics: 42\n"
     ]
    },
    {
     "name": "stderr",
     "output_type": "stream",
     "text": [
      " 54%|█████▍    | 54/100 [01:00<00:52,  1.13s/it]"
     ]
    },
    {
     "name": "stdout",
     "output_type": "stream",
     "text": [
      "i: 5300, loss: -7.4918697859374666, topics: 42\n",
      "i: 5400, loss: -7.492128381455339, topics: 36\n"
     ]
    },
    {
     "name": "stderr",
     "output_type": "stream",
     "text": [
      " 56%|█████▌    | 56/100 [01:02<00:48,  1.10s/it]"
     ]
    },
    {
     "name": "stdout",
     "output_type": "stream",
     "text": [
      "i: 5500, loss: -7.491700743920689, topics: 39\n",
      "i: 5600, loss: -7.494100091666161, topics: 41\n"
     ]
    },
    {
     "name": "stderr",
     "output_type": "stream",
     "text": [
      " 58%|█████▊    | 58/100 [01:04<00:45,  1.09s/it]"
     ]
    },
    {
     "name": "stdout",
     "output_type": "stream",
     "text": [
      "i: 5700, loss: -7.492084641929252, topics: 38\n",
      "i: 5800, loss: -7.4914086188981335, topics: 38\n"
     ]
    },
    {
     "name": "stderr",
     "output_type": "stream",
     "text": [
      " 60%|██████    | 60/100 [01:07<00:46,  1.17s/it]"
     ]
    },
    {
     "name": "stdout",
     "output_type": "stream",
     "text": [
      "i: 5900, loss: -7.49303910730272, topics: 41\n",
      "i: 6000, loss: -7.4920224121916315, topics: 43\n"
     ]
    },
    {
     "name": "stderr",
     "output_type": "stream",
     "text": [
      " 62%|██████▏   | 62/100 [01:09<00:43,  1.16s/it]"
     ]
    },
    {
     "name": "stdout",
     "output_type": "stream",
     "text": [
      "i: 6100, loss: -7.491775473943116, topics: 49\n",
      "i: 6200, loss: -7.491889032243257, topics: 41\n"
     ]
    },
    {
     "name": "stderr",
     "output_type": "stream",
     "text": [
      " 64%|██████▍   | 64/100 [01:12<00:44,  1.25s/it]"
     ]
    },
    {
     "name": "stdout",
     "output_type": "stream",
     "text": [
      "i: 6300, loss: -7.491532976955872, topics: 42\n",
      "i: 6400, loss: -7.491703942588135, topics: 49\n"
     ]
    },
    {
     "name": "stderr",
     "output_type": "stream",
     "text": [
      " 66%|██████▌   | 66/100 [01:14<00:40,  1.19s/it]"
     ]
    },
    {
     "name": "stdout",
     "output_type": "stream",
     "text": [
      "i: 6500, loss: -7.491837425416869, topics: 47\n",
      "i: 6600, loss: -7.492998017959352, topics: 41\n"
     ]
    },
    {
     "name": "stderr",
     "output_type": "stream",
     "text": [
      " 68%|██████▊   | 68/100 [01:16<00:36,  1.15s/it]"
     ]
    },
    {
     "name": "stdout",
     "output_type": "stream",
     "text": [
      "i: 6700, loss: -7.491592658632714, topics: 40\n",
      "i: 6800, loss: -7.493749489175455, topics: 41\n"
     ]
    },
    {
     "name": "stderr",
     "output_type": "stream",
     "text": [
      " 70%|███████   | 70/100 [01:18<00:32,  1.10s/it]"
     ]
    },
    {
     "name": "stdout",
     "output_type": "stream",
     "text": [
      "i: 6900, loss: -7.49249687451067, topics: 39\n",
      "i: 7000, loss: -7.4920929562724865, topics: 40\n"
     ]
    },
    {
     "name": "stderr",
     "output_type": "stream",
     "text": [
      " 72%|███████▏  | 72/100 [01:21<00:30,  1.10s/it]"
     ]
    },
    {
     "name": "stdout",
     "output_type": "stream",
     "text": [
      "i: 7100, loss: -7.492293309801581, topics: 42\n",
      "i: 7200, loss: -7.492792314549025, topics: 45\n"
     ]
    },
    {
     "name": "stderr",
     "output_type": "stream",
     "text": [
      " 74%|███████▍  | 74/100 [01:23<00:31,  1.19s/it]"
     ]
    },
    {
     "name": "stdout",
     "output_type": "stream",
     "text": [
      "i: 7300, loss: -7.491875497905311, topics: 42\n",
      "i: 7400, loss: -7.492039676332599, topics: 41\n"
     ]
    },
    {
     "name": "stderr",
     "output_type": "stream",
     "text": [
      " 76%|███████▌  | 76/100 [01:25<00:28,  1.19s/it]"
     ]
    },
    {
     "name": "stdout",
     "output_type": "stream",
     "text": [
      "i: 7500, loss: -7.491705168153989, topics: 42\n",
      "i: 7600, loss: -7.493025444093076, topics: 51\n"
     ]
    },
    {
     "name": "stderr",
     "output_type": "stream",
     "text": [
      " 78%|███████▊  | 78/100 [01:28<00:26,  1.21s/it]"
     ]
    },
    {
     "name": "stdout",
     "output_type": "stream",
     "text": [
      "i: 7700, loss: -7.492069910588936, topics: 43\n",
      "i: 7800, loss: -7.493175919932357, topics: 40\n"
     ]
    },
    {
     "name": "stderr",
     "output_type": "stream",
     "text": [
      " 80%|████████  | 80/100 [01:30<00:24,  1.23s/it]"
     ]
    },
    {
     "name": "stdout",
     "output_type": "stream",
     "text": [
      "i: 7900, loss: -7.490941028837557, topics: 42\n",
      "i: 8000, loss: -7.491391312199385, topics: 38\n"
     ]
    },
    {
     "name": "stderr",
     "output_type": "stream",
     "text": [
      " 82%|████████▏ | 82/100 [01:33<00:21,  1.18s/it]"
     ]
    },
    {
     "name": "stdout",
     "output_type": "stream",
     "text": [
      "i: 8100, loss: -7.494070462578882, topics: 41\n",
      "i: 8200, loss: -7.491413664723885, topics: 38\n"
     ]
    },
    {
     "name": "stderr",
     "output_type": "stream",
     "text": [
      " 84%|████████▍ | 84/100 [01:35<00:18,  1.14s/it]"
     ]
    },
    {
     "name": "stdout",
     "output_type": "stream",
     "text": [
      "i: 8300, loss: -7.492771986855089, topics: 49\n"
     ]
    },
    {
     "name": "stderr",
     "output_type": "stream",
     "text": [
      " 85%|████████▌ | 85/100 [01:36<00:17,  1.14s/it]"
     ]
    },
    {
     "name": "stdout",
     "output_type": "stream",
     "text": [
      "i: 8400, loss: -7.492686436144344, topics: 42\n",
      "i: 8500, loss: -7.492257032299836, topics: 41\n"
     ]
    },
    {
     "name": "stderr",
     "output_type": "stream",
     "text": [
      " 87%|████████▋ | 87/100 [01:38<00:14,  1.13s/it]"
     ]
    },
    {
     "name": "stdout",
     "output_type": "stream",
     "text": [
      "i: 8600, loss: -7.49144217661543, topics: 44\n"
     ]
    },
    {
     "name": "stderr",
     "output_type": "stream",
     "text": [
      " 88%|████████▊ | 88/100 [01:39<00:13,  1.11s/it]"
     ]
    },
    {
     "name": "stdout",
     "output_type": "stream",
     "text": [
      "i: 8700, loss: -7.491310659860101, topics: 40\n",
      "i: 8800, loss: -7.492378288181962, topics: 45\n"
     ]
    },
    {
     "name": "stderr",
     "output_type": "stream",
     "text": [
      " 90%|█████████ | 90/100 [01:42<00:10,  1.09s/it]"
     ]
    },
    {
     "name": "stdout",
     "output_type": "stream",
     "text": [
      "i: 8900, loss: -7.49233732368069, topics: 43\n",
      "i: 9000, loss: -7.490623997586121, topics: 38\n"
     ]
    },
    {
     "name": "stderr",
     "output_type": "stream",
     "text": [
      " 92%|█████████▏| 92/100 [01:44<00:08,  1.10s/it]"
     ]
    },
    {
     "name": "stdout",
     "output_type": "stream",
     "text": [
      "i: 9100, loss: -7.492695668305722, topics: 46\n",
      "i: 9200, loss: -7.491602287214642, topics: 47\n"
     ]
    },
    {
     "name": "stderr",
     "output_type": "stream",
     "text": [
      " 94%|█████████▍| 94/100 [01:46<00:06,  1.08s/it]"
     ]
    },
    {
     "name": "stdout",
     "output_type": "stream",
     "text": [
      "i: 9300, loss: -7.4913266687894335, topics: 43\n",
      "i: 9400, loss: -7.49321757449963, topics: 45\n"
     ]
    },
    {
     "name": "stderr",
     "output_type": "stream",
     "text": [
      " 96%|█████████▌| 96/100 [01:48<00:04,  1.08s/it]"
     ]
    },
    {
     "name": "stdout",
     "output_type": "stream",
     "text": [
      "i: 9500, loss: -7.4911289578750715, topics: 39\n",
      "i: 9600, loss: -7.4934579299247, topics: 40\n"
     ]
    },
    {
     "name": "stderr",
     "output_type": "stream",
     "text": [
      " 98%|█████████▊| 98/100 [01:50<00:02,  1.07s/it]"
     ]
    },
    {
     "name": "stdout",
     "output_type": "stream",
     "text": [
      "i: 9700, loss: -7.492128250524307, topics: 41\n",
      "i: 9800, loss: -7.492120991189224, topics: 48\n"
     ]
    },
    {
     "name": "stderr",
     "output_type": "stream",
     "text": [
      "100%|██████████| 100/100 [01:52<00:00,  1.13s/it]"
     ]
    },
    {
     "name": "stdout",
     "output_type": "stream",
     "text": [
      "i: 9900, loss: -7.491884777021136, topics: 41\n"
     ]
    },
    {
     "name": "stderr",
     "output_type": "stream",
     "text": [
      "\n"
     ]
    }
   ],
   "source": [
    "import tomotopy as tp\n",
    "\n",
    "term_weight = tp.TermWeight.ONE\n",
    "\n",
    "hdp = tp.HDPModel(tw=term_weight, min_cf=5, rm_top=8, gamma=1, alpha=0.1, initial_k = 4, seed=0)\n",
    "\n",
    "for doc in list(df_concat):\n",
    "    hdp.add_doc(doc.split())\n",
    "\n",
    "hdp.burn_in = 100\n",
    "hdp.train(0)\n",
    "for i in tqdm(range(0, 10000, 100)):\n",
    "    hdp.train(100)\n",
    "    print(f'i: {i}, loss: {hdp.ll_per_word}, topics: {hdp.live_k}')\n",
    "    n_topics = hdp.live_k"
   ]
  },
  {
   "cell_type": "code",
   "execution_count": 28,
   "metadata": {},
   "outputs": [
    {
     "data": {
      "text/plain": [
       "['go feeling hopeless damned hopeful around someone care awake',\n",
       " 'grabbing minute post feel greedy wrong',\n",
       " 'ever feeling nostalgic fireplace know still property',\n",
       " 'ive feeling little burdened lately wasnt sure',\n",
       " 'ive taking milligram time recommended amount ive fallen asleep lot faster also feel like funny',\n",
       " 'feel confused life teenager jaded year old man',\n",
       " 'petronas year feel petronas performed well made huge profit',\n",
       " 'feel like make suffering seeing mean something',\n",
       " 'feel running divine experience expect type spiritual encounter',\n",
       " 'think easiest time year feel dissatisfied',\n",
       " 'started feeling sentimental doll child began collection vintage barbie doll sixty',\n",
       " 'feel compromised skeptical value every unit work put',\n",
       " 'feel irritated rejected without anyone anything saying anything',\n",
       " 'feeling completely overwhelmed two strategy help feel grounded pour heart journal form letter god end list five thing grateful',\n",
       " 'able help chai lifeline support encouragement great feeling glad able help',\n",
       " 'already feel like fucked though dont usually eat morning',\n",
       " 'feel inhibited someone el kitchen like painting someone el picture',\n",
       " 'feel kinda appalled feel like need explain wide lenghth body measure etc pp',\n",
       " 'feel superior dead chicken grieving child',\n",
       " 'get giddy feeling elegant perfectly fitted pencil skirt',\n",
       " 'remember feeling acutely distressed day',\n",
       " 'seen heard read past couple day left feeling impressed company',\n",
       " 'climbed hill feeling frustrated id pretty much paced entirely wrong course factor never ever hampered made dent day',\n",
       " 'sure would make feel content anything',\n",
       " 'however want know something someone causing feel le splendid self step away',\n",
       " 'feel bit rude writing elderly gentleman ask gift feel bit greedy christmas mild greed',\n",
       " 'need need someone need protected feel safe small find season word',\n",
       " 'plan share everyday life story traveling adventure inspiration handmade creation hope also feel inspired',\n",
       " 'already christmas tree got two feeling festive sure spurring get started book',\n",
       " 'ive worn little concealer day feeling brave dont want pale perfect',\n",
       " 'feel strongly passionate jerk decides poke make fun u',\n",
       " 'feeling discouraged already robbing peter pay paul get cow year cant afford get cow way',\n",
       " 'feeling listless need new thing something different',\n",
       " 'let go sad feeling want accepted first home mine',\n",
       " 'stopped feeling cold began feeling hot',\n",
       " 'need feel dough make sure perfect',\n",
       " 'found feeling little discouraged morning',\n",
       " 'stymied little bit wrote feeling unsure might go somewhere story unintended',\n",
       " 'feel know basically like fake realm science fiction',\n",
       " 'hate living dad roof give excuse asshole he providing live think feel need make feel unwelcome possible ill leave',\n",
       " 'keep feeling pleasantly surprised supportiveness also ease new situation',\n",
       " 'feeling anymore vigorous sexual activity coming yes misspelt cumming day part begin fall',\n",
       " 'feel mom graceful warm loving smile rob time nurture heal',\n",
       " 'feel talk brother law extremely popular one think stiff',\n",
       " 'ate could feel gentle tingle throughout almost feeling healing taking place cellular level',\n",
       " 'feel like pressured young beautiful thin depending trend girl rejuvenated butt implant',\n",
       " 'began several time week feeling tortured hallucination moving people figure sound vibration',\n",
       " 'nearly finished week detox feel amazing',\n",
       " 'feel selfish read back former post never asked prayer others never considered may others deserve prayer answered',\n",
       " 'know pain parent feel enraged child becomes violent',\n",
       " 'roller coaster emotion supposed feeling something unpleasant coming',\n",
       " 'suppose truth need shared havent feeling faithful lately ive dwelled doubt uncertainty faith',\n",
       " 'feeling brave bought clearly makeup',\n",
       " 'feeling miserable c also proudest mum earth',\n",
       " 'figure family love u matter around anyone else feel embarrassed michelle go ballistic',\n",
       " 'necessarily think f bomb sex necessary story feel reassured see print journal',\n",
       " 'feel ovary aching talking like put',\n",
       " 'feel like much chris mostly took many picture unimportant stuff',\n",
       " 'tired book ready finding given unsuitable image feeling blamed result sit well',\n",
       " 'successfully manage stretch mxm canvas feel achievement worthwhile usage money time use canvas future brief',\n",
       " 'think feeling one nay important thing',\n",
       " 'feel completely honored influence young talented fully alive beautiful girl woman',\n",
       " 'feel like miserable piece garbage',\n",
       " 'feel like need make list leanne would appalled thought dont miss anything',\n",
       " 'drove dannika school feeling little bit rushed greeted turned corner',\n",
       " 'remember feeling hellip furious shooter',\n",
       " 'feel happy excited since learned many thing',\n",
       " 'feel show around show horse people trusting relaxed show horse safe quiet handled frequently',\n",
       " 'couple thing left make start december done feeling smug',\n",
       " 'think u could make feel realize everything ok',\n",
       " 'feel worthless time struggling finding work',\n",
       " 'able lay bed dark feel terrified least',\n",
       " 'ready meet mom airport feel ever supportive arm around',\n",
       " 'feeling bitter today mood strange entire day guess',\n",
       " 'mum brother passed away involved car accident bringing present passed form five exam flying colour',\n",
       " 'letting go animosity towards anyone feel wronged',\n",
       " 'talk dog feel cannot understand word read emotion know supportive decided go home',\n",
       " 'feel like throwing away shitty piece shit paper',\n",
       " 'starting feel wryly amused banal comedy error life turning',\n",
       " 'find every body beautiful want people feel vital body',\n",
       " 'hear owner feel victimized association association attorney property manager',\n",
       " 'wont let child cry feel loving lily little going opportunity lasted short month',\n",
       " 'feel excited feel like ton catching',\n",
       " 'also know good feel look back see honored word help start',\n",
       " 'feel like thing getting little overwhelming spritz toner really help calm soothe',\n",
       " 'feeling festive today even going put tree soon finished catching week going ons coronation street',\n",
       " 'alright class combination feeling unsuccessful man handled stress late horrible week resulted almost cry finished grappling',\n",
       " 'feel rarely advance worthwhile cause always stick rule posting anything online wouldnt prepared say somebody face',\n",
       " 'feel like pain cannot imagine becoming passionate group idea causing pain',\n",
       " 'feeling homesick yet feeling alright',\n",
       " 'workout every morning feel fabulous',\n",
       " 'feel eye touch word eye know assuredly return love know shall vain',\n",
       " 'feeling fabulous friday morning started get awful cramp work',\n",
       " 'feel honoured able call friend share brotherhood',\n",
       " 'begun feel apprehensive thick black rain cloud stormed sky town',\n",
       " 'stated reason feel fearful feel unsafe',\n",
       " 'feel like getting shaken tsa quite yet pulled side creative croissant lunch',\n",
       " 'get group feel really awkward overcompensate talkative getting really quiet',\n",
       " 'excited finally meet companion companion time especially lonely lonely companion never disappoint companion put arm around make feel loved',\n",
       " 'feel pretty safe blog img src http',\n",
       " 'feel pretty eager get done fun plan quilting',\n",
       " 'feeling horny ask let go home',\n",
       " 'think poem put pressure feel uncomfortable sense feeling feel understanding understand loving able love',\n",
       " 'feel stranger strange land raising son place father ancestral home',\n",
       " 'left shower questioning feel gorgeous fantastic body confident movement effortlessly graceful',\n",
       " 'feel energetic bouncy happy go gym run around outside kid take pram long walk often three one day',\n",
       " 'burst tear devastating release feeling thought seemed know rich also go space without dumping',\n",
       " 'wanted get pumpkin spice latte morning hot last thing wanted hot coffee maybe feeling little bitter',\n",
       " 'suppose feel badly bit skeptical pain last month shes hyperchondria exaggeration habit past though never openly questioned',\n",
       " 'clench corner bed feel assured',\n",
       " 'also feel like selfish grateful life amazing thing',\n",
       " 'called god seen god book figured god right name feeling utterly affirmed accepted without question',\n",
       " 'know perhaps girl office nice short hair perhaps feeling rebellious',\n",
       " 'feel miserable family type celebrates eid',\n",
       " 'might go get car wash feeling really generous car need',\n",
       " 'still feel sleep deprived almost sleeping night giving u',\n",
       " 'bloging sitting feeling content dog amp cat etc know lucky truth',\n",
       " 'started feeling funny friday woke sick dog',\n",
       " 'feel need protect parent witch hunt repressed memory therapy',\n",
       " 'feel disgusted even associated woman race nationality',\n",
       " 'laughed bitterly wasnt feeling bitter',\n",
       " 'know feeling thought wished could u u knew however much hated first experience would remember forever',\n",
       " 'feeling quite mellow wanted soft easy look wear beginning cold',\n",
       " 'told maybe need time think ive feeling indecisive thing lately',\n",
       " 'still feel genre disservice story resolved artifically',\n",
       " 'remember feeling really terrified brazil bus going steep mountain hill side mountain middle big storm wondering going fall',\n",
       " 'could feel whimper thought unloved uncared',\n",
       " 'certainly going sit tell whats going personal life feel ever curious whats going life youd watch show',\n",
       " 'sorry wasnt humor post feeling funny',\n",
       " 'feel ive got foot door fantastic world walking running trail fell mountain',\n",
       " 'say whatever come mind tell directly feel jealous girl insecure love person trust worthy friend sweet one love',\n",
       " 'feel strange coming back work one day holiday',\n",
       " 'clearly influenced dash happiness emily dickinson example use dash instead colon semi colon enhance feeling rushed enjambment sonnet',\n",
       " 'could claim redeem genre leave feeling entirely frustrated point beating head wall either',\n",
       " 'getting feeling class little intimidated concept lit',\n",
       " 'still feel groggy get routine son',\n",
       " 'feeling view isnt going popular thats fine',\n",
       " 'want hold feeling shocked awe wonder forever',\n",
       " 'heard rumour st year exam result fear might one failure',\n",
       " 'want feel valued appreciated know people love arent going anywhere even nature relationship change',\n",
       " 'use regularly relaxing music always feel invigorated afterward',\n",
       " 'feeling distracted tend practice eye shut much possible',\n",
       " 'feel like perfect w see youtube influence even know trend',\n",
       " 'specifically wanted tango feeling shy mak quite opposite hard get far enough away get good pic lol',\n",
       " 'also feel weird sleeping bed two slept',\n",
       " 'wish okay thinking earlier today here thing cooped amp restless made feel needy',\n",
       " 'ive lost weight could fit tiny skirt ive unable wear didnt feel confident',\n",
       " 'hope feel bit creative soon miss presence life blog',\n",
       " 'fan current president conservative made feel unwelcome',\n",
       " 'enclose verse could weigh much thinking feeling curious hear odd couple',\n",
       " 'remember feeling inspired thinking fine example parenting',\n",
       " 'feel like always one getting punished stupid thing feel like chastised behaving',\n",
       " 'really feel life perfect right isnt much ask hope everything would stay',\n",
       " 'saying cut everyone life feel important find comfort solitude meditation working project alone',\n",
       " 'feeling act god work life amazing feeling',\n",
       " 'feel like bird flying air carefree manner',\n",
       " 'revise reply mind make sure reply sound appropriate enough person receive reply feel offended',\n",
       " 'felt sad friend mine died felt something irrevocably gone away',\n",
       " 'died would alex matt feel regretful coming visit',\n",
       " 'feel educating family supporting educationg mama papa key',\n",
       " 'sure lost feel like everyone hostile toward hate feeling',\n",
       " 'feel like boring sewing make since easy nothing else say fabric usage',\n",
       " 'always liked use original fragrance freshen lightly scent underwear drawer feel gorgeously glamorous girly',\n",
       " 'feel like talented young man feel talented work',\n",
       " 'feel reason apart others life help become something push succeed successful happy',\n",
       " 'feel pretty mellow far whatever healing wounding process may getting underway',\n",
       " 'wonder sometimes whether added antagonism misunderstanding many people towards u feel reluctant wholeheartedly support traditional armistice day remembrance',\n",
       " 'leg would feel shitty mile would come around like always',\n",
       " 'know unfair reaction run way explain feel shaken best come right',\n",
       " 'seriously feel blessed support home amazing',\n",
       " 'feel abused maligned mostly tired nervous feeling anticipating danger',\n",
       " 'feeling pretty restless right typing',\n",
       " 'admit hilarious e card seriously exactly feel stressed feel moment could start hy',\n",
       " 'wrote last year feeling dull inarticulate normal',\n",
       " 'id kick gear feel irritable motivation ever',\n",
       " 'feel child innocent feeling illustrating',\n",
       " 'satisfaction feeling longer supporting contributing looter driven consumerism made walking corpse america revered younger',\n",
       " 'spend vacation obligation headache feeling like emotional blackmailed three place',\n",
       " 'feel herpes coming would surprised point make checkup clinic wednesday',\n",
       " 'feel fucked like everyday life',\n",
       " 'ive worked really hard year try make child class feel like valued',\n",
       " 'feel like bitchy time upon retrospect think trying shake',\n",
       " 'still second guess still terrible time making definitive decision certain truth know feel assured truth',\n",
       " 'feel like egg benedict something equally delicious',\n",
       " 'feeling inspired summery element favorite past time beach bummin',\n",
       " 'feel smiled love even gorgeous',\n",
       " 'make arcade simple purpose try make feel absolutely comfortable physically emotionally practically absolutely',\n",
       " 'feeling eager hopped tube ride eye london',\n",
       " 'go online see friend talking another one talking feel ignored feel unloved',\n",
       " 'monitoring say anything ever come across blog feel offended please dont stop',\n",
       " 'feel like weird cancer one time',\n",
       " 'want feel safe well maybe maybe there small chance feel joy dream come true',\n",
       " 'also think puzzling particular administrator singled praise ability get student read feel ssr time productive use class time',\n",
       " 'tried fill befriending people knew using didnt care needed feel accepted even complete loser',\n",
       " 'remember feeling another cramp also ignored',\n",
       " 'hope feel mellow well fed well slept peace within external world',\n",
       " 'also learned take lot effort positive thinking break tear feeling exhausted guilty better mom',\n",
       " 'feeling awful hung friend new baby day',\n",
       " 'feel suffering really feel pain',\n",
       " 'go sleep feel giving precious time something else life',\n",
       " 'feel like neglecting beloved mom blog',\n",
       " 'shalt say co din feel thing wrote hw keen xxx',\n",
       " 'feel terrified like edge precipice staring ahead',\n",
       " 'feel totally listless exam come gone whole five month front uni free time',\n",
       " 'feel furious right life advocate tell live die lobbying supporting politician sympathic view',\n",
       " 'still paying attention feel distracted',\n",
       " 'started third block feeling hot cold tingly time knowing still five hour examination ahead idea would good',\n",
       " 'hesitant make suggestion feel outcome would sincere',\n",
       " 'feel terribly fond majority precise time',\n",
       " 'feel gaining control damaged good aspect personal security',\n",
       " 'bombed first interview left second interview feeling pretty fan freaking tastic',\n",
       " 'feel advise dad whose child soon become teenager cool pull kid high school pick smelly jalopy plant coming window',\n",
       " 'would feel lucky call material kit site mine beautifully curated',\n",
       " 'blood proved reason feeling lethargic rubbish low iron prescribed iron tablet',\n",
       " 'mind feel like mind dangerous life',\n",
       " 'feel like love everyone least compassionate toward others',\n",
       " 'feel like doesnt capture beauty lovely polish',\n",
       " 'feel like lost main root feel le secure emotionally financially socially',\n",
       " 'feel like bite bullet every time think feel stressed fully supported decision',\n",
       " 'id terrible nightmare feeling little disturbed',\n",
       " 'didnt want walk passed case customer feel disturbed',\n",
       " 'want sufferer able find hope battle help feel alone',\n",
       " 'feeling exceptionally reluctant go school tomorrow even though monday timetable pretty good',\n",
       " 'festive feel delicious wheeeeee great night',\n",
       " 'looking forward beaten feeling like disappointment husband emotional pain',\n",
       " 'feel like almost convinced going pattern',\n",
       " 'also wear wearing dress make feel slutty feel like antique underwear obviously little bit edgy maybe little bit little bit',\n",
       " 'feel perverse pride self control managed stay ordered reach tempting human flesh close u',\n",
       " 'feel impatient easily annoyed outraged blatant defiance seems olivias prominent characteristic day',\n",
       " 'positively giddy kid left morning last official class year feeling little sad',\n",
       " 'feel supportive also cant help feel jealous',\n",
       " 'mainly like text feel like much clever written word rather spoken',\n",
       " 'seriouly feel respected dont privacy ordered around',\n",
       " 'guess would feel like joseph walt trusting care mother finance six month died time want defend self god make quiet',\n",
       " 'warming starting feeling little lethargic',\n",
       " 'feel excelent sometimes there nothing especially since really keen video game anymore watch bit anime movie there got life',\n",
       " 'wonder master feeling r wanting eager please master could much enjoy attention wrong desire return affection',\n",
       " 'feeling rather sentimental right say feel lucky max mom',\n",
       " 'make show feel isolated crowd ill know wrong anti social feeling',\n",
       " 'ive learned turn emotion often find feeling completely blank mother cry continuously suicidalness',\n",
       " 'understand may feel youd rather bit vulnerable homeless london precise way',\n",
       " 'finally stop feeling listless like waste space',\n",
       " 'know feeling agitated side effect high dose',\n",
       " 'always spend money mean feel dissatisfied exit store',\n",
       " 'feel kerry didnt supporting civil union gay equality',\n",
       " 'finally left feeling judged ridiculed intelligent',\n",
       " 'starting feel bit insulted stranger',\n",
       " 'many day feel hopeless today light end yellow brick road shining little brighter',\n",
       " 'see woman wearing boot feel envious want curse',\n",
       " 'feel feel tell together apologize make keep loving bit bit',\n",
       " 'go say feeling impressed youre naomi klein right',\n",
       " 'began feel sens dull cold black unconsciousness came',\n",
       " 'suspect feel le fond private',\n",
       " 'honoured young woman felt comfortable enough ask kind faux hawk thing going back must looked dykey enough feel safe talking',\n",
       " 'wonder cast caveman told perfect part feel insulted complimented',\n",
       " 'feel convinced plus many diverse price tag feel sure everyone come fund plot lighted relatively economically',\n",
       " 'stopped feeling exhausted href http provokingbeauty',\n",
       " 'hand bead consciously breathing consciously working feel calm list thing accomplish afternoon',\n",
       " 'always feel intimidated people especially always compare people ever since young',\n",
       " 'started feeling hostile checking hemorrhoid',\n",
       " 'love wearing new shoe feel glamourous get pair designer shoe love box trimming come',\n",
       " 'know largely fact feeling romantic sexual successfully hidden',\n",
       " 'love feeling something warmly hugging feeling precious small precious someone something',\n",
       " 'became dismayed studied people wearing started feeling like though outfit gorgeous bought way',\n",
       " 'dont want wax draw anything need unibrow maybe get rid spare hair creeping toward eyelid feeling brave',\n",
       " 'feeling lucky width li style border px list style outside margin px px',\n",
       " 'recall high school feeling longing watched olympic runner feel st',\n",
       " 'woke feeling confident watched bodypump dvd gather coaching tip compulsory cue',\n",
       " 'didnt say strong feeling always make skeptical first',\n",
       " 'want talk limited time phone current arrangment feel hesitant bring',\n",
       " 'beginning feel there good chance might pas',\n",
       " 'feel like little control help sweet pea better know ahead',\n",
       " 'feel like receiving end violent attack',\n",
       " 'feel worthwhile document people familiar batch file',\n",
       " 'feeling especially thankful many small blessing life right',\n",
       " 'hoping weatherman right forecast stay home dont venture rain tomorrow feeling kind creative',\n",
       " 'feel like edge microcosm one awkward moment missed party id outside',\n",
       " 'learnt nothing else last two year best feel way trusting instinct',\n",
       " 'feeling also blossoming eager anxiety',\n",
       " 'always want nemo side sleeping without feel weird even though doesnt happen often get',\n",
       " 'feel session useful gave tool need move forward life',\n",
       " 'feel selfish bringing loneliness child know parent newtown grieving lost baby',\n",
       " 'took away disappointed feeling paining gave heart heal lord one love never betrayed never lose loyalty even loyal',\n",
       " 'could feel frantic need need make',\n",
       " 'feeling overwhelmed responsibility teacher someone trusting precious gift honor',\n",
       " 'feel frustrated new music new lyric clearly nothing',\n",
       " 'thought going talk try work thing shocked find steve decided wanted thing broke feeling unloved',\n",
       " 'wouldnt beared witness incredibly well spoken bouncer making emo kid feel completely unwelcome',\n",
       " 'tend stop breathing feeling stressed',\n",
       " 'smoker year quit week ago right finished book cant believe free feel knew quit terrified life without cigarette',\n",
       " 'feel like insecurity good thing first started writing pictured',\n",
       " 'crave fall submission feel submissive least',\n",
       " 'feel irritated pissed even like someone wake moment edge falling deep slumber',\n",
       " 'made work feeling little groggy',\n",
       " 'want love feel like sort hindrance thats keeping loving',\n",
       " 'feel fond ok second thought really sensitive spelled everything',\n",
       " 'ill get round quarter feeling hopeful one',\n",
       " 'starting feel unwelcome life people already tell',\n",
       " 'feel absolutely fantastic hope baby',\n",
       " 'watched snow fall accumulate conifer tree shoveling shirt sleeve feeling vigorous',\n",
       " 'love feel passionate living dream gotten taste feel like nothing stop',\n",
       " 'play rain squeal glee feeling mud squishing toe enjoy pretty much anything take place outdoors',\n",
       " 'feeling humorous put cold caller hold',\n",
       " 'busy stuff never blog thread make feel miserable',\n",
       " 'feel energized curious life god potential give something back society finding someone heart',\n",
       " 'feel privileged also lot work',\n",
       " 'pretty happy little nauseated side feel thrilled',\n",
       " 'close eye hear pitiful wailing sound cry taste salty taste tear feel anger hurt saturating heart',\n",
       " 'sure folk virginia florida handful swing state agree feel put upon insulted constant barrage',\n",
       " 'feel like putting innocent man death row',\n",
       " 'sure else help feel smart',\n",
       " 'begin feel every waking moment devoted work',\n",
       " 'feel longing sadness see family child',\n",
       " 'feel distinctly called clermont focus little one seem naughty',\n",
       " 'hope feel glad gave many thing including memory cherish',\n",
       " 'feel project clever useful enough figured would start sharing instructables wrote first one weekend',\n",
       " 'continued think along line probably would done dish anger got wed fight feeling completely abused',\n",
       " 'didnt feel especially nervous finland landed paris little unsure would ahead u thought st grade student janne suominen',\n",
       " 'feel envious kid certain moment',\n",
       " 'feeling like pretty crappy mom',\n",
       " 'feeling pissed aac feeling kind miserable frustrated life whole week',\n",
       " 'scared anymore fine feel terrific surgery',\n",
       " 'feel caring person attract caring people life',\n",
       " 'left feeling quite embarrassed say nothing new',\n",
       " 'feel unwelcome place buti cant decide scared anything ok situation staying dead end situation afraid thing get worse',\n",
       " 'may may cried thanking making child feel special loved',\n",
       " 'really want go buy yardage art gallery play feel amazing',\n",
       " 'feel like shes losing sense self adapt think loyal',\n",
       " 'feel burdened several loved one miss big kid havent seen since friday',\n",
       " 'feel still really low abdomen',\n",
       " 'feel like welcomed tight knit family make sure feel alone ever',\n",
       " 'usually use smaller lego however year student fine motor delay want student feel successful',\n",
       " 'get exercise feel like something worthwhile meantime',\n",
       " 'feel like life rich fulfilling know people look way live feel misplaced pity',\n",
       " 'feel blessed amazed yes excited',\n",
       " 'try get least minute day five day week though known skip workout feeling particularly lethargic lazy',\n",
       " 'feeling beaten sick utterly devoid hope ever life want',\n",
       " 'feel hesitant comment want add pileon seems clear involved learned past experience interested applying learning future project',\n",
       " 'feel quite passionate communion tremendous importance personally theologically',\n",
       " 'got feeling brig sincere strong desire help others become successful financially also building strengthening relationship christianity',\n",
       " 'feel like ive fake feeling lot often would liked',\n",
       " 'feeling energetic decided going bike rest temple',\n",
       " 'happpy get good result field academic athletics',\n",
       " 'dont know want work always something make feel stressed anxious work whatever job may job require sort rule pressure',\n",
       " 'id pop chair feeling like something worthwhile',\n",
       " 'really hoping theyd get far enough ahead u could feel like navigating delighted punching second control headed onto trail wood',\n",
       " 'feel like normally would angry thats actually think could never beautiful size',\n",
       " 'wonder many people feel like perspective think sake without wanting turn result crappy work',\n",
       " 'feel indecisive whether feel book huckleberry finn censored',\n",
       " 'known like kamiki kun laugh nozomi feel unpleasant knot stomach must think fool nonchan',\n",
       " 'made choice start recognizing feeling unloved kick choose keep persistence level allowing old reaction shut',\n",
       " 'feel like hated celebrated cant wait till day say made',\n",
       " 'still feel funny writing like maybe call spirit guide really observant cheerleader something',\n",
       " 'would rather feel nothing feel surprised find life depressing grey unrewarding',\n",
       " 'get really sweaty episode stomach feel really funny like free falling',\n",
       " 'learnt much wonderful world beaubronz feel lovely tanning brand fit perfectly latest mantra stolen boudoir lash mother asma docrat',\n",
       " 'feel rebellious particularly like watching romcoms get feeling may pretty good writing',\n",
       " 'didnt feel welcomed first entered morris quickly changed left feeling happy',\n",
       " 'feel like care bit heartless',\n",
       " 'hate chemo thought toxin washing every single cell making feel horrible make cringe',\n",
       " 'feel honoured hosted series talented',\n",
       " 'love feel threatened around little',\n",
       " 'feel reading allthingsbucks blog brought tear eye lump throat feeling worthwhile thing upset shouldnt write lame blog',\n",
       " 'feeling determined didnt take long start nomming naughty stuff',\n",
       " 'feel honored many wonderful artist display work public see',\n",
       " 'remember fully stressed fun feel could lively',\n",
       " 'feel dazed href http twitter',\n",
       " 'always feel like ive assaulted pic',\n",
       " 'thankful everything seems working wrap week new job also feeling pretty lucky people life',\n",
       " 'feel selfish talk anyone else thyroid want think dramatic whiny really hard understand yes someone look fine still feel terrible',\n",
       " 'admit worried feeling isolated work cubicle pretty much unless someone need',\n",
       " 'feeling like life fairly sweet',\n",
       " 'going clean slate unilaterally forgiving feel wronged someone love intentionally carelessness thereby time forget perceived insult abuse',\n",
       " 'feel like year teach get passionate job find love kid want try even harder',\n",
       " 'one people bury feeling anger second giving sweet smile even pain anger',\n",
       " 'knew holy spirit work plus feel divine gooooood way like massage reassuring',\n",
       " 'feel though ive reached point career highly respected',\n",
       " 'make light sometimes feel really awkward small group one one conversation',\n",
       " 'ive lot good day feel fabulous lot energy lately ive also bad day feel gigantic slow clumsy',\n",
       " 'also feel like google hated seo know',\n",
       " 'didnt get wink sleep night continued feeling fabulous next morning',\n",
       " 'feel like feel mistake time fucked sleep take',\n",
       " 'love sliding nice big throbbing cock feeling gorgeous body man',\n",
       " 'found novel position feeling bit uncertain stock market rally',\n",
       " 'feel like judging want seem like needy girl know',\n",
       " 'still feel little dazed sort disbelieving feeling oh god',\n",
       " 'feeling super excited week seem flying getting closer closer due date',\n",
       " 'turned page feel like way getting back irresponcible year carefree college',\n",
       " 'favourite choice book dvd u uk feeling generous limit something like',\n",
       " 'feeling energetic alive happier long time',\n",
       " 'feel world class player benzema mould would fantastic',\n",
       " 'feeling terribly burdened impending anxiety trying keep eye prize',\n",
       " 'feel could unpleasant layered love healing forgiveness expectation thing turn well',\n",
       " 'feeling gloomy completed nothing though supposed complete many thing',\n",
       " 'working amount would like feel like lifestyle change successful far',\n",
       " 'love porn industry feel satisfied fulfilled working say really bring big buck',\n",
       " 'overhear victory tune geek ringtone feel triumphant',\n",
       " 'love child literature author feel need dumb thing kid',\n",
       " 'soo quiet mixture sleeping well feeling bit isolated big group',\n",
       " 'feel greedy money hungry absolutely',\n",
       " 'feel passionate certain topic love backing position actual knowledge fact instead relying solely opinion',\n",
       " 'feel like today way suffering exam day open book everytime went home',\n",
       " 'woke morning hike feeling jubilant',\n",
       " 'feel like little kid whose mom proud touched soccer ball game',\n",
       " 'feel miserable inside outside like',\n",
       " 'must find way accept limitation older without feeling held back resentful',\n",
       " 'feel incredibly charmed people life exciting amazing chapter thing',\n",
       " 'feel wronged judge people make time however also found actually life need responsible action people around u',\n",
       " 'know feeling stem part accepted mainstream importantly community seek belongingness',\n",
       " 'really like special edition really feel special song',\n",
       " 'feel must blog constantly loyal fan baker thia sandwich scruncher course mini rex',\n",
       " 'currently feeling way fucked mother tongue paper',\n",
       " 'feel like sweet carby yet low glycemic meal breakfast often dessert',\n",
       " 'feel opportunity return moz god gracious gracious way giving heat desire despite self doubt uncertainty past',\n",
       " 'feel really lucky found resource always felt answer needed asking',\n",
       " 'keep running hill fitness wise feel fine along foot calf starting hurt also begin tire',\n",
       " 'always sensitive every sense feel like assaulted drag away darkness',\n",
       " 'supposed ought feel thankful adding sarcastic edge age',\n",
       " 'couldnt help feel totally distraught utterly helpless lorena kidnapped tortured almost death band enemy desperate freedom',\n",
       " 'feel unfortunate mister magnum sound cheer travelling well long period race',\n",
       " 'feel tortured tragic enough without importance sparkle',\n",
       " 'feel selfish thinking way feel lonely time',\n",
       " 'think day chatted mom amp also feeling horny masturbate',\n",
       " 'feeling pretty stinkin shitty horrible reviewer',\n",
       " 'dont know started feel weird pressure largely silent audience falsely inflated sense importance expressing ever articulate opinion said audience',\n",
       " 'woke nap feel extremely agitated grumpy',\n",
       " 'ive studying really hard discovering pretty word never crossed mind portray exact meaning feel like ive missed lot',\n",
       " 'feel lonely work social bird usually school',\n",
       " 'love comment feel free post one',\n",
       " 'feel intimidated great woman family tree',\n",
       " 'truly feel lot positive thing help condition worker family kid',\n",
       " 'think may reason would want fly back uae oblivious conflict plague conflict feel helpless resolving',\n",
       " 'saw video cena kissing maria surprisingly didnt feel like hated',\n",
       " 'feel bit obnoxious definately weather',\n",
       " 'say pressing torso siwons bringing face close enough feel siwons agitated breath',\n",
       " 'indifferent tell feeling word treasured ever since feeling start bloom one moment want keep',\n",
       " 'feel he casual entire future',\n",
       " 'still feeling strong missed couple lift',\n",
       " 'sat couch several hour feeling pretty low',\n",
       " 'checked long time ago say happy way back feeling contented everyone everything around',\n",
       " 'write something big happened like fun trip milestone time write tell feeling sweet baby snuggle growing personality',\n",
       " 'hate expectation must need man life feel worthwhile valued',\n",
       " 'feel loving kindness allow u think feel conscious interact various thing body mind',\n",
       " 'feel completely blessed part group',\n",
       " 'type doesnt use moisturizer skin oily product designed contain ton moisturizing ingredient make skin feel lovely without oil',\n",
       " 'afraid environment make feel relaxed cause',\n",
       " 'feeling overwhelmed want physically shake everything way would spider shirt',\n",
       " 'say little piece feel agitated watch discussion race style color font family georgia serif font size px line height',\n",
       " 'feel cant touch said love bit much wont deny broke heart cant find crush dont come back home',\n",
       " 'feel little frustrated ache longing settled heart weariness life slipped around shoulder like unwelcome friend',\n",
       " 'even remember trying last year feeling crappy nowhere near closing',\n",
       " 'broke uncle radio player accidentally feared going cut going house well playing',\n",
       " 'feeling conflicted whether follower christ celebrate ever popular pagan originated modern day holiday',\n",
       " 'feel carefree weightless yet worried grounded time',\n",
       " 'feel sincere repentant past opposition civil right',\n",
       " 'one point put son daycare mom constantly made feel like terrible parent',\n",
       " 'thing list feel super guilty relax',\n",
       " 'feel uncertain motif feel inbalance committment process counselling reconciliation',\n",
       " 'feel like go emotion angry',\n",
       " 'ive much training grammar language reading something written like kind feel like assaulted',\n",
       " 'feeling insulted everyone comparing sneha',\n",
       " 'still wake every morning feeling blessed unable believe lucky enough able call amazing family mine life',\n",
       " 'feel leader country depict people country love god hope one thought way supportive like george w',\n",
       " 'feeling really horny afternoon one fulfill sexual desire bed creative thought help forgetting hands aahhh work like magic',\n",
       " 'know scone must food determined live frugal lifestyle without feeling deprived',\n",
       " 'feel horrible helplessness make thing better feel like kill inside',\n",
       " 'taking picture house feel far messy post photo online ill clean bit post',\n",
       " 'feeling every bit spiteful vindictive bitch time',\n",
       " 'got feeling look eye sincere',\n",
       " 'believe feel nervous father reassures nothing nervous make nervous',\n",
       " 'feel uptight day complete he around feel right little nervs dream date thing pursue wedding always dream mine day min',\n",
       " 'think would come fast would come suppose feel cranky today',\n",
       " 'start feel agitated lacking patience right cranky',\n",
       " 'know easy twist thing create explanation still sure one help feel little le mad',\n",
       " 'feeling rich yup know blessed',\n",
       " 'didnt tell didnt want feel afraid',\n",
       " 'love medium coverage sometime feel put ugly picture',\n",
       " 'feel though little neglectful fellow blogger',\n",
       " 'sort hate glass make eye look small since huge eye going quite upset hoping bigger frame make feel le paranoid',\n",
       " 'cant believe moment feel useful washing dish',\n",
       " 'feel distressed music mind rewrite fma op',\n",
       " 'feeling quite lonely monday half term',\n",
       " 'feel really socially awkward dont like get meet new people thing group adventurous',\n",
       " 'admire athleticism feel like would entertained got watch severely shape people participate olympic event',\n",
       " 'feel horrible feel horrible made worse fact havent gotten workout',\n",
       " 'would hate bit imagine secretary feeling irritable day eh',\n",
       " 'feel like take time care flower wonderfully loyal hive',\n",
       " 'know never see place would break heart thick layer moss encased thick shell muffling sharper feeling pleasant painful',\n",
       " 'truly feel contribute blog world especially regard educating writer valuable',\n",
       " 'feel like would clever get ton thing time',\n",
       " 'quickly trotted added feel embarrassed ask hoping would enter kind conversation',\n",
       " 'hated got drunk whole next day spent sleeping feeling groggy',\n",
       " 'love discussion class feel passionate feminist issue go write feel though faking',\n",
       " 'would want welcome home end feeling mommyhood threatened inability breastfeed baby',\n",
       " 'feel agitated result pleasant opposite calm peaceful',\n",
       " 'feel honored student come class',\n",
       " 'often tell want attention especially feel horny want good sex hour',\n",
       " 'get anxious feeling feel xox soon itll real thing already need flawless',\n",
       " 'truly feel somehow enough hate get mad',\n",
       " 'remember feeling uncertain young especially became teenager',\n",
       " 'feel cant get far enough away feed melancholy long enough would wither die',\n",
       " 'want enter defiance coming different culture feel offended allowed',\n",
       " 'feel agitated restless edge quite often',\n",
       " 'feel uncomfortable using word awesome idea actually',\n",
       " 'feel like lead gentle kind',\n",
       " 'feel like actively hated every single second rather borne',\n",
       " 'feel violent tug eye socket',\n",
       " 'believe displayed deep emotional yearning semblance normality peace since appears dancing arab feel threatened fully armed soldier',\n",
       " 'feel going get messy get fixed back road',\n",
       " 'feel frustrated easier day remember blessing research learning trial error hard success patience give far better garden long run',\n",
       " 'sick cold amp feeling well wondering would even able patience go whitleys month photo shoot',\n",
       " 'tempted feel little bitter saw',\n",
       " 'feel kind insecure anyways back doha',\n",
       " 'grateful longer feel frantic urge fix emotional upset around',\n",
       " 'feel quite strongly student punished due well badly faired compared completely unrelated group people',\n",
       " 'want job permanent feel like valued',\n",
       " 'care someone emotional spiritual intellectual progress point feel like exert progress important love',\n",
       " 'actually feel comfortable speaking others japanese feel pretty happy current progress',\n",
       " 'learned different thing like family plan arrangement even real pain feel loved one pass',\n",
       " 'feel least dating would vain',\n",
       " 'like keeping record life written form picture feel like even important baby',\n",
       " 'feel unhappy miserable wretched glum gloomy forelorn heartbroken',\n",
       " 'really feeling horribly irritable little bit depressed',\n",
       " 'feel honoured part series join wonderful talented lady celebration womanhood',\n",
       " 'feel confident team right four hour ago',\n",
       " 'simply said sorry got car got house feeling restless',\n",
       " 'ive feeling bit paranoid like really noticable everyone see',\n",
       " 'feel fabulous birding weekend everyone',\n",
       " 'bus stop hear squeak baachan trolley feel little paranoid',\n",
       " 'feeling rushed like planned certain thing summer longer',\n",
       " 'try breathe feel frustrated breathe calm desire',\n",
       " 'feel language warning pretty benign open suggestion improve',\n",
       " 'suddenly feel lot smarter talented last night',\n",
       " 'get actually feel like everyone buy smell amazing',\n",
       " 'feel though cant bear motion quilting even though idea delighted day ago',\n",
       " 'feel heartless feeling bored believe love anymore',\n",
       " 'ended shoeless making feel even vulnerable slowing',\n",
       " 'highly critical dennis covingtons book article must admit say something merit discussion noted closing chapter feeling god dangerous business',\n",
       " 'refers course though cant help feeling somehow ironically retrospect loudons son kate mcgarrigle rather talented rufus wainwright',\n",
       " 'feel like captured sweet look',\n",
       " 'envisioned intended feeling unsure whether got vision intention right',\n",
       " 'feel like need cute picture share',\n",
       " 'feel really angry sometimes love god havent enough',\n",
       " 'hope certain people attend important thing life still come back blogging feel missed blogging',\n",
       " 'feel comfortable staying house feel relentless asked something tired almost time bored without money',\n",
       " 'guess feeling generous today decided offer fabulous deal popular print moment',\n",
       " 'begin feel unpleasant anime fandom general',\n",
       " 'feeling really carefree today really carefree',\n",
       " 'comfortable relationship wont feel slutty one person amount would single',\n",
       " 'feel troubled ongoing relocation front door',\n",
       " 'asked making feel fabulous said healthy family healthy live free country',\n",
       " 'woke feeling incredibly content amp optimistic today however woke terrible cold complete lack energy',\n",
       " 'feel gulam ali even talented many classical singer',\n",
       " 'go guy someone want genuine guy would treat right spend quality time make feel special',\n",
       " 'think feel passionate favorite workout gear love seeing people love need live without hoping share favorite comment',\n",
       " 'always notice even though fabulous hiding according rest world feel keenly greatly distressed',\n",
       " 'feel shaken guilty better mother shielding offspring health problem',\n",
       " 'feel like greedy little traitor looking looking among cover hey little snotface take',\n",
       " 'feel like rude as hole hookah',\n",
       " 'would feel differently believed leader perfectly truthful',\n",
       " 'cant help feel longing outside feel rain skin sticky tree droppings foot',\n",
       " 'made feel like fault control husband violent behavior even believed existed',\n",
       " 'feel like important reveal lesson youve learned tough time along one youve learned awesome time endeavoring build audience honesty authenticity',\n",
       " 'feel disgusted need act cute like action gwiyomi',\n",
       " 'said feel incredibly thankful whole',\n",
       " 'feel inspired eager press sun shine',\n",
       " 'hoping walk thigh feeling friendly today',\n",
       " 'feeling nervous sure like anyone else would position',\n",
       " 'older might feel frightened spending time left alone',\n",
       " 'must say feel accepted something poisoned chalice',\n",
       " 'feeling generous ill give story well',\n",
       " 'like person become feel much carefree liberated time dont recognize',\n",
       " 'feel numb right thought feeling angry dont know dont feel anything sad happy angry dont know feel anymore',\n",
       " 'feel truly impatient taking long',\n",
       " 'want say want feel come bitter angry',\n",
       " 'know feel like face irate customer',\n",
       " 'always people life gone way put trip make feel completely moronic worthy enough',\n",
       " 'prep another sleepless night help feel ashamed feeling way',\n",
       " 'still feel shaky worst hit area damage destruction complete',\n",
       " 'throw ocean feel would missed something career win oscar',\n",
       " 'feel privileged narrated erik prince autobiography civilian warrior inside story blackwater unsung hero war terror released monday nov th',\n",
       " 'used feeling dependency neediness needy least wasnt prior recently',\n",
       " 'feel mccarthy place yet career really consistently humanize character balancing fact supposed funny',\n",
       " 'feel nervous going back america knowing expect transition like',\n",
       " 'love little boy sometimes feel inadequate parent',\n",
       " 'keep thing predominantly fix function arranged right create style applying twelve month previous ingredient feeling much perverse usual',\n",
       " 'havent worked today feel like going feel ive stressed work life week bad',\n",
       " 'thought well respected recognized mother autistic boy would perfect guest blogger message feel passionate',\n",
       " 'ive coursing cycle happiness feeling mellow feeling really depressed mellow back beginning',\n",
       " 'feeling amazed california ness moment currently sitting pool drinking wine spritzer nagalene connecting via google wifi using stellarium figure star',\n",
       " 'probably go back washington permanently baby least although torn whether want yes bleu know feel still completely convinced',\n",
       " 'also feel strange sense guilt people arent similarly situated move different neighborhood',\n",
       " 'feeling agitated pour brandy coffee',\n",
       " 'feel way considering people pretending way sincere',\n",
       " 'feel give even period feel detail sharpe certainly good enough read cover cover',\n",
       " 'feel like reached plateau buying much use feeling satisfied wardrobe personal style',\n",
       " 'learned hard way three hour feel like month friendly people stop talk',\n",
       " 'feel like amazed degree biology blown away',\n",
       " 'feel hear vibration gentle doesnt bother',\n",
       " 'pretty certain use name middle name girl special feeling connection poppy lovely',\n",
       " 'feel something wonderful going happen',\n",
       " 'getting since feel accepted mark beast shot thought going kill screamed loud didnt want die',\n",
       " 'try let ignorance get energy feel important sometimes ill engage little light debate try broaden view world',\n",
       " 'feeling lousy may dismiss gorgeous day feeling bright cheerful dreary day becomes tolerable',\n",
       " 'going assume moral obligation find way make sure feel pretty damn rich every day',\n",
       " 'thought would sweetly cover really feeling say something pleasant bad thing done whatever',\n",
       " 'ironic feel dont feel anything special still smile broadly whenever tell something',\n",
       " 'really like good moral nice respectful like feel like still belong brad couldnt picture eric he innocent',\n",
       " 'sense wat let feeling unsure',\n",
       " 'extremely good friend someone course feel reluctant extent favour someone',\n",
       " 'sleeping room woke middle night think could hear noise see shadow moving felt someone house',\n",
       " 'sometimes feel resentful come life time',\n",
       " 'began feeling amorous towards everyone stage towards people around experienced moment',\n",
       " 'sometimes feel disheartened realise far culture',\n",
       " 'overwhelmed feeling blessed pray fear last time say happy birthday',\n",
       " 'feel popular also little pressure keep exactly need',\n",
       " 'feel horrible cancel one best guy friend trip stressing babysitting hour got cut afford',\n",
       " 'climbed mountain made way village people stared child looked frightened ran away everyone came across asked way make feel unwelcome',\n",
       " 'dont feel inhibited work problem',\n",
       " 'took chance kept cry hope might feel benevolent',\n",
       " 'done hope inspiring time looking solace people rather god proof maybe something good feel horrible',\n",
       " 'feeling melancholy back school stuff today',\n",
       " 'begin doubt stomach clench heart race feel fearful',\n",
       " 'liked ro intimidated anna wealth anna feel guilt superior wealth enjoys',\n",
       " 'feel like really cranky school day',\n",
       " 'feel like try stay faithful possible perceives real event happened mountain',\n",
       " 'walia feel suspicious tarun ban',\n",
       " 'feel like hostile toward others fail nice',\n",
       " 'feel glad little blog share danger see path ahead',\n",
       " 'even dare say biggest stiller vaughn hater still could get enjoyment movie feel annoyed performance character',\n",
       " 'make punjabi lobia masala mostly winter feel protein punch spice rich recipe winter warmer one',\n",
       " 'truly terrifying still feel shaken uneasy',\n",
       " 'begin feel burdened thing amp long empty',\n",
       " 'write space feel quite nostalgic mind race back good old day used daily park learning memory',\n",
       " 'sit tonight pensive tense feeling little fearful',\n",
       " 'want someone know know thought feeling want keep loyal faithful reader',\n",
       " 'feel joy anticipation divine right',\n",
       " 'feeling overwhelmed asked bqff keep house theyre ready loaded dont feel behind',\n",
       " 'feel thrilled able investigate personal mythology around subject',\n",
       " 'feel creative right make happy',\n",
       " 'could wear casual shopping trip feel fabulous without even trying',\n",
       " 'want others happy mean step back yet feel like allow happy deserve even deserve',\n",
       " 'limiting reasonably without causing greater injury sort physical exercise start feel horrible',\n",
       " 'would always feel amazed impacted year old subject',\n",
       " 'feel lucky live portland land delicious food',\n",
       " 'feeling pretty cranky morning stopping really made feel lot better',\n",
       " 'didnt feel cold fire every night',\n",
       " 'also feeling cranky main character scientist brother observing moon mention zero gravity',\n",
       " 'feel divine force strongly sometimes wonder agnostic atheist judeo christian fundamentalist feeling excitement heart',\n",
       " 'started feel discouraged thought one day',\n",
       " 'feel like maybe going stop loving maybe true terrible wife',\n",
       " 'already feeling sentimental time newborn wee sadly outgrown fave thrifted outfit',\n",
       " 'feel like ive innocent version one night stand',\n",
       " 'finish typing post realise ok longer feel annoyed angry even sad',\n",
       " 'refuse rate book publisher feel snobbish take say jeanette winterson cannot write essentially wish anything scope explore',\n",
       " 'feel petty even though thought arent real fleshed thought fluttering feel like kind thought',\n",
       " 'felt sad apprehensive angry vertigo left feeling uncertain',\n",
       " 'feel like ive got handle trusting instinct',\n",
       " 'feel complacent start thinking smart',\n",
       " 'admitted defeat asked half come back lake coz feel uptight already',\n",
       " 'missed month combined class pretty much bed ridden month semester feel really amazed able pas',\n",
       " 'put leg around wrap arm feel safe',\n",
       " 'feel like pretty enough like personality boring obnoxious',\n",
       " 'proud crafted something people care even enough click make feel wonderful',\n",
       " 'switched song one beginning make feel little melancholy fuck need',\n",
       " 'feel embarrassed talk time feel small moment like favor deserve given attention',\n",
       " 'sound entitled cant help feel disappointed even though already knew going',\n",
       " 'remember feeling husband felt would see people rude mom mom sweet self',\n",
       " 'feeling remorseful breakfast took diet pill',\n",
       " 'feel though concept lifestyle change rather weight loss beaten death really something believe currently experiencing',\n",
       " 'know next step longer feel lost',\n",
       " 'believe imagining would like act live front audience make feel joyful',\n",
       " 'thought maybe hand feeling funny touched hair totally clean forearm became sticky',\n",
       " 'hate moment completely feel perfect people around love suddenly disappear',\n",
       " 'remember feeling little jealous realized time together wasnt solely larger network social interaction ready progress got',\n",
       " 'known feel affectionate toward adore leonard cohen make like quite lot',\n",
       " 'feel impatient yet fully sure searching',\n",
       " 'tearful feeling unloved even though know',\n",
       " 'feel like everything ive nothing sincere bother wanted hurt even told',\n",
       " 'feel like much write got distracted home wednesday evening challenge therefore lost train thought',\n",
       " 'admit feeling bit intimidated challenge',\n",
       " 'think feeling vulnerable due stress buy new sewing machine printer',\n",
       " 'hear teenaged girl devastated pimple face morning prom feel devastated',\n",
       " 'woke beautiful sunday morning feeling restless miserable',\n",
       " 'dont need wear mask moment show feeling beloved without missgivings',\n",
       " 'turn head away even feel frightened',\n",
       " 'feel like go supermarket buy something totally delicious dinner money mother put account today',\n",
       " 'feel fine e terminando com eight day week um ano depois',\n",
       " 'feel vital full energy every day super positive',\n",
       " 'feel completely dissatisfied whole world human character inconsistent',\n",
       " 'mean would feel euan got hauled murder knew innocent',\n",
       " 'knew high school pretty fuckin chill say girl feel insulted threatened blog wrote would like apologize offended sorry',\n",
       " 'feel talented impacting thing end moment',\n",
       " 'find feeling happy feel good',\n",
       " 'feel bit nostalgic wonder passion writing blog time week gone',\n",
       " 'feeling particularly dangerous chocolate cookie',\n",
       " 'feeling ok always hand sits close',\n",
       " 'feeling quite mellow spite raging pm past day mean likely erupt little warning',\n",
       " 'feel like innocent victim feel win',\n",
       " 'actually thought would feel bothered since ehb woman ow spent quite bit time together didnt feel much anything',\n",
       " 'feel sincere wanting resolve grievance',\n",
       " 'feel hint beloved art nouveau era bracelet',\n",
       " 'mostly take stair occasionally feeling particularly lethargic number consecutive late night bow ease convenience',\n",
       " 'feel sort pathetic saying iphone internet tv must have let honest',\n",
       " 'guess understand concern help feel little rejected',\n",
       " 'laced shoe pounded feeling hot black pavement',\n",
       " 'male stupid first woman cry baby get feel really cool putting stupid men place',\n",
       " 'praying everyday feel convinced god called see',\n",
       " 'love everything learning feel really passionate design',\n",
       " 'feel brain damaged getting worst dis moment',\n",
       " 'feeling terribly adventurous plus family visiting cant completely neglect meaning going business usual',\n",
       " 'funeral friend killed car accident age',\n",
       " 'people really dont many proplems talking feel said love bitched last month vain',\n",
       " 'think writing really expressed intensity emotion one would feel losing beloved spouse',\n",
       " 'cant imagine agony folk feel waiting news sentimental thing',\n",
       " 'feel lethargic uninspired next morning go',\n",
       " 'feel need little romantic boost relationship',\n",
       " 'close friend intimate bodily relationship girlfriend started avoid didnt want talk',\n",
       " 'use elevated lexicon feel intelligent',\n",
       " 'feel lethargic lazy completely uncomposed dressed something like',\n",
       " 'feel director editor missed teachable moment tiphany make comment nice feel like everyone else',\n",
       " 'write anything feel passionate least genuinely interest',\n",
       " 'working hard shake feeling popular genre novel non literary fiction make book le legitimate le something read enjoy analyze',\n",
       " 'feel agitated empty missing something',\n",
       " 'realized ignoring better heartbreaking feel helpless',\n",
       " 'still feel little dazed high alarming since hour',\n",
       " 'feel like feed food touch love caring compassion',\n",
       " 'feel terribly ignored sweet email',\n",
       " 'feeling deeply offended big hurt feeling fact',\n",
       " 'feel romantic finally finish blog post',\n",
       " 'kinda steal joshua customer feel amused',\n",
       " 'feel thrilled presence eye feel belief peace sincerity',\n",
       " 'dontknow never feel way anyone else really cant without linus love never thought could ever love anyone went fucked relationship',\n",
       " 'feel like life practically perfect every way right every happy',\n",
       " 'feel like suffer produce something worthwhile',\n",
       " 'feeling creative see alternate version',\n",
       " 'feel like show change many country taken many country way making decision includes supporting increasing woman area life',\n",
       " 'feel like dirty trash bin street nobody really sought',\n",
       " 'make new friend process dont feel slutty lol',\n",
       " 'feel bit reluctant turn people',\n",
       " 'feel like look gorgeous curl instead making full transition ended getting extremely natural red lowlights bottom section hair',\n",
       " 'feel gonna start aching rainy season come next year',\n",
       " 'glad know reason recent lapse sanity still feel like want go violent rampage slightest inconvenience',\n",
       " 'feel high ecstatic normal feel like thousand mile drop unhappy excruciating',\n",
       " 'read one horrific sitting made feel ashamed world live',\n",
       " 'could feel sweet spirit happy helping',\n",
       " 'really love eating fresh fig feel delicate look much prettier ugly dried fig',\n",
       " 'watch hgtv feel like talented',\n",
       " 'never feel brave want believe order brave make conscious choice whether want brave',\n",
       " 'probably love handful friend always feel bit strange describing love',\n",
       " 'express gene dominant voice feel rather wonderful really writer poet carefree crazy',\n",
       " 'wonder jealous feeling discontent covetousnes',\n",
       " 'feeling low lately feeling hopelessness disturbing making tired sick entire living kind life',\n",
       " 'put hand scar covered chest feel half heart beating oh beating feel sweet rhythm remind alone',\n",
       " 'feel resolved yet somehow depressed',\n",
       " 'feel like acceptable favourite yet nowhere see terpene responsible flavour',\n",
       " 'feeling bit strange never felt ever really stop writing blog',\n",
       " 'ive gained wieght really would like lose pound feel like ive finally gotten acceptable happy place',\n",
       " 'feel book explains thing well easy use',\n",
       " 'still feel alone cant give anything call feel breathing keeping awake feel beating',\n",
       " 'feel loving presence parent daily even though physically dead almost two decade',\n",
       " 'read case son ignoring old helpless parent feel unhappy sad',\n",
       " 'feel humiliated body husband make advance towards reminds despite ra try take life still find sexually attractive beautiful',\n",
       " 'feeling seriously pissed something fantabulous utterly stupid',\n",
       " 'wish could say hey know died tomorrow wouldnt feel cheated life regretful didnt accomplish something',\n",
       " 'could look act like know lie feel smug know ness frankly way lazy',\n",
       " 'something tell girl finally feel brave enough share news',\n",
       " 'feel defeated like lion prey',\n",
       " 'excited hope personal u wont feel like rushed',\n",
       " 'surround bible verse help transcend space feel safe secure',\n",
       " 'know feel awkwardly hesitant return melbourne',\n",
       " 'feel little le gloomy little optimistic little better prepared face life throw way',\n",
       " 'wont lie little worried nervous feel inadequate job ill best thats heavenly father want',\n",
       " 'slough carapace crud enveloped past thirty odd hour feel invigorated finally ready face day',\n",
       " 'ive busy girl good type busy feeling really happy thing right loving new start glasgow',\n",
       " 'set mind wanting specific item needing specific event specific time find ill end spending want feel pressured constraint',\n",
       " 'written prayer journal morning meditating greatness lord psalm written closing may feel tender care today',\n",
       " 'feel like enough people age actually think pretty devastated come gone',\n",
       " 'get home laze around pajama feeling grouchy',\n",
       " 'started feeling really optimistic driven paper coz gonna teach meaning way leader',\n",
       " 'need best possibly even get feel listless study like right',\n",
       " 'drove u car part place terry feel like safe drive yippee',\n",
       " 'feel like even though dont buy society idea woman look like still constantly unhappy',\n",
       " 'idea feel beyond wanting beloved',\n",
       " 'want tell people first made feel want think gorgeous guy ever seen love people disagree want see truly wonderful',\n",
       " 'still feel like admission like popular show put category people kick puppy people steal ratty clothes back dickensian orphan',\n",
       " 'feel character little beaten comedy little bit smaller',\n",
       " 'feel everything around fucked everyone around falling piece',\n",
       " 'anyone another lovely day today weather running late life generally done art today yet feel deprived bit',\n",
       " 'blanked little lesson seamlessly jumped support without making feel stupid inferring kid',\n",
       " 'feel like smell scent taiwan quite frequently cute coffee shop bathroom',\n",
       " 'feel like one blamed thing',\n",
       " 'cant help feeling mad man',\n",
       " 'guess depends mood whether feeling sociable',\n",
       " 'think much time spent fun childhood stuff together family feel amazed',\n",
       " 'continued feel submissive continued aroused well',\n",
       " 'told didnt want feel uncomfortable',\n",
       " 'feel constantly battle like need continuously improve feel like nothing ever enough make feel chronically exhausted',\n",
       " 'feel like shy enormous pink flamingo man',\n",
       " 'feel like much unfortunate situation wasnt father great place',\n",
       " 'want show take care feel wronged staying',\n",
       " 'went ahead shooting afterwards guy asked go drink agreed knew rang tried work thing angry feeling stubborn',\n",
       " 'listening right feel like need want share little one despite convinced atheism somehow never fails make feel better',\n",
       " 'ive comfort eating still feeling rubbish havent bothered log there point checking food log yeah know',\n",
       " 'received first year result first year involved lot work pleased got result',\n",
       " 'feel like ive isolated regular relationship',\n",
       " 'also perfect girl friend always disappointment always feeling doubtful always putting hard time mood swing sudden outburst low emo mood',\n",
       " 'feel assured world around seems brighter',\n",
       " 'cant hide feeling feel glad',\n",
       " 'feel like pissed spend entire extra year school stupid biochem',\n",
       " 'ready cry feel sweet presence ruach hakodesh holy spirit room right',\n",
       " 'feel little pound lovely truly gift',\n",
       " 'woke monday feeling like crap blamed weather',\n",
       " 'didnt feel like anyone really hated noone new anyway managed think',\n",
       " 'random moment feel suddenly creative would love sit hear tick tick tick keyboard key thought spilled onto screen',\n",
       " 'feel nostalgic travel away country family friend dont like',\n",
       " 'found email scott dale reading frusterated much feel need post show world neurotic freak',\n",
       " 'smoothly hand twenty feeling smug interested',\n",
       " 'see thing would never done movie adaption feel read book would bothered',\n",
       " 'ive harden heart toughen skin order truly protect myelf feeling utterly devastated',\n",
       " 'feel like perfect time enlist extra help',\n",
       " 'know feel today part convinced making much difficult actually mehow casually remark april infield insider getting box never first place',\n",
       " 'feeling bit casual put plain tank top loose bottom got zara',\n",
       " 'think get caught nature busy feeling need fill moment industry sort occupying blank space effort chore',\n",
       " 'feeling fearful thing arent going go way want ex',\n",
       " 'honestly feel kind embarrassed bit guilty',\n",
       " 'said wanted give little sample writing denied feeling little generous today suppose share one little taste',\n",
       " 'feel bit rotten putting post teaching stone tag list blog really grumble groan subject honest',\n",
       " 'ive learned short journey thus far know body enough sugar fast food junk even though day far start feel lethargic',\n",
       " 'felt better thursday today friday felt good enough come work though still feel kind shitty foggy',\n",
       " 'need get touch want want feel mention much hate people caring',\n",
       " 'feel like failure parent add emotional rollercoaster unplanned c section well day feel like failed beginning',\n",
       " 'feel rather intimidated impressive background clinic general',\n",
       " 'secretly well guess secretly anymore feel insecure time want learn come common ground',\n",
       " 'need feel assured need feel secure',\n",
       " 'could genuinely feel loving toward someone without ever knowing dont act like',\n",
       " 'never seem get good foot feel crappy',\n",
       " 'want something give major orgasm make feel horny ill screw anything move',\n",
       " 'drove home aware feeling like called ask ok',\n",
       " 'feel guilty complaining life knowing people much worse',\n",
       " 'id feel completely lost without',\n",
       " 'feeling discouraged look remember achieve goal set always surprise success',\n",
       " 'tried explain lyme coinfections feel like guess could say horrible painful nightmare end',\n",
       " 'cherish feeling baby asleep chest amazingly sweet breath feeling give needed',\n",
       " 'feel weighing filling thought try homework help special olympics',\n",
       " 'love rainbow look going think feel really festive hope kid feel like suppose constant party classroom thanks tissue paper ball',\n",
       " 'would truly express utter gratitude thankfulness feel sincere gesture grateful',\n",
       " 'feel energized eager write tomorrow',\n",
       " 'feel respected notion feeling good thinking good someone become notion ensuring respect',\n",
       " 'feel ecstatic survived comprehensive exam never sure would survive pas survive',\n",
       " 'remember feeling violent disgusted oscar winner tell access hollywood',\n",
       " 'woke sofa feeling extremely agitated around pm',\n",
       " 'honestly think possible feel romantic love point',\n",
       " 'like listening hardcore sxe music one thing let feel rebellious chocolating spending till gone',\n",
       " 'feel time hand beloved signal agreement',\n",
       " 'even feel particularly loyal shell',\n",
       " 'feel ashamed readily turn aside',\n",
       " 'guess cant help least feel remorseful died horribly pretty sure matt wasnt cry cared',\n",
       " 'feel like smarter well rounded person',\n",
       " 'bopping around house yesterday singing possibly loud bit feel charming oh charming',\n",
       " 'came across exchange point feeling strong',\n",
       " 'really remember feeling wonderful oatmeal bath',\n",
       " 'feel today schedule aching pm backed mere hour sleep one sandwich tall espresso',\n",
       " 'could feel delicate pressure finger searching feel arm beneath course fabric',\n",
       " 'ive clawed time back still feel strong',\n",
       " 'walk whole distance sampled four five stretch came home feel charmed experience',\n",
       " 'wake morning voice throat feel ok afternoon scratchy sound like marge simpson night bad throat sore whisper',\n",
       " 'going sleep still feel triumphant',\n",
       " 'one guest room current house supposed craft office closet honestly never use since stair cold hot room feel get messy',\n",
       " 'also niggling feeling getting complacent ability',\n",
       " 'feel ease sweet communing teach far little know',\n",
       " 'feel combination slightly superior sitting virtual event feel another day office',\n",
       " 'remember feeling terrified ever felt entire life still affecting ive never thought accounted trauma',\n",
       " 'put christmas tree feeling fairly festive',\n",
       " 'feel numb way wound really start hurt',\n",
       " 'didnt want others negative energy weighing u influencing feeling thought process special time',\n",
       " 'feel glad proud could answer complicated question ever done',\n",
       " 'tell people feel like trying convince people innocent one belief',\n",
       " 'feel burdened many situation around right',\n",
       " 'sure relish feeling squelching mud toe content uncertain',\n",
       " 'always find feeling thankful year gathered trick allow feel grateful face moment last thing want say thanks',\n",
       " 'taking advantage feeling artistic incase run away bell baby day yay',\n",
       " 'still feel ashamed live world people dont know',\n",
       " 'want feel pressured making love',\n",
       " 'feel like actually supporting making use know love',\n",
       " 'ask shed like say doesnt mind always making suggestion feel like try every day keep entertained',\n",
       " 'honestly believe darker day reason push hard someone worth future feel duty make time lost',\n",
       " 'still want lady like lady feel inhibited kiss another woman public guess disregard societal view pertain sexual preference portray',\n",
       " 'done something feel inspired challenged',\n",
       " 'feel everyone ability artistic special way find attractive art unleashed fromthe virgin artist',\n",
       " 'think energy job writing always spent think sell rather pet project truly feel invigorated',\n",
       " 'actually feel quite scared get back exercising feel like ive lost much strength condition put much weight',\n",
       " 'wanted go ask batting feeling hesitant approaching big player',\n",
       " 'ive feeling bit overwhelmed whole marathon idea lately',\n",
       " 'know would feel weird probably act strangely day',\n",
       " 'feel like impostor work smile talk behavior contract positive reinforcement cognitive reframing physical activity mean diminishing dissolving deferring pain reality',\n",
       " 'feel suspicious one outside like rapture happened something',\n",
       " 'manage two short run walk today back feeling shy awful',\n",
       " 'told horsey people rare find feel quite lucky',\n",
       " 'spent much time feel comfortable',\n",
       " 'think brag feel strange still see little fattie pre teen unworthy male attention',\n",
       " 'cant help feel little humiliated',\n",
       " 'feel depressed lack husband time',\n",
       " 'feel really lucky part look like active friendly homeschooling group dubai',\n",
       " 'feeling much positive impending move',\n",
       " 'want still feel appreciative thing',\n",
       " 'feeling mellow excited partly know annie churn kind emotion inside esp',\n",
       " 'double victory brown struff went back sunday feeling really optimistic looking forward another day filled fedtastic tennis',\n",
       " 'face turn red feel shy emm',\n",
       " 'hoped get weekend attempt feel utterly isolated inside ambleside curtain firmly closed warmest sunniest day year far',\n",
       " 'felt sadness remorse supposed feel realize wronged someone corinthian',\n",
       " 'really feel progressing towards society fearless incrementally throwing away seemingly rigid boundary like paranoia security one belonging href http www',\n",
       " 'feel unimportant insignificant like slipping gap finger doesnt care',\n",
       " 'think browser comfortable booth attention focused feel pressured make purchase',\n",
       " 'develop unknown feeling think thats reason feel like ive settling guy liked',\n",
       " 'wasnt feeling hot prior vineman little racin lot self talk better spot mentally physically',\n",
       " 'eager know feeling unhappy unsatisfied',\n",
       " 'feel invigorated focused led pursue right future',\n",
       " 'feel shy afraid keeping point view',\n",
       " 'feel like get lot question list search phrase point people sometimes awfully disturbed thing somehow bring blog search engine',\n",
       " 'help feel sympathetic netflix army misinformed denounced netflix recent price hike',\n",
       " 'going lie feel little insulted',\n",
       " 'feel peaceful unafraid certain god best interest heart',\n",
       " 'feel awful chill day night',\n",
       " 'feeling start didnt want move much really glad experience glimpse sort vibrant energy gain year',\n",
       " 'feel virtuous going spin class driving way blackburn manual unsupervised sucessfully handbrake starting',\n",
       " 'feel like nothing stop sometimes feel like defeated',\n",
       " 'email author interview feel little intimidated',\n",
       " 'believe people use fulsome manner social reason top scale human evolution feel hurt fake behavior',\n",
       " 'necessarily sure something education system must change student feel anxiety pressure needing flawless vast knowledge world',\n",
       " 'dont think desire level much bear feel unwelcome',\n",
       " 'find never stop feeling excited company future',\n",
       " 'grateful every single thing maybe ill start feeling dismayed',\n",
       " 'like feeling making difference time really reluctant change first however get used',\n",
       " 'feel like life flawless long stressed wanting cry half time',\n",
       " 'feel emotional reaching three final four year',\n",
       " 'wasnt feeling well yesterday today randomly busy',\n",
       " 'ultimate place restore peace feel divine kneel worship attain hapiness',\n",
       " 'feel read word realize one time good writer feeling shared sympathy',\n",
       " 'feel pity gatsby longing feel past evident',\n",
       " 'met used want lock vault feel precious',\n",
       " 'really hate feeling youre unsure something',\n",
       " 'feel like rich people fall category belong see bus',\n",
       " 'write consider real profession even though teaching poetry troubled poor kid feel something useful',\n",
       " 'feel honored witness another process',\n",
       " 'horrible tragedy something terribly ashamed something causing great pain making feel vulnerable one two trusted people know could call help',\n",
       " 'feel stupid incapable dont know want work stupid next two week questioning everything',\n",
       " 'writing time also upset real parent almost constantly life there brother sister around either child feel kinda lonely',\n",
       " 'feel like concert much successful previous one',\n",
       " 'also feel awful feeling way',\n",
       " 'always intended achieving could everyone else feel like intelligent productive successful person',\n",
       " 'feel like beaten hard baseball bat arm doctor said apt description',\n",
       " 'feel overwhelmingly remorseful guilty watch much news many sad movie television drama',\n",
       " 'feel completely drained physically mentally worn',\n",
       " 'feeling broke right loved every minute',\n",
       " 'want say feel vulnerable writing sharing info',\n",
       " 'using vent ugly feeling vicious nasty rather deal like adult',\n",
       " 'always thought contracted something one people passed feel awful got sti test thought basically clear',\n",
       " 'didnt feel enough strong smart funny female main character fiction since thats imagine started writing',\n",
       " 'would go straight point rather defination romance feeling anger feeling suspicious feeling',\n",
       " 'feel like regained another vital part life living',\n",
       " 'went teacher said gonna step outside second really feeling well',\n",
       " 'pray hurting feeling afraid tonight find peace soon',\n",
       " 'could feel getting shaky feeling',\n",
       " 'feel crucified heartbroken tortured forsaken ever felt hand enemy hand love',\n",
       " 'believe possible joyful full thanks feeling overwhelmed exhausted life',\n",
       " 'want people feel brave want society accept u disabled people amongst u deserve dignity respect shunned laughed',\n",
       " 'guess cant see wed feel bit unwelcome',\n",
       " 'think people born hold key opening many door u need make feel treasured enough share',\n",
       " 'would like reduce amount jealousy feel god command u jealous feel every jew religious obey prohibition',\n",
       " 'feel highly intimidated get flustered cant form word even english',\n",
       " 'feel reluctant talking current situation know feel guess important know situation know go',\n",
       " 'id never woke feeling stressed',\n",
       " 'feel need put beloved uggs one side get back ballet pump bandwagon',\n",
       " 'feel terrible lady driver though',\n",
       " 'told feel satisfied good standing power',\n",
       " 'sitting belmont library listening hold tight electric light orchestra feeling bit discontent',\n",
       " 'feel really bless supportive family appreciate everything',\n",
       " 'feeling pretty wiped mentally amp physically determined get oxygen brain',\n",
       " 'said recent interview two guest next alcest album today feel glad reveal first one',\n",
       " 'feel weird saying goodnight mike',\n",
       " 'feel lighter compassionate little talk',\n",
       " 'impressed dunham portrayed hannahs whole experience trying deny happening feeling offended feel like someone trying minimise distress causing',\n",
       " 'watched face contort sadness began feel regretful action',\n",
       " 'stumbling quote quote urging really feel meant away hated day job dedicate effort matter',\n",
       " 'prayed trust god desire feel divine sense home',\n",
       " 'found feeling worthless waste time',\n",
       " 'go detail long night woke bus feeling like could barely stand trusting pit stomach',\n",
       " 'feel incredibly graceful sexy pose say',\n",
       " 'feel unimportant even way still place making decision voicing opinion certainly place sharing feeling',\n",
       " 'learning step back call proud admit yes feeling annoyed yes tell',\n",
       " 'feel pretty lame typing upper body weak',\n",
       " 'feeling little like cold coming',\n",
       " 'wanna say last three month feel happy blog',\n",
       " 'left feeling defeated like nothing accomplished day complete waste time amp energy',\n",
       " 'ritz cracker desk drawer theyre something ill eat even feel crappy dont feel like eating',\n",
       " 'feel tenure protects lot teacher r innocent',\n",
       " 'wake morning feeling like day sloth keen get geared head higher altitude',\n",
       " 'feel love weight watcher program faithful count point',\n",
       " 'feel like one girl school hated outfit perfect everyday went shopping week',\n",
       " ...]"
      ]
     },
     "metadata": {},
     "output_type": "display_data"
    }
   ],
   "source": [
    "display(list(df_norm['Text']))\n"
   ]
  },
  {
   "cell_type": "code",
   "execution_count": 90,
   "metadata": {},
   "outputs": [
    {
     "name": "stdout",
     "output_type": "stream",
     "text": [
      "['feel', 'feeling', 'like', 'time', 'really', 'know', 'get', 'make']\n"
     ]
    },
    {
     "data": {
      "text/plain": [
       "{3: [('thing', 0.006793622858822346),\n",
       "  ('little', 0.006652359385043383),\n",
       "  ('want', 0.0064725689589977264),\n",
       "  ('people', 0.006395516451448202),\n",
       "  ('day', 0.006254252512007952),\n",
       "  ('would', 0.006112989038228989)],\n",
       " 2: [('little', 0.010392633266746998),\n",
       "  ('people', 0.009859814308583736),\n",
       "  ('would', 0.009326995350420475),\n",
       "  ('le', 0.009060585871338844),\n",
       "  ('dont', 0.008794176392257214),\n",
       "  ('think', 0.008794176392257214)],\n",
       " 1: [('one', 0.012457533739507198),\n",
       "  ('life', 0.01072780229151249),\n",
       "  ('want', 0.008998068980872631),\n",
       "  ('little', 0.007960230112075806),\n",
       "  ('bit', 0.0076142833568155766),\n",
       "  ('love', 0.006922390311956406)],\n",
       " 0: [('want', 0.009955523535609245),\n",
       "  ('little', 0.009190008044242859),\n",
       "  ('need', 0.008424493484199047),\n",
       "  ('dont', 0.008041735738515854),\n",
       "  ('even', 0.007658977992832661),\n",
       "  ('life', 0.007276220712810755)],\n",
       " 4: [('blank', 0.04709293693304062),\n",
       "  ('rel', 0.039257172495126724),\n",
       "  ('target', 0.039257172495126724),\n",
       "  ('title', 0.039257172495126724),\n",
       "  ('nofollow', 0.039257172495126724),\n",
       "  ('src', 0.023585645481944084)],\n",
       " 17: [('sore', 0.034092843532562256),\n",
       "  ('intelligent', 0.034092843532562256),\n",
       "  ('woke', 0.034092843532562256),\n",
       "  ('throat', 0.034092843532562256),\n",
       "  ('bed', 0.034092843532562256),\n",
       "  ('day', 0.025590887293219566)],\n",
       " 8: [('fail', 0.08072030544281006),\n",
       "  ('doomed', 0.06280236691236496),\n",
       "  ('life', 0.05384340137243271),\n",
       "  ('low', 0.03592546656727791),\n",
       "  ('others', 0.01800752617418766),\n",
       "  ('lesson', 0.01800752617418766)],\n",
       " 9: [('ideal', 0.0203812625259161),\n",
       "  ('canada', 0.010241330601274967),\n",
       "  ('developed', 0.010241330601274967),\n",
       "  ('people', 0.010241330601274967),\n",
       "  ('responsible', 0.010241330601274967),\n",
       "  ('asian', 0.010241330601274967)],\n",
       " 25: [('hair', 0.08376909047365189),\n",
       "  ('lovely', 0.04193683713674545),\n",
       "  ('wash', 0.031478770077228546),\n",
       "  ('looking', 0.021020708605647087),\n",
       "  ('day', 0.021020708605647087),\n",
       "  ('give', 0.021020708605647087)],\n",
       " 40: [('pain', 0.08839108794927597),\n",
       "  ('suffering', 0.05528581514954567),\n",
       "  ('love', 0.0442507229745388),\n",
       "  ('loneliness', 0.0442507229745388),\n",
       "  ('sorrow', 0.03321562707424164),\n",
       "  ('also', 0.02218053489923477)],\n",
       " 6: [('cool', 0.13489341735839844),\n",
       "  ('ha', 0.049130119383335114),\n",
       "  ('girl', 0.03687821701169014),\n",
       "  ('supporting', 0.03687821701169014),\n",
       "  ('team', 0.024626318365335464),\n",
       "  ('key', 0.024626318365335464)],\n",
       " 5: [('accepted', 0.049739524722099304),\n",
       "  ('uncertain', 0.049739524722099304),\n",
       "  ('forgive', 0.049739524722099304),\n",
       "  ('within', 0.03733564913272858),\n",
       "  ('perceive', 0.03733564913272858),\n",
       "  ('accepting', 0.024931780993938446)],\n",
       " 15: [('culture', 0.024931780993938446),\n",
       "  ('album', 0.024931780993938446),\n",
       "  ('hatred', 0.012527909129858017),\n",
       "  ('classic', 0.012527909129858017),\n",
       "  ('authority', 0.012527909129858017),\n",
       "  ('cheap', 0.012527909129858017)],\n",
       " 7: [('day', 0.06454522907733917),\n",
       "  ('resist', 0.03877866640686989),\n",
       "  ('one', 0.03877866640686989),\n",
       "  ('rel', 0.03877866640686989),\n",
       "  ('bookmark', 0.03877866640686989),\n",
       "  ('said', 0.025895388796925545)],\n",
       " 46: [('companion', 0.06805216521024704),\n",
       "  ('arm', 0.054468899965286255),\n",
       "  ('leg', 0.04088563099503517),\n",
       "  ('around', 0.027302365750074387),\n",
       "  ('put', 0.027302365750074387),\n",
       "  ('lonely', 0.027302365750074387)],\n",
       " 11: [('cricket', 0.058437779545784),\n",
       "  ('blog', 0.043864764273166656),\n",
       "  ('update', 0.043864764273166656),\n",
       "  ('season', 0.029291752725839615),\n",
       "  ('found', 0.029291752725839615),\n",
       "  ('website', 0.029291752725839615)],\n",
       " 26: [('ate', 0.10215681791305542),\n",
       "  ('horrible', 0.029291752725839615),\n",
       "  ('hateful', 0.029291752725839615),\n",
       "  ('people', 0.014718742109835148),\n",
       "  ('economy', 0.014718742109835148),\n",
       "  ('bar', 0.014718742109835148)],\n",
       " 36: [('answer', 0.10366756469011307),\n",
       "  ('u', 0.044513460248708725),\n",
       "  ('question', 0.044513460248708725),\n",
       "  ('right', 0.029724935069680214),\n",
       "  ('fool', 0.014936409890651703),\n",
       "  ('attack', 0.014936409890651703)],\n",
       " 42: [('sweet', 0.07409051805734634),\n",
       "  ('dessert', 0.044513460248708725),\n",
       "  ('naughty', 0.044513460248708725),\n",
       "  ('craving', 0.044513460248708725),\n",
       "  ('food', 0.029724935069680214),\n",
       "  ('still', 0.029724935069680214)],\n",
       " 48: [('lens', 0.04518163204193115),\n",
       "  ('scent', 0.04518163204193115),\n",
       "  ('sweet', 0.030171122401952744),\n",
       "  ('uncomfortable', 0.030171122401952744),\n",
       "  ('breath', 0.030171122401952744),\n",
       "  ('smell', 0.030171122401952744)],\n",
       " 50: [('dream', 0.09021315723657608),\n",
       "  ('woke', 0.030171122401952744),\n",
       "  ('couldnt', 0.030171122401952744),\n",
       "  ('infuriated', 0.030171122401952744),\n",
       "  ('list', 0.030171122401952744),\n",
       "  ('realized', 0.030171122401952744)],\n",
       " 38: [('violent', 0.08000639081001282),\n",
       "  ('give', 0.03209837153553963),\n",
       "  ('weapon', 0.03209837153553963),\n",
       "  ('particularly', 0.03209837153553963),\n",
       "  ('involved', 0.03209837153553963),\n",
       "  ('attack', 0.016129031777381897)],\n",
       " 10: [('campaign', 0.032619278877973557),\n",
       "  ('woman', 0.032619278877973557),\n",
       "  ('beautiful', 0.032619278877973557),\n",
       "  ('supportive', 0.032619278877973557),\n",
       "  ('wear', 0.032619278877973557),\n",
       "  ('six', 0.032619278877973557)],\n",
       " 23: [('curious', 0.06725931167602539),\n",
       "  ('strange', 0.05048641562461853),\n",
       "  ('latter', 0.03371351957321167),\n",
       "  ('category', 0.03371351957321167),\n",
       "  ('button', 0.03371351957321167),\n",
       "  ('fall', 0.03371351957321167)],\n",
       " 12: [('giving', 0.06840669363737106),\n",
       "  ('pretty', 0.05134766548871994),\n",
       "  ('dangerous', 0.05134766548871994),\n",
       "  ('vibe', 0.03428863734006882),\n",
       "  ('match', 0.03428863734006882),\n",
       "  ('one', 0.03428863734006882)],\n",
       " 32: [('work', 0.07478553056716919),\n",
       "  ('inspiration', 0.037486013025045395),\n",
       "  ('job', 0.037486013025045395),\n",
       "  ('strike', 0.037486013025045395),\n",
       "  ('rather', 0.037486013025045395),\n",
       "  ('often', 0.037486013025045395)],\n",
       " 37: [('accessory', 0.018836256116628647),\n",
       "  ('drawn', 0.018836256116628647),\n",
       "  ('dropping', 0.018836256116628647),\n",
       "  ('paranoia', 0.018836256116628647),\n",
       "  ('spreading', 0.018836256116628647),\n",
       "  ('neutral', 0.018836256116628647)],\n",
       " 13: [('utterly', 0.07620677351951599),\n",
       "  ('away', 0.038198404014110565),\n",
       "  ('terrified', 0.038198404014110565),\n",
       "  ('walked', 0.038198404014110565),\n",
       "  ('international', 0.038198404014110565),\n",
       "  ('would', 0.038198404014110565)],\n",
       " 20: [('circle', 0.03893839567899704),\n",
       "  ('realised', 0.03893839567899704),\n",
       "  ('craft', 0.019566059112548828),\n",
       "  ('income', 0.019566059112548828),\n",
       "  ('various', 0.019566059112548828),\n",
       "  ('therapy', 0.019566059112548828)],\n",
       " 27: [('began', 0.03893839567899704),\n",
       "  ('amount', 0.03893839567899704),\n",
       "  ('distressed', 0.03893839567899704),\n",
       "  ('disappointment', 0.019566059112548828),\n",
       "  ('horse', 0.019566059112548828),\n",
       "  ('kill', 0.019566059112548828)],\n",
       " 34: [('hateful', 0.03893839567899704),\n",
       "  ('fandom', 0.019566059112548828),\n",
       "  ('floor', 0.019566059112548828),\n",
       "  ('white', 0.019566059112548828),\n",
       "  ('bastard', 0.019566059112548828),\n",
       "  ('build', 0.019566059112548828)],\n",
       " 29: [('standing', 0.040507860481739044),\n",
       "  ('spin', 0.02035469561815262),\n",
       "  ('stepped', 0.02035469561815262),\n",
       "  ('pant', 0.02035469561815262),\n",
       "  ('reminded', 0.02035469561815262),\n",
       "  ('suit', 0.02035469561815262)],\n",
       " 28: [('doll', 0.047160957008600235),\n",
       "  ('child', 0.047160957008600235),\n",
       "  ('collection', 0.02369779534637928),\n",
       "  ('vintage', 0.02369779534637928),\n",
       "  ('distressed', 0.02369779534637928),\n",
       "  ('sentimental', 0.02369779534637928)],\n",
       " 39: [('little', 0.02369779534637928),\n",
       "  ('serving', 0.02369779534637928),\n",
       "  ('youth', 0.02369779534637928),\n",
       "  ('committed', 0.02369779534637928),\n",
       "  ('development', 0.02369779534637928),\n",
       "  ('belly', 0.02369779534637928)],\n",
       " 14: [('tiger', 0.07410143315792084),\n",
       "  ('album', 0.024864599108695984),\n",
       "  ('dance', 0.024864599108695984),\n",
       "  ('opinion', 0.024864599108695984),\n",
       "  ('describe', 0.024864599108695984),\n",
       "  ('gorgeous', 0.024864599108695984)],\n",
       " 30: [('search', 0.04948301613330841),\n",
       "  ('code', 0.04948301613330841),\n",
       "  ('perform', 0.024864599108695984),\n",
       "  ('canada', 0.024864599108695984),\n",
       "  ('abused', 0.024864599108695984),\n",
       "  ('insulted', 0.024864599108695984)],\n",
       " 35: [('hundred', 0.028354857116937637),\n",
       "  ('thrown', 0.028354857116937637),\n",
       "  ('specific', 0.028354857116937637),\n",
       "  ('wall', 0.028354857116937637),\n",
       "  ('issue', 0.028354857116937637),\n",
       "  ('couple', 0.028354857116937637)],\n",
       " 24: [('charming', 0.058058928698301315),\n",
       "  ('worker', 0.02917388826608658),\n",
       "  ('co', 0.02917388826608658),\n",
       "  ('envious', 0.02917388826608658),\n",
       "  ('awkward', 0.02917388826608658),\n",
       "  ('one', 0.00028885036590509117)],\n",
       " 31: [('paranoia', 0.030041642487049103),\n",
       "  ('gained', 0.030041642487049103),\n",
       "  ('everyday', 0.030041642487049103),\n",
       "  ('casual', 0.030041642487049103),\n",
       "  ('sense', 0.030041642487049103),\n",
       "  ('one', 0.0002974419912789017)],\n",
       " 16: [('skirt', 0.03096259944140911),\n",
       "  ('giddy', 0.03096259944140911),\n",
       "  ('perfectly', 0.03096259944140911),\n",
       "  ('elegant', 0.03096259944140911),\n",
       "  ('day', 0.0003065603959839791),\n",
       "  ('one', 0.0003065603959839791)],\n",
       " 22: [('remembering', 0.03096259944140911),\n",
       "  ('finger', 0.03096259944140911),\n",
       "  ('touch', 0.03096259944140911),\n",
       "  ('aching', 0.03096259944140911),\n",
       "  ('day', 0.0003065603959839791),\n",
       "  ('one', 0.0003065603959839791)]}"
      ]
     },
     "execution_count": 90,
     "metadata": {},
     "output_type": "execute_result"
    }
   ],
   "source": [
    "sorted_topics = [k for k, v in sorted(enumerate(hdp.get_count_by_topics()), key=lambda x:x[1], reverse=True)]\n",
    "\n",
    "topics={}\n",
    "\n",
    "# For topics found, extract only those that are still assigned\n",
    "for k in sorted_topics:\n",
    "    if not hdp.is_live_topic(k): continue # remove un-assigned topics at the end (i.e. not alive)\n",
    "    topic_wp =[]\n",
    "    for word, prob in hdp.get_topic_words(k, top_n=6):\n",
    "        topic_wp.append((word, prob))\n",
    "\n",
    "    topics[k] = topic_wp # store topic word/frequency array\n",
    "print(hdp.removed_top_words)\n",
    "topics\n"
   ]
  },
  {
   "cell_type": "code",
   "execution_count": 43,
   "metadata": {},
   "outputs": [
    {
     "data": {
      "text/plain": [
       "103833"
      ]
     },
     "metadata": {},
     "output_type": "display_data"
    },
    {
     "data": {
      "text/plain": [
       "12199"
      ]
     },
     "metadata": {},
     "output_type": "display_data"
    }
   ],
   "source": [
    "display(hdp.num_words)\n",
    "display(hdp.num_vocabs)"
   ]
  }
 ],
 "metadata": {
  "kernelspec": {
   "display_name": "compcog",
   "language": "python",
   "name": "compcog"
  },
  "language_info": {
   "codemirror_mode": {
    "name": "ipython",
    "version": 3
   },
   "file_extension": ".py",
   "mimetype": "text/x-python",
   "name": "python",
   "nbconvert_exporter": "python",
   "pygments_lexer": "ipython3",
   "version": "3.9.13"
  },
  "orig_nbformat": 4,
  "vscode": {
   "interpreter": {
    "hash": "5ce9a0a13be4ee4cf9cd9142f1ce1137306d57b32ab37bbb53246363ac0ddbd6"
   }
  }
 },
 "nbformat": 4,
 "nbformat_minor": 2
}
