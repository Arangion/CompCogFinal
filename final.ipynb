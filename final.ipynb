{
 "cells": [
  {
   "attachments": {},
   "cell_type": "markdown",
   "metadata": {},
   "source": [
    "Final Project by Alicia Bergeron and Nick Arangio"
   ]
  },
  {
   "attachments": {},
   "cell_type": "markdown",
   "metadata": {},
   "source": [
    "Installation instructions, create pip venv, and install all required files using requirements.txt\n",
    "\n",
    "Once done, ensure you are in the correct env in terminal and type the following:\n",
    "\n",
    "python -m ipykernel intall --user --name:[env name]"
   ]
  },
  {
   "cell_type": "code",
   "execution_count": 76,
   "metadata": {},
   "outputs": [],
   "source": [
    "import argparse\n",
    "import functools\n",
    "import logging\n",
    "import os\n",
    "import math\n",
    "\n",
    "import re\n",
    "import pandas as pd\n",
    "import matplotlib.pyplot as plt\n",
    "import numpy as np\n",
    "from tqdm import tqdm, trange\n",
    "from collections import Counter\n",
    "\n",
    "import torch\n",
    "import torch.nn.functional as F\n",
    "from torch import nn\n",
    "from torch.distributions import constraints\n",
    "from sklearn.feature_extraction.text import CountVectorizer\n",
    "\n",
    "import nltk\n",
    "from nltk.corpus import stopwords\n",
    "\n",
    "import pyro\n",
    "import pyro.distributions as dist\n",
    "from pyro.infer import Predictive, SVI, Trace_ELBO, JitTraceEnum_ELBO, TraceEnum_ELBO, NUTS, MCMC, TraceMeanField_ELBO\n",
    "from pyro.optim import Adam, ClippedAdam\n",
    "\n",
    "stop = set(stopwords.words('english'))\n",
    "pyro.set_rng_seed(0)\n",
    "logging.basicConfig(format=\"%(relativeCreated) 9d %(message)s\", level=logging.INFO)"
   ]
  },
  {
   "attachments": {},
   "cell_type": "markdown",
   "metadata": {},
   "source": [
    "### Dataset Information\n",
    "Sentiments: sadness, anger, love, surprise, fear, joy"
   ]
  },
  {
   "cell_type": "code",
   "execution_count": 77,
   "metadata": {},
   "outputs": [],
   "source": [
    "dataset = 'Emotions dataset for NLP/train.txt'"
   ]
  },
  {
   "attachments": {},
   "cell_type": "markdown",
   "metadata": {},
   "source": [
    "NLTK Tags: https://www.ling.upenn.edu/courses/Fall_2003/ling001/penn_treebank_pos.html"
   ]
  },
  {
   "cell_type": "code",
   "execution_count": 78,
   "metadata": {},
   "outputs": [
    {
     "data": {
      "text/html": [
       "<div>\n",
       "<style scoped>\n",
       "    .dataframe tbody tr th:only-of-type {\n",
       "        vertical-align: middle;\n",
       "    }\n",
       "\n",
       "    .dataframe tbody tr th {\n",
       "        vertical-align: top;\n",
       "    }\n",
       "\n",
       "    .dataframe thead th {\n",
       "        text-align: right;\n",
       "    }\n",
       "</style>\n",
       "<table border=\"1\" class=\"dataframe\">\n",
       "  <thead>\n",
       "    <tr style=\"text-align: right;\">\n",
       "      <th></th>\n",
       "      <th>Text</th>\n",
       "      <th>Sentiment</th>\n",
       "    </tr>\n",
       "  </thead>\n",
       "  <tbody>\n",
       "    <tr>\n",
       "      <th>0</th>\n",
       "      <td>i didnt feel humiliated</td>\n",
       "      <td>sadness</td>\n",
       "    </tr>\n",
       "    <tr>\n",
       "      <th>1</th>\n",
       "      <td>i can go from feeling so hopeless to so damned...</td>\n",
       "      <td>sadness</td>\n",
       "    </tr>\n",
       "    <tr>\n",
       "      <th>2</th>\n",
       "      <td>im grabbing a minute to post i feel greedy wrong</td>\n",
       "      <td>anger</td>\n",
       "    </tr>\n",
       "    <tr>\n",
       "      <th>3</th>\n",
       "      <td>i am ever feeling nostalgic about the fireplac...</td>\n",
       "      <td>love</td>\n",
       "    </tr>\n",
       "    <tr>\n",
       "      <th>4</th>\n",
       "      <td>i am feeling grouchy</td>\n",
       "      <td>anger</td>\n",
       "    </tr>\n",
       "  </tbody>\n",
       "</table>\n",
       "</div>"
      ],
      "text/plain": [
       "                                                Text Sentiment\n",
       "0                            i didnt feel humiliated   sadness\n",
       "1  i can go from feeling so hopeless to so damned...   sadness\n",
       "2   im grabbing a minute to post i feel greedy wrong     anger\n",
       "3  i am ever feeling nostalgic about the fireplac...      love\n",
       "4                               i am feeling grouchy     anger"
      ]
     },
     "metadata": {},
     "output_type": "display_data"
    },
    {
     "data": {
      "text/plain": [
       "array(['sadness', 'anger', 'love', 'surprise', 'fear', 'joy'],\n",
       "      dtype=object)"
      ]
     },
     "metadata": {},
     "output_type": "display_data"
    },
    {
     "data": {
      "text/html": [
       "<div>\n",
       "<style scoped>\n",
       "    .dataframe tbody tr th:only-of-type {\n",
       "        vertical-align: middle;\n",
       "    }\n",
       "\n",
       "    .dataframe tbody tr th {\n",
       "        vertical-align: top;\n",
       "    }\n",
       "\n",
       "    .dataframe thead th {\n",
       "        text-align: right;\n",
       "    }\n",
       "</style>\n",
       "<table border=\"1\" class=\"dataframe\">\n",
       "  <thead>\n",
       "    <tr style=\"text-align: right;\">\n",
       "      <th></th>\n",
       "      <th>Text</th>\n",
       "      <th>Sentiment</th>\n",
       "    </tr>\n",
       "  </thead>\n",
       "  <tbody>\n",
       "    <tr>\n",
       "      <th>count</th>\n",
       "      <td>16000</td>\n",
       "      <td>16000</td>\n",
       "    </tr>\n",
       "    <tr>\n",
       "      <th>unique</th>\n",
       "      <td>15969</td>\n",
       "      <td>6</td>\n",
       "    </tr>\n",
       "    <tr>\n",
       "      <th>top</th>\n",
       "      <td>i feel on the verge of tears from weariness i ...</td>\n",
       "      <td>joy</td>\n",
       "    </tr>\n",
       "    <tr>\n",
       "      <th>freq</th>\n",
       "      <td>2</td>\n",
       "      <td>5362</td>\n",
       "    </tr>\n",
       "  </tbody>\n",
       "</table>\n",
       "</div>"
      ],
      "text/plain": [
       "                                                     Text Sentiment\n",
       "count                                               16000     16000\n",
       "unique                                              15969         6\n",
       "top     i feel on the verge of tears from weariness i ...       joy\n",
       "freq                                                    2      5362"
      ]
     },
     "metadata": {},
     "output_type": "display_data"
    },
    {
     "data": {
      "text/plain": [
       "Text         in the army\n",
       "Sentiment          anger\n",
       "Name: 3111, dtype: object"
      ]
     },
     "metadata": {},
     "output_type": "display_data"
    }
   ],
   "source": [
    "ds = pd.read_csv(dataset, sep=';', header=None)\n",
    "ds.columns = [\"Text\", \"Sentiment\"]\n",
    "display(ds.head())\n",
    "display(ds.Sentiment.unique())\n",
    "display(ds.describe())\n",
    "display(ds.iloc[3111])\n",
    "\n",
    "def filter(text):\n",
    "    lemmatizer = nltk.stem.WordNetLemmatizer()\n",
    "    return \" \".join([lemmatizer.lemmatize(word) for word in str(text).split() if word not in stop])\n",
    "df = ds\n",
    "df.Text = df.Text.apply(lambda t: filter(t))\n",
    "\n"
   ]
  },
  {
   "cell_type": "code",
   "execution_count": null,
   "metadata": {},
   "outputs": [],
   "source": []
  },
  {
   "cell_type": "code",
   "execution_count": null,
   "metadata": {},
   "outputs": [],
   "source": []
  },
  {
   "cell_type": "code",
   "execution_count": null,
   "metadata": {},
   "outputs": [],
   "source": []
  },
  {
   "cell_type": "code",
   "execution_count": 79,
   "metadata": {},
   "outputs": [],
   "source": [
    "dfA = df\n",
    "dfA.Sentiment = dfA.Sentiment.map({\n",
    "    'sadness':1,\n",
    "    'anger':2,\n",
    "    'love':3,\n",
    "    'surprise':4,\n",
    "    'fear':5,\n",
    "    'joy':6\n",
    "}\n",
    ")"
   ]
  },
  {
   "cell_type": "code",
   "execution_count": 80,
   "metadata": {},
   "outputs": [
    {
     "data": {
      "text/plain": [
       "False"
      ]
     },
     "metadata": {},
     "output_type": "display_data"
    },
    {
     "data": {
      "text/html": [
       "<div>\n",
       "<style scoped>\n",
       "    .dataframe tbody tr th:only-of-type {\n",
       "        vertical-align: middle;\n",
       "    }\n",
       "\n",
       "    .dataframe tbody tr th {\n",
       "        vertical-align: top;\n",
       "    }\n",
       "\n",
       "    .dataframe thead th {\n",
       "        text-align: right;\n",
       "    }\n",
       "</style>\n",
       "<table border=\"1\" class=\"dataframe\">\n",
       "  <thead>\n",
       "    <tr style=\"text-align: right;\">\n",
       "      <th></th>\n",
       "      <th>Text</th>\n",
       "      <th>Sentiment</th>\n",
       "      <th>Length</th>\n",
       "    </tr>\n",
       "  </thead>\n",
       "  <tbody>\n",
       "    <tr>\n",
       "      <th>0</th>\n",
       "      <td>didnt feel humiliated</td>\n",
       "      <td>1</td>\n",
       "      <td>3</td>\n",
       "    </tr>\n",
       "    <tr>\n",
       "      <th>1</th>\n",
       "      <td>go feeling hopeless damned hopeful around some...</td>\n",
       "      <td>1</td>\n",
       "      <td>9</td>\n",
       "    </tr>\n",
       "    <tr>\n",
       "      <th>2</th>\n",
       "      <td>grabbing minute post feel greedy wrong</td>\n",
       "      <td>2</td>\n",
       "      <td>6</td>\n",
       "    </tr>\n",
       "    <tr>\n",
       "      <th>3</th>\n",
       "      <td>ever feeling nostalgic fireplace know still pr...</td>\n",
       "      <td>3</td>\n",
       "      <td>7</td>\n",
       "    </tr>\n",
       "    <tr>\n",
       "      <th>4</th>\n",
       "      <td>feeling grouchy</td>\n",
       "      <td>2</td>\n",
       "      <td>2</td>\n",
       "    </tr>\n",
       "  </tbody>\n",
       "</table>\n",
       "</div>"
      ],
      "text/plain": [
       "                                                Text  Sentiment  Length\n",
       "0                              didnt feel humiliated          1       3\n",
       "1  go feeling hopeless damned hopeful around some...          1       9\n",
       "2             grabbing minute post feel greedy wrong          2       6\n",
       "3  ever feeling nostalgic fireplace know still pr...          3       7\n",
       "4                                    feeling grouchy          2       2"
      ]
     },
     "metadata": {},
     "output_type": "display_data"
    },
    {
     "data": {
      "text/plain": [
       "<Axes: xlabel='Length'>"
      ]
     },
     "execution_count": 80,
     "metadata": {},
     "output_type": "execute_result"
    },
    {
     "data": {
      "image/png": "[encoded data removed]",
      "text/plain": [
       "<Figure size 640x480 with 1 Axes>"
      ]
     },
     "metadata": {},
     "output_type": "display_data"
    }
   ],
   "source": [
    "df['Length'] = dfA.Text.str.split(\"\\\\s+\").apply(lambda a: len(a))\n",
    "graphing = df.groupby('Length').nunique()\n",
    "# display(graphing)\n",
    "display(df['Length'].iloc[0] > 5)\n",
    "display(df.head())\n",
    "norm_index = df[(df['Length'] < 5) | (df['Length'] > 20)].index\n",
    "df_norm = df.drop(norm_index)\n",
    "\n",
    "graphing.plot(y='Text', use_index=True, kind='line')"
   ]
  },
  {
   "cell_type": "code",
   "execution_count": 81,
   "metadata": {},
   "outputs": [
    {
     "data": {
      "text/html": [
       "<div>\n",
       "<style scoped>\n",
       "    .dataframe tbody tr th:only-of-type {\n",
       "        vertical-align: middle;\n",
       "    }\n",
       "\n",
       "    .dataframe tbody tr th {\n",
       "        vertical-align: top;\n",
       "    }\n",
       "\n",
       "    .dataframe thead th {\n",
       "        text-align: right;\n",
       "    }\n",
       "</style>\n",
       "<table border=\"1\" class=\"dataframe\">\n",
       "  <thead>\n",
       "    <tr style=\"text-align: right;\">\n",
       "      <th></th>\n",
       "      <th>Sentiment</th>\n",
       "      <th>Length</th>\n",
       "    </tr>\n",
       "  </thead>\n",
       "  <tbody>\n",
       "    <tr>\n",
       "      <th>count</th>\n",
       "      <td>12370.000000</td>\n",
       "      <td>12370.000000</td>\n",
       "    </tr>\n",
       "    <tr>\n",
       "      <th>mean</th>\n",
       "      <td>3.614551</td>\n",
       "      <td>9.881083</td>\n",
       "    </tr>\n",
       "    <tr>\n",
       "      <th>std</th>\n",
       "      <td>2.117958</td>\n",
       "      <td>3.865598</td>\n",
       "    </tr>\n",
       "    <tr>\n",
       "      <th>min</th>\n",
       "      <td>1.000000</td>\n",
       "      <td>5.000000</td>\n",
       "    </tr>\n",
       "    <tr>\n",
       "      <th>25%</th>\n",
       "      <td>1.000000</td>\n",
       "      <td>7.000000</td>\n",
       "    </tr>\n",
       "    <tr>\n",
       "      <th>50%</th>\n",
       "      <td>4.000000</td>\n",
       "      <td>9.000000</td>\n",
       "    </tr>\n",
       "    <tr>\n",
       "      <th>75%</th>\n",
       "      <td>6.000000</td>\n",
       "      <td>12.000000</td>\n",
       "    </tr>\n",
       "    <tr>\n",
       "      <th>max</th>\n",
       "      <td>6.000000</td>\n",
       "      <td>20.000000</td>\n",
       "    </tr>\n",
       "  </tbody>\n",
       "</table>\n",
       "</div>"
      ],
      "text/plain": [
       "          Sentiment        Length\n",
       "count  12370.000000  12370.000000\n",
       "mean       3.614551      9.881083\n",
       "std        2.117958      3.865598\n",
       "min        1.000000      5.000000\n",
       "25%        1.000000      7.000000\n",
       "50%        4.000000      9.000000\n",
       "75%        6.000000     12.000000\n",
       "max        6.000000     20.000000"
      ]
     },
     "execution_count": 81,
     "metadata": {},
     "output_type": "execute_result"
    }
   ],
   "source": [
    "df_norm.describe()"
   ]
  },
  {
   "cell_type": "code",
   "execution_count": 82,
   "metadata": {},
   "outputs": [
    {
     "data": {
      "text/plain": [
       "12182"
      ]
     },
     "execution_count": 82,
     "metadata": {},
     "output_type": "execute_result"
    }
   ],
   "source": [
    "vocab = Counter()\n",
    "df_norm.Text.str.lower().str.split().apply(vocab.update)\n",
    "len(list(vocab.keys()))"
   ]
  },
  {
   "cell_type": "code",
   "execution_count": 83,
   "metadata": {},
   "outputs": [
    {
     "name": "stdout",
     "output_type": "stream",
     "text": [
      "{'go': 1343, 'feeling': 15124, 'hopeless': 61, 'damned': 11, 'hopeful': 273, 'around': 945, 'someone': 772, 'care': 334, 'awake': 62, 'grabbing': 11, 'minute': 203, 'post': 460, 'feel': 32608, 'greedy': 103, 'wrong': 182, 'ever': 698, 'nostalgic': 113, 'fireplace': 15, 'know': 2617, 'still': 1687, 'property': 12, 'ive': 1679, 'little': 2164, 'burdened': 49, 'lately': 276, 'wasnt': 272, 'sure': 845, 'taking': 283, 'milligram': 4, 'time': 3011, 'recommended': 4, 'amount': 121, 'fallen': 15, 'asleep': 59, 'lot': 793, 'faster': 38, 'also': 1143, 'like': 8957, 'funny': 203, 'confused': 223, 'life': 1813, 'teenager': 52, 'jaded': 36, 'year': 1085, 'old': 335, 'man': 293, 'petronas': 12, 'performed': 6, 'well': 1037, 'made': 921, 'huge': 90, 'profit': 17, 'make': 2617, 'suffering': 51, 'seeing': 177, 'mean': 455, 'something': 1694, 'running': 211, 'divine': 285, 'experience': 340, 'expect': 91, 'type': 129, 'spiritual': 40, 'encounter': 18, 'think': 1876, 'easiest': 8, 'dissatisfied': 93, 'started': 516, 'sentimental': 34, 'doll': 10, 'child': 531, 'began': 172, 'collection': 27, 'vintage': 35, 'barbie': 3, 'sixty': 6, 'compromised': 19, 'skeptical': 116, 'value': 69, 'every': 780, 'unit': 19, 'work': 1149, 'put': 496, 'irritated': 89, 'rejected': 70, 'without': 590, 'anyone': 417, 'anything': 693, 'saying': 244, 'completely': 291, 'overwhelmed': 410, 'two': 502, 'strategy': 21, 'help': 930, 'grounded': 41, 'pour': 17, 'heart': 436, 'journal': 49, 'form': 44, 'letter': 93, 'god': 545, 'end': 442, 'list': 170, 'five': 95, 'thing': 1939, 'grateful': 173, 'able': 591, 'chai': 6, 'lifeline': 11, 'support': 229, 'encouragement': 14, 'great': 335, 'glad': 391, 'already': 455, 'fucked': 81, 'though': 823, 'dont': 1463, 'usually': 196, 'eat': 145, 'morning': 426, 'inhibited': 57, 'el': 19, 'kitchen': 59, 'painting': 47, 'picture': 181, 'kinda': 111, 'appalled': 24, 'need': 1379, 'explain': 83, 'wide': 30, 'lenghth': 2, 'body': 376, 'measure': 19, 'etc': 137, 'pp': 2, 'superior': 276, 'dead': 62, 'chicken': 39, 'grieving': 8, 'get': 2402, 'giddy': 22, 'elegant': 120, 'perfectly': 53, 'fitted': 6, 'pencil': 18, 'skirt': 30, 'remember': 571, 'acutely': 7, 'distressed': 110, 'day': 2042, 'seen': 132, 'heard': 104, 'read': 505, 'past': 322, 'couple': 158, 'left': 651, 'impressed': 210, 'company': 139, 'climbed': 11, 'hill': 35, 'frustrated': 165, 'id': 421, 'pretty': 1251, 'much': 1533, 'paced': 8, 'entirely': 82, 'course': 182, 'factor': 25, 'never': 804, 'hampered': 2, 'dent': 3, 'would': 1899, 'content': 283, 'however': 225, 'want': 2076, 'causing': 28, 'le': 768, 'splendid': 54, 'self': 339, 'step': 130, 'away': 707, 'bit': 1383, 'rude': 96, 'writing': 392, 'elderly': 11, 'gentleman': 2, 'ask': 264, 'gift': 167, 'christmas': 164, 'mild': 18, 'greed': 8, 'protected': 42, 'safe': 373, 'small': 245, 'find': 755, 'season': 111, 'word': 396, 'plan': 219, 'share': 388, 'everyday': 100, 'story': 350, 'traveling': 30, 'adventure': 57, 'inspiration': 43, 'handmade': 12, 'creation': 39, 'hope': 498, 'inspired': 320, 'tree': 127, 'got': 899, 'festive': 222, 'spurring': 6, 'book': 480, 'worn': 25, 'concealer': 6, 'brave': 315, 'pale': 21, 'perfect': 373, 'strongly': 128, 'passionate': 428, 'jerk': 12, 'decides': 6, 'poke': 16, 'fun': 208, 'u': 561, 'discouraged': 46, 'robbing': 1, 'peter': 26, 'pay': 96, 'paul': 5, 'cow': 6, 'cant': 717, 'afford': 10, 'way': 1626, 'listless': 28, 'new': 689, 'different': 202, 'let': 552, 'sad': 229, 'accepted': 411, 'first': 634, 'home': 689, 'mine': 193, 'stopped': 55, 'cold': 203, 'hot': 209, 'dough': 6, 'found': 307, 'stymied': 5, 'wrote': 74, 'unsure': 269, 'might': 429, 'somewhere': 90, 'unintended': 5, 'basically': 44, 'fake': 56, 'realm': 5, 'science': 30, 'fiction': 29, 'hate': 324, 'living': 253, 'dad': 94, 'roof': 7, 'give': 519, 'excuse': 16, 'asshole': 11, 'he': 207, 'providing': 29, 'live': 325, 'unwelcome': 44, 'possible': 110, 'ill': 500, 'leave': 302, 'keep': 587, 'pleasantly': 34, 'surprised': 229, 'supportiveness': 4, 'ease': 57, 'situation': 270, 'anymore': 189, 'vigorous': 36, 'sexual': 47, 'activity': 68, 'coming': 289, 'yes': 135, 'misspelt': 6, 'cumming': 6, 'part': 539, 'begin': 140, 'fall': 153, 'mom': 216, 'graceful': 60, 'warm': 116, 'loving': 247, 'smile': 168, 'rob': 6, 'nurture': 6, 'heal': 42, 'talk': 372, 'brother': 84, 'law': 43, 'extremely': 241, 'popular': 329, 'one': 1962, 'stiff': 15, 'ate': 42, 'could': 1477, 'gentle': 125, 'tingle': 23, 'throughout': 62, 'almost': 301, 'healing': 21, 'place': 539, 'cellular': 3, 'level': 114, 'pressured': 236, 'young': 143, 'beautiful': 229, 'thin': 29, 'depending': 30, 'trend': 12, 'girl': 449, 'rejuvenated': 17, 'butt': 32, 'implant': 5, 'several': 85, 'week': 675, 'tortured': 195, 'hallucination': 5, 'moving': 140, 'people': 2076, 'figure': 76, 'sound': 141, 'vibration': 20, 'nearly': 58, 'finished': 127, 'detox': 5, 'amazing': 497, 'selfish': 138, 'back': 1150, 'former': 32, 'asked': 197, 'prayer': 52, 'others': 503, 'considered': 34, 'may': 557, 'deserve': 68, 'answered': 16, 'pain': 323, 'parent': 202, 'enraged': 18, 'becomes': 49, 'violent': 112, 'roller': 10, 'coaster': 10, 'emotion': 165, 'supposed': 151, 'unpleasant': 30, 'suppose': 102, 'truth': 129, 'shared': 42, 'havent': 228, 'faithful': 213, 'dwelled': 3, 'doubt': 92, 'uncertainty': 31, 'faith': 70, 'bought': 68, 'clearly': 54, 'makeup': 34, 'miserable': 81, 'c': 31, 'proudest': 1, 'mum': 38, 'earth': 52, 'family': 641, 'love': 1716, 'matter': 234, 'else': 319, 'embarrassed': 73, 'michelle': 7, 'ballistic': 7, 'necessarily': 23, 'f': 25, 'bomb': 7, 'sex': 92, 'necessary': 44, 'reassured': 186, 'see': 1124, 'print': 51, 'ovary': 1, 'aching': 61, 'talking': 161, 'chris': 24, 'mostly': 95, 'took': 166, 'many': 741, 'unimportant': 35, 'stuff': 259, 'tired': 255, 'ready': 199, 'finding': 81, 'given': 156, 'unsuitable': 1, 'image': 104, 'blamed': 15, 'result': 174, 'sit': 179, 'successfully': 9, 'manage': 57, 'stretch': 36, 'mxm': 6, 'canvas': 24, 'achievement': 20, 'worthwhile': 211, 'usage': 7, 'money': 204, 'use': 388, 'future': 297, 'brief': 17, 'nay': 6, 'important': 511, 'honored': 279, 'influence': 30, 'talented': 314, 'fully': 86, 'alive': 58, 'woman': 401, 'piece': 218, 'garbage': 19, 'leanne': 2, 'thought': 777, 'miss': 217, 'drove': 48, 'dannika': 2, 'school': 365, 'rushed': 107, 'greeted': 5, 'turned': 57, 'corner': 38, 'hellip': 16, 'furious': 28, 'shooter': 2, 'happy': 848, 'excited': 514, 'since': 430, 'learned': 120, 'show': 337, 'horse': 46, 'trusting': 226, 'relaxed': 233, 'quiet': 55, 'handled': 28, 'frequently': 23, 'start': 452, 'december': 23, 'done': 392, 'smug': 198, 'realize': 146, 'everything': 659, 'ok': 377, 'worthless': 52, 'struggling': 30, 'lay': 36, 'bed': 249, 'dark': 86, 'terrified': 323, 'least': 402, 'meet': 137, 'airport': 38, 'supportive': 146, 'arm': 161, 'bitter': 78, 'today': 814, 'mood': 163, 'strange': 501, 'entire': 68, 'guess': 355, 'passed': 87, 'involved': 69, 'car': 156, 'accident': 33, 'bringing': 32, 'present': 78, 'exam': 96, 'flying': 51, 'colour': 15, 'letting': 80, 'animosity': 2, 'towards': 262, 'wronged': 87, 'dog': 91, 'cannot': 237, 'understand': 338, 'decided': 247, 'throwing': 21, 'shitty': 64, 'shit': 82, 'paper': 83, 'starting': 274, 'wryly': 6, 'amused': 168, 'banal': 6, 'comedy': 19, 'error': 8, 'turning': 76, 'vital': 223, 'hear': 296, 'owner': 14, 'victimized': 10, 'association': 11, 'attorney': 1, 'manager': 22, 'wont': 186, 'cry': 253, 'lily': 9, 'going': 1616, 'opportunity': 172, 'lasted': 4, 'short': 96, 'month': 404, 'ton': 38, 'catching': 29, 'good': 1355, 'look': 837, 'getting': 619, 'overwhelming': 35, 'spritz': 7, 'toner': 6, 'really': 2766, 'calm': 263, 'soothe': 9, 'even': 1586, 'soon': 203, 'ons': 7, 'coronation': 6, 'street': 69, 'alright': 11, 'class': 356, 'combination': 21, 'unsuccessful': 11, 'stress': 104, 'late': 74, 'horrible': 111, 'resulted': 12, 'grappling': 4, 'rarely': 43, 'advance': 22, 'cause': 172, 'always': 1136, 'stick': 31, 'rule': 41, 'posting': 101, 'online': 42, 'wouldnt': 93, 'prepared': 46, 'say': 1095, 'somebody': 65, 'face': 363, 'imagine': 106, 'becoming': 54, 'group': 154, 'idea': 264, 'homesick': 40, 'yet': 461, 'workout': 59, 'fabulous': 265, 'eye': 335, 'touch': 125, 'assuredly': 7, 'return': 94, 'shall': 52, 'vain': 64, 'friday': 70, 'awful': 94, 'cramp': 33, 'honoured': 219, 'call': 270, 'friend': 891, 'brotherhood': 9, 'begun': 29, 'apprehensive': 235, 'thick': 31, 'black': 84, 'rain': 65, 'cloud': 24, 'stormed': 5, 'sky': 41, 'town': 44, 'stated': 13, 'reason': 362, 'fearful': 181, 'unsafe': 12, 'shaken': 269, 'tsa': 7, 'quite': 747, 'pulled': 31, 'side': 205, 'creative': 286, 'croissant': 8, 'lunch': 38, 'awkward': 76, 'overcompensate': 1, 'talkative': 7, 'finally': 283, 'companion': 26, 'especially': 343, 'lonely': 113, 'disappoint': 9, 'loved': 416, 'blog': 551, 'src': 106, 'eager': 221, 'quilting': 35, 'horny': 105, 'poem': 43, 'pressure': 114, 'uncomfortable': 232, 'sense': 315, 'understanding': 71, 'stranger': 40, 'land': 27, 'raising': 28, 'son': 115, 'father': 110, 'ancestral': 8, 'shower': 49, 'questioning': 23, 'gorgeous': 275, 'fantastic': 234, 'confident': 391, 'movement': 39, 'effortlessly': 6, 'energetic': 216, 'bouncy': 96, 'gym': 56, 'run': 274, 'outside': 187, 'kid': 378, 'take': 727, 'pram': 6, 'long': 506, 'walk': 300, 'often': 384, 'three': 223, 'burst': 34, 'tear': 117, 'devastating': 13, 'release': 64, 'seemed': 66, 'rich': 264, 'space': 137, 'dumping': 8, 'wanted': 360, 'pumpkin': 8, 'spice': 15, 'latte': 2, 'last': 626, 'coffee': 46, 'maybe': 329, 'badly': 77, 'shes': 193, 'hyperchondria': 5, 'exaggeration': 5, 'habit': 42, 'openly': 23, 'questioned': 22, 'clench': 14, 'assured': 294, 'called': 165, 'figured': 29, 'right': 1017, 'name': 103, 'utterly': 98, 'affirmed': 3, 'question': 207, 'perhaps': 96, 'office': 67, 'nice': 198, 'hair': 192, 'rebellious': 64, 'celebrates': 1, 'eid': 6, 'wash': 23, 'generous': 350, 'sleep': 283, 'deprived': 36, 'sleeping': 74, 'night': 467, 'giving': 196, 'bloging': 6, 'sitting': 194, 'amp': 270, 'cat': 65, 'lucky': 312, 'woke': 225, 'sick': 128, 'protect': 20, 'witch': 3, 'hunt': 4, 'repressed': 20, 'memory': 132, 'therapy': 20, 'disgusted': 78, 'associated': 2, 'race': 137, 'nationality': 4, 'laughed': 27, 'bitterly': 6, 'wished': 17, 'knew': 185, 'hated': 135, 'forever': 57, 'mellow': 234, 'soft': 57, 'easy': 136, 'wear': 206, 'beginning': 138, 'told': 306, 'indecisive': 97, 'genre': 27, 'disservice': 7, 'resolved': 264, 'artifically': 6, 'brazil': 5, 'bus': 60, 'steep': 10, 'mountain': 36, 'middle': 76, 'big': 246, 'storm': 27, 'wondering': 83, 'whimper': 1, 'unloved': 33, 'uncared': 1, 'certainly': 99, 'tell': 549, 'whats': 103, 'personal': 143, 'curious': 191, 'youd': 29, 'watch': 179, 'sorry': 99, 'humor': 14, 'foot': 102, 'door': 97, 'world': 634, 'walking': 104, 'trail': 27, 'fell': 28, 'whatever': 132, 'come': 876, 'mind': 319, 'directly': 22, 'jealous': 91, 'insecure': 201, 'person': 671, 'trust': 186, 'worthy': 33, 'sweet': 508, 'holiday': 150, 'influenced': 12, 'dash': 9, 'happiness': 89, 'emily': 11, 'dickinson': 2, 'example': 45, 'instead': 216, 'colon': 4, 'semi': 14, 'enhance': 8, 'enjambment': 2, 'sonnet': 2, 'claim': 24, 'redeem': 7, 'point': 407, 'beating': 39, 'head': 250, 'wall': 101, 'either': 156, 'intimidated': 217, 'concept': 22, 'lit': 29, 'groggy': 48, 'routine': 45, 'view': 136, 'isnt': 170, 'thats': 286, 'fine': 327, 'hold': 146, 'shocked': 178, 'awe': 15, 'wonder': 225, 'rumour': 5, 'st': 27, 'fear': 161, 'failure': 32, 'valued': 258, 'appreciated': 66, 'arent': 79, 'anywhere': 52, 'nature': 58, 'relationship': 235, 'change': 347, 'regularly': 21, 'relaxing': 18, 'music': 198, 'invigorated': 162, 'afterward': 31, 'distracted': 90, 'tend': 82, 'practice': 62, 'shut': 46, 'w': 40, 'youtube': 30, 'specifically': 25, 'tango': 7, 'shy': 228, 'mak': 5, 'opposite': 24, 'hard': 382, 'far': 288, 'enough': 839, 'pic': 39, 'lol': 85, 'weird': 476, 'slept': 32, 'wish': 270, 'okay': 68, 'thinking': 365, 'earlier': 38, 'here': 22, 'cooped': 13, 'restless': 109, 'needy': 36, 'lost': 215, 'weight': 164, 'fit': 109, 'tiny': 53, 'unable': 36, 'didnt': 716, 'presence': 100, 'fan': 149, 'current': 79, 'president': 23, 'conservative': 13, 'enclose': 4, 'verse': 21, 'weigh': 9, 'odd': 49, 'parenting': 21, 'punished': 53, 'stupid': 180, 'chastised': 1, 'behaving': 3, 'stay': 219, 'cut': 113, 'everyone': 389, 'comfort': 87, 'solitude': 6, 'meditation': 12, 'working': 297, 'project': 180, 'alone': 326, 'act': 151, 'bird': 56, 'air': 139, 'carefree': 212, 'manner': 31, 'revise': 2, 'reply': 29, 'appropriate': 9, 'receive': 52, 'offended': 95, 'felt': 782, 'died': 48, 'irrevocably': 1, 'gone': 172, 'alex': 14, 'matt': 5, 'regretful': 44, 'visit': 63, 'educating': 14, 'supporting': 374, 'educationg': 6, 'mama': 10, 'papa': 6, 'key': 63, 'hostile': 61, 'toward': 126, 'boring': 67, 'sewing': 29, 'nothing': 422, 'fabric': 33, 'liked': 200, 'original': 24, 'fragrance': 18, 'freshen': 6, 'lightly': 26, 'scent': 47, 'underwear': 9, 'drawer': 7, 'gorgeously': 9, 'glamorous': 144, 'girly': 9, 'apart': 45, 'become': 319, 'push': 89, 'succeed': 44, 'successful': 363, 'wounding': 6, 'process': 95, 'underway': 9, 'sometimes': 538, 'whether': 185, 'added': 82, 'antagonism': 5, 'misunderstanding': 6, 'reluctant': 252, 'wholeheartedly': 5, 'traditional': 26, 'armistice': 5, 'remembrance': 14, 'leg': 118, 'mile': 104, 'unfair': 16, 'reaction': 73, 'best': 314, 'seriously': 87, 'blessed': 448, 'abused': 33, 'maligned': 1, 'nervous': 394, 'anticipating': 9, 'danger': 26, 'typing': 22, 'admit': 216, 'hilarious': 6, 'e': 43, 'card': 94, 'exactly': 190, 'stressed': 219, 'moment': 562, 'hy': 1, 'dull': 57, 'inarticulate': 2, 'normal': 119, 'kick': 96, 'gear': 19, 'irritable': 128, 'motivation': 48, 'innocent': 275, 'illustrating': 6, 'satisfaction': 19, 'longer': 234, 'contributing': 22, 'looter': 3, 'driven': 34, 'consumerism': 9, 'corpse': 4, 'america': 63, 'revered': 5, 'younger': 31, 'spend': 171, 'vacation': 46, 'obligation': 52, 'headache': 41, 'emotional': 134, 'blackmailed': 1, 'herpes': 4, 'checkup': 4, 'clinic': 16, 'wednesday': 25, 'worked': 121, 'try': 517, 'bitchy': 82, 'upon': 135, 'retrospect': 15, 'trying': 562, 'shake': 74, 'second': 183, 'terrible': 85, 'making': 542, 'definitive': 6, 'decision': 163, 'certain': 200, 'egg': 23, 'benedict': 12, 'equally': 56, 'delicious': 236, 'summery': 6, 'element': 18, 'favorite': 54, 'beach': 53, 'bummin': 6, 'smiled': 31, 'arcade': 6, 'simple': 79, 'purpose': 79, 'absolutely': 194, 'comfortable': 367, 'physically': 71, 'emotionally': 71, 'practically': 24, 'hopped': 24, 'tube': 14, 'ride': 53, 'london': 42, 'another': 396, 'ignored': 43, 'monitoring': 2, 'across': 132, 'please': 100, 'stop': 326, 'cancer': 24, 'there': 171, 'chance': 111, 'joy': 221, 'dream': 194, 'true': 171, 'puzzling': 6, 'particular': 51, 'administrator': 12, 'singled': 6, 'praise': 34, 'ability': 138, 'student': 193, 'ssr': 6, 'productive': 236, 'tried': 133, 'fill': 47, 'befriending': 9, 'using': 118, 'needed': 219, 'complete': 94, 'loser': 17, 'fed': 25, 'peace': 146, 'within': 159, 'external': 6, 'effort': 128, 'positive': 355, 'break': 120, 'exhausted': 65, 'guilty': 101, 'better': 707, 'hung': 7, 'baby': 254, 'precious': 311, 'neglecting': 15, 'beloved': 295, 'shalt': 6, 'co': 86, 'din': 6, 'hw': 6, 'keen': 150, 'xxx': 7, 'edge': 54, 'precipice': 5, 'staring': 23, 'ahead': 109, 'totally': 228, 'whole': 376, 'front': 159, 'uni': 8, 'free': 486, 'advocate': 23, 'die': 85, 'lobbying': 2, 'politician': 10, 'sympathic': 2, 'paying': 31, 'attention': 91, 'third': 26, 'block': 28, 'tingly': 3, 'knowing': 208, 'hour': 415, 'examination': 9, 'hesitant': 195, 'suggestion': 50, 'outcome': 41, 'sincere': 273, 'terribly': 70, 'fond': 90, 'majority': 17, 'precise': 9, 'gaining': 12, 'control': 245, 'damaged': 51, 'aspect': 52, 'security': 37, 'bombed': 6, 'interview': 25, 'freaking': 50, 'tastic': 10, 'advise': 9, 'whose': 40, 'cool': 419, 'pull': 64, 'high': 158, 'pick': 104, 'smelly': 6, 'jalopy': 6, 'plant': 32, 'window': 107, 'material': 56, 'kit': 20, 'site': 97, 'beautifully': 6, 'curated': 6, 'blood': 44, 'proved': 16, 'lethargic': 75, 'rubbish': 11, 'low': 140, 'iron': 2, 'prescribed': 13, 'tablet': 14, 'dangerous': 89, 'compassionate': 69, 'doesnt': 199, 'capture': 27, 'beauty': 88, 'lovely': 233, 'polish': 18, 'main': 51, 'root': 10, 'secure': 39, 'financially': 15, 'socially': 50, 'bite': 11, 'bullet': 2, 'supported': 28, 'nightmare': 13, 'disturbed': 45, 'case': 69, 'customer': 40, 'sufferer': 7, 'battle': 23, 'exceptionally': 37, 'tomorrow': 121, 'monday': 32, 'timetable': 7, 'wheeeeee': 6, 'looking': 462, 'forward': 158, 'beaten': 51, 'disappointment': 21, 'husband': 205, 'convinced': 305, 'pattern': 39, 'wearing': 150, 'dress': 102, 'slutty': 18, 'antique': 3, 'obviously': 45, 'edgy': 3, 'perverse': 6, 'pride': 51, 'managed': 106, 'ordered': 37, 'reach': 111, 'tempting': 6, 'human': 154, 'flesh': 9, 'close': 250, 'impatient': 79, 'easily': 71, 'annoyed': 120, 'outraged': 32, 'blatant': 2, 'defiance': 4, 'seems': 230, 'olivias': 2, 'prominent': 2, 'characteristic': 2, 'positively': 19, 'official': 26, 'mainly': 28, 'text': 50, 'clever': 228, 'written': 87, 'rather': 451, 'spoken': 17, 'seriouly': 6, 'respected': 260, 'privacy': 18, 'joseph': 6, 'walt': 6, 'mother': 254, 'finance': 24, 'six': 42, 'defend': 16, 'warming': 4, 'excelent': 6, 'video': 90, 'game': 203, 'anime': 23, 'movie': 186, 'master': 61, 'r': 35, 'wanting': 180, 'enjoy': 246, 'desire': 151, 'affection': 13, 'max': 7, 'isolated': 50, 'crowd': 29, 'anti': 17, 'social': 53, 'turn': 218, 'blank': 70, 'continuously': 3, 'suicidalness': 1, 'vulnerable': 269, 'homeless': 10, 'waste': 14, 'agitated': 277, 'effect': 98, 'dose': 18, 'exit': 2, 'store': 48, 'kerry': 3, 'civil': 15, 'union': 3, 'gay': 29, 'equality': 3, 'judged': 33, 'ridiculed': 6, 'intelligent': 258, 'insulted': 75, 'light': 133, 'yellow': 7, 'brick': 1, 'road': 56, 'shining': 3, 'brighter': 26, 'boot': 21, 'envious': 58, 'curse': 7, 'together': 207, 'apologize': 15, 'youre': 146, 'naomi': 4, 'klein': 4, 'sens': 6, 'unconsciousness': 1, 'came': 236, 'suspect': 30, 'private': 21, 'kind': 571, 'faux': 7, 'hawk': 6, 'must': 357, 'looked': 88, 'dykey': 6, 'cast': 18, 'caveman': 2, 'complimented': 6, 'plus': 34, 'diverse': 24, 'price': 64, 'tag': 14, 'fund': 27, 'plot': 35, 'lighted': 12, 'relatively': 19, 'economically': 6, 'hand': 354, 'bead': 6, 'consciously': 19, 'breathing': 61, 'accomplish': 26, 'afternoon': 73, 'compare': 31, 'checking': 26, 'hemorrhoid': 2, 'shoe': 77, 'glamourous': 24, 'pair': 61, 'designer': 50, 'box': 46, 'trimming': 12, 'largely': 25, 'fact': 312, 'romantic': 128, 'hidden': 27, 'warmly': 6, 'hugging': 6, 'became': 69, 'dismayed': 15, 'studied': 12, 'outfit': 74, 'wax': 8, 'draw': 66, 'unibrow': 6, 'rid': 42, 'spare': 13, 'creeping': 6, 'eyelid': 7, 'width': 15, 'li': 6, 'style': 122, 'border': 9, 'margin': 12, 'recall': 32, 'longing': 132, 'watched': 80, 'olympic': 15, 'runner': 35, 'bodypump': 6, 'dvd': 24, 'gather': 8, 'coaching': 12, 'tip': 60, 'compulsory': 6, 'cue': 6, 'strong': 393, 'limited': 11, 'phone': 117, 'arrangment': 5, 'bring': 114, 'pas': 85, 'pea': 6, 'receiving': 29, 'attack': 32, 'document': 22, 'familiar': 39, 'batch': 6, 'file': 40, 'thankful': 404, 'blessing': 65, 'hoping': 87, 'weatherman': 6, 'forecast': 6, 'venture': 32, 'microcosm': 1, 'missed': 113, 'party': 104, 'learnt': 18, 'instinct': 21, 'blossoming': 6, 'anxiety': 71, 'nemo': 4, 'happen': 171, 'session': 55, 'useful': 301, 'gave': 109, 'tool': 69, 'move': 221, 'loneliness': 29, 'newtown': 2, 'disappointed': 109, 'paining': 3, 'lord': 88, 'betrayed': 48, 'lose': 139, 'loyalty': 9, 'loyal': 120, 'frantic': 157, 'responsibility': 58, 'teacher': 115, 'honor': 16, 'lyric': 46, 'steve': 13, 'broke': 54, 'beared': 1, 'witness': 10, 'incredibly': 158, 'bouncer': 1, 'emo': 38, 'smoker': 5, 'quit': 18, 'ago': 214, 'believe': 343, 'cigarette': 39, 'insecurity': 22, 'pictured': 18, 'crave': 8, 'submission': 13, 'submissive': 32, 'pissed': 85, 'wake': 146, 'falling': 61, 'deep': 146, 'slumber': 12, 'sort': 266, 'hindrance': 3, 'keeping': 93, 'sensitive': 45, 'spelled': 3, 'round': 52, 'quarter': 26, 'snow': 29, 'accumulate': 6, 'conifer': 6, 'shoveling': 6, 'shirt': 45, 'sleeve': 9, 'gotten': 85, 'taste': 74, 'play': 186, 'squeal': 8, 'glee': 8, 'mud': 13, 'squishing': 6, 'toe': 42, 'outdoors': 18, 'humorous': 36, 'caller': 6, 'busy': 96, 'thread': 3, 'energized': 55, 'potential': 50, 'society': 67, 'privileged': 161, 'nauseated': 6, 'thrilled': 192, 'pitiful': 1, 'wailing': 5, 'salty': 1, 'anger': 77, 'hurt': 290, 'saturating': 1, 'folk': 79, 'virginia': 15, 'florida': 9, 'handful': 19, 'swing': 16, 'state': 166, 'agree': 35, 'constant': 54, 'barrage': 2, 'putting': 157, 'death': 78, 'row': 28, 'smart': 226, 'waking': 59, 'devoted': 61, 'sadness': 78, 'distinctly': 4, 'clermont': 3, 'focus': 100, 'seem': 192, 'naughty': 121, 'including': 23, 'cherish': 12, 'sharing': 110, 'instructables': 6, 'weekend': 147, 'continued': 53, 'along': 144, 'line': 116, 'probably': 331, 'dish': 41, 'wed': 4, 'fight': 51, 'finland': 7, 'landed': 18, 'paris': 26, 'grade': 35, 'janne': 5, 'suominen': 5, 'crappy': 66, 'aac': 2, 'scared': 278, 'terrific': 186, 'surgery': 44, 'caring': 180, 'attract': 4, 'buti': 1, 'decide': 103, 'staying': 68, 'afraid': 370, 'worse': 43, 'cried': 52, 'thanking': 6, 'special': 359, 'buy': 180, 'yardage': 4, 'art': 144, 'gallery': 11, 'losing': 89, 'adapt': 7, 'abdomen': 13, 'welcomed': 206, 'tight': 20, 'knit': 9, 'smaller': 13, 'lego': 12, 'motor': 30, 'delay': 6, 'exercise': 87, 'meantime': 16, 'fulfilling': 21, 'misplaced': 12, 'pity': 49, 'amazed': 244, 'known': 105, 'skip': 27, 'particularly': 244, 'lazy': 88, 'devoid': 3, 'comment': 187, 'add': 139, 'pileon': 5, 'clear': 57, 'interested': 64, 'applying': 12, 'learning': 140, 'communion': 9, 'tremendous': 9, 'importance': 18, 'personally': 82, 'theologically': 3, 'brig': 6, 'building': 43, 'strengthening': 12, 'christianity': 6, 'bike': 70, 'rest': 221, 'temple': 18, 'happpy': 6, 'field': 66, 'academic': 18, 'athletics': 6, 'anxious': 315, 'job': 321, 'require': 19, 'pop': 70, 'chair': 30, 'theyd': 14, 'navigating': 6, 'delighted': 110, 'punching': 6, 'headed': 39, 'onto': 83, 'wood': 34, 'normally': 66, 'angry': 239, 'actually': 613, 'size': 55, 'perspective': 70, 'sake': 44, 'huckleberry': 11, 'finn': 5, 'censored': 5, 'kamiki': 1, 'kun': 1, 'laugh': 63, 'nozomi': 1, 'knot': 14, 'stomach': 120, 'fool': 27, 'nonchan': 1, 'choice': 168, 'recognizing': 2, 'choose': 72, 'persistence': 1, 'allowing': 26, 'celebrated': 8, 'wait': 100, 'till': 32, 'spirit': 116, 'guide': 32, 'observant': 4, 'cheerleader': 4, 'depressing': 10, 'grey': 37, 'unrewarding': 4, 'sweaty': 14, 'episode': 51, 'wonderful': 396, 'beaubronz': 3, 'tanning': 3, 'brand': 54, 'latest': 16, 'mantra': 14, 'stolen': 11, 'boudoir': 3, 'lash': 18, 'asma': 3, 'docrat': 3, 'watching': 182, 'romcoms': 2, 'entered': 34, 'morris': 6, 'quickly': 124, 'changed': 62, 'heartless': 30, 'chemo': 29, 'toxin': 3, 'washing': 14, 'single': 127, 'cell': 13, 'cringe': 11, 'hosted': 6, 'series': 94, 'threatened': 216, 'reading': 305, 'allthingsbucks': 6, 'brought': 63, 'lump': 13, 'throat': 44, 'upset': 129, 'shouldnt': 71, 'write': 515, 'lame': 51, 'determined': 267, 'nomming': 6, 'artist': 113, 'display': 26, 'public': 65, 'lively': 108, 'assaulted': 92, 'wrap': 15, 'thyroid': 9, 'dramatic': 9, 'whiny': 10, 'worried': 102, 'cubicle': 9, 'unless': 58, 'fairly': 113, 'clean': 54, 'slate': 3, 'unilaterally': 2, 'forgiving': 5, 'intentionally': 7, 'carelessness': 2, 'thereby': 26, 'forget': 102, 'perceived': 3, 'insult': 7, 'abuse': 11, 'teach': 56, 'harder': 52, 'bury': 5, 'holy': 35, 'gooooood': 6, 'massage': 15, 'reassuring': 6, 'reached': 49, 'career': 108, 'highly': 49, 'conversation': 119, 'energy': 241, 'bad': 294, 'gigantic': 14, 'slow': 51, 'clumsy': 7, 'google': 51, 'seo': 1, 'wink': 6, 'next': 390, 'mistake': 39, 'sliding': 8, 'throbbing': 11, 'cock': 10, 'novel': 56, 'position': 66, 'uncertain': 238, 'stock': 13, 'market': 37, 'rally': 13, 'judging': 6, 'dazed': 97, 'disbelieving': 4, 'oh': 93, 'super': 291, 'closer': 32, 'due': 106, 'date': 95, 'page': 98, 'irresponcible': 6, 'college': 93, 'favourite': 25, 'uk': 31, 'limit': 24, 'happier': 16, 'player': 83, 'benzema': 6, 'mould': 6, 'impending': 15, 'prize': 16, 'layered': 1, 'forgiveness': 9, 'expectation': 49, 'gloomy': 36, 'completed': 18, 'lifestyle': 47, 'porn': 13, 'industry': 37, 'satisfied': 369, 'fulfilled': 27, 'buck': 11, 'overhear': 6, 'victory': 12, 'tune': 24, 'geek': 17, 'ringtone': 6, 'triumphant': 162, 'literature': 6, 'author': 85, 'dumb': 40, 'soo': 15, 'mixture': 26, 'hungry': 50, 'topic': 59, 'backing': 14, 'actual': 42, 'knowledge': 99, 'relying': 11, 'solely': 9, 'opinion': 91, 'open': 207, 'everytime': 15, 'went': 386, 'hike': 19, 'jubilant': 30, 'proud': 351, 'touched': 35, 'soccer': 12, 'ball': 37, 'inside': 285, 'accept': 65, 'limitation': 6, 'older': 68, 'held': 60, 'resentful': 96, 'charmed': 60, 'exciting': 50, 'chapter': 17, 'judge': 29, 'responsible': 13, 'action': 81, 'stem': 19, 'mainstream': 13, 'importantly': 24, 'community': 140, 'seek': 15, 'belongingness': 6, 'edition': 6, 'song': 311, 'constantly': 93, 'baker': 8, 'thia': 3, 'sandwich': 27, 'scruncher': 3, 'mini': 15, 'rex': 9, 'currently': 66, 'tongue': 36, 'carby': 6, 'glycemic': 6, 'meal': 55, 'breakfast': 45, 'dessert': 26, 'moz': 6, 'gracious': 111, 'heat': 66, 'despite': 106, 'resource': 37, 'answer': 110, 'asking': 77, 'fitness': 28, 'wise': 49, 'calf': 8, 'tire': 11, 'drag': 26, 'darkness': 23, 'ought': 58, 'adding': 42, 'sarcastic': 41, 'age': 135, 'couldnt': 209, 'distraught': 75, 'helpless': 254, 'lorena': 5, 'kidnapped': 7, 'band': 39, 'enemy': 17, 'desperate': 27, 'freedom': 82, 'unfortunate': 41, 'mister': 1, 'magnum': 1, 'cheer': 15, 'travelling': 2, 'period': 81, 'tragic': 36, 'sparkle': 8, 'chatted': 3, 'masturbate': 3, 'stinkin': 1, 'reviewer': 1, 'silent': 20, 'audience': 99, 'falsely': 4, 'inflated': 4, 'expressing': 23, 'articulate': 10, 'said': 528, 'nap': 32, 'grumpy': 64, 'studying': 33, 'discovering': 14, 'crossed': 21, 'portray': 5, 'exact': 14, 'meaning': 44, 'truly': 286, 'condition': 39, 'worker': 43, 'fly': 36, 'uae': 1, 'oblivious': 1, 'conflict': 22, 'plague': 1, 'resolving': 1, 'saw': 131, 'cena': 1, 'kissing': 14, 'maria': 1, 'surprisingly': 11, 'obnoxious': 33, 'definately': 5, 'weather': 93, 'pressing': 16, 'torso': 4, 'siwons': 4, 'breath': 93, 'indifferent': 3, 'treasured': 30, 'bloom': 3, 'casual': 186, 'lift': 24, 'sat': 138, 'couch': 54, 'checked': 25, 'contented': 204, 'happened': 171, 'trip': 152, 'milestone': 18, 'snuggle': 9, 'growing': 72, 'personality': 58, 'kindness': 20, 'allow': 89, 'conscious': 23, 'interact': 9, 'various': 11, 'moisturizer': 12, 'skin': 151, 'oily': 4, 'product': 120, 'designed': 15, 'contain': 13, 'moisturizing': 3, 'ingredient': 10, 'oil': 31, 'environment': 70, 'spider': 7, 'discussion': 38, 'color': 108, 'font': 13, 'georgia': 5, 'serif': 5, 'height': 39, 'deny': 11, 'crush': 17, 'ache': 41, 'settled': 33, 'weariness': 11, 'slipped': 5, 'shoulder': 42, 'nowhere': 24, 'near': 69, 'closing': 11, 'uncle': 48, 'radio': 41, 'accidentally': 26, 'feared': 8, 'house': 246, 'playing': 107, 'conflicted': 16, 'follower': 47, 'christ': 42, 'celebrate': 45, 'pagan': 6, 'originated': 6, 'modern': 30, 'weightless': 6, 'repentant': 6, 'opposition': 7, 'daycare': 8, 'relax': 28, 'motif': 5, 'inbalance': 5, 'committment': 5, 'counselling': 11, 'reconciliation': 5, 'training': 109, 'grammar': 19, 'language': 51, 'comparing': 9, 'sneha': 2, 'leader': 37, 'country': 171, 'depict': 3, 'george': 17, 'fulfill': 12, 'forgetting': 10, 'hands': 3, 'aahhh': 3, 'magic': 55, 'scone': 1, 'food': 218, 'frugal': 6, 'helplessness': 1, 'kill': 31, 'messy': 26, 'photo': 186, 'spiteful': 18, 'vindictive': 2, 'bitch': 43, 'reassures': 5, 'uptight': 76, 'nervs': 5, 'pursue': 33, 'wedding': 41, 'min': 12, 'fast': 41, 'cranky': 64, 'lacking': 18, 'patience': 15, 'twist': 2, 'create': 113, 'explanation': 11, 'mad': 131, 'yup': 6, 'medium': 93, 'coverage': 1, 'sometime': 8, 'ugly': 47, 'neglectful': 16, 'fellow': 35, 'blogger': 58, 'glass': 76, 'bigger': 51, 'frame': 18, 'paranoid': 227, 'rewrite': 11, 'fma': 5, 'op': 11, 'half': 165, 'term': 94, 'adventurous': 225, 'admire': 37, 'athleticism': 6, 'entertained': 113, 'severely': 9, 'shape': 38, 'participate': 34, 'event': 170, 'secretary': 5, 'eh': 5, 'flower': 42, 'wonderfully': 28, 'hive': 3, 'layer': 22, 'moss': 6, 'encased': 7, 'shell': 35, 'muffling': 6, 'sharper': 6, 'pleasant': 292, 'painful': 34, 'contribute': 26, 'regard': 32, 'writer': 79, 'valuable': 260, 'trotted': 1, 'enter': 43, 'drunk': 21, 'spent': 198, 'feminist': 17, 'issue': 179, 'faking': 10, 'welcome': 27, 'mommyhood': 5, 'inability': 8, 'breastfeed': 6, 'peaceful': 155, 'xox': 6, 'itll': 12, 'real': 306, 'flawless': 66, 'somehow': 241, 'feed': 37, 'melancholy': 62, 'wither': 1, 'culture': 62, 'allowed': 109, 'awesome': 79, 'lead': 77, 'actively': 13, 'borne': 4, 'tug': 20, 'socket': 2, 'displayed': 6, 'yearning': 16, 'semblance': 5, 'normality': 5, 'appears': 11, 'dancing': 30, 'arab': 5, 'armed': 5, 'soldier': 5, 'fixed': 7, 'easier': 38, 'research': 45, 'trial': 7, 'success': 53, 'garden': 35, 'whitleys': 6, 'shoot': 42, 'tempted': 9, 'anyways': 19, 'doha': 5, 'urge': 25, 'fix': 41, 'faired': 1, 'compared': 24, 'unrelated': 1, 'permanent': 13, 'intellectual': 19, 'progress': 64, 'exert': 6, 'speaking': 62, 'japanese': 24, 'arrangement': 9, 'pass': 12, 'dating': 43, 'record': 42, 'unhappy': 81, 'wretched': 1, 'glum': 1, 'forelorn': 1, 'heartbroken': 49, 'horribly': 12, 'depressed': 116, 'join': 52, 'lady': 109, 'celebration': 26, 'womanhood': 12, 'team': 150, 'four': 101, 'simply': 190, 'noticable': 5, 'birding': 6, 'squeak': 5, 'baachan': 5, 'trolley': 5, 'planned': 20, 'summer': 145, 'breathe': 65, 'warning': 29, 'benign': 18, 'improve': 42, 'suddenly': 132, 'smarter': 24, 'smell': 90, 'bear': 24, 'motion': 41, 'bored': 28, 'ended': 110, 'shoeless': 5, 'slowing': 18, 'critical': 29, 'dennis': 2, 'covingtons': 2, 'article': 39, 'merit': 4, 'noted': 17, 'business': 94, 'refers': 6, 'ironically': 6, 'loudons': 6, 'kate': 6, 'mcgarrigle': 6, 'rufus': 6, 'wainwright': 7, 'captured': 19, 'envisioned': 5, 'intended': 39, 'vision': 33, 'intention': 32, 'cute': 309, 'attend': 25, 'blogging': 111, 'relentless': 6, 'offer': 111, 'deal': 146, 'fandom': 18, 'general': 77, 'troubled': 47, 'ongoing': 3, 'relocation': 1, 'healthy': 150, 'optimistic': 264, 'lack': 104, 'gulam': 6, 'ali': 9, 'classical': 6, 'singer': 6, 'guy': 341, 'genuine': 6, 'treat': 105, 'quality': 58, 'notice': 64, 'hiding': 31, 'according': 9, 'keenly': 11, 'greatly': 8, 'shielding': 5, 'offspring': 8, 'health': 112, 'problem': 191, 'traitor': 16, 'among': 42, 'cover': 55, 'hey': 27, 'snotface': 2, 'as': 49, 'hole': 28, 'hookah': 2, 'differently': 35, 'believed': 27, 'truthful': 78, 'sticky': 7, 'droppings': 3, 'fault': 47, 'behavior': 59, 'existed': 22, 'reveal': 27, 'lesson': 66, 'youve': 40, 'tough': 56, 'endeavoring': 6, 'build': 39, 'honesty': 8, 'authenticity': 6, 'gwiyomi': 2, 'press': 35, 'sun': 121, 'shine': 12, 'thigh': 27, 'friendly': 261, 'frightened': 167, 'spending': 89, 'poisoned': 3, 'chalice': 3, 'liberated': 11, 'recognize': 39, 'numb': 52, 'irate': 6, 'moronic': 6, 'prep': 6, 'sleepless': 3, 'ashamed': 74, 'shaky': 185, 'worst': 47, 'hit': 130, 'area': 136, 'damage': 22, 'destruction': 5, 'throw': 87, 'ocean': 23, 'win': 92, 'oscar': 5, 'narrated': 12, 'erik': 10, 'prince': 21, 'autobiography': 6, 'civilian': 7, 'warrior': 9, 'blackwater': 6, 'unsung': 6, 'hero': 23, 'war': 33, 'terror': 19, 'released': 7, 'nov': 8, 'th': 64, 'used': 270, 'dependency': 1, 'neediness': 1, 'prior': 8, 'recently': 78, 'mccarthy': 4, 'consistently': 17, 'humanize': 4, 'character': 174, 'balancing': 4, 'transition': 35, 'boy': 191, 'inadequate': 40, 'predominantly': 7, 'function': 26, 'arranged': 7, 'twelve': 3, 'previous': 41, 'usual': 74, 'recognized': 4, 'autistic': 3, 'guest': 45, 'message': 61, 'coursing': 6, 'cycle': 29, 'california': 21, 'ness': 17, 'pool': 32, 'drinking': 36, 'wine': 44, 'spritzer': 4, 'nagalene': 4, 'connecting': 7, 'via': 11, 'wifi': 4, 'stellarium': 4, 'star': 53, 'washington': 11, 'permanently': 12, 'although': 146, 'torn': 16, 'bleu': 6, 'guilt': 69, 'similarly': 13, 'situated': 10, 'neighborhood': 29, 'brandy': 5, 'considering': 65, 'pretending': 15, 'detail': 64, 'sharpe': 6, 'plateau': 7, 'buying': 59, 'wardrobe': 6, 'degree': 52, 'biology': 9, 'blown': 11, 'bother': 39, 'connection': 133, 'poppy': 4, 'mark': 87, 'beast': 12, 'shot': 50, 'screamed': 6, 'loud': 37, 'ignorance': 10, 'engage': 26, 'debate': 19, 'broaden': 6, 'lousy': 51, 'dismiss': 3, 'bright': 43, 'cheerful': 14, 'dreary': 1, 'tolerable': 1, 'assume': 19, 'moral': 33, 'damn': 97, 'sweetly': 6, 'ironic': 13, 'broadly': 6, 'whenever': 151, 'respectful': 11, 'belong': 73, 'brad': 8, 'eric': 7, 'wat': 7, 'extent': 42, 'favour': 7, 'room': 308, 'noise': 16, 'shadow': 30, 'amorous': 9, 'stage': 71, 'experienced': 79, 'disheartened': 33, 'realise': 46, 'pray': 68, 'birthday': 65, 'cancel': 9, 'stressing': 9, 'babysitting': 1, 'village': 11, 'stared': 10, 'ran': 48, 'kept': 94, 'benevolent': 36, 'inspiring': 24, 'solace': 3, 'proof': 7, 'ro': 6, 'anna': 17, 'wealth': 12, 'enjoys': 12, 'perceives': 6, 'walia': 5, 'suspicious': 100, 'tarun': 5, 'ban': 5, 'fail': 20, 'path': 98, 'dare': 21, 'biggest': 14, 'stiller': 2, 'vaughn': 2, 'hater': 2, 'enjoyment': 15, 'performance': 66, 'punjabi': 8, 'lobia': 6, 'masala': 10, 'winter': 64, 'protein': 14, 'punch': 18, 'recipe': 78, 'warmer': 6, 'terrifying': 5, 'uneasy': 16, 'empty': 79, 'daily': 87, 'park': 32, 'tonight': 146, 'pensive': 5, 'tense': 12, 'reader': 165, 'anticipation': 38, 'bqff': 4, 'theyre': 106, 'loaded': 4, 'behind': 138, 'investigate': 8, 'mythology': 8, 'subject': 84, 'shopping': 52, 'limiting': 1, 'reasonably': 8, 'greater': 44, 'injury': 21, 'physical': 74, 'impacted': 12, 'portland': 7, 'stopping': 13, 'fire': 23, 'scientist': 10, 'observing': 5, 'moon': 23, 'mention': 82, 'zero': 20, 'gravity': 8, 'force': 25, 'agnostic': 6, 'atheist': 11, 'judeo': 6, 'christian': 51, 'fundamentalist': 6, 'excitement': 43, 'wife': 75, 'newborn': 16, 'wee': 22, 'sadly': 1, 'outgrown': 1, 'fave': 1, 'thrifted': 7, 'version': 58, 'stand': 154, 'finish': 106, 'refuse': 27, 'rate': 11, 'publisher': 11, 'snobbish': 9, 'jeanette': 2, 'winterson': 2, 'essentially': 12, 'scope': 2, 'explore': 26, 'petty': 75, 'fleshed': 2, 'fluttering': 2, 'vertigo': 14, 'handle': 36, 'complacent': 96, 'admitted': 23, 'defeat': 6, 'lake': 14, 'coz': 24, 'combined': 4, 'ridden': 4, 'semester': 39, 'crafted': 6, 'click': 9, 'switched': 2, 'fuck': 58, 'favor': 13, 'entitled': 14, 'remorseful': 22, 'diet': 50, 'pill': 13, 'loss': 103, 'experiencing': 37, 'imagining': 10, 'joyful': 229, 'forearm': 4, 'disappear': 19, 'realized': 159, 'larger': 12, 'network': 19, 'interaction': 4, 'affectionate': 27, 'adore': 7, 'leonard': 3, 'cohen': 3, 'searching': 26, 'tearful': 1, 'evening': 101, 'challenge': 145, 'therefore': 51, 'train': 54, 'machine': 24, 'printer': 5, 'teenaged': 1, 'devastated': 52, 'pimple': 6, 'prom': 16, 'sunday': 84, 'mask': 14, 'missgivings': 3, 'supermarket': 20, 'dinner': 85, 'account': 21, 'terminando': 6, 'com': 10, 'eight': 27, 'um': 9, 'ano': 6, 'depois': 6, 'full': 197, 'inconsistent': 2, 'euan': 6, 'hauled': 8, 'murder': 15, 'fuckin': 9, 'chill': 17, 'impacting': 6, 'passion': 43, 'chocolate': 46, 'cookie': 13, 'sits': 9, 'spite': 23, 'raging': 6, 'pm': 30, 'likely': 52, 'erupt': 6, 'victim': 44, 'bothered': 110, 'ehb': 2, 'ow': 2, 'resolve': 20, 'grievance': 6, 'hint': 8, 'nouveau': 3, 'era': 21, 'bracelet': 6, 'stair': 15, 'occasionally': 30, 'number': 97, 'consecutive': 2, 'bow': 14, 'convenience': 13, 'pathetic': 41, 'iphone': 9, 'internet': 40, 'tv': 59, 'have': 1, 'honest': 72, 'concern': 56, 'laced': 9, 'pounded': 3, 'pavement': 5, 'male': 45, 'men': 119, 'praying': 18, 'design': 67, 'brain': 88, 'dis': 3, 'visiting': 16, 'neglect': 18, 'funeral': 2, 'killed': 22, 'proplems': 1, 'bitched': 1, 'expressed': 11, 'intensity': 22, 'spouse': 11, 'agony': 4, 'waiting': 171, 'news': 114, 'uninspired': 1, 'boost': 18, 'intimate': 4, 'bodily': 2, 'girlfriend': 51, 'avoid': 39, 'elevated': 6, 'lexicon': 6, 'uncomposed': 1, 'dressed': 13, 'director': 21, 'editor': 2, 'teachable': 1, 'tiphany': 1, 'genuinely': 75, 'interest': 69, 'non': 66, 'literary': 18, 'legitimate': 15, 'analyze': 6, 'missing': 88, 'ignoring': 12, 'heartbreaking': 1, 'alarming': 4, 'compassion': 27, 'email': 62, 'deeply': 108, 'steal': 12, 'joshua': 6, 'belief': 70, 'sincerity': 17, 'dontknow': 2, 'linus': 2, 'suffer': 34, 'produce': 40, 'alternate': 8, 'taken': 151, 'includes': 18, 'increasing': 14, 'dirty': 57, 'trash': 9, 'bin': 1, 'nobody': 28, 'sought': 4, 'curl': 36, 'natural': 47, 'red': 73, 'lowlights': 6, 'bottom': 44, 'section': 27, 'gonna': 81, 'rainy': 16, 'recent': 25, 'lapse': 2, 'sanity': 7, 'rampage': 2, 'slightest': 12, 'inconvenience': 8, 'ecstatic': 174, 'thousand': 11, 'drop': 71, 'excruciating': 8, 'horrific': 1, 'helping': 116, 'eating': 148, 'fresh': 44, 'fig': 6, 'delicate': 100, 'prettier': 4, 'dried': 9, 'hgtv': 6, 'order': 146, 'describing': 16, 'express': 94, 'gene': 6, 'dominant': 7, 'voice': 113, 'poet': 12, 'crazy': 81, 'discontent': 35, 'covetousnes': 1, 'hopelessness': 9, 'disturbing': 1, 'scar': 5, 'covered': 18, 'chest': 47, 'rhythm': 15, 'remind': 57, 'acceptable': 203, 'terpene': 6, 'flavour': 12, 'gained': 48, 'wieght': 6, 'pound': 57, 'explains': 18, 'decade': 19, 'humiliated': 46, 'reminds': 15, 'ra': 8, 'sexually': 19, 'attractive': 13, 'fantabulous': 2, 'cheated': 15, 'lie': 132, 'frankly': 35, 'defeated': 36, 'lion': 1, 'prey': 1, 'surround': 17, 'bible': 15, 'transcend': 12, 'awkwardly': 5, 'melbourne': 5, 'heavenly': 17, 'slough': 6, 'carapace': 6, 'crud': 6, 'enveloped': 12, 'thirty': 17, 'glasgow': 7, 'set': 187, 'specific': 55, 'item': 61, 'needing': 48, 'constraint': 5, 'meditating': 7, 'greatness': 13, 'psalm': 3, 'tender': 117, 'laze': 2, 'pajama': 2, 'grouchy': 44, 'possibly': 141, 'study': 71, 'terry': 6, 'drive': 95, 'yippee': 6, 'beyond': 78, 'disagree': 19, 'admission': 12, 'category': 23, 'puppy': 28, 'ratty': 6, 'clothes': 88, 'dickensian': 6, 'orphan': 13, 'generally': 147, 'blanked': 1, 'seamlessly': 1, 'jumped': 23, 'inferring': 1, 'taiwan': 10, 'shop': 40, 'bathroom': 27, 'depends': 10, 'sociable': 90, 'childhood': 23, 'aroused': 3, 'chronically': 6, 'enormous': 10, 'pink': 38, 'flamingo': 5, 'shooting': 14, 'afterwards': 43, 'drink': 98, 'agreed': 11, 'rang': 8, 'stubborn': 71, 'listening': 134, 'atheism': 6, 'fails': 6, 'log': 25, 'yeah': 60, 'received': 71, 'pleased': 254, 'regular': 40, 'doubtful': 118, 'sudden': 29, 'outburst': 8, 'hide': 81, 'extra': 83, 'biochem': 2, 'ruach': 6, 'hakodesh': 6, 'crap': 66, 'noone': 2, 'anyway': 118, 'random': 32, 'tick': 18, 'keyboard': 10, 'spilled': 6, 'screen': 18, 'travel': 42, 'scott': 18, 'dale': 5, 'frusterated': 5, 'neurotic': 60, 'freak': 13, 'smoothly': 18, 'twenty': 27, 'adaption': 2, 'harden': 6, 'toughen': 1, 'myelf': 1, 'enlist': 10, 'difficult': 77, 'mehow': 6, 'casually': 14, 'remark': 22, 'april': 19, 'infield': 6, 'insider': 6, 'plain': 21, 'tank': 7, 'top': 104, 'loose': 22, 'zara': 6, 'caught': 49, 'occupying': 1, 'chore': 10, 'ex': 33, 'honestly': 155, 'sample': 17, 'denied': 11, 'rotten': 42, 'teaching': 42, 'stone': 9, 'grumble': 7, 'groan': 1, 'journey': 86, 'thus': 52, 'sugar': 36, 'junk': 12, 'thursday': 12, 'foggy': 17, 'rollercoaster': 1, 'unplanned': 1, 'failed': 4, 'impressive': 7, 'background': 30, 'secretly': 22, 'learn': 149, 'common': 40, 'ground': 68, 'major': 21, 'orgasm': 8, 'screw': 10, 'aware': 87, 'complaining': 26, 'achieve': 38, 'goal': 131, 'surprise': 32, 'lyme': 1, 'coinfections': 1, 'amazingly': 30, 'weighing': 14, 'filling': 12, 'homework': 24, 'olympics': 6, 'rainbow': 19, 'classroom': 26, 'thanks': 82, 'tissue': 12, 'utter': 21, 'gratitude': 49, 'thankfulness': 6, 'gesture': 6, 'notion': 24, 'ensuring': 6, 'respect': 110, 'survived': 30, 'comprehensive': 6, 'survive': 18, 'winner': 14, 'access': 13, 'hollywood': 9, 'sofa': 18, 'hardcore': 17, 'sxe': 2, 'chocolating': 2, 'signal': 4, 'agreement': 7, 'readily': 1, 'aside': 28, 'cared': 24, 'rounded': 12, 'bopping': 6, 'yesterday': 168, 'singing': 12, 'charming': 115, 'exchange': 8, 'oatmeal': 7, 'bath': 12, 'schedule': 36, 'backed': 9, 'mere': 13, 'tall': 13, 'espresso': 1, 'finger': 69, 'beneath': 23, 'clawed': 6, 'distance': 50, 'sampled': 6, 'scratchy': 6, 'marge': 6, 'simpson': 6, 'sore': 58, 'whisper': 21, 'craft': 23, 'closet': 23, 'niggling': 6, 'communing': 3, 'slightly': 229, 'virtual': 11, 'affecting': 6, 'accounted': 5, 'trauma': 23, 'wound': 36, 'negative': 83, 'influencing': 12, 'complicated': 12, 'convince': 35, 'relish': 6, 'squelching': 5, 'gathered': 7, 'trick': 19, 'advantage': 19, 'artistic': 204, 'incase': 11, 'bell': 16, 'yay': 14, 'shed': 16, 'darker': 1, 'worth': 139, 'duty': 34, 'kiss': 89, 'disregard': 7, 'societal': 1, 'pertain': 1, 'preference': 7, 'challenged': 18, 'unleashed': 6, 'fromthe': 6, 'virgin': 18, 'sell': 41, 'pet': 9, 'exercising': 17, 'strength': 92, 'batting': 5, 'approaching': 8, 'marathon': 44, 'strangely': 40, 'impostor': 11, 'contract': 14, 'reinforcement': 6, 'cognitive': 7, 'reframing': 6, 'diminishing': 6, 'dissolving': 12, 'deferring': 6, 'reality': 71, 'rapture': 9, 'horsey': 6, 'rare': 40, 'brag': 4, 'fattie': 4, 'pre': 32, 'teen': 30, 'unworthy': 30, 'active': 40, 'homeschooling': 8, 'dubai': 18, 'appreciative': 129, 'partly': 40, 'annie': 7, 'churn': 6, 'esp': 6, 'double': 23, 'brown': 48, 'struff': 6, 'filled': 56, 'fedtastic': 6, 'tennis': 6, 'emm': 5, 'hoped': 28, 'attempt': 94, 'ambleside': 1, 'curtain': 17, 'firmly': 5, 'closed': 41, 'warmest': 1, 'sunniest': 1, 'remorse': 6, 'corinthian': 3, 'progressing': 12, 'fearless': 48, 'incrementally': 6, 'seemingly': 27, 'rigid': 6, 'boundary': 24, 'paranoia': 25, 'belonging': 31, 'insignificant': 6, 'slipping': 2, 'gap': 7, 'browser': 5, 'booth': 11, 'focused': 33, 'purchase': 27, 'develop': 48, 'unknown': 40, 'settling': 13, 'vineman': 3, 'racin': 3, 'spot': 107, 'mentally': 46, 'unsatisfied': 6, 'led': 31, 'search': 55, 'phrase': 28, 'awfully': 21, 'engine': 13, 'sympathetic': 129, 'netflix': 10, 'army': 10, 'misinformed': 3, 'denounced': 5, 'unafraid': 6, 'glimpse': 34, 'vibrant': 14, 'gain': 65, 'virtuous': 210, 'spin': 33, 'driving': 42, 'blackburn': 8, 'manual': 12, 'unsupervised': 6, 'sucessfully': 6, 'handbrake': 6, 'fulsome': 1, 'scale': 32, 'evolution': 8, 'education': 48, 'system': 81, 'vast': 11, 'difference': 73, 'reaching': 28, 'final': 67, 'randomly': 12, 'ultimate': 22, 'restore': 6, 'kneel': 9, 'worship': 16, 'attain': 7, 'hapiness': 6, 'sympathy': 40, 'gatsby': 3, 'evident': 15, 'met': 138, 'lock': 21, 'vault': 6, 'consider': 83, 'profession': 6, 'poetry': 25, 'poor': 28, 'tragedy': 6, 'trusted': 35, 'incapable': 12, 'sister': 111, 'concert': 14, 'achieving': 21, 'baseball': 9, 'bat': 10, 'doctor': 62, 'apt': 6, 'description': 5, 'overwhelmingly': 6, 'television': 13, 'drama': 25, 'drained': 39, 'info': 28, 'vent': 21, 'vicious': 16, 'nasty': 13, 'adult': 32, 'contracted': 1, 'sti': 1, 'test': 67, 'female': 22, 'straight': 49, 'defination': 5, 'romance': 13, 'regained': 12, 'hurting': 27, 'crucified': 1, 'forsaken': 6, 'disabled': 12, 'amongst': 26, 'dignity': 17, 'shunned': 6, 'born': 42, 'opening': 36, 'reduce': 10, 'jealousy': 46, 'command': 14, 'jew': 2, 'religious': 18, 'obey': 2, 'prohibition': 2, 'flustered': 11, 'english': 66, 'uggs': 3, 'ballet': 8, 'pump': 15, 'bandwagon': 3, 'driver': 18, 'standing': 56, 'power': 95, 'belmont': 1, 'library': 21, 'electric': 7, 'orchestra': 7, 'bless': 12, 'appreciate': 102, 'wiped': 6, 'oxygen': 11, 'alcest': 6, 'album': 63, 'goodnight': 4, 'mike': 23, 'lighter': 19, 'dunham': 2, 'portrayed': 5, 'hannahs': 2, 'happening': 92, 'minimise': 2, 'distress': 5, 'contort': 1, 'stumbling': 2, 'quote': 38, 'urging': 2, 'meant': 56, 'dedicate': 1, 'prayed': 30, 'barely': 45, 'pit': 10, 'sexy': 70, 'pose': 6, 'voicing': 1, 'upper': 8, 'weak': 68, 'wanna': 101, 'accomplished': 53, 'ritz': 1, 'cracker': 1, 'desk': 9, 'tenure': 6, 'protects': 6, 'sloth': 6, 'geared': 7, 'higher': 50, 'altitude': 6, 'watcher': 20, 'program': 57, 'count': 52, 'fought': 16, 'patient': 53, 'confidence': 99, 'suffocated': 8, 'pause': 9, 'logic': 17, 'thanksgiving': 57, 'jimmy': 2, 'coped': 5, 'wrung': 5, 'uploaded': 6, 'link': 70, 'upload': 15, 'dealing': 49, 'hyperemesis': 2, 'copying': 6, 'handsome': 36, 'hanging': 29, 'underage': 3, 'angel': 40, 'intermarrying': 2, 'tour': 20, 'lane': 6, 'soley': 6, 'doomed': 41, 'gladiator': 1, 'stadium': 8, 'constructed': 1, 'cardboard': 7, 'copy': 30, 'romeo': 2, 'juliet': 2, 'outsider': 11, 'screaming': 9, 'glancing': 11, 'heavy': 34, 'rucksack': 3, 'partner': 81, 'cosmically': 1, 'deed': 6, 'contraction': 12, 'caused': 18, 'v': 18, 'flung': 6, 'suitcase': 17, 'crossing': 11, 'explode': 14, 'pressurized': 6, 'cabin': 13, 'listen': 163, 'seeking': 15, 'acceptance': 31, 'provide': 79, 'teammate': 3, 'peer': 26, 'scum': 2, 'lisa': 18, 'charge': 11, 'z': 7, 'nurturing': 6, 'headphone': 11, 'address': 15, 'congratulation': 8, 'slugging': 5, 'massive': 7, 'takeaway': 1, 'choccy': 1, 'binge': 12, 'instantly': 45, 'hearing': 68, 'believer': 12, 'ending': 37, 'benefit': 31, 'assertive': 1, 'aggressive': 7, 'chasing': 14, 'perceive': 26, 'dint': 19, 'chose': 43, 'talked': 86, 'treated': 42, 'vellas': 4, 'sand': 46, 'speak': 134, 'conclusion': 31, 'entail': 5, 'civilly': 1, 'title': 74, 'del': 1, 'jade': 5, 'prone': 7, 'spencer': 11, 'derfwadmanor': 6, 'suck': 43, 'achieved': 41, 'yarn': 22, 'allows': 19, 'reliving': 4, 'enthralled': 16, 'independent': 17, 'la': 45, 'destiny': 15, 'telling': 112, 'gracias': 4, 'por': 4, 'todo': 4, 'introduction': 7, 'bos': 22, 'fooled': 1, 'lied': 12, 'sensing': 11, 'shock': 23, 'idealistic': 2, 'proported': 2, 'rescue': 15, 'morose': 17, 'distract': 3, 'intensely': 25, 'nowadays': 13, 'sock': 7, 'useless': 52, 'film': 110, 'nicos': 1, 'ear': 53, 'showed': 27, 'contributed': 14, 'intelligence': 16, 'sensible': 26, 'visual': 16, 'meeting': 105, 'clicking': 6, 'option': 57, 'vomity': 6, 'definitely': 196, 'responded': 5, 'listed': 11, 'slalom': 4, 'hating': 8, 'haze': 17, 'balk': 6, 'soup': 31, 'smoke': 36, 'portion': 8, 'vunerable': 1, 'eighteen': 5, 'ups': 11, 'down': 10, 'invite': 9, 'send': 45, 'detailing': 2, 'promise': 26, 'unedited': 2, 'sticking': 18, 'bench': 11, 'favs': 5, 'tackling': 15, 'hedge': 4, 'trudging': 5, 'initially': 3, 'revovles': 6, 'toy': 24, 'ansi': 6, 'exhausting': 11, 'lb': 32, 'average': 39, 'butterfly': 33, 'government': 54, 'gulped': 2, 'lipstick': 20, 'rouge': 7, 'intense': 30, 'region': 17, 'visibly': 7, 'outer': 2, 'carniola': 2, 'somewhat': 197, 'evidence': 5, 'suburban': 8, 'palm': 9, 'blowing': 14, 'universe': 83, 'advice': 60, 'court': 7, 'devil': 11, 'suited': 3, 'playboy': 3, 'forum': 29, 'previously': 22, 'ebay': 3, 'catch': 66, 'fish': 20, 'dejected': 3, 'congress': 7, 'approach': 62, 'kairi': 2, 'lab': 11, 'rat': 12, 'cease': 8, 'gown': 11, 'plastic': 11, 'slipper': 5, 'dopey': 5, 'holier': 6, 'thou': 6, 'constructive': 13, 'fashioned': 6, 'graphic': 12, 'illustration': 6, 'fucking': 55, 'boyfriend': 79, 'saddened': 8, 'hug': 41, 'hoard': 8, 'anybody': 43, 'forgive': 51, 'demotivated': 2, 'curriculum': 8, 'possession': 22, 'startled': 50, 'comparison': 27, 'immediately': 73, 'remembered': 23, 'water': 93, 'jack': 5, 'cajoled': 6, 'bullied': 6, 'slowly': 94, 'debt': 23, 'janelle': 6, 'mon': 6, 'elle': 6, 'canada': 34, 'february': 14, 'plea': 2, 'insincere': 2, 'nosy': 6, 'jump': 37, 'museum': 3, 'unprepared': 11, 'triggered': 7, 'virus': 4, 'flu': 1, 'pinched': 5, 'pie': 26, 'crust': 6, 'struggled': 43, 'fighting': 46, 'awhile': 30, 'kicked': 24, 'teeth': 19, 'earn': 11, 'regulated': 5, 'sustained': 11, 'timing': 15, 'brings': 52, 'flow': 34, 'skill': 91, 'drafting': 6, 'dieting': 8, 'secret': 53, 'annoy': 9, 'migraine': 5, 'excellent': 31, 'service': 85, 'educate': 18, 'bashful': 30, 'joke': 16, 'note': 61, 'speaker': 3, 'dislike': 16, 'motorway': 6, 'telephone': 6, 'lived': 62, 'properly': 60, 'plenty': 53, 'repeat': 28, 'grin': 20, 'role': 50, 'grandmother': 26, 'grandma': 7, 'piss': 2, 'failing': 24, 'perform': 10, 'expected': 76, 'worrying': 34, 'forgotten': 12, 'sentence': 32, 'typed': 10, 'idiot': 44, 'sighed': 6, 'quietly': 14, 'anguished': 3, 'resigned': 15, 'remarkable': 15, 'unavoidably': 5, 'shortcoming': 5, 'beneficial': 13, 'employee': 7, 'specially': 14, 'rapidly': 10, 'ramadan': 6, 'verge': 12, 'tenderly': 9, 'cheek': 31, 'cheering': 15, 'nd': 11, 'vlog': 6, 'cloudy': 7, 'easter': 10, 'retarted': 1, 'hesitation': 7, 'engaged': 21, 'rhythmic': 6, 'hop': 37, 'technically': 2, 'ten': 31, 'basis': 49, 'b': 56, 'andover': 11, 'definition': 24, 'trouble': 26, 'engaging': 7, 'aim': 2, 'who': 37, 'autumn': 18, 'early': 82, 'andthenwear': 6, 'sent': 36, 'shiny': 12, 'tempered': 3, 'ring': 34, 'incapacitated': 1, 'flaring': 1, 'fifteen': 3, 'wave': 52, 'crashing': 14, 'covering': 18, 'downright': 11, 'amusing': 11, 'slugged': 5, 'daughter': 81, 'strutting': 4, 'creepy': 6, 'macabre': 6, 'fountain': 6, 'abit': 2, 'darn': 18, 'itttt': 1, 'tension': 36, 'friendship': 45, 'recommend': 43, 'morally': 22, 'serve': 26, 'consuming': 9, 'hovel': 3, 'demand': 20, 'creativecommons': 3, 'depth': 57, 'soul': 94, 'underrated': 13, 'nonetheless': 17, 'humbled': 29, 'hardship': 20, 'sum': 18, 'naturally': 27, 'renewed': 6, 'endurance': 12, 'worry': 118, 'herzog': 6, 'relates': 11, 'deck': 6, 'soak': 10, 'warmth': 41, 'judgment': 7, 'ridiculously': 30, 'zayne': 1, 'available': 36, 'churchoffuck': 2, 'renovation': 5, 'mammoth': 11, 'task': 30, 'harsh': 9, 'nvm': 6, 'deliberation': 6, 'firm': 9, 'salon': 12, 'predatory': 6, 'deform': 6, 'asylum': 5, 'seeker': 5, 'intermittent': 5, 'lacklustre': 6, 'pen': 19, 'diego': 1, 'vaguely': 25, 'spacy': 6, 'effective': 12, 'married': 55, 'club': 81, 'intimated': 6, 'nauseous': 33, 'dizzy': 32, 'attached': 17, 'weakness': 15, 'ordinance': 6, 'implies': 7, 'orderly': 6, 'procession': 6, 'remove': 24, 'proclaim': 5, 'continues': 26, 'correction': 5, 'powerless': 15, 'suffered': 17, 'resentment': 15, 'blow': 31, 'tuesday': 24, 'hilmari': 1, 'contribution': 23, 'unsophisticated': 1, 'immune': 6, 'alteration': 7, 'whining': 9, 'ungrateful': 45, 'fascinated': 16, 'katja': 1, 'disallusioned': 1, 'clerk': 1, 'beholder': 5, 'compliment': 21, 'statement': 43, 'everyones': 14, 'hell': 64, 'roommate': 15, 'harm': 17, 'uninteresting': 3, 'anansi': 6, 'sideline': 8, 'wet': 13, 'lettuce': 12, 'capable': 30, 'ipod': 6, 'suit': 43, 'reved': 6, 'pulp': 1, 'conference': 19, 'continuing': 34, 'cash': 21, 'gas': 22, 'envelope': 9, 'save': 54, 'jewellery': 17, 'pregnant': 63, 'passing': 43, 'pregnancy': 62, 'assumption': 19, 'snippet': 5, 'petrified': 30, 'duke': 12, 'quick': 9, 'nephew': 2, 'cheered': 9, 'sally': 10, 'mop': 4, 'atop': 4, 'hormone': 7, 'chased': 7, 'clutched': 6, 'bore': 5, 'testimony': 4, 'follow': 73, 'impression': 29, 'distant': 13, 'sequel': 9, 'overrated': 6, 'deem': 18, 'instance': 15, 'guessing': 24, 'entirety': 6, 'consumption': 6, 'un': 18, 'visitor': 20, 'collective': 6, 'increasingly': 28, 'unsettled': 12, 'disconnected': 6, 'member': 92, 'hateful': 44, 'remotely': 14, 'related': 30, 'homosexuality': 2, 'occured': 6, 'hopefully': 47, 'acting': 18, 'created': 75, 'profile': 12, 'cuz': 38, 'bundle': 20, 'sight': 36, 'improved': 12, 'million': 51, 'untrieds': 5, 'generator': 5, 'john': 1, 'boehner': 1, 'copious': 1, 'blurring': 1, 'spray': 11, 'tanned': 1, 'nicotine': 1, 'stained': 1, 'cantor': 2, 'speakership': 1, 'resonance': 1, 'classic': 21, 'symptom': 23, 'depression': 54, 'windy': 14, 'thoroughly': 16, 'vowed': 2, 'climb': 10, 'scafell': 2, 'dependence': 1, 'surrounded': 33, 'numerous': 15, 'scratch': 11, 'mixer': 3, 'extension': 3, 'sign': 40, 'courage': 18, 'emergency': 7, 'enormously': 12, 'included': 27, 'unmotivated': 9, 'cup': 53, 'bursting': 9, 'seam': 7, 'coloring': 6, 'later': 141, 'saturday': 68, 'battered': 5, 'app': 4, 'maker': 6, 'leech': 4, 'reagan': 6, 'slimmed': 1, 'visible': 1, 'stack': 12, 'illness': 26, 'veterinary': 1, 'surgeon': 7, 'dying': 14, 'frown': 1, 'upside': 12, 'beside': 54, 'hat': 27, 'harrass': 2, 'oppressed': 2, 'selective': 6, 'relate': 31, 'crushing': 4, 'lulled': 3, 'fantasy': 6, 'remote': 9, 'location': 3, 'preferably': 8, 'sunset': 3, 'cliched': 3, 'pumped': 23, 'closest': 9, 'stammer': 1, 'bone': 13, 'anguish': 18, 'unique': 35, 'communication': 10, 'replaced': 10, 'mouth': 53, 'bf': 11, 'speaks': 16, 'silence': 26, 'liking': 18, 'taught': 31, 'unconscious': 7, 'racism': 13, 'overt': 6, 'grown': 62, 'bleed': 2, 'speechless': 1, 'cramping': 14, 'dorky': 1, 'hipster': 1, 'intellect': 14, 'encountered': 10, 'sharp': 13, 'object': 37, 'inevitably': 6, 'idiotic': 19, 'sipping': 8, 'coke': 6, 'swimming': 22, 'aggravated': 22, 'mousekins': 2, 'listener': 15, 'compensate': 2, 'buffy': 5, 'multiple': 8, 'flight': 48, 'pan': 5, 'accomplishing': 16, 'si': 19, 'botany': 1, 'lec': 1, 'nursery': 11, 'helped': 68, 'enjoyable': 10, 'interesting': 48, 'pupil': 6, 'settle': 48, 'arrived': 41, 'blame': 13, 'consequence': 31, 'framework': 3, 'branch': 9, 'chickie': 6, 'scene': 65, 'cooking': 24, 'mystique': 6, 'acheivment': 6, 'surrounding': 8, 'unexpected': 14, 'insane': 11, 'housewife': 10, 'uber': 18, 'ignore': 18, 'pretend': 29, 'reiterate': 6, 'despondent': 8, 'incident': 21, 'mermaidhaire': 6, 'intuition': 12, 'direction': 75, 'compete': 13, 'justify': 14, 'hesitate': 13, 'improvement': 27, 'breakdown': 1, 'continue': 156, 'hr': 8, 'quilt': 19, 'tranquil': 18, 'archeological': 6, 'dine': 6, 'guinea': 1, 'pig': 3, 'flat': 28, 'technique': 23, 'proven': 3, 'slide': 16, 'regret': 55, 'baltimore': 1, 'introduce': 24, 'heaven': 14, 'jesus': 59, 'sparrow': 1, 'dilute': 2, 'creating': 45, 'grow': 78, 'powerful': 46, 'concerned': 44, 'leaf': 77, 'upbeat': 14, 'mournful': 2, 'bulletin': 1, 'myspace': 3, 'embrace': 68, 'careess': 3, 'curled': 19, 'hu': 2, 'jia': 2, 'dread': 29, 'thank': 98, 'certified': 1, 'ace': 1, 'burned': 8, 'ridiculous': 26, 'execute': 6, 'dishwasher': 6, 'posted': 56, 'lower': 23, 'american': 44, 'idol': 15, 'grab': 10, 'discarding': 3, 'neck': 40, 'kg': 12, 'approx': 6, 'screwed': 16, 'brow': 14, 'pondered': 3, 'compelled': 5, 'meek': 5, 'asian': 19, 'tad': 50, 'vividly': 11, 'stunned': 69, 'belt': 1, 'instructor': 13, 'dojo': 1, 'richard': 8, 'obedience': 6, 'piano': 12, 'newer': 5, 'cheaper': 24, 'threw': 21, 'youll': 21, 'offend': 23, 'foreign': 22, 'tourist': 9, 'island': 24, 'replace': 30, 'conversing': 2, 'sheer': 32, 'familiarity': 5, 'protectiveness': 6, 'slight': 18, 'franz': 6, 'liebkind': 6, 'producer': 12, 'fuhrer': 6, 'dancer': 14, 'relieved': 191, 'haha': 49, 'stepped': 29, 'candyland': 6, 'haggard': 6, 'radiant': 48, 'bag': 64, 'goddamn': 11, 'aconfident': 6, 'overcomet': 6, 'caffeined': 5, 'ad': 21, 'vista': 2, 'pro': 8, 'incorporate': 12, 'recovery': 11, 'mental': 59, 'breed': 9, 'economy': 25, 'recession': 8, 'stressful': 14, 'unemployment': 7, 'divorce': 3, 'britain': 2, 'louis': 3, 'xvi': 2, 'marie': 9, 'antoinette': 2, 'russia': 8, 'comparatively': 9, 'lemon': 19, 'bar': 36, 'crocs': 2, 'fashionable': 2, 'icon': 14, 'eyeglass': 1, 'authoritative': 2, 'stasia': 6, 'foundation': 30, 'ya': 28, 'allah': 9, 'puff': 5, 'mastered': 5, 'smiling': 50, 'spa': 12, 'treatment': 43, 'intervene': 1, 'scribble': 6, 'notebook': 10, 'ghd': 1, 'straightener': 1, 'unlikeable': 1, 'fluffy': 1, 'yunhos': 6, 'rap': 6, 'wtf': 7, 'range': 41, 'russell': 6, 'crowe': 6, 'robin': 15, 'hood': 12, 'merida': 6, 'phoenix': 2, 'illustrator': 12, 'trapping': 7, 'crosshatching': 6, 'lensflares': 6, 'artistry': 12, 'darren': 4, 'none': 45, 'ti': 12, 'dozen': 6, 'assignment': 15, 'unfortunately': 17, 'whinging': 3, 'temperature': 34, 'undutiful': 1, 'church': 89, 'oomph': 5, 'emanating': 6, 'naked': 21, 'longingly': 6, 'probing': 6, 'hardness': 6, 'foist': 6, 'scabbed': 3, 'surface': 12, 'raw': 16, 'unhealed': 3, 'underneath': 9, 'tween': 4, 'babysit': 5, 'n': 35, 'whirlwind': 2, 'distinct': 22, 'ultimately': 30, 'turnout': 6, 'retirement': 8, 'struggle': 116, 'overwhelms': 1, 'apparently': 14, 'offends': 3, 'overworked': 6, 'exclusively': 10, 'appearance': 37, 'magical': 30, 'happens': 69, 'frombut': 1, 'shamed': 18, 'moody': 13, 'subscriber': 6, 'informed': 11, 'marketing': 19, 'bank': 26, 'chunky': 3, 'commission': 3, 'factory': 9, 'butchery': 2, 'affected': 18, 'tornado': 11, 'hav': 5, 'rel': 51, 'bookmark': 40, 'babychaser': 6, 'headmaster': 1, 'served': 18, 'circle': 40, 'diversity': 10, 'guarantee': 7, 'vomit': 9, 'jolly': 60, 'neighbor': 17, 'hang': 45, 'volunteer': 21, 'introduced': 4, 'organization': 14, 'pack': 16, 'ration': 3, 'influential': 1, 'nicer': 24, 'conventional': 6, 'ceiling': 11, 'grocery': 14, 'imdoing': 6, 'balance': 51, 'skinny': 23, 'fiber': 12, 'goodbye': 6, 'entertaining': 4, 'connected': 32, 'provided': 4, 'alcohol': 13, 'crash': 7, 'apartment': 38, 'signed': 12, 'petition': 5, 'switch': 18, 'sufficient': 1, 'rampant': 6, 'coat': 26, 'rock': 40, 'swag': 1, 'fade': 11, 'disturb': 12, 'professional': 60, 'unpressed': 6, 'outlet': 7, 'walked': 148, 'experiment': 23, 'equation': 8, 'describe': 86, 'deadline': 14, 'quitting': 1, 'rugby': 4, 'mothering': 3, 'boob': 24, 'spread': 23, 'pronounced': 6, 'accordance': 6, 'faithfulness': 6, 'julia': 24, 'witty': 6, 'published': 6, 'anyones': 11, 'exception': 21, 'complaint': 8, 'forced': 25, 'creme': 8, 'counter': 14, 'redhead': 6, 'sumthg': 2, 'tat': 2, 'thk': 2, 'irc': 1, 'mi': 8, 'enthusiasm': 24, 'lover': 20, 'cuddle': 9, 'bb': 1, 'denying': 6, 'possibility': 65, 'realised': 31, 'leather': 5, 'sandal': 11, 'sport': 30, 'unhealthy': 13, 'anatomy': 14, 'ty': 6, 'loathe': 5, 'gamer': 10, 'molyneux': 2, 'regarded': 6, 'highest': 14, 'urgency': 11, 'uploading': 4, 'lemme': 1, 'arena': 5, 'representing': 3, 'client': 13, 'cagey': 1, 'leaving': 100, 'setting': 28, 'eyebrow': 13, 'waxed': 6, 'behaved': 7, 'chipping': 6, 'allergy': 9, 'quaker': 6, 'announced': 6, 'excitedly': 12, 'fortnight': 6, 'duck': 7, 'aged': 2, 'understood': 14, 'contained': 10, 'similar': 68, 'contrast': 17, 'differ': 4, 'based': 66, 'kleinkinders': 3, 'pile': 27, 'bedroom': 29, 'perpetually': 6, 'breaking': 29, 'gawd': 1, 'footballer': 1, 'extrememly': 2, 'overly': 37, 'potentially': 22, 'impulsive': 6, 'indulge': 23, 'emerges': 1, 'coordinate': 8, 'cave': 8, 'tibris': 6, 'discus': 23, 'daydreamed': 6, 'standard': 26, 'publishing': 23, 'dreamworld': 4, 'caffeine': 25, 'withdrawal': 12, 'fab': 66, 'direct': 14, 'instruction': 16, 'lee': 9, 'yo': 12, 'burden': 39, 'handheld': 12, 'cam': 11, 'sickened': 5, 'lance': 5, 'wasted': 39, 'childish': 15, 'sniffle': 12, 'itchy': 6, 'sooner': 23, 'greg': 10, 'abandoned': 6, 'volume': 8, 'expansion': 1, 'relieving': 6, 'breast': 17, 'resurrect': 6, 'lengthy': 7, 'history': 44, 'celebrity': 13, 'graduation': 15, 'yk': 4, 'identify': 24, 'destructive': 4, 'bathing': 11, 'october': 17, 'disease': 3, 'leisurely': 2, 'split': 11, 'weirdly': 9, 'sam': 22, 'angsty': 8, 'headspace': 3, 'jensen': 3, 'bon': 3, 'jovi': 3, 'prove': 28, 'refusing': 10, 'fiance': 12, 'zone': 56, 'total': 51, 'pushover': 9, 'willing': 58, 'deliver': 11, 'attribute': 13, 'score': 41, 'pole': 18, 'stats': 12, 'review': 77, 'grand': 30, 'baking': 8, 'pouting': 6, 'broken': 28, 'pained': 8, 'annoyance': 7, 'wouldve': 7, 'separation': 13, 'hearted': 1, 'explained': 15, 'described': 5, 'luck': 34, 'chat': 23, 'rustie': 6, 'dean': 6, 'hometown': 6, 'moose': 6, 'jaw': 17, 'pregant': 2, 'pub': 16, 'stayed': 32, 'stunningly': 6, 'darling': 47, 'samuel': 1, 'tinge': 14, 'nutrition': 31, 'track': 36, 'extremley': 3, 'eventually': 41, 'lens': 36, 'likeaudrey': 6, 'hepburn': 6, 'tiffany': 6, 'flounder': 5, 'luckily': 20, 'complain': 23, 'facebook': 60, 'offline': 2, 'weepy': 17, 'thanked': 11, 'amos': 6, 'retrofitting': 6, 'cohens': 6, 'basic': 19, 'merely': 21, 'homage': 6, 'restart': 1, 'argument': 30, 'ice': 41, 'perfection': 8, 'alise': 6, 'jeremy': 24, 'tiredness': 7, 'overtake': 10, 'financial': 30, 'induced': 12, 'nightlife': 5, 'speed': 19, 'clock': 15, 'daylight': 5, 'provides': 11, 'leap': 6, 'stash': 33, 'spitting': 2, 'disrespect': 10, 'percieve': 5, 'drank': 10, 'crunk': 6, 'injustice': 11, 'rise': 37, 'mg': 5, 'seroquel': 5, 'syndrome': 12, 'expression': 33, 'blogpost': 1, 'lipbalms': 1, 'subje': 1, 'reminder': 43, 'sounding': 9, 'wrestling': 13, 'outrageous': 1, 'inch': 15, 'separating': 6, 'vocal': 12, 'discussed': 16, 'blending': 5, 'plodded': 6, 'recording': 21, 'programme': 3, 'placce': 2, 'outright': 2, 'colleague': 17, 'jubilation': 6, 'twitchy': 7, 'organisation': 2, 'heartedly': 5, 'demostrators': 2, 'shapeshifter': 3, 'activism': 6, 'construes': 6, 'update': 32, 'hubby': 12, 'us': 16, 'talent': 23, 'glory': 17, 'damaging': 12, 'adjust': 3, 'center': 24, 'bask': 3, 'ahaha': 2, 'retarded': 2, 'swear': 58, 'calmed': 6, 'determination': 16, 'acctually': 2, 'wonderfull': 2, 'israel': 2, 'wishful': 6, 'planning': 66, 'commitment': 13, 'enjoyed': 102, 'recognised': 20, 'shifty': 3, 'overshadowed': 9, 'subconsciously': 14, 'wired': 6, 'cleaning': 41, 'nursing': 14, 'dance': 86, 'mat': 6, 'anyhow': 6, 'circuit': 6, 'spine': 13, 'serious': 48, 'healthcare': 12, 'trample': 6, 'anothers': 6, 'rejecting': 1, 'firefly': 12, 'serenity': 22, 'mixed': 31, 'upcoming': 22, 'chinese': 10, 'china': 34, 'fester': 2, 'despised': 13, 'texture': 17, 'mystery': 12, 'motivated': 36, 'overall': 50, 'check': 52, 'detached': 1, 'squeeze': 15, 'riled': 2, 'offensive': 20, 'unsheathe': 2, 'sword': 2, 'defense': 2, 'athletic': 12, 'definetly': 2, 'yuuki': 15, 'titanium': 5, 'hedgehog': 5, 'detested': 2, 'trepidatious': 5, 'idiocy': 2, 'supremely': 8, 'fastforwarding': 2, 'column': 12, 'logging': 4, 'empowering': 6, 'weaning': 1, 'owe': 10, 'sooooo': 2, 'columbia': 1, 'nail': 41, 'concoction': 11, 'soaked': 11, 'bod': 12, 'browne': 6, 'tremor': 5, 'resent': 19, 'shaming': 9, 'alternative': 33, 'cashier': 12, 'deaf': 6, 'antsy': 19, 'quicker': 7, 'deeper': 22, 'necklace': 6, 'combing': 6, 'bourbon': 3, 'weaker': 18, 'digging': 7, 'maury': 1, 'logan': 6, 'evaporate': 2, 'cyberspace': 2, 'wisdom': 13, 'ahahahaha': 6, 'morbidly': 6, 'blossom': 2, 'vine': 3, 'murakami': 6, 'personalized': 6, 'lick': 13, 'lollypop': 6, 'hausa': 2, 'motorcyclist': 2, 'resemblance': 2, 'north': 49, 'tendency': 14, 'laziness': 12, 'narcissism': 12, 'justifying': 7, 'disclosure': 6, 'collaboration': 12, 'stole': 5, 'represents': 3, 'warner': 2, 'edit': 2, 'arriving': 11, 'format': 2, 'blu': 2, 'ray': 15, 'website': 35, 'frequented': 5, 'feedback': 23, 'silently': 21, 'scream': 33, 'urbanite': 1, 'myriad': 7, 'disaster': 12, 'york': 23, 'optimist': 6, 'lap': 8, 'political': 34, 'unravels': 1, 'inevitable': 3, 'fate': 16, 'personnel': 1, 'buzzy': 5, 'mildly': 11, 'panicky': 9, 'chosen': 51, 'mil': 1, 'mouthed': 4, 'rattled': 4, 'confirmed': 4, 'gripped': 6, 'burn': 10, 'lung': 16, 'exhaling': 2, 'vapor': 2, 'bridge': 20, 'continuity': 6, 'lacy': 6, 'g': 33, 'string': 20, 'returned': 33, 'cooky': 13, 'youthful': 14, 'employment': 2, 'lush': 14, 'unfulfilled': 2, 'paint': 36, 'progressive': 3, 'babysitter': 3, 'cross': 38, 'eyed': 4, 'reevaluating': 1, 'picked': 43, 'moved': 47, 'czech': 1, 'republic': 10, 'package': 12, 'underground': 17, 'toby': 6, 'tunji': 6, 'bonding': 11, 'wardrode': 5, 'relived': 6, 'truely': 7, 'excercising': 3, 'nine': 10, 'cafe': 23, 'chaotic': 4, 'besides': 11, 'british': 20, 'marvelous': 15, 'irresistible': 6, 'frock': 6, 'endure': 13, 'discomfort': 8, 'transferred': 12, 'operating': 5, 'shallow': 3, 'bunk': 1, 'affend': 6, 'catholic': 18, 'nonsense': 13, 'gladly': 22, 'miyavi': 4, 'fair': 26, 'xia': 5, 'devotee': 6, 'eagerly': 6, 'andri': 6, 'abroad': 8, 'leaned': 1, 'trivial': 4, 'snacking': 6, 'stickiness': 1, 'lingering': 1, 'respond': 15, 'blurry': 1, 'hence': 20, 'dave': 5, 'atell': 2, 'soooo': 4, 'large': 50, 'income': 18, 'hobby': 10, 'busting': 4, 'scoffing': 6, 'kim': 6, 'kardashion': 6, 'tutorial': 18, 'justice': 34, 'west': 14, 'adorable': 18, 'garment': 18, 'survival': 1, 'onwards': 1, 'tranny': 12, 'blake': 15, 'trepidation': 1, 'statistic': 7, 'information': 80, 'departure': 7, 'woop': 6, 'surroundings': 8, 'prepare': 36, 'bunch': 51, 'safety': 54, 'wading': 2, 'dialog': 9, 'individual': 54, 'fran': 1, 'dublin': 4, 'whim': 5, 'holyhead': 1, 'pesky': 3, 'bunny': 4, 'raiding': 2, 'nagging': 4, 'scrutiny': 12, 'motivating': 2, 'sigh': 22, 'except': 82, 'floating': 23, 'sidewalk': 13, 'pothole': 5, 'indeed': 23, 'unearthly': 3, 'puzzle': 11, 'manipulkated': 2, 'lucy': 2, 'charlie': 11, 'liz': 3, 'earle': 3, 'coolum': 4, 'whilst': 40, 'laying': 24, 'calling': 52, 'outgoing': 47, 'smooch': 6, 'candle': 12, 'drawn': 18, 'blue': 71, 'grayish': 6, 'vote': 38, 'local': 47, 'cd': 17, 'listened': 29, 'reflect': 43, 'police': 12, 'sheriff': 2, 'larry': 1, 'ppl': 15, 'dragged': 9, 'rte': 1, 'emoticon': 13, 'embaressed': 1, 'disillusioned': 22, 'believing': 16, 'immense': 4, 'polling': 5, 'yall': 14, 'p': 38, 'core': 42, 'consequently': 3, 'obligated': 11, 'deserves': 29, 'inner': 23, 'flew': 6, 'hotel': 19, 'naught': 4, 'disco': 2, 'increase': 13, 'someday': 22, 'eternal': 9, 'repetition': 10, 'futile': 3, 'tolerated': 8, 'darned': 1, 'partying': 7, 'wasting': 6, 'unloving': 1, 'unkind': 11, 'evaluate': 14, 'solution': 41, 'drastic': 2, 'proposal': 1, 'banana': 11, 'roast': 18, 'tea': 58, 'likewise': 2, 'attracted': 29, 'tangible': 4, 'philip': 8, 'reaura': 2, 'firming': 2, 'smoothing': 2, 'ism': 7, 'espouse': 1, 'relaxation': 19, 'discovered': 43, 'borrowed': 2, 'bumper': 2, 'destroyed': 9, 'cheap': 17, 'asserting': 5, 'bid': 1, 'neighbour': 6, 'muze': 6, 'mujhe': 6, 'kay': 15, 'zay': 6, 'ladybits': 1, 'frozen': 10, 'swim': 33, 'thaw': 1, 'ensue': 6, 'instigated': 5, 'unfolding': 28, 'worldly': 3, 'mentioned': 51, 'retail': 4, 'kingdom': 4, 'enviously': 2, 'luka': 6, 'innovation': 6, 'adjustment': 19, 'economic': 8, 'structure': 33, 'labor': 15, 'productivity': 7, 'chakotay': 6, 'approached': 6, 'rush': 19, 'ebb': 6, 'stood': 46, 'fashion': 54, 'pretentious': 12, 'chewing': 6, 'swallowing': 1, 'grieve': 11, 'essential': 16, 'component': 7, 'sox': 6, 'tampa': 6, 'bay': 18, 'pang': 16, 'actor': 19, 'skilled': 6, 'presentational': 6, 'wilder': 9, 'carry': 24, 'photography': 37, 'persuade': 1, 'remain': 50, 'retired': 4, 'photographer': 7, 'winston': 12, 'churchill': 12, 'merge': 6, 'international': 39, 'youngster': 2, 'fad': 2, 'foul': 16, 'pedestrian': 7, 'impolite': 6, 'passenger': 4, 'kissed': 4, 'expecting': 16, 'emotionless': 2, 'target': 44, 'annoying': 47, 'analogy': 2, 'anxiously': 12, 'bearing': 7, 'ww': 6, 'waited': 24, 'delayed': 2, 'occurring': 2, 'psychological': 5, 'noah': 4, 'alliance': 5, 'constructively': 6, 'resist': 20, 'shift': 48, 'everywhere': 31, 'scripture': 14, 'abandonment': 9, 'subside': 1, 'pinpoint': 6, 'ass': 8, 'bread': 13, 'carbohydrate': 1, 'expand': 1, 'waistline': 1, 'heck': 22, 'jean': 4, 'targeted': 13, 'hi': 21, 'tech': 14, 'splendor': 6, 'hansen': 6, 'cha': 6, 'ching': 6, 'silver': 9, 'glitter': 9, 'forth': 23, 'violently': 7, 'musically': 2, 'lessen': 13, 'mooching': 1, 'attachment': 7, 'maintain': 35, 'alot': 22, 'xanax': 7, 'mixing': 6, 'med': 19, 'teddy': 17, 'dreaming': 21, 'caption': 6, 'blocked': 5, 'wrist': 13, 'turbillion': 6, 'hong': 6, 'kong': 6, 'oft': 1, 'planting': 6, 'weeding': 1, 'harvesting': 1, 'occupied': 3, 'marlin': 3, 'equal': 37, 'production': 13, 'blanket': 18, 'worshiping': 6, 'realising': 11, 'defeating': 6, 'readership': 5, 'perception': 21, 'misscariage': 2, 'conscience': 12, 'letdown': 1, 'seeped': 2, 'legend': 17, 'inquire': 6, 'incheswhyinches': 6, 'relocating': 6, 'metal': 29, 'wherever': 10, 'exboyfriend': 2, 'shout': 18, 'midnight': 2, 'loop': 17, 'knight': 3, 'texted': 14, 'nervousness': 6, 'sickly': 1, 'coconut': 1, 'tropical': 2, 'finishing': 38, 'knitting': 18, 'temporary': 5, 'outing': 16, 'gut': 60, 'rewarded': 12, 'embarrased': 3, 'wimpy': 65, 'credit': 30, 'capital': 7, 'intensive': 1, 'zackmdavis': 1, 'standby': 7, 'comprehend': 8, 'lestat': 6, 'senior': 10, 'trace': 3, 'disgrace': 3, 'embracing': 5, 'snack': 19, 'wearily': 4, 'unusual': 10, 'derp': 6, 'lrt': 6, 'packed': 16, 'rode': 7, 'linked': 7, 'happywarmworld': 1, 'heartsick': 3, 'studio': 20, 'bizarre': 2, 'magazine': 20, 'presenting': 6, 'practical': 13, 'adverse': 1, 'nicely': 30, 'pursuit': 19, 'bagel': 2, 'jalapeno': 1, 'internally': 15, 'shortness': 5, 'cherished': 18, 'reluctantly': 2, 'epidural': 7, 'predicted': 2, 'angle': 4, 'gallows': 2, 'crisis': 23, 'sing': 63, 'pirate': 6, 'landlubber': 6, 'zipline': 6, 'picnic': 6, 'grove': 7, 'integrity': 3, 'intact': 2, 'popped': 4, 'shoelace': 2, 'rot': 2, 'opposed': 15, 'xd': 16, 'officer': 18, 'nicholsons': 1, 'scenario': 2, 'psychologist': 14, 'poo': 8, 'doubting': 5, 'km': 12, 'deteriorated': 3, 'sabrina': 3, 'notting': 3, 'tightly': 27, 'brutality': 11, 'unnaturally': 1, 'shaking': 12, 'cyst': 1, 'connect': 27, 'holding': 42, 'carl': 6, 'clarke': 6, 'potato': 15, 'handed': 13, 'reacted': 8, 'supporter': 24, 'betraying': 3, 'packing': 22, 'bye': 7, 'displacement': 6, 'flirtiness': 1, 'peeta': 1, 'heroine': 2, 'katnisss': 1, 'centered': 21, 'weve': 57, 'hasnt': 29, 'mite': 1, 'primary': 4, 'drecky': 1, 'banter': 3, 'seth': 2, 'apologizes': 8, 'provocative': 10, 'east': 2, 'dig': 18, 'subdued': 5, 'tone': 46, 'bond': 10, 'heinously': 2, 'psychotic': 9, 'religion': 30, 'reilly': 15, 'mess': 46, 'crawl': 9, 'suitably': 8, 'panel': 2, 'deemed': 9, 'plagued': 8, 'uncanny': 1, 'delight': 23, 'yell': 19, 'staff': 15, 'laetshi': 6, 'tgt': 1, 'context': 25, 'unimaginable': 6, 'saba': 1, 'waleeds': 1, 'appointment': 27, 'bummed': 13, 'vbac': 11, 'snatched': 6, 'birth': 57, 'temptation': 6, 'multiplayer': 6, 'flash': 19, 'agenda': 6, 'pace': 40, 'officially': 20, 'caresse': 1, 'elitist': 1, 'deepika': 7, 'silhouette': 1, 'dissipate': 6, 'resolution': 13, 'following': 67, 'drug': 33, 'begging': 19, 'separate': 27, 'cede': 6, 'prevent': 18, 'doomnation': 6, 'damnation': 6, 'changing': 41, 'sew': 7, 'competing': 11, 'fedex': 6, 'affect': 27, 'flaw': 16, 'empowerment': 6, 'justification': 8, 'leading': 25, 'dorm': 11, 'liberty': 12, 'adopt': 14, 'representative': 7, 'ie': 9, 'waning': 2, 'portrayal': 9, 'development': 32, 'unconformable': 1, 'unliked': 1, 'ab': 6, 'wiser': 6, 'response': 74, 'grasp': 26, 'rustle': 6, 'intent': 10, 'leo': 3, 'clara': 3, 'otherwise': 53, 'krupke': 6, 'dazzling': 6, 'cert': 6, 'spiritually': 13, 'intellectually': 7, 'recognition': 14, 'admired': 39, 'persona': 7, 'whod': 5, 'insecured': 5, 'shame': 27, 'malaysia': 7, 'menswear': 12, 'medical': 24, 'assistant': 15, 'entry': 46, 'david': 50, 'shortlisted': 6, 'dingler': 6, 'heading': 21, 'abyss': 2, 'refer': 25, 'joining': 13, 'fortunate': 20, 'examine': 7, 'exempted': 5, 'wally': 6, 'lamb': 6, 'chick': 13, 'hello': 9, 'synthetic': 6, 'pearl': 12, 'jewelry': 41, 'trinket': 6, 'l': 5, 'heartache': 10, 'moisturiser': 6, 'lasting': 6, 'twice': 18, 'cleansing': 16, 'moisturising': 9, 'discovery': 14, 'dork': 7, 'censorship': 2, 'doom': 6, 'disoriented': 3, 'nodded': 12, 'procure': 6, 'provoking': 1, 'registration': 6, 'uneventful': 6, 'adherence': 6, 'appear': 23, 'accomplishment': 38, 'august': 6, 'medal': 12, 'despairing': 1, 'tie': 4, 'bullying': 5, 'defensive': 5, 'defending': 10, 'quaking': 6, 'boat': 24, 'shore': 6, 'limb': 6, 'facing': 26, 'lying': 33, 'sexaholic': 5, 'offering': 35, 'discount': 9, 'tote': 9, 'wondered': 20, 'contrary': 4, 'ludicrous': 16, 'concerning': 9, 'dining': 24, 'table': 69, 'population': 17, 'hitting': 38, 'fuel': 9, 'meat': 20, 'yoshidas': 1, 'grows': 7, 'mishandled': 1, 'alongside': 16, 'initial': 21, 'avoiding': 25, 'insight': 12, 'pun': 1, 'varvel': 1, 'inspires': 7, 'imagined': 10, 'attraction': 3, 'camp': 24, 'accommodation': 6, 'entertainment': 26, 'hypersexual': 5, 'tartlet': 5, 'rihanna': 5, 'admiration': 14, 'saudi': 12, 'perfume': 20, 'scented': 6, 'terminal': 6, 'dulles': 6, 'confrontation': 2, 'july': 8, 'crushed': 2, 'giant': 29, 'vigilant': 5, 'whoosh': 5, 'dipshit': 5, 'laptop': 17, 'fat': 19, 'nacho': 1, 'hostel': 7, 'revealed': 11, 'shiver': 9, 'tummy': 16, 'em': 23, 'ubuntu': 5, 'user': 18, 'linux': 16, 'platform': 14, 'ewan': 2, 'medicine': 43, 'torture': 5, 'desiring': 7, 'clue': 20, 'bravely': 3, 'revert': 3, 'barry': 3, 'almond': 4, 'redcoat': 6, 'youngest': 10, 'visable': 5, 'spotlighted': 5, 'unfashionable': 5, 'hadnt': 46, 'calgary': 6, 'pb': 7, 'simplest': 1, 'lj': 20, 'suspicion': 5, 'germ': 6, 'conditioned': 9, 'calming': 9, 'dunno': 38, 'overtly': 5, 'rightly': 11, 'aunt': 23, 'flee': 5, 'baltic': 5, 'sea': 32, 'universality': 3, 'unconditional': 3, 'voluntary': 3, 'mankind': 4, 'host': 15, 'plight': 15, 'turkish': 9, 'vet': 5, 'cadore': 1, 'sorrowful': 5, 'impact': 25, 'bloodshed': 1, 'violence': 24, 'clarity': 14, 'reign': 8, 'nyquil': 3, 'consolidate': 6, 'vicarious': 7, 'sarcasm': 14, 'desperately': 25, 'vendor': 4, 'distribution': 3, 'offered': 2, 'overweight': 3, 'friggin': 6, 'gfathers': 2, 'ute': 2, 'load': 23, 'prefer': 33, 'manure': 2, 'compost': 2, 'simultaneously': 25, 'inferior': 17, 'elated': 15, 'chatting': 10, 'addition': 20, 'hihi': 5, 'typically': 5, 'silly': 56, 'persist': 4, 'wintry': 6, 'stuck': 40, 'dignified': 36, 'tasteful': 6, 'inaction': 6, 'default': 11, 'reconcile': 3, 'unease': 11, 'nostalgia': 21, 'martin': 3, 'wwii': 3, 'france': 3, 'bleeding': 6, 'reminded': 23, 'dang': 1, 'charity': 15, 'motherhood': 14, 'blush': 16, 'resting': 19, 'kai': 11, 'forgot': 26, 'passport': 9, 'washroom': 4, 'played': 36, 'fps': 2, 'lil': 9, 'cough': 17, 'combat': 12, 'trainer': 18, 'ba': 3, 'backpacking': 7, 'raised': 18, 'rebekah': 3, 'satisfactory': 3, 'klaus': 3, 'stefan': 3, 'damon': 3, 'rough': 25, 'ample': 1, 'confess': 37, 'dentist': 7, 'status': 36, 'arch': 3, 'footbed': 3, 'goliath': 6, 'undone': 7, 'humblest': 6, 'stealing': 12, 'collected': 11, 'tribute': 13, 'generosity': 6, 'scabi': 6, 'verona': 6, 'cope': 15, 'capacity': 41, 'resistant': 1, 'stretching': 5, 'mirror': 22, 'untrustworthy': 1, 'disagreeable': 1, 'islam': 5, 'alternating': 7, 'felling': 1, 'stronger': 61, 'tougher': 3, 'emphasize': 6, 'ethical': 6, 'pillow': 10, 'subtly': 2, 'indication': 13, 'breakthrough': 3, 'imminent': 3, 'hed': 6, 'knuckle': 1, 'spreading': 19, 'uneven': 1, 'oscillating': 1, 'criticism': 11, 'stink': 7, 'yoked': 3, 'stupidly': 6, 'eagle': 7, 'dangerously': 6, 'city': 66, 'internship': 5, 'moe': 1, 'being': 18, 'jane': 13, 'eyre': 1, 'bigged': 1, 'hollow': 3, 'smith': 2, 'abou': 1, 'grabbed': 13, 'followed': 21, 'disability': 16, 'unsettling': 7, 'explored': 18, 'remained': 6, 'pretended': 2, 'treassured': 2, 'communicate': 16, 'psyche': 3, 'neither': 39, 'dickish': 2, 'enacting': 2, 'succumb': 7, 'doc': 11, 'arrogance': 2, 'clarify': 2, 'feelbut': 6, 'hardest': 4, 'mindful': 8, 'minister': 15, 'beforehand': 3, 'bladder': 8, 'threatening': 1, 'overdoing': 1, 'struck': 1, 'hmmm': 8, 'fri': 6, 'shannon': 9, 'trainable': 5, 'j': 1, 'pap': 1, 'smear': 1, 'mircowaved': 6, 'tiger': 31, 'cage': 12, 'testing': 7, 'colorful': 1, 'pot': 9, 'constitution': 3, 'adopting': 3, 'casting': 10, 'reread': 8, 'documented': 6, 'empathy': 14, 'mm': 6, 'composition': 7, 'grinned': 6, 'partially': 12, 'dharma': 6, 'hears': 10, 'endless': 28, 'bouncing': 1, 'backpacker': 1, 'overland': 1, 'admitting': 17, 'gloating': 1, 'fairy': 14, 'delivered': 10, 'admires': 6, 'gifted': 9, 'ranbir': 2, 'ayan': 2, 'mukerji': 2, 'filmfare': 2, 'interpretation': 10, 'misunderstood': 10, 'impatience': 4, 'reexplain': 1, 'lip': 58, 'birthmoms': 6, 'implement': 10, 'acuity': 1, 'feasted': 3, 'knee': 6, 'memorized': 7, 'rocking': 5, 'grader': 9, 'wreck': 1, 'recollection': 4, 'gate': 20, 'suppressed': 14, 'base': 20, 'wander': 10, 'afield': 12, 'btw': 3, 'playlist': 1, 'nudge': 12, 'happenstance': 3, 'lambrusco': 6, 'bubbly': 6, 'zumba': 12, 'understands': 12, 'bearable': 6, 'preface': 2, 'disclaimer': 4, 'peta': 2, 'hardly': 40, 'hyper': 6, 'cousin': 30, 'commercialism': 6, 'exposure': 3, 'decidedly': 6, 'bah': 6, 'humbug': 3, 'include': 18, 'holistic': 6, 'enthusiastic': 12, 'solid': 5, 'magnitude': 5, 'nominated': 12, 'liebster': 6, 'award': 28, 'equivalent': 6, 'crack': 17, 'cushion': 6, 'derek': 6, 'singapore': 9, 'sara': 14, 'div': 8, 'clearboth': 2, 'padding': 6, 'restaurant': 32, 'mandarin': 3, 'grill': 6, 'stellar': 9, 'reputation': 15, 'extended': 14, 'edible': 3, 'decorative': 3, 'garnish': 3, 'samphire': 3, 'perplexed': 1, 'liam': 1, 'johnny': 1, 'everybody': 21, 'stoned': 7, 'veil': 11, 'lifted': 13, 'scrapbook': 2, 'holly': 6, 'ingrained': 5, 'enables': 1, 'crumbling': 3, 'motivate': 2, 'likeguy': 1, 'sink': 28, 'sin': 24, 'channel': 7, 'genealogical': 6, 'strain': 15, 'rupee': 7, 'cost': 7, 'resort': 8, 'europe': 4, 'england': 6, 'noticing': 11, 'incoming': 4, 'stoop': 2, 'refresh': 3, 'huhuhu': 6, 'battling': 7, 'whizz': 1, 'adoring': 12, 'bastard': 22, 'assumed': 2, 'programming': 11, 'overeating': 6, 'fullness': 12, 'hangover': 12, 'sugary': 8, 'finality': 5, 'repercussion': 11, 'orleans': 1, 'massively': 19, 'consumes': 5, 'processing': 11, 'associate': 5, 'pc': 4, 'gt': 19, 'realistic': 8, 'brush': 26, 'tuck': 9, 'strand': 5, 'escape': 41, 'tickle': 9, 'remix': 5, 'collar': 7, 'padlock': 1, 'empowered': 14, 'suicide': 19, 'severe': 2, 'disregarded': 2, 'absolutly': 6, 'flourishing': 6, 'admits': 1, 'century': 15, 'hone': 1, 'wielded': 2, 'razor': 6, 'hindsight': 1, 'withstand': 2, 'neutral': 17, 'choir': 19, 'burner': 7, 'clearer': 8, 'essence': 22, 'disadvantaged': 10, 'ethnicity': 1, 'racist': 1, 'smoking': 7, 'haul': 6, 'lava': 6, 'planet': 21, 'export': 6, 'port': 6, 'moxie': 6, 'cath': 6, 'script': 13, 'relief': 40, 'sunshine': 36, 'melting': 17, 'applebees': 1, 'ceo': 5, 'behaves': 1, 'chain': 7, 'starved': 9, 'consumer': 16, 'cleaned': 23, 'blender': 2, 'butter': 5, 'pulse': 12, 'uninspiring': 1, 'sodden': 6, 'shattered': 6, 'sardonic': 6, 'squat': 6, 'muscle': 57, 'locked': 7, 'sensation': 31, 'ivy': 6, 'zimmerman': 1, 'prick': 4, 'paused': 12, 'dramatically': 14, 'floor': 26, 'literally': 30, 'white': 33, 'rooster': 2, 'underwhelmed': 2, 'swelling': 6, 'playful': 143, 'ritalin': 4, 'flias': 4, 'exposed': 12, 'recover': 14, 'doubly': 9, 'novice': 5, 'warehouse': 18, 'distributor': 6, 'floral': 9, 'stationary': 8, 'accessory': 24, 'billy': 17, 'waxing': 6, 'ambulatory': 6, 'expert': 18, 'marginalized': 4, 'wacky': 1, 'percentage': 7, 'tryed': 1, 'theme': 22, 'longed': 9, 'pcm': 6, 'whipped': 3, 'station': 8, 'fled': 2, 'underbelly': 2, 'central': 8, 'subway': 2, 'map': 3, 'frazzle': 2, 'meltdown': 2, 'thrown': 20, 'hundred': 21, 'euro': 2, 'nesty': 6, 'teeny': 18, 'weeny': 6, 'clothing': 41, 'volunteered': 4, 'downtempo': 1, 'melancholic': 1, 'dm': 12, 'twitter': 31, 'jeff': 9, 'computer': 69, 'hurtful': 12, 'realization': 27, 'coherent': 1, 'granted': 27, 'disliked': 3, 'cornbread': 6, 'honey': 10, 'dripping': 3, 'innate': 7, 'saving': 30, 'lavender': 6, 'orange': 20, 'substitute': 6, 'moaning': 8, 'cluttered': 3, 'strasbourg': 1, 'wore': 19, 'sketch': 12, 'seat': 27, 'suppress': 2, 'tiring': 2, 'spark': 12, 'curiosity': 32, 'prestige': 6, 'atm': 2, 'viewed': 6, 'deciding': 6, 'cream': 31, 'ridding': 1, 'rekindle': 3, 'phase': 28, 'circumstance': 33, 'adomen': 2, 'rice': 27, 'anticipated': 7, 'spontaneously': 10, 'erratic': 4, 'swoon': 4, 'obese': 2, 'contest': 27, 'smacked': 1, 'roll': 39, 'bodega': 2, 'laundry': 16, 'oddly': 22, 'coin': 2, 'changer': 2, 'hatred': 28, 'juice': 13, 'veggie': 9, 'cozy': 15, 'cocoa': 3, 'flannel': 3, 'nightie': 3, 'direspected': 1, 'originally': 5, 'united': 4, 'counted': 12, 'quo': 9, 'stranded': 5, 'fraser': 5, 'submerged': 5, 'wd': 5, 'hire': 7, 'vehicle': 5, 'iolani': 5, 'leveled': 1, 'accumulation': 2, 'elusive': 2, 'newest': 10, 'sponsor': 9, 'rippling': 3, 'floated': 4, 'bonus': 27, 'australia': 16, 'aloft': 6, 'reflection': 27, 'sunny': 29, 'climate': 12, 'mate': 23, 'bonded': 12, 'touchy': 6, 'feely': 6, 'regarding': 26, 'mormon': 6, 'depressant': 2, 'startling': 3, 'onscreen': 6, 'boxing': 12, 'jt': 3, 'developing': 7, 'fever': 17, 'roy': 1, 'philosophy': 15, 'salutary': 1, 'ged': 6, 'infuriated': 10, 'substance': 11, 'adequately': 4, 'kassim': 6, 'selamat': 6, 'swallow': 10, 'uniform': 6, 'glove': 6, 'atleast': 2, 'clover': 6, 'sale': 19, 'clay': 14, 'mastery': 6, 'freezing': 7, 'stream': 2, 'enjoying': 92, 'uncommon': 5, 'sharknado': 2, 'trade': 7, 'joking': 17, 'westerner': 6, 'ached': 2, 'liver': 1, 'promised': 12, 'cupcake': 16, 'bt': 5, 'thn': 5, 'apply': 31, 'discussing': 20, 'inform': 2, 'glamour': 6, 'danced': 6, 'cx': 4, 'adam': 4, 'assistance': 11, 'viewing': 19, 'aesthetic': 9, 'bull': 1, 'skinnyg': 1, 'provider': 1, 'sacred': 17, 'venerate': 5, 'clog': 1, 'pore': 2, 'prompted': 5, 'validity': 8, 'nation': 18, 'someway': 9, 'manila': 12, 'nearing': 6, 'priority': 8, 'gold': 19, 'nest': 6, 'grass': 15, 'divided': 3, 'commercial': 15, 'housing': 3, 'rejection': 5, 'nonchalant': 6, 'attitude': 66, 'easi': 6, 'diabetic': 1, 'fortune': 7, 'mince': 8, 'wheat': 6, 'pasta': 5, 'spelt': 1, 'fruit': 10, 'sorbet': 1, 'scary': 33, 'uttering': 11, 'relevant': 6, 'craving': 54, 'gross': 10, 'wind': 48, 'scattered': 7, 'strawberry': 6, 'agiatated': 2, 'amy': 14, 'balanced': 20, 'mane': 6, 'lp': 6, 'diary': 7, 'trap': 7, 'dezinesamaze': 6, 'cavalier': 6, 'trimmed': 6, 'spoil': 6, 'unfairness': 3, 'dear': 32, 'ambulance': 9, 'hospital': 29, 'halfway': 8, 'dam': 8, 'en': 15, 'stance': 6, 'chiharu': 1, 'blind': 14, 'disrupt': 2, 'downvoted': 6, 'pagetitle': 31, 'rugmi': 6, 'overcome': 33, 'claustrophobic': 11, 'university': 38, 'readmit': 6, 'collin': 6, 'finnerty': 6, 'jan': 12, 'refreshed': 25, 'golden': 9, 'adoption': 6, 'creativity': 22, 'buuuuuut': 1, 'rach': 1, 'subcontinent': 6, 'wing': 36, 'lightening': 3, 'umbrella': 2, 'christine': 2, 'foolish': 40, 'peruse': 1, 'skull': 1, 'kicking': 15, 'dreaded': 11, 'sickness': 14, 'panicked': 6, 'lend': 19, 'promotion': 13, 'weismans': 3, 'disney': 12, 'wallowing': 6, 'arrive': 10, 'participant': 17, 'speech': 24, 'competition': 37, 'pinnacle': 6, 'materialistic': 6, 'distracting': 12, 'obvious': 19, 'thoughtless': 1, 'assuming': 1, 'earned': 7, 'effectively': 8, 'killing': 26, 'exploration': 2, 'starve': 1, 'careeeeee': 2, 'savage': 12, 'thoughtful': 3, 'sec': 2, 'arrival': 6, 'silky': 3, 'tangled': 1, 'tolerate': 14, 'highschool': 12, 'stable': 10, 'couldve': 11, 'named': 10, 'muaz': 2, 'abruptly': 5, 'softball': 7, 'noticed': 38, 'pelvic': 1, 'chatter': 10, 'lighten': 11, 'compere': 2, 'rolling': 9, 'thwarted': 2, 'immobile': 2, 'fuss': 3, 'bestfriend': 1, 'bff': 1, 'coeur': 4, 'alene': 4, 'nut': 5, 'restricted': 8, 'therapeutic': 1, 'spoiler': 9, 'badass': 11, 'considerate': 94, 'welcoming': 14, 'compress': 4, 'difficulty': 6, 'neatly': 8, 'stuffed': 3, 'animal': 43, 'lured': 7, 'champagne': 12, 'brilliant': 14, 'bestselling': 6, 'kathy': 6, 'lette': 6, 'phobia': 1, 'empathtic': 1, 'mexican': 9, 'cray': 2, 'prequel': 3, 'jedi': 3, 'queen': 14, 'tbh': 5, 'bobo': 1, 'slacked': 7, 'sympathize': 6, 'native': 10, 'length': 13, 'january': 17, 'wicked': 15, 'acknowledge': 9, 'pushing': 27, 'pulling': 25, 'spinning': 6, 'beat': 50, 'drum': 6, 'smash': 6, 'deployment': 1, 'frustration': 24, 'homis': 5, 'kite': 6, 'shelter': 6, 'jon': 11, 'jacque': 1, 'forgiven': 1, 'engineering': 16, 'missile': 2, 'dropping': 18, 'spy': 2, 'plane': 37, 'chromosome': 2, 'conquerer': 1, 'yearned': 3, 'homey': 3, 'river': 15, 'attempting': 15, 'toughest': 5, 'wipe': 15, 'pushed': 13, 'apple': 19, 'ou': 6, 'strongest': 12, 'squad': 12, 'costly': 3, 'tidbit': 1, 'neglected': 4, 'irrational': 14, 'creep': 23, 'merry': 1, 'falter': 4, 'criminal': 5, 'abusive': 6, 'unza': 8, 'sarah': 13, 'excitment': 9, 'xdd': 5, 'hohoho': 5, 'foward': 5, 'tmr': 10, 'cya': 5, 'bsc': 12, 'ally': 6, 'marvellous': 12, 'prank': 6, 'skillzz': 1, 'opened': 13, 'hiccup': 7, 'onset': 1, 'panic': 18, 'teasing': 12, 'heathen': 6, 'arousing': 6, 'drastically': 2, 'swirling': 1, 'paralysed': 2, 'shuts': 1, 'snoring': 7, 'dreamland': 1, 'misery': 12, 'demanding': 12, 'tossed': 4, 'rag': 6, 'handbag': 12, 'sachaying': 6, 'pickle': 11, 'fridge': 11, 'kenny': 9, 'rely': 17, 'giggly': 42, 'sombre': 6, 'stevens': 2, 'laughing': 29, 'dump': 22, 'melt': 11, 'charitable': 6, 'donation': 12, 'sodding': 6, 'nuclear': 12, 'canteen': 6, 'undercurrent': 4, 'subtle': 11, 'inviting': 12, 'involving': 6, 'ministry': 31, 'individuality': 7, 'sold': 12, 'transgender': 1, 'brainwashing': 1, 'deceive': 1, 'physician': 1, 'germany': 1, 'intersex': 1, 'maggie': 6, 'titled': 9, 'vol': 6, 'humungous': 1, 'federer': 6, 'awesomness': 3, 'doused': 3, 'freind': 3, 'asasoulawakens': 3, 'feeli': 3, 'ne': 13, 'designing': 6, 'famous': 18, 'cathartic': 6, 'mychem': 6, 'cred': 6, 'backdrop': 2, 'emerge': 4, 'phenomenon': 2, 'untouched': 12, 'checklist': 7, 'thailand': 2, 'catalyst': 2, 'doucher': 1, 'ptsd': 1, 'showing': 42, 'burmeister': 6, 'flirty': 14, 'coloured': 12, 'bold': 23, 'suppous': 1, 'hobble': 1, 'rack': 1, 'barefoot': 1, 'seed': 17, 'soil': 9, 'posse': 9, 'denial': 6, 'counsellor': 6, 'serf': 12, 'military': 18, 'continually': 17, 'plummeting': 1, 'tot': 1, 'improving': 13, 'paratrooper': 6, 'conduct': 6, 'mission': 38, 'addiction': 9, 'specialness': 3, 'suggest': 19, 'occassionally': 6, 'earring': 6, 'plug': 11, 'morbid': 8, 'mu': 6, 'tou': 6, 'begged': 9, 'suppport': 3, 'travelled': 1, 'usa': 14, 'discover': 14, 'feature': 33, 'diane': 6, 'von': 6, 'furstenberg': 6, 'rodarte': 6, 'jason': 15, 'wu': 6, 'unlike': 13, 'sophomore': 6, 'whack': 3, 'messed': 14, 'psychologically': 4, 'plunging': 7, 'extreme': 20, 'insensitive': 14, 'latter': 27, 'drainage': 1, 'intolerably': 5, 'polar': 5, 'sour': 8, 'indigo': 6, 'narrator': 4, 'feelin': 17, 'drawing': 43, 'attacked': 15, 'dispersed': 5, 'fragmented': 5, 'eternity': 6, 'rediculous': 2, 'justified': 12, 'idk': 7, 'negatively': 6, 'woodland': 9, 'farm': 20, 'presentation': 12, 'exhibition': 15, 'hall': 19, 'endeavor': 33, 'occasional': 6, 'musing': 18, 'daddy': 29, 'monroe': 6, 'launch': 12, 'incorporated': 11, 'remodeled': 6, 'amenity': 6, 'lookout': 1, 'pr': 1, 'doer': 1, 'toll': 6, 'milk': 9, 'supply': 19, 'producing': 7, 'timid': 60, 'leopard': 5, 'hallucinate': 2, 'needlessly': 4, 'select': 15, 'variant': 5, 'supposedly': 11, 'fishing': 15, 'thru': 6, 'squirt': 6, 'duno': 1, 'ther': 1, 'sloppy': 5, 'wondrous': 6, 'creator': 11, 'spill': 1, 'seldom': 11, 'maschke': 1, 'unsavory': 3, 'cruel': 1, 'dire': 6, 'medication': 30, 'triggering': 5, 'barrier': 12, 'vomiting': 5, 'pragmatic': 8, 'bump': 11, 'professor': 13, 'generated': 2, 'usmleasy': 2, 'k': 28, 'energised': 6, 'interrupt': 7, 'x': 66, 'attire': 6, 'reared': 6, 'evangelical': 6, 'bake': 1, 'noodle': 13, 'overcoming': 11, 'shackle': 6, 'norm': 23, 'pearly': 3, 'snap': 6, 'comfy': 8, 'viewpoint': 6, 'goddess': 12, 'rising': 30, 'investing': 12, 'minimum': 2, 'courtesy': 11, 'risk': 43, 'qualified': 12, 'venue': 11, 'observation': 12, 'turd': 1, 'lemonade': 7, 'bliss': 8, 'warn': 6, 'toast': 6, 'stylesheet': 6, 'cs': 12, 'jdelivery': 6, 'chief': 5, 'ccw': 5, 'yanked': 5, 'mommy': 22, 'grew': 33, 'stroke': 30, 'baptized': 14, 'whingeing': 6, 'occur': 8, 'luggage': 15, 'exceptional': 6, 'assessment': 13, 'applied': 1, 'impressing': 4, 'parcel': 5, 'timer': 5, 'shown': 2, 'evolve': 12, 'belittle': 2, 'spoiled': 3, 'diabetes': 9, 'shockingly': 6, 'incomplete': 5, 'elsewhere': 7, 'ibleeditout': 5, 'kodi': 5, 'brat': 8, 'jakun': 6, 'glam': 3, 'nuptials': 3, 'dragging': 5, 'combo': 5, 'schizofrenic': 1, 'boisterous': 1, 'removing': 5, 'selling': 20, 'maryland': 5, 'shifting': 13, 'forefront': 6, 'transport': 1, 'invaded': 4, 'kinship': 2, 'mounting': 2, 'nausea': 11, 'binding': 8, 'football': 30, 'woken': 31, 'customary': 2, 'siesta': 2, 'tbr': 1, 'consistent': 17, 'workload': 5, 'gabapentin': 6, 'zonisamide': 6, 'explorer': 12, 'enuff': 6, 'baffroom': 6, 'divulge': 3, 'stylings': 3, 'crunched': 6, 'awaken': 4, 'musician': 17, 'uplifting': 6, 'prop': 14, 'graduating': 13, 'freshman': 11, 'technology': 13, 'embarrassing': 1, 'immerse': 3, 'bfd': 1, 'strictly': 3, 'jo': 6, 'bucket': 8, 'anaesthetic': 3, 'apologise': 13, 'youth': 22, 'spook': 6, 'spiral': 1, 'code': 20, 'fanatic': 6, 'yard': 7, 'gun': 19, 'ativan': 5, 'unbearably': 1, 'crushingly': 1, 'creativeliar': 1, 'subconscious': 10, 'wherein': 5, 'drain': 4, 'fervent': 1, 'yelling': 3, 'bruce': 10, 'yiling': 6, 'salvation': 7, 'merciless': 6, 'miracle': 19, 'alert': 7, 'guard': 12, 'unreliable': 6, 'biblical': 1, 'pressed': 10, 'meditated': 6, 'altogether': 19, 'beer': 23, 'msm': 1, 'spontaneous': 18, 'urgh': 6, 'campaign': 20, 'senator': 10, 'jackson': 16, 'cnn': 5, 'flag': 7, 'tub': 6, 'vile': 12, 'divorcee': 1, 'brd': 4, 'armor': 6, 'brds': 4, 'san': 3, 'antonio': 3, 'spur': 5, 'nl': 1, 'cog': 1, 'championship': 1, 'precisely': 11, 'bowled': 4, 'welling': 11, 'procrastinator': 1, 'unresolved': 2, 'built': 1, 'reel': 2, 'journalism': 6, 'sibling': 9, 'bro': 5, 'attending': 32, 'september': 15, 'foodie': 2, 'aircleaner': 6, 'michael': 22, 'epiphany': 9, 'toned': 9, 'validation': 8, 'mailman': 6, 'handing': 16, 'protection': 17, 'sublime': 6, 'theyll': 13, 'wispy': 3, 'green': 49, 'vibe': 37, 'scheme': 10, 'organizational': 4, 'masochist': 4, 'flipped': 6, 'accumulated': 6, 'leaked': 1, 'paid': 18, 'stagnate': 11, 'fullest': 6, 'addressing': 10, 'sheri': 6, 'king': 7, 'lottery': 5, 'itd': 9, 'wrongly': 4, 'misbehavior': 7, 'unavoidable': 1, 'argue': 9, 'vampire': 12, 'yoga': 51, 'acknowledgment': 6, 'origin': 6, 'mayhem': 3, 'vale': 1, 'bum': 6, 'transient': 1, 'jacket': 12, 'mesh': 10, 'pinterest': 13, 'uplifted': 6, 'martinez': 6, 'occupy': 7, 'prompting': 13, 'sage': 11, 'headachie': 1, 'blah': 19, 'taboo': 3, 'oversized': 6, 'tee': 6, 'baggy': 6, 'pant': 22, 'sweat': 33, 'streaked': 6, 'smallest': 6, 'hehe': 14, 'monogamous': 3, 'recommendation': 5, 'web': 28, 'searched': 10, 'advertising': 7, 'withdraw': 2, 'greatest': 20, 'poll': 6, 'contradictory': 6, 'vow': 5, 'gasp': 3, 'marybeth': 3, 'isabella': 3, 'groundless': 1, 'dlk': 6, 'butttt': 1, 'semuanya': 1, 'sudah': 1, 'terlambat': 1, 'dan': 12, 'ignorant': 3, 'african': 16, 'healer': 1, 'appeared': 13, 'xbla': 6, 'sony': 6, 'pelvis': 6, 'complainy': 4, 'soap': 7, 'politics': 14, 'whiney': 12, 'repetetive': 1, 'accepting': 13, 'application': 16, 'testicle': 2, 'decrease': 1, 'urinate': 1, 'semen': 1, 'suicidal': 2, 'comfortably': 8, 'maintaining': 6, 'norah': 6, 'jones': 7, 'multitude': 13, 'omega': 1, 'revers': 1, 'weightlessly': 1, 'restores': 1, 'bounce': 8, 'flowing': 26, 'raphael': 11, 'laiya': 6, 'jennifer': 6, 'scampering': 6, 'unintentionally': 2, 'alfred': 3, 'molina': 3, 'dimensional': 3, 'caricature': 3, 'exhaustion': 8, 'exposing': 17, 'intervention': 6, 'behalf': 8, 'delusion': 5, 'invest': 17, 'investment': 5, 'wanderlust': 3, 'bombing': 2, 'coca': 2, 'cola': 2, 'warhound': 1, 'model': 15, 'fieldi': 1, 'scroll': 6, 'admiring': 4, 'envying': 1, 'twentysomething': 1, 'stinky': 3, 'ravenous': 1, 'manuscript': 11, 'reporting': 12, 'fellowship': 11, 'requirement': 12, 'tighter': 5, 'grief': 35, 'jesse': 4, 'tought': 1, 'banking': 3, 'labour': 11, 'demotivate': 6, 'diwali': 6, 'spurned': 2, 'tended': 3, 'nursed': 2, 'sitter': 2, 'presented': 39, 'italy': 4, 'wheel': 13, 'criticized': 1, 'dreamy': 10, 'cyber': 12, 'slut': 7, 'craves': 4, 'gathering': 17, 'craziness': 6, 'throne': 14, 'despise': 6, 'claimed': 5, 'bedriacum': 1, 'henrietta': 1, 'ariel': 1, 'chelmsford': 1, 'unreal': 1, 'stepping': 13, 'brew': 13, 'noticeable': 1, 'homely': 10, 'ingrain': 2, 'sprint': 7, 'register': 4, 'mid': 21, 'undoubtedly': 2, 'pundit': 2, 'vinegary': 6, 'callus': 6, 'submarine': 2, 'cartwheel': 2, 'ankle': 2, 'board': 25, 'pointless': 8, 'uneffected': 2, 'clubbing': 4, 'destashing': 1, 'visited': 25, 'sai': 6, 'implementing': 6, 'booked': 6, 'procedure': 7, 'sympathizing': 2, 'demon': 15, 'cinderalla': 1, 'scoop': 6, 'republican': 3, 'overload': 14, 'spinach': 6, 'feta': 6, 'cranberry': 6, 'salad': 6, 'balsamic': 6, 'viniagrette': 6, 'marriage': 24, 'figuring': 10, 'aint': 14, 'perfumed': 3, 'salt': 4, 'preservation': 8, 'heartburn': 5, 'tilt': 3, 'coercive': 2, 'pushy': 4, 'sending': 15, 'packet': 18, 'individually': 8, 'heals': 3, 'helpful': 19, 'report': 37, 'korean': 9, 'italian': 9, 'whitley': 4, 'sleek': 9, 'smoother': 9, 'revenge': 15, 'handling': 10, 'blaster': 9, 'relieve': 5, 'caregiver': 8, 'belittled': 3, 'keyed': 1, 'trigger': 1, 'laughable': 1, 'flattened': 3, 'knowledgeable': 7, 'sluggish': 13, 'tychelle': 1, 'nonexistent': 1, 'thepage': 1, 'evil': 16, 'hunting': 9, 'entertainer': 10, 'williams': 12, 'starving': 2, 'ethiopia': 2, 'metier': 1, 'arise': 3, 'quirky': 10, 'doodly': 6, 'puzzled': 7, 'trendy': 6, 'pious': 6, 'uppity': 6, 'montagues': 4, 'tale': 17, 'rmb': 2, 'grandfather': 5, 'maternal': 7, 'disgruntled': 2, 'dick': 6, 'hobbs': 6, 'rebecca': 6, 'mcpherson': 6, 'bgr': 3, 'dumped': 6, 'steady': 8, 'dylan': 6, 'tends': 12, 'euphoria': 12, 'bet': 41, 'parody': 12, 'dorama': 6, 'aaaaand': 1, 'treadmill': 28, 'appreciation': 11, 'whined': 5, 'posed': 6, 'cutesy': 6, 'pg': 6, 'roundly': 1, 'ravaged': 1, 'painless': 12, 'expense': 31, 'elliptical': 6, 'theyve': 4, 'abc': 18, 'stature': 4, 'lauren': 5, 'superman': 8, 'cop': 12, 'blocking': 8, 'passionately': 7, 'knitter': 9, 'source': 21, 'apathy': 14, 'teetering': 3, 'hoarding': 3, 'insanity': 9, 'apothecary': 1, 'typical': 13, 'dr': 34, 'sucker': 13, 'apparent': 15, 'discernment': 6, 'sack': 7, 'woody': 3, 'allen': 3, 'jim': 18, 'brook': 3, 'earl': 3, 'mundane': 13, 'paperwork': 6, 'bureaucrat': 6, 'revel': 12, 'clung': 3, 'chaos': 5, 'colourful': 8, 'heaving': 2, 'unrest': 5, 'warp': 5, 'dallas': 5, 'unfold': 5, 'independence': 6, 'operation': 11, 'stumped': 14, 'legitemately': 3, 'saint': 13, 'reluctance': 5, 'federal': 11, 'authority': 16, 'employ': 5, 'dust': 12, 'joint': 4, 'backache': 1, 'majorly': 3, 'defective': 5, 'ol': 22, 'feefyefo': 4, 'blabber': 4, 'transparent': 4, 'swept': 8, 'mistreated': 2, 'flipping': 8, 'phoned': 7, 'needle': 13, 'kook': 5, 'contains': 7, 'condemning': 5, 'lloyd': 4, 'grossman': 1, 'ditched': 1, 'bogged': 1, 'showered': 8, 'vuitton': 1, 'lv': 1, 'grandparent': 21, 'impressionable': 5, 'confessed': 6, 'sonipro': 1, 'geekparty': 1, 'linkedin': 1, 'tumblr': 7, 'nofollow': 13, 'feeding': 21, 'giver': 2, 'taker': 2, 'cdn': 12, 'entrusted': 6, 'gush': 15, 'janis': 1, 'sander': 1, 'abusing': 1, 'gander': 6, 'donut': 12, 'mac': 14, 'shade': 22, 'prius': 6, 'al': 11, 'gore': 6, 'patagonia': 6, 'alaska': 8, 'insidious': 6, 'route': 16, 'warrick': 2, 'incredible': 49, 'naivety': 2, 'stupidity': 9, 'artwork': 24, 'decent': 20, 'efficient': 6, 'joan': 1, 'can': 6, 'yeast': 10, 'infection': 17, 'vagina': 2, 'sheltered': 2, 'gal': 6, 'swung': 2, 'citizen': 24, 'regain': 11, 'flattered': 15, 'spring': 59, 'enriching': 12, 'tradition': 10, 'earthquake': 13, 'christchurch': 4, 'zealand': 16, 'depart': 1, 'northwestern': 6, 'superstorm': 5, 'sandy': 5, 'november': 16, 'eagleandhammer': 4, 'reserved': 9, 'lighting': 13, 'toss': 1, 'bam': 7, 'shimmy': 1, 'ing': 8, 'whitney': 1, 'tempura': 8, 'sundae': 2, 'pining': 1, 'unlock': 1, 'reflected': 12, 'estrangement': 1, 'batman': 1, 'informing': 6, 'shatter': 3, 'crystal': 10, 'imagination': 13, 'radiator': 6, 'admittedly': 3, 'effecting': 3, 'dearly': 4, 'remedy': 3, 'skinned': 3, 'highlight': 12, 'mass': 29, 'sounded': 3, 'lea': 5, 'pleasent': 5, 'smooth': 19, 'monetarily': 6, 'sickening': 11, 'kakashi': 6, 'antisocial': 4, 'creature': 29, 'cooperation': 6, 'rapist': 1, 'rigorously': 1, 'hanged': 1, 'significant': 22, 'toddlerhood': 4, 'popping': 8, 'primetime': 6, 'murderer': 6, 'predict': 6, 'freaked': 29, 'scheduling': 9, 'notch': 3, 'etsy': 18, 'xmas': 12, 'goodie': 6, 'eschew': 2, 'foraging': 2, 'palate': 1, 'messianic': 1, 'quest': 18, 'biceps': 6, 'shaping': 6, 'separated': 12, 'introducing': 6, 'sprinkling': 6, 'historian': 12, 'patrick': 11, 'avery': 2, 'nightly': 2, 'lupron': 6, 'budget': 21, 'spreadsheet': 6, 'someplace': 6, 'whir': 6, 'stir': 6, 'likeable': 18, 'amish': 6, 'commented': 5, 'mda': 6, 'telethon': 6, 'spiraling': 7, 'agonised': 1, 'bookstore': 4, 'shelf': 2, 'continental': 6, 'purely': 12, 'asbestos': 6, 'iframe': 3, 'allowfullscreen': 3, 'frameborder': 3, 'gm': 12, 'insatiably': 4, 'digital': 16, 'rabbit': 9, 'hydration': 1, 'everythings': 17, 'psychically': 6, 'galvanised': 6, 'wrestle': 6, 'pinning': 2, 'nanashi': 2, 'bill': 37, 'pyongyang': 1, 'preceptor': 5, 'gleefully': 6, 'roasting': 6, 'marshmallow': 6, 'luh': 2, 'overseas': 6, 'exhilarating': 6, 'scenery': 6, 'mudder': 7, 'closure': 14, 'occurs': 1, 'luminary': 5, 'swinelord': 2, 'deluxe': 2, 'colored': 12, 'insomnia': 6, 'ji': 12, 'kin': 6, 'spore': 6, 'mailorder': 6, 'kome': 6, 'til': 13, 'absence': 18, 'lean': 6, 'asks': 25, 'deffinately': 6, 'berate': 2, 'remains': 14, 'mariah': 6, 'carey': 6, 'splash': 15, 'threat': 1, 'subdue': 3, 'rewriting': 1, 'woeful': 2, 'teeter': 2, 'totering': 2, 'd': 6, 'rd': 5, 'dd': 3, 'preschool': 3, 'angst': 5, 'yelping': 2, 'wantd': 1, 'fulfil': 3, 'ambition': 3, 'describes': 15, 'reset': 6, 'mount': 12, 'adapted': 6, 'immature': 14, 'milonga': 1, 'depleted': 3, 'acclimated': 5, 'observer': 5, 'snapping': 2, 'traffic': 18, 'match': 49, 'starred': 1, 'susan': 1, 'gaping': 7, 'cum': 1, 'hardening': 1, 'smoothie': 12, 'vegan': 9, 'menu': 6, 'perpetuate': 3, 'dynamic': 9, 'educator': 3, 'legitimize': 1, 'guilted': 2, 'bio': 2, 'flailing': 2, 'gaia': 9, 'potter': 13, 'bridget': 1, 'bunnysuit': 6, 'entrance': 8, 'admittance': 6, 'persom': 6, 'wickdly': 6, 'deodorant': 18, 'snob': 14, 'stumbleupon': 2, 'ssba': 1, 'alt': 7, 'marrying': 12, 'mr': 49, 'mosquito': 2, 'elementary': 4, 'coerce': 3, 'lunchroom': 3, 'likelihood': 6, 'processed': 1, 'wobbly': 5, 'projector': 2, 'displeasing': 2, 'musty': 2, 'sans': 8, 'yknow': 9, 'vegitarianism': 6, 'joyous': 6, 'auto': 1, 'vomited': 6, 'katniss': 6, 'span': 9, 'depresses': 1, 'happiuness': 1, 'spouting': 6, 'muck': 9, 'rant': 10, 'gallivanting': 1, 'laid': 31, 'steroid': 6, 'beacuse': 5, 'discomforting': 1, 'interpreted': 1, 'blackpool': 2, 'holloway': 2, 'occasion': 25, 'seafood': 7, 'paella': 6, 'sangria': 6, 'recreational': 4, 'unwillingly': 4, 'willingly': 4, 'succeeded': 13, 'unpaid': 3, 'rushing': 5, 'gambia': 1, 'supping': 1, 'ideal': 15, 'therapist': 24, 'presumably': 6, 'necessity': 12, 'uniqueness': 6, 'wholeness': 12, 'presupposition': 6, 'clown': 6, 'fling': 6, 'unfurling': 9, 'junior': 6, 'refused': 8, 'ta': 8, 'jz': 2, 'unattractive': 3, 'apathetic': 9, 'zack': 6, 'lola': 4, 'demographic': 4, 'responding': 7, 'dt': 3, 'cc': 7, 'wit': 6, 'handedly': 6, 'lawn': 6, 'racing': 4, 'relentlessly': 4, 'paige': 6, 'deke': 5, 'gel': 6, 'residue': 3, 'brownish': 3, 'tint': 3, 'bodyguard': 1, 'johann': 6, 'accompany': 7, 'khartoum': 6, 'descara': 6, 'thebalm': 3, 'nude': 3, 'tude': 3, 'palette': 9, 'broomfield': 1, 'grim': 2, 'lifting': 13, 'laughter': 8, 'weighed': 12, 'heavier': 7, 'booking': 6, 'pe': 6, 'janine': 2, 'inflicted': 1, 'cook': 32, 'optimism': 14, 'refusal': 2, 'crone': 2, 'remembering': 18, 'nao': 8, 'sir': 6, 'mba': 6, 'mindset': 11, 'fleeting': 7, 'triumph': 13, 'bitterness': 3, 'eloquent': 6, 'charm': 6, 'array': 6, 'legard': 6, 'giggle': 2, 'penny': 6, 'soapbox': 8, 'accepts': 2, 'disrespected': 5, 'whiff': 8, 'harbor': 6, 'absolute': 10, 'ny': 1, 'sweater': 24, 'lowest': 7, 'hotshot': 6, 'dashed': 1, 'lunajubilee': 1, 'mcdonalds': 6, 'pete': 3, 'edochie': 2, 'responds': 2, 'hoax': 2, 'olajideolafunmbi': 2, 'fiddly': 2, 'purposely': 5, 'immensely': 16, 'gotta': 11, 'dollar': 13, 'dropped': 10, 'totaled': 4, 'entering': 12, 'egalitarian': 5, 'jonalyn': 5, 'finchers': 5, 'soulation': 5, 'shouldve': 8, 'compartmentalised': 6, 'flicking': 8, 'dial': 11, 'disorder': 7, 'nellie': 6, 'leslie': 6, 'detailed': 2, 'involves': 8, 'whimsical': 9, 'photoshoots': 3, 'decoration': 9, 'flutter': 5, 'hairstyle': 6, 'droop': 12, 'frizz': 6, 'appeal': 18, 'envous': 5, 'tomfoolery': 5, 'shenanigan': 5, 'sobbed': 5, 'crisp': 7, 'rollered': 4, 'twin': 20, 'pee': 11, 'tied': 11, 'diaper': 4, 'blade': 8, 'thinner': 1, 'sensational': 6, 'ash': 6, 'stench': 6, 'greasy': 6, 'mode': 18, 'ticket': 13, 'caress': 1, 'tail': 5, 'cesspool': 6, 'metaphorically': 5, 'regardless': 11, 'michigan': 2, 'governor': 3, 'prostitute': 2, 'simplify': 1, 'demonstration': 1, 'stare': 16, 'soaking': 1, 'dirt': 9, 'idling': 5, 'angered': 20, 'jacked': 6, 'snooze': 6, 'button': 40, 'tenge': 2, 'considers': 11, 'weapon': 17, 'protest': 7, 'riot': 5, 'calorie': 18, 'intake': 5, 'eternally': 7, 'fiddle': 6, 'liveagainsttheflow': 2, 'genius': 19, 'cruising': 6, 'duluth': 1, 'tasting': 6, 'raped': 7, 'systematically': 5, 'assassinated': 5, 'callous': 2, 'unfaithful': 2, 'estimate': 6, 'nepali': 6, 'german': 13, 'spanish': 12, 'tith': 5, 'ath': 5, 'afp': 5, 'forehead': 11, 'scrunching': 5, 'wrinkle': 13, 'scanned': 2, 'seized': 6, 'dishonoring': 5, 'upsetting': 5, 'eerily': 3, 'parallel': 8, 'unnatural': 9, 'uncaring': 10, 'flexy': 5, 'minor': 32, 'dew': 9, 'south': 17, 'encourage': 37, 'advancement': 6, 'cassandra': 6, 'locking': 8, 'attic': 6, 'barn': 12, 'warmed': 8, 'ginger': 12, 'abelard': 6, 'instagram': 9, 'unused': 1, 'pgce': 6, 'existing': 2, 'symbol': 2, 'disgusting': 6, 'eater': 4, 'gina': 2, 'misgiving': 2, 'bandaid': 6, 'cap': 9, 'developed': 20, 'critically': 3, 'flawed': 4, 'ryodan': 1, 'lingers': 2, 'alight': 6, 'bellman': 6, 'glance': 15, 'adress': 5, 'undeservedly': 2, 'harmed': 4, 'acknowledgement': 1, 'eddie': 1, 'eg': 1, 'rapport': 6, 'sacrificed': 6, 'unprotected': 16, 'net': 5, 'rape': 14, 'whistle': 5, 'grossly': 5, 'campus': 12, 'coughing': 3, 'runny': 3, 'nose': 10, 'ebooks': 6, 'mighty': 5, 'roar': 5, 'forego': 6, 'futon': 6, 'paparazzo': 2, 'zq': 2, 'jcho': 2, 'cpine': 2, 'ailment': 4, 'remaining': 22, 'poggy': 1, 'cambodia': 5, 'lax': 5, 'bi': 11, 'irresistable': 6, 'expload': 1, 'unmentioned': 6, 'narrative': 6, 'unity': 10, 'rehearsal': 3, 'greet': 3, 'per': 20, 'obsessively': 3, 'varnish': 2, 'brazilian': 6, 'numbness': 1, 'calmer': 9, 'aftermath': 9, 'laura': 1, 'gilbert': 1, 'theybf': 1, 'whore': 4, 'sniiiiifff': 2, 'freely': 17, 'telstra': 1, 'pessimistic': 1, 'glanced': 2, 'strolling': 13, 'transformed': 3, 'anesthetized': 1, 'bunion': 3, 'baba': 3, 'emote': 3, 'madre': 1, 'protective': 1, 'possessive': 3, 'harry': 18, 'hah': 5, 'sinus': 4, 'bailed': 1, 'stereotype': 13, 'incorrect': 3, 'complex': 6, 'cooper': 1, 'nerve': 31, 'ted': 5, 'simplicity': 20, 'sneeze': 7, 'proving': 7, 'dependent': 7, 'shaving': 6, 'precision': 6, 'decaf': 2, 'parting': 2, 'delightful': 12, 'opinionated': 2, 'whoop': 6, 'holler': 6, 'constipated': 8, 'yhhhay': 6, 'corey': 6, 'whispered': 18, 'generation': 37, 'learns': 15, 'ashame': 1, 'fourth': 2, 'bottle': 20, 'reckless': 6, 'shrugged': 4, 'educational': 10, 'territory': 10, 'constitutional': 2, 'bureaucracy': 2, 'bully': 10, 'regimented': 3, 'deedee': 3, 'dry': 20, 'spell': 8, 'curiously': 6, 'sophist': 3, 'physic': 2, 'midterm': 7, 'oblige': 6, 'homeschool': 1, 'scolding': 1, 'sobriety': 1, 'definite': 1, 'crime': 4, 'committed': 18, 'eaten': 24, 'eatery': 6, 'flavor': 13, 'ecstasy': 6, 'concentrate': 21, 'nightmarish': 2, 'prospect': 36, 'permeates': 6, 'explaining': 10, 'dismisses': 2, 'blindly': 2, 'disinterested': 5, 'estate': 4, 'agent': 11, 'proceed': 10, 'accustomed': 9, 'guitar': 14, 'dominican': 9, 'guessed': 1, 'brooklyn': 6, 'latch': 6, 'skipping': 7, 'purchased': 6, 'seeming': 1, 'accord': 3, 'patriotism': 7, 'cautiously': 12, 'md': 6, 'guidance': 18, 'weave': 6, 'prowl': 2, 'jungle': 2, 'deserted': 2, 'sinking': 13, 'winterpaysforsummer': 6, 'journalist': 6, 'dedicated': 15, 'eurovision': 6, 'sh': 7, 'versus': 8, 'harmonious': 3, 'veering': 6, 'tatsuma': 3, 'aoi': 3, 'ron': 3, 'flashback': 10, 'department': 13, 'referred': 2, 'hypocrite': 7, 'palin': 6, 'yelled': 3, 'matty': 6, 'unexplained': 1, 'canon': 6, 'iii': 6, 'mummy': 13, 'toilet': 20, 'clinique': 5, 'temporarily': 8, 'ffs': 2, 'gucci': 6, 'jeered': 1, 'resorted': 7, 'peak': 13, 'housebound': 7, 'peckish': 7, 'mica': 6, 'gratefulness': 6, 'trapped': 4, 'slash': 1, 'kuwait': 3, 'asserted': 1, 'reject': 5, 'listens': 4, 'translated': 4, 'coward': 6, 'grandchild': 2, 'revolve': 2, 'ew': 6, 'profoundly': 10, 'attended': 4, 'preclude': 5, 'serving': 29, 'derby': 9, 'thankfully': 5, 'suggested': 14, 'outlandish': 6, 'driftingthroughlife': 6, 'moulding': 2, 'ffviii': 6, 'liquor': 2, 'compagnon': 3, 'ripped': 1, 'advanced': 12, 'coupled': 11, 'er': 13, 'persevere': 6, 'reacting': 8, 'horrid': 3, 'burying': 6, 'crotch': 9, 'faced': 2, 'steam': 7, 'emerging': 7, 'betty': 9, 'jolt': 6, 'electricity': 6, 'dh': 6, 'resulting': 1, 'diagnosis': 1, 'generalised': 1, 'compound': 1, 'joie': 4, 'de': 4, 'vivre': 4, 'earning': 10, 'jumbleupon': 1, 'disciple': 9, 'regurgitate': 7, 'eva': 1, 'wow': 17, 'frenh': 6, 'tutor': 12, 'dontt': 6, 'coldness': 1, 'vulnerability': 6, 'manipulated': 6, 'beijing': 11, 'horror': 28, 'plural': 6, 'snarky': 6, 'disinfected': 1, 'commuter': 3, 'reliable': 3, 'caffeinated': 1, 'disdain': 8, 'acted': 6, 'busier': 1, 'melody': 18, 'asd': 6, 'motivator': 18, 'insist': 5, 'conducted': 6, 'survey': 6, 'onel': 5, 'eminent': 5, 'patriotic': 5, 'epic': 11, 'mushroom': 6, 'pizza': 14, 'pitcher': 6, 'rhetoric': 5, 'conscientious': 1, 'organic': 12, 'lunchtime': 2, 'buried': 13, 'ethan': 6, 'teased': 6, 'fancied': 6, 'beef': 6, 'mary': 2, 'anne': 2, 'harmony': 11, 'alabama': 6, 'emptied': 8, 'controlled': 17, 'displaced': 5, 'todd': 14, 'caleb': 4, 'veer': 5, 'disorientated': 6, 'queasy': 12, 'frumpy': 6, 'forgave': 1, 'established': 11, 'resisting': 6, 'peregrinos': 5, 'piling': 7, 'decorate': 4, 'slacking': 4, 'viewer': 22, 'rating': 9, 'iris': 2, 'heap': 5, 'orthodox': 6, 'blair': 3, 'admin': 5, 'landing': 6, 'homepage': 6, 'depend': 19, 'keywords': 6, 'cru': 2, 'careful': 11, 'decline': 1, 'realness': 4, 'apology': 22, 'waving': 4, 'election': 10, 'liverpool': 3, 'wrapped': 19, 'taunted': 11, 'frailty': 11, 'exterior': 5, 'existance': 14, 'masculinity': 5, 'fathomed': 6, 'alec': 6, 'liar': 8, 'stab': 2, 'unattainable': 6, 'prolonged': 5, 'contact': 46, 'discontented': 1, 'flighty': 2, 'ignites': 2, 'knowingly': 2, 'wistful': 7, 'alexis': 2, 'ego': 14, 'lone': 2, 'pent': 8, 'condemned': 3, 'numbing': 1, 'pleasure': 38, 'despair': 11, 'slapping': 5, 'boil': 10, 'limply': 1, 'focusing': 13, 'aspieness': 6, 'iq': 6, 'seven': 10, 'reference': 14, 'earliest': 5, 'dawn': 10, 'strait': 5, 'atmosphere': 23, 'fertile': 3, 'stubbornly': 10, 'roundabout': 6, 'annoyingly': 7, 'murmur': 5, 'skinner': 4, 'seduce': 3, 'conned': 3, 'connived': 3, 'fired': 1, 'sensory': 16, 'stoic': 12, 'icky': 7, 'cited': 3, 'scarce': 3, 'legality': 2, 'tatter': 2, 'messaging': 2, 'slap': 5, 'briton': 6, 'monogrammed': 6, 'dubbed': 6, 'somethings': 5, 'apendages': 6, 'organ': 12, 'temper': 11, 'tantrum': 9, 'hobnob': 6, 'douche': 9, 'canoe': 6, 'acne': 9, 'karen': 2, 'branding': 6, 'actuality': 3, 'bohemian': 6, 'beachy': 9, 'haiku': 8, 'sooo': 10, 'devin': 2, 'clutter': 4, 'inherently': 1, 'gender': 2, 'rekindled': 6, 'lease': 6, 'superficial': 8, 'moderately': 6, 'twat': 7, 'collaborative': 6, 'conducive': 11, 'comeback': 16, 'willy': 2, 'nilly': 2, 'uhuru': 2, 'persecuted': 3, 'martha': 7, 'karua': 1, 'carrying': 27, 'essay': 2, 'victorious': 8, 'cautious': 11, 'ryan': 14, 'spat': 2, 'belly': 39, 'imagebox': 6, 'solemn': 6, 'hurtled': 1, 'pine': 8, 'jersey': 18, 'consumed': 4, 'appropriately': 2, 'sorrow': 11, 'drowning': 9, 'swamp': 8, 'unfeeling': 2, 'humanbeings': 2, 'pollution': 3, 'luxurious': 4, 'deer': 9, 'mouse': 17, 'parade': 6, 'permalink': 12, 'thomas': 11, 'spasm': 1, 'diarrhea': 1, 'mouthful': 1, 'defriended': 5, 'pleasing': 18, 'werner': 5, 'heidi': 6, 'unspoilt': 2, 'ladder': 9, 'stuffing': 1, 'parlor': 1, 'hamburger': 2, 'steak': 4, 'oooh': 2, 'achy': 1, 'blahness': 1, 'desert': 3, 'restful': 6, 'fared': 12, 'fob': 12, 'telegram': 6, 'anniversary': 15, 'guardian': 3, 'indiscriminately': 3, 'appearing': 1, 'jaeryong': 1, 'jungeuns': 1, 'barbeque': 5, 'polyvore': 3, 'advent': 3, 'bent': 1, 'thaliad': 6, 'environmentally': 12, 'lex': 6, 'misty': 6, 'bombardment': 6, 'notcied': 1, 'wildly': 4, 'backward': 8, 'copycat': 6, 'sifting': 1, 'unappreciated': 5, 'earplug': 1, 'frustrating': 15, 'okc': 6, 'eharmony': 6, 'meaningless': 13, 'rrreeaallyy': 1, 'ian': 2, 'sensibly': 5, 'camera': 30, 'prepping': 6, 'supervisor': 6, 'nailed': 12, 'politely': 5, 'shook': 8, 'expansive': 6, 'transfer': 12, 'revelation': 6, 'dismissing': 2, 'disconnect': 2, 'pioneer': 2, 'eve': 13, 'roomates': 3, 'shermin': 3, 'joey': 3, 'surmise': 2, 'sitcom': 3, 'rightful': 6, 'predecessor': 6, 'emptiness': 11, 'baggage': 8, 'renaissance': 3, 'baroque': 3, 'jamie': 3, 'inanimate': 9, 'purged': 1, 'tremendously': 2, 'dunstable': 6, 'preposterous': 12, 'slope': 16, 'trialling': 6, 'entitiled': 6, 'unwisely': 6, 'spooky': 6, 'matin': 6, 'screening': 8, 'stewart': 6, 'legion': 18, 'referring': 13, 'dpns': 6, 'happily': 23, 'surfacing': 7, 'diamond': 3, 'richie': 1, 'mix': 25, 'taylor': 25, 'swift': 13, 'represent': 30, 'mingle': 1, 'stupor': 3, 'wildstar': 1, 'interacting': 9, 'empathize': 7, 'yummy': 6, 'leftover': 6, 'tonguey': 5, 'pulsed': 5, 'bud': 5, 'clit': 5, 'aa': 8, 'shona': 1, 'athe': 1, 'clinical': 6, 'abstinence': 6, 'specialist': 6, 'tomato': 19, 'indulging': 24, 'alarmed': 51, 'sloshy': 1, 'deepening': 12, 'murt': 2, 'clarinet': 1, 'stropped': 2, 'instill': 6, 'expose': 8, 'saddled': 1, 'pissing': 1, 'nestled': 1, 'recreate': 9, 'fog': 10, 'awaits': 2, 'blogstalkers': 3, 'nearness': 7, 'datey': 6, 'commonplace': 5, 'revis': 6, 'reporter': 6, 'jet': 6, 'locker': 11, 'dom': 2, 'rip': 4, 'tide': 3, 'alittle': 1, 'logged': 1, 'calvaryccv': 1, 'preparation': 16, 'captivity': 1, 'formulate': 5, 'reflects': 1, 'fraction': 1, 'nakahara': 3, 'mai': 3, 'mightily': 4, 'crashed': 10, 'hiring': 6, 'scandalized': 2, 'nfl': 2, 'fingernail': 16, 'witnessing': 6, 'scheduled': 7, 'fro': 6, 'playoff': 2, 'ruslan': 2, 'fedotenko': 2, 'concentrated': 4, 'aroma': 3, 'bhubaneswar': 3, 'orissa': 3, 'evans': 6, 'captain': 12, 'donor': 6, 'cdm': 12, 'flac': 12, 'custodes': 12, 'alibi': 6, 'download': 7, 'resume': 13, 'premium': 6, 'philippine': 12, 'prime': 8, 'dwelling': 14, 'ward': 16, 'managing': 1, 'pat': 12, 'bertram': 6, 'ptbertram': 6, 'pawn': 1, 'impress': 2, 'countless': 25, 'hospitalized': 6, 'pervert': 1, 'abnormally': 5, 'staked': 5, 'feeder': 5, 'endzone': 2, 'itsy': 6, 'bitsy': 6, 'vogue': 6, 'summary': 2, 'uganda': 1, 'crafting': 6, 'screenwriter': 6, 'impossible': 13, 'workmate': 1, 'transcribe': 5, 'accused': 6, 'tak': 2, 'bare': 13, 'dryer': 10, 'counting': 6, 'backfire': 6, 'solondz': 6, 'gimmick': 12, 'hackle': 2, 'tia': 1, 'marketer': 2, 'aiming': 12, 'drip': 9, 'challenging': 13, 'returning': 8, 'wild': 13, 'cent': 12, 'dink': 5, 'prettymuch': 5, 'acronym': 5, 'choosing': 13, 'plate': 22, 'werent': 22, 'antipasti': 6, 'mozzarella': 6, 'proscuito': 6, 'excel': 9, 'luxury': 8, 'scolded': 1, 'cottage': 5, 'rustling': 5, 'blogspot': 4, 'twitch': 10, 'fb': 23, 'siren': 9, 'echoing': 1, 'theory': 28, 'aid': 12, 'explodes': 2, 'proper': 15, 'debris': 2, 'compiled': 6, 'rooted': 6, 'sucking': 17, 'carcenogenic': 6, 'pleasantness': 6, 'illusion': 14, 'declare': 11, 'songy': 5, 'camilla': 3, 'vein': 20, 'empathizing': 3, 'passengered': 4, 'cab': 6, 'cutie': 6, 'spoon': 9, 'mathematical': 6, 'exhilirated': 5, 'tpt': 6, 'aversary': 6, 'treader': 5, 'hardcover': 5, 'internal': 10, 'dissolve': 9, 'projecting': 6, 'suspected': 2, 'weightloss': 6, 'chef': 6, 'academy': 4, 'spying': 6, 'devour': 4, 'assist': 15, 'profound': 1, 'psychology': 7, 'ish': 3, 'manifesting': 1, 'sabotaging': 1, 'yuck': 6, 'adequate': 6, 'entrenched': 6, 'gerrymandered': 6, 'district': 12, 'reelected': 6, 'gabriella': 2, 'embark': 6, 'biscuit': 1, 'sonam': 6, 'genelia': 6, 'tubelight': 1, 'reflecting': 1, 'glossy': 7, 'bra': 1, 'ediths': 6, 'meanness': 8, 'stoner': 6, 'meing': 1, 'emotionaly': 1, 'bareminerals': 1, 'filmed': 1, 'inhaler': 7, 'muay': 5, 'thai': 12, 'blinked': 1, 'mall': 10, 'weirdo': 5, 'peep': 7, 'kangna': 6, 'ranaut': 6, 'invisible': 1, 'chunk': 7, 'hum': 9, 'dubstep': 2, 'subjected': 9, 'thunder': 1, 'unnecessary': 27, 'encouraging': 15, 'kindergartener': 6, 'vm': 6, 'superduperreally': 6, 'blurt': 1, 'coldsores': 6, 'identity': 4, 'rank': 5, 'antic': 5, 'improv': 5, 'carolina': 1, 'intimacy': 9, 'lifetime': 18, 'rut': 1, 'enabled': 6, 'abstain': 6, 'withdrawing': 2, 'ashley': 1, 'rommel': 1, 'climbing': 3, 'horizontal': 2, 'cramped': 2, 'pooped': 7, 'comp': 2, 'bug': 7, 'buzzing': 6, 'shortage': 3, 'commit': 13, 'compromise': 12, 'portable': 6, 'compatible': 6, 'cohesive': 6, 'arist': 6, 'burnt': 9, 'lucas': 7, 'uplift': 6, 'aaron': 2, 'dorothy': 3, 'kelsey': 3, 'motivational': 6, 'machinery': 6, 'socializing': 9, 'rememberiing': 3, 'marillac': 6, 'residential': 6, 'freezer': 6, 'nostril': 6, 'sole': 9, 'historical': 20, 'imply': 6, 'method': 42, 'gig': 1, 'march': 10, 'biopsy': 1, 'cynical': 3, 'measuring': 7, 'tracking': 11, 'unfocused': 5, 'swaddled': 3, 'wrapping': 14, 'woefully': 1, 'illogically': 2, 'mysalvagedtreasures': 3, 'lecture': 7, 'whereby': 2, 'detatched': 5, 'grandson': 6, 'jolted': 1, 'thawing': 1, 'sledding': 1, 'acquaintance': 12, 'mentioning': 11, 'makin': 12, 'strip': 7, 'cineplex': 6, 'destroying': 6, 'photographically': 1, 'crew': 14, 'passersby': 6, 'surf': 5, 'broom': 8, 'scrubbing': 2, 'vinegar': 3, 'newspaper': 13, 'cooler': 12, 'holden': 1, 'caulfield': 1, 'ordeal': 13, 'rent': 4, 'enamoured': 6, 'porcelain': 3, 'richness': 7, 'cgi': 4, 'starter': 17, 'refrigerator': 2, 'bonka': 4, 'neva': 4, 'fa': 10, 'illinois': 6, 'pristine': 6, 'boutique': 6, 'affords': 7, 'slung': 6, 'embalming': 6, 'rightness': 6, 'dreadful': 7, 'dragon': 10, 'mbourgon': 6, 'educated': 16, 'susceptible': 5, 'deserved': 9, 'electing': 1, 'traded': 3, 'musical': 11, 'management': 7, 'rotation': 3, 'caretaker': 3, 'gona': 6, 'decribe': 6, 'growth': 26, 'recovered': 10, 'congestion': 3, 'enchanting': 1, 'evar': 1, 'bc': 1, 'heartbeat': 9, 'consultation': 1, 'efficiently': 1, 'classwork': 1, 'dittmar': 6, 'math': 6, 'accent': 3, 'chendol': 3, 'kacang': 3, 'facility': 6, 'denim': 2, 'debated': 6, 'shandur': 1, 'polo': 1, 'located': 1, 'western': 1, 'pakistan': 1, 'tweet': 7, 'bubble': 16, 'dudley': 6, 'dursley': 6, 'cornelius': 6, 'fudge': 6, 'minerva': 6, 'mcgonnagall': 6, 'neville': 6, 'longbottom': 6, 'pettigrew': 6, 'oliver': 6, 'clip': 13, 'frequency': 5, 'draft': 11, 'neuroticworkaholic': 1, 'twas': 3, 'bedside': 3, 'bowl': 16, 'magi': 5, 'herod': 5, 'exaggerated': 1, 'indulgence': 2, 'audacity': 2, 'fifth': 6, 'yearbook': 6, 'commemorate': 6, 'rudy': 6, 'graduated': 8, 'automation': 4, 'memset': 4, 'pocket': 18, 'tab': 2, 'trafford': 6, 'stamford': 6, 'socialize': 5, 'grudgingly': 1, 'enlivened': 6, 'rockabilly': 6, 'burger': 14, 'moisture': 6, 'juicy': 11, 'seated': 2, 'unhappiness': 1, 'insufficiency': 1, 'inherent': 4, 'furniture': 6, 'additional': 12, 'snuck': 3, 'snooping': 3, 'indigestion': 1, 'guitarist': 6, 'prideful': 6, 'exaggerating': 3, 'angie': 8, 'unmitigated': 6, 'carol': 6, 'atletico': 3, 'stored': 8, 'rage': 6, 'singular': 1, 'clasheen': 1, 'nicola': 1, 'keepmeinstitchez': 1, 'mature': 12, 'nervouse': 6, 'usain': 6, 'bolt': 6, 'intruder': 2, 'griff': 1, 'retreat': 2, 'whine': 3, 'sentiment': 1, 'schindlers': 2, 'chamber': 16, 'ghost': 2, 'trained': 14, 'trav': 1, 'homosexual': 10, 'moping': 5, 'onion': 18, 'slows': 6, 'compounded': 6, 'heel': 15, 'acknowledged': 6, 'nod': 20, 'h': 6, 'soothing': 9, 'cosmetic': 1, 'sasuke': 6, 'fatally': 6, 'moriartys': 3, 'horrified': 3, 'evilness': 3, 'bridal': 3, 'tap': 8, 'racked': 4, 'ugliness': 4, 'steinbeck': 6, 'enriched': 18, 'validate': 4, 'broadcasting': 1, 'protocol': 6, 'consults': 6, 'handsomefamily': 4, 'ordinary': 20, 'embraced': 6, 'bibliography': 6, 'bachelorette': 1, 'shifted': 3, 'hannah': 2, 'montana': 5, 'nick': 7, 'colbert': 6, 'owen': 2, 'morgan': 2, 'undertaking': 5, 'disorients': 3, 'experimenting': 12, 'lemony': 6, 'cake': 32, 'vanilla': 12, 'buttermilk': 6, 'inducing': 5, 'deprecation': 5, 'multitasking': 2, 'ragged': 3, 'destination': 2, 'isolation': 6, 'premature': 5, 'graying': 4, 'demise': 6, 'caged': 2, 'womb': 3, 'expensive': 29, 'owned': 2, 'giveaway': 17, 'revisiting': 6, 'ome': 6, 'blubbering': 5, 'chanel': 12, 'fist': 5, 'infantry': 6, 'motorbike': 6, 'prosecution': 1, 'mongering': 1, 'elashis': 1, 'noor': 1, 'courthouse': 6, 'suppliments': 6, 'abandoning': 4, 'affirm': 6, 'disastrous': 6, 'unemployed': 10, 'aku': 7, 'merasa': 6, 'luar': 6, 'biasa': 6, 'karena': 6, 'kulihat': 6, 'sendi': 6, 'simplethoughtsonthings': 6, 'maeve': 1, 'nevertheless': 8, 'superstition': 4, 'caution': 2, 'determine': 24, 'consciousness': 6, 'competent': 6, 'consideration': 5, 'perspiring': 1, 'muddy': 1, 'worsen': 6, 'voter': 6, 'bruise': 6, 'hip': 27, 'elbow': 6, 'banged': 6, 'celebrating': 20, 'grandiosely': 6, 'collapse': 6, 'shortsighted': 2, 'database': 6, 'immediate': 14, 'donate': 6, 'proceeds': 6, 'relative': 11, 'totality': 5, 'indicated': 2, 'blowout': 3, 'privilege': 15, 'extend': 5, 'raid': 7, 'luftwaffe': 5, 'kerouac': 1, 'tossing': 12, 'marble': 1, 'maelstrom': 1, 'sur': 1, 'abundantly': 3, 'addict': 7, 'frazzled': 1, 'railway': 8, 'grimacing': 6, 'flip': 23, 'knife': 12, 'pistol': 12, 'mombasa': 6, 'stirring': 6, 'duckie': 5, 'commie': 5, 'daring': 6, 'corset': 6, 'hijacked': 1, 'wiggle': 13, 'fudgy': 1, 'mediocre': 7, 'doodle': 13, 'sassy': 7, 'taryn': 4, 'jumping': 27, 'whooped': 1, 'unsteady': 1, 'duration': 2, 'hurry': 12, 'resonate': 1, 'simon': 3, 'teenage': 18, 'jag': 3, 'jointly': 3, 'brendon': 2, 'segregate': 2, 'liberal': 13, 'intimidation': 6, 'mira': 4, 'castle': 10, 'strive': 10, 'safely': 13, 'referee': 2, 'partial': 2, 'stirred': 8, 'conveniently': 11, 'unwind': 6, 'breather': 6, 'pussy': 9, 'swimsuit': 6, 'ushering': 5, 'traumatic': 10, 'tracy': 2, 'intrigued': 8, 'chugged': 6, 'loopy': 6, 'tethered': 6, 'cashmere': 6, 'rainboots': 6, 'andy': 2, 'chemical': 2, 'classy': 6, 'goth': 6, 'punk': 8, 'getyourprettyon': 6, 'lends': 2, 'projected': 2, 'joined': 2, 'clique': 7, 'guiding': 4, 'principle': 7, 'recount': 2, 'obama': 16, 'thatll': 6, 'bang': 10, 'wuss': 1, 'answering': 21, 'heated': 2, 'contemplation': 4, 'consolidation': 4, 'elf': 2, 'flaky': 6, 'streaky': 6, 'gook': 2, 'fourteen': 1, 'altered': 1, 'solve': 15, 'irrationally': 7, 'benny': 6, 'dumbfounded': 4, 'kidding': 6, 'touching': 14, 'iya': 4, 'painted': 7, 'ruined': 6, 'uncomfterble': 6, 'pacing': 2, 'distanced': 3, 'shh': 1, 'patio': 2, 'storming': 2, 'flush': 2, 'foster': 1, 'accommodate': 7, 'mediterranean': 5, 'sucked': 14, 'charade': 1, 'hobica': 4, 'uglier': 5, 'deformed': 5, 'enought': 1, 'yorkshire': 6, 'ha': 25, 'twisted': 18, 'sinister': 12, 'inaccurate': 6, 'compulsion': 6, 'bludgeon': 6, 'onlooker': 6, 'label': 22, 'acquire': 6, 'ho': 1, 'aout': 5, 'signifies': 2, 'undue': 2, 'justin': 16, 'aryiku': 9, 'aimless': 4, 'sor': 2, 'doubling': 6, 'accurate': 8, 'payoff': 6, 'shinae': 2, 'penn': 12, 'mentality': 5, 'cinema': 11, 'redden': 2, 'manhood': 2, 'laundering': 5, 'stumbled': 6, 'infrastructure': 6, 'inequality': 6, 'surely': 35, 'pursuing': 14, 'fancy': 14, 'evey': 1, 'french': 6, 'directing': 14, 'mercilessly': 6, 'abominable': 6, 'declaring': 6, 'hump': 6, 'newsprint': 4, 'carried': 23, 'permanence': 3, 'fingertip': 3, 'coworkers': 19, 'happend': 6, 'pimp': 3, 'raini': 3, 'rocky': 3, 'suppressing': 1, 'goodness': 25, 'harmful': 9, 'overpowers': 1, 'feeble': 1, 'baht': 6, 'usd': 6, 'alway': 5, 'elusively': 5, 'misrepresent': 6, 'occurred': 1, 'increased': 7, 'dosage': 1, 'replacement': 1, 'supplemental': 1, 'estrogen': 1, 'succumbed': 1, 'ingrate': 3, 'momentarily': 8, 'empathetic': 3, 'sweeney': 3, 'facial': 6, 'modifying': 6, 'biannual': 5, 'mammogram': 5, 'unusually': 8, 'bla': 3, 'cycling': 13, 'invade': 2, 'shutting': 8, 'woodstock': 6, 'lightning': 11, 'smiley': 6, 'defiant': 6, 'thrilling': 12, 'theatre': 6, 'bashing': 9, 'gw': 3, 'karma': 1, 'contentment': 7, 'sober': 3, 'behave': 13, 'outcast': 1, 'trendier': 6, 'unfriendly': 6, 'baring': 1, 'auster': 3, 'pounding': 7, 'fatigue': 1, 'bleak': 6, 'paragraph': 6, 'noconscience': 1, 'prevail': 1, 'sucky': 11, 'counterproductive': 6, 'nic': 2, 'obstacle': 7, 'pokemon': 2, 'boldly': 7, 'warned': 12, 'opener': 12, 'confrontational': 5, 'thrive': 5, 'executive': 5, 'corporate': 5, 'permeate': 5, 'photograph': 8, 'global': 3, 'regent': 1, 'planted': 9, 'thirsty': 6, 'unbearable': 1, 'lightness': 10, 'desirable': 4, 'torned': 1, 'nathan': 7, 'haley': 6, 'noisy': 17, 'animesh': 3, 'whip': 11, 'cloth': 7, 'napkin': 6, 'reusable': 6, 'grit': 3, 'prisoner': 7, 'guideline': 1, 'lds': 3, 'moreso': 5, 'crowded': 16, 'restrain': 6, 'su': 12, 'wen': 13, 'repay': 6, 'oakwood': 1, 'hooked': 6, 'kitwe': 6, 'amma': 1, 'atlanta': 1, 'noon': 3, 'poignant': 6, 'piercing': 6, 'penetrating': 6, 'figment': 6, 'suspiciously': 6, 'amorphous': 6, 'ryder': 3, 'luke': 5, 'spitball': 2, 'luring': 2, 'lair': 2, 'chewie': 3, 'nicole': 3, 'grandeur': 5, 'legitimately': 11, 'await': 6, 'andrew': 6, 'cycled': 6, 'sulfate': 3, 'reputable': 3, 'geocentric': 6, 'towel': 5, 'hsps': 4, 'hsp': 4, 'cheaply': 6, 'locate': 3, 'margaret': 3, 'superpower': 6, 'il': 6, 'rosa': 3, 'chasm': 3, 'comforted': 31, 'oncologist': 13, 'universal': 2, 'metaphor': 20, 'etries': 1, 'upheaval': 6, 'gatorade': 5, 'satan': 11, 'significantly': 13, 'hyde': 6, 'kat': 1, 'denningss': 1, 'deadpan': 1, 'delivery': 15, 'crab': 2, 'aol': 6, 'verizon': 6, 'repeatedly': 20, 'ari': 1, 'ben': 2, 'menashe': 1, 'mousavi': 1, 'manuchehr': 1, 'ghorbani': 1, 'cia': 7, 'oxford': 12, 'skype': 1, 'hurricane': 8, 'correspond': 1, 'catsa': 1, 'afrad': 6, 'flab': 6, 'migrate': 2, 'unfit': 2, 'teary': 9, 'creatively': 5, 'stimulating': 9, 'chuffed': 18, 'spirituality': 13, 'nipping': 8, 'custom': 12, 'orthotics': 6, 'fic': 12, 'writting': 12, 'writters': 6, 'heartdesire': 6, 'mentel': 6, 'whatsoever': 6, 'disjointed': 5, 'surprising': 17, 'decluttering': 5, 'safer': 13, 'ed': 7, 'peeing': 6, 'irritability': 6, 'sniffer': 6, 'gag': 8, 'reflex': 6, 'euphermal': 6, 'ounce': 1, 'treacherous': 6, 'beware': 3, 'kitty': 1, 'inverted': 6, 'suspension': 6, 'healthier': 9, 'stripped': 11, 'pinch': 6, 'quantity': 6, 'awesomeness': 6, 'togehter': 2, 'addison': 6, 'reed': 6, 'collector': 6, 'coldstone': 3, 'waaaaayyyy': 3, 'delicous': 3, 'creaminess': 9, 'peacefulness': 3, 'reactive': 2, 'frantically': 6, 'apron': 12, 'undergo': 6, 'rep': 12, 'reciting': 4, 'spiel': 4, 'addicted': 13, 'scarlet': 6, 'treating': 12, 'maladaptive': 6, 'architecturally': 6, 'benjamin': 11, 'forest': 5, 'gump': 4, 'stayviolation': 4, 'pistil': 6, 'manliness': 6, 'wig': 16, 'organising': 6, 'inspection': 12, 'tidying': 18, 'daytime': 6, 'arlovski': 1, 'ufc': 1, 'robbed': 5, 'dismantle': 1, 'prosperity': 6, 'slice': 6, 'seattle': 4, 'showcase': 4, 'concidence': 2, 'uneasiness': 1, 'velvet': 6, 'wallpaper': 4, 'mobile': 2, 'ploy': 6, 'ashraf': 6, 'pakistani': 6, 'bitten': 14, 'overboard': 6, 'nigga': 6, 'unpopular': 6, 'ominous': 1, 'radiation': 16, 'initally': 5, 'internist': 5, 'nasal': 5, 'sarcoma': 5, 'aimlessly': 5, 'narrow': 6, 'jeannie': 2, 'grip': 8, 'keith': 2, 'detoured': 2, 'xela': 2, 'resented': 3, 'unspecified': 1, 'equipment': 1, 'friendfeed': 1, 'dearwendy': 1, 'entrenchedly': 6, 'pureland': 6, 'buddhism': 6, 'whereas': 16, 'negativity': 13, 'leadership': 10, 'avoided': 16, 'chabad': 3, 'sukkah': 3, 'sunlight': 5, 'filter': 3, 'woven': 3, 'schach': 3, 'breeze': 18, 'lattice': 3, 'verbalize': 1, 'imagi': 1, 'toenail': 12, 'risked': 1, 'olden': 5, 'sarawak': 5, 'jugra': 5, 'chronicle': 5, 'beg': 7, 'administration': 9, 'stamped': 3, 'medically': 3, 'chaperone': 2, 'unlikely': 6, 'punctual': 2, 'invitation': 15, 'distraction': 16, 'unwanted': 12, 'vexed': 2, 'mohammed': 1, 'hussein': 3, 'xango': 2, 'yahoo': 3, 'verrrrrrrryyyy': 3, 'ntoward': 3, 'dissect': 1, 'knock': 18, 'backlog': 5, 'lindo': 6, 'starring': 9, 'arose': 1, 'jumble': 1, 'culprit': 2, 'wounded': 2, 'tiggers': 6, 'quieter': 7, 'shushing': 5, 'insert': 4, 'secondary': 5, 'arun': 2, 'harmless': 1, 'insect': 1, 'overpowered': 1, 'intrusion': 5, 'vengeance': 1, 'granny': 1, 'panty': 7, 'quilted': 1, 'psycho': 11, 'cuddling': 18, 'thriller': 1, 'prevails': 1, 'betrayal': 6, 'pluto': 6, 'input': 17, 'pacesetter': 6, 'invincible': 12, 'hp': 5, 'plugged': 6, 'charging': 5, 'supervising': 5, 'printing': 1, 'dealer': 1, 'philter': 1, 'paaker': 1, 'cunt': 6, 'scarred': 1, 'mso': 1, 'bidi': 1, 'fil': 1, 'evoke': 6, 'julian': 2, 'spazzing': 3, 'thingy': 1, 'gikwang': 1, 'cardio': 7, 'emilyhursh': 6, 'requires': 14, 'childlike': 5, 'ply': 6, 'tweedy': 6, 'rowan': 6, 'shawl': 6, 'mishap': 5, 'toddler': 8, 'discouraging': 6, 'mereka': 1, 'penyeri': 1, 'sheet': 9, 'turkey': 8, 'tofurkey': 6, 'transparence': 6, 'cliff': 18, 'canal': 12, 'dictated': 2, 'shaun': 6, 'inclination': 2, 'jamies': 1, 'nerdy': 5, 'daydreaming': 2, 'shove': 5, 'assuage': 5, 'yelp': 1, 'realism': 1, 'mumbai': 3, 'slum': 8, 'drafted': 5, 'suckered': 6, 'siri': 6, 'honduras': 3, 'equilibrium': 6, 'sims': 6, 'reduced': 6, 'bernie': 3, 'guaranteed': 9, 'whipping': 1, 'workaholic': 6, 'mating': 6, 'assessed': 6, 'calculated': 7, 'revealthestaryoutrulyare': 6, 'corrupting': 6, 'lull': 1, 'zombie': 6, 'thunk': 6, 'charged': 10, 'kala': 6, 'fangirls': 2, 'nominee': 3, 'transformation': 10, 'exited': 11, 'trimester': 18, 'emerged': 6, 'realizing': 6, 'quell': 1, 'dodd': 1, 'deceives': 1, 'analyzed': 7, 'overanalyzed': 6, 'aversion': 9, 'license': 18, 'hibernating': 6, 'brink': 8, 'adf': 4, 'rite': 4, 'consecrated': 4, 'satiated': 6, 'affordable': 6, 'pompoms': 6, 'multi': 18, 'braided': 6, 'flap': 6, 'lyman': 4, 'malignant': 5, 'melonoma': 5, 'revisit': 6, 'shoplifting': 5, 'gummy': 5, 'io': 6, 'galaxy': 6, 'sii': 6, 'lumia': 6, 'specie': 6, 'rave': 4, 'photographed': 2, 'bald': 13, 'blonde': 19, 'grandpa': 12, 'bishop': 6, 'stave': 6, 'request': 15, 'remainder': 6, 'mock': 6, 'promising': 3, 'emphasise': 3, 'speculation': 7, 'ugh': 3, 'naight': 5, 'spurging': 1, 'humid': 6, 'advocacy': 6, 'grain': 6, 'hudson': 1, 'authentic': 1, 'ebony': 7, 'labeled': 6, 'accuser': 6, 'sting': 8, 'powder': 3, 'mashmellows': 3, 'agonized': 2, 'treble': 1, 'handbook': 6, 'discharged': 6, 'reception': 6, 'doctorate': 1, 'tyler': 1, 'durden': 1, 'unpleasantly': 6, 'noticer': 3, 'awareness': 34, 'phil': 6, 'racking': 6, 'organised': 20, 'jess': 6, 'ka': 6, 'daunting': 6, 'wishing': 24, 'romanticising': 1, 'pairing': 1, 'castiel': 1, 'corn': 8, 'earreading': 6, 'audiobooks': 6, 'sweetness': 2, 'recess': 2, 'digress': 5, 'bruised': 1, 'harshness': 1, 'wearied': 1, 'relentlessness': 1, 'fabolous': 6, 'awaited': 6, 'losos': 6, 'graham': 3, 'rylin': 3, 'carrry': 1, 'jahmene': 1, 'contacted': 6, 'congregation': 9, 'fundraiser': 6, 'blister': 6, 'flop': 11, 'prejudice': 2, 'farewell': 3, 'longest': 9, 'airplane': 6, 'announcement': 8, 'platitude': 2, 'survives': 1, 'cooperative': 2, 'slam': 8, 'boss': 2, 'harass': 2, 'exspress': 6, 'appriciation': 6, 'deteriorate': 6, 'taryns': 1, 'ringing': 6, 'tax': 14, 'imposed': 13, 'valentine': 3, 'confessing': 3, 'jin': 3, 'hee': 3, 'lotte': 3, 'lunapads': 3, 'wap': 1, 'folder': 1, 'thesis': 6, 'moanday': 2, 'murdering': 6, 'maximise': 6, 'effed': 6, 'detrimental': 6, 'm': 5, 'finke': 3, 'sacrifice': 12, 'begleiter': 3, 'randythomas': 4, 'irwins': 1, 'mattered': 18, 'suspense': 2, 'confusion': 4, 'norma': 4, 'stalled': 1, 'pesticide': 6, 'contaminated': 6, 'adrift': 1, 'underwater': 6, 'lenten': 6, 'transitory': 6, 'align': 1, 'gusto': 1, 'smothered': 2, 'clearing': 12, 'cobweb': 6, 'psychopathology': 6, 'adjusting': 6, 'terrain': 6, 'tackle': 22, 'follows': 5, 'mojo': 12, 'shield': 4, 'rawly': 6, 'decorated': 6, 'loft': 6, 'rod': 7, 'elder': 9, 'ditlevsen': 5, 'queer': 16, 'performing': 6, 'lovebox': 6, 'division': 8, 'sniping': 2, 'cleared': 6, 'impractical': 5, 'insdie': 3, 'required': 5, 'curry': 1, 'immersed': 10, 'dialed': 2, 'recluse': 7, 'dressing': 12, 'swan': 12, 'venting': 7, 'lounge': 6, 'appetite': 9, 'potatoe': 6, 'miso': 6, 'insanely': 2, 'philadelphia': 9, 'pa': 4, 'cascade': 1, 'sexualy': 1, 'napping': 1, 'wealthy': 6, 'jongwoon': 3, 'tease': 5, 'ryeowook': 3, 'ghosting': 3, 'mph': 12, 'funky': 8, 'retorted': 3, 'qualify': 8, 'offence': 2, 'delhi': 2, 'sang': 4, 'zen': 8, 'dun': 5, 'unreasonable': 4, 'possesive': 3, 'hallmark': 6, 'seriousness': 5, 'oven': 5, 'greatbritain': 6, 'daisy': 9, 'hatch': 6, 'holland': 6, 'msg': 7, 'blur': 6, 'bikini': 6, 'completing': 11, 'loudly': 6, 'basks': 7, 'writes': 11, 'utmost': 6, 'froze': 1, 'odds': 6, 'replica': 5, 'spock': 5, 'reciprocate': 5, 'intimidate': 5, 'cheerfully': 5, 'ritual': 8, 'parable': 6, 'publicly': 3, 'executing': 2, 'transportation': 5, 'truley': 6, 'resupplied': 2, 'vitamin': 2, 'pipsqueak': 6, 'outstanding': 6, 'bragging': 6, 'algebra': 6, 'stephanie': 1, 'setback': 2, 'diy': 17, 'bernd': 3, 'sportsbook': 3, 'khatsii': 5, 'capturing': 6, 'mug': 2, 'polite': 10, 'longevity': 10, 'bowler': 1, 'frickin': 5, 'employer': 14, 'turmoil': 3, 'ordering': 2, 'kisser': 6, 'nijifagilie': 6, 'awkwardness': 17, 'selection': 14, 'haircut': 13, 'methodically': 1, 'antidote': 3, 'unlucky': 2, 'genetics': 2, 'orthodontist': 2, 'pediatric': 2, 'glimpsed': 1, 'aftereffect': 6, 'coupon': 6, 'naive': 14, 'boardwalk': 1, 'sunrise': 4, 'immigrant': 6, 'refugee': 6, 'donning': 5, 'vip': 5, 'sticker': 5, 'perpetrator': 1, 'crim': 5, 'hefty': 5, 'weighting': 5, 'sweating': 5, 'quarrel': 2, 'burgos': 6, 'rash': 2, 'http': 35, 'ep': 7, 'auggie': 1, 'device': 12, 'refered': 2, 'outta': 2, 'electrified': 5, 'unworthiness': 5, 'penance': 6, 'crunch': 17, 'aussie': 12, 'bellingham': 3, 'copping': 3, 'preparing': 20, 'behaviour': 13, 'apc': 2, 'practise': 10, 'suffocate': 1, 'avoidable': 1, 'forgets': 3, 'mango': 1, 'walmart': 3, 'maceys': 3, 'midst': 6, 'allergen': 6, 'restriction': 6, 'loner': 7, 'appearanc': 6, 'ewhich': 6, 'movign': 6, 'romantically': 3, 'tidy': 6, 'uv': 6, 'tyrant': 6, 'dedicates': 6, 'uh': 7, 'pander': 6, 'misinterpreted': 6, 'deceptively': 6, 'exist': 14, 'curb': 2, 'sophat': 1, 'kandal': 1, 'progression': 1, 'pneumonia': 1, 'centre': 12, 'pony': 3, 'uncoiling': 5, 'chesley': 6, 'invited': 16, 'upstairs': 2, 'fierceness': 5, 'proclaiming': 4, 'specialty': 6, 'mechanical': 6, 'utilize': 6, 'oldest': 1, 'klysta': 1, 'andrea': 1, 'data': 14, 'et': 1, 'cetera': 1, 'drinkin': 4, 'whiskey': 8, 'strop': 2, 'ruffling': 2, 'inflating': 2, 'restored': 1, 'pagetype': 3, 'url': 11, 'mimedoger': 3, 'measurement': 9, 'upfront': 6, 'perpetuating': 1, 'me': 1, 'sod': 1, 'aubrey': 5, 'baptism': 5, 'depressive': 1, 'jumpy': 5, 'seoul': 2, 'nothingness': 5, 'repulsion': 5, 'transpired': 2, 'roethisberger': 6, 'stating': 11, 'steelers': 6, 'offense': 16, 'household': 10, 'avon': 1, 'criticizing': 5, 'praising': 5, 'oprah': 6, 'dealt': 21, 'xx': 9, 'xelliealicex': 3, 'affair': 9, 'wod': 5, 'twinge': 14, 'aaaaaaand': 6, 'argued': 2, 'verdict': 8, 'baton': 6, 'ganging': 5, 'subsided': 6, 'shakiness': 6, 'exiting': 5, 'freakishly': 11, 'wyatt': 6, 'bowie': 6, 'iman': 6, 'limbed': 6, 'striding': 6, 'lounging': 6, 'hardworking': 6, 'memorizing': 1, 'strike': 20, 'anythings': 6, 'consulted': 5, 'counsel': 8, 'copay': 5, 'trophy': 6, 'confession': 4, 'planner': 3, 'bridezillas': 3, 'groom': 3, 'uninformed': 5, 'rubber': 5, 'dong': 11, 'tna': 1, 'crimson': 1, 'sweetener': 5, 'refined': 5, 'untidiness': 6, 'hoarder': 6, 'subaru': 7, 'maximize': 6, 'spacious': 6, 'trustworthy': 11, 'upgrade': 1, 'flashy': 1, 'explosion': 1, 'desperation': 6, 'adversary': 1, 'geez': 2, 'cara': 5, 'mord': 2, 'sith': 2, 'chilling': 6, 'hendricks': 1, 'heaviness': 10, 'dreading': 4, 'enmayi': 2, 'granting': 1, 'discipline': 4, 'infertility': 13, 'counseling': 6, 'menses': 6, 'conversion': 1, 'rounder': 1, 'muse': 10, 'prompt': 1, 'convicted': 6, 'getty': 6, 'renowned': 6, 'photographic': 6, 'stray': 1, 'predictably': 4, 'ima': 2, 'redundant': 8, 'credential': 5, 'presidency': 3, 'synod': 6, 'lunge': 5, 'boo': 6, 'hoo': 18, 'violated': 10, 'fron': 6, 'trader': 2, 'wonderland': 3, 'battalion': 1, 'dehydrated': 2, 'hockey': 1, 'ponder': 6, 'girlie': 6, 'caribbean': 6, 'diving': 6, 'dive': 6, 'carole': 1, 'karaoke': 1, 'bewertung': 1, 'ifyouwanttoknow': 6, 'smitten': 6, 'eyelash': 6, 'tapped': 7, 'snowglobe': 5, 'mustered': 2, 'christmassy': 14, 'bloody': 4, 'incessant': 2, 'bitching': 2, 'rammstein': 2, 'soda': 7, 'turbulently': 5, 'container': 5, 'exchanging': 5, 'mercy': 11, 'thirteen': 3, 'shishido': 3, 'senpai': 3, 'gently': 21, 'ur': 4, 'obsession': 5, 'magnificent': 2, 'clam': 1, 'prawn': 1, 'shark': 1, 'fin': 1, 'lethal': 1, 'overdose': 1, 'supreme': 12, 'ect': 6, 'mollusk': 1, 'stabbed': 1, 'solopgangfor': 6, 'barnog': 6, 'unconsciously': 2, 'recite': 5, 'shiftless': 5, 'browse': 2, 'dart': 2, 'exhibit': 20, 'joked': 6, 'undressing': 6, 'inspite': 3, 'yogurt': 1, 'trudger': 3, 'vocalize': 8, 'alignment': 11, 'strengthen': 12, 'diva': 6, 'wrestler': 6, 'accrue': 1, 'barista': 6, 'psychopath': 1, 'forcing': 7, 'carbs': 5, 'addictive': 2, 'laurie': 18, 'artefact': 6, 'locomotive': 6, 'atrocious': 1, 'babe': 5, 'peach': 6, 'marilyn': 3, 'fame': 3, 'directionless': 1, 'limbo': 11, 'adulthood': 7, 'artificially': 2, 'def': 8, 'cure': 8, 'ripe': 5, 'multiband': 6, 'effectual': 6, 'asami': 6, 'muttered': 3, 'raining': 12, 'plunge': 7, 'icy': 7, 'vocab': 2, 'brimming': 6, 'poetic': 2, 'springpad': 6, 'abdominal': 1, 'convoluted': 11, 'duality': 1, 'upright': 1, 'manifestation': 3, 'fulfillment': 2, 'protagonist': 6, 'curveballs': 3, 'tattoo': 4, 'peggy': 2, 'mara': 2, 'disdainful': 2, 'babysat': 6, 'beefy': 1, 'blinded': 7, 'examining': 5, 'dimple': 5, 'sag': 5, 'serendipity': 5, 'collide': 5, 'slacker': 1, 'mcslackerson': 1, 'endorphin': 6, 'seizing': 5, 'trillion': 5, 'premonition': 7, 'dewi': 6, 'lestari': 6, 'crazily': 6, 'patent': 2, 'metallic': 2, 'clutch': 4, 'inspire': 7, 'incision': 6, 'neuropathy': 10, 'residual': 6, 'thief': 3, 'crudely': 2, 'ancient': 2, 'zooming': 6, 'trinity': 6, 'decently': 6, 'tuxedo': 1, 'cufflink': 1, 'drowned': 1, 'aspire': 1, 'somethign': 2, 'virtually': 3, 'passage': 6, 'ayumi': 6, 'edits': 6, 'fitting': 13, 'stroller': 2, 'aging': 3, 'constrained': 1, 'extrovert': 1, 'digg': 1, 'aligncenter': 2, 'wp': 2, 'mrdanbaird': 2, 'tumor': 6, 'amiss': 6, 'righteous': 6, 'consoled': 6, 'digust': 2, 'permission': 3, 'bun': 3, 'reveling': 3, 'nuh': 6, 'ballroom': 2, 'va': 1, 'prandi': 1, 'npr': 6, 'motherland': 1, 'bittersweet': 2, 'tape': 7, 'masterpiece': 7, 'giardina': 6, 'sandblog': 4, 'craftisan': 1, 'concentrating': 8, 'muffled': 1, 'hideakis': 1, 'forcefully': 1, 'daiki': 1, 'olympian': 3, 'hugh': 6, 'aka': 7, 'sarcoidosis': 2, 'gyp': 6, 'sip': 15, 'iced': 14, 'capp': 2, 'hyphen': 4, 'courtney': 2, 'hows': 7, 'affirmation': 8, 'slug': 2, 'vented': 2, 'unstable': 1, 'pastor': 8, 'glaring': 8, 'inexperience': 2, 'spitak': 6, 'shouting': 6, 'lotta': 1, 'heinous': 2, 'wince': 2, 'tightness': 7, 'opted': 1, 'hiit': 6, 'interval': 6, 'apologetic': 1, 'drivel': 1, 'advertises': 1, 'stupendous': 1, 'incredulity': 1, 'harshly': 3, 'debacle': 6, 'josh': 7, 'belonged': 8, 'shubhi': 3, 'feb': 3, 'juliannas': 1, 'resonates': 2, 'exists': 2, 'snooty': 2, 'gauche': 2, 'cruise': 1, 'expressway': 1, 'munch': 3, 'savory': 3, 'knotted': 6, 'hyena': 6, 'platonic': 3, 'zoned': 3, 'dated': 4, 'synchronicity': 6, 'afrade': 2, 'swarming': 9, 'rejuvenate': 1, 'therell': 6, 'wallow': 6, 'blaming': 8, 'punishing': 6, 'moonlighting': 6, 'drill': 1, 'unencumberedness': 6, 'exhilaration': 6, 'opis': 6, 'sashy': 6, 'purple': 6, 'lavander': 6, 'bipolar': 7, 'casablanca': 1, 'vinnie': 6, 'kompany': 6, 'joleon': 6, 'kolo': 6, 'toure': 6, 'innovative': 6, 'gosh': 6, 'overpower': 5, 'shrouded': 1, 'flaccid': 3, 'penis': 5, 'sleepy': 14, 'colic': 1, 'imma': 1, 'exclaim': 1, 'grace': 6, 'positivity': 7, 'personifying': 1, 'progeny': 1, 'genuflecting': 1, 'unjust': 2, 'snippy': 5, 'momentum': 6, 'gradually': 8, 'isolating': 1, 'titanic': 6, 'pinned': 1, 'inferiority': 1, 'pumpin': 5, 'undeserving': 2, 'variation': 12, 'wage': 1, 'inept': 6, 'payer': 6, 'bungling': 6, 'erm': 10, 'fightstar': 6, 'catchy': 6, 'preformed': 6, 'fantastically': 6, 'flirt': 5, 'identifying': 5, 'striking': 17, 'hopelessly': 5, 'biking': 1, 'tulip': 1, 'sadhana': 6, 'tedious': 1, 'hyped': 6, 'diner': 6, 'hype': 7, 'oppies': 6, 'ethic': 12, 'desolation': 1, 'consolation': 2, 'sasha': 5, 'fierce': 6, 'beyonc': 4, 'seal': 6, 'akin': 9, 'hitler': 3, 'lawless': 3, 'innuendo': 3, 'picky': 6, 'favorable': 5, 'wierd': 6, 'bishan': 5, 'fetch': 5, 'blissfully': 2, 'unaware': 2, 'subsidization': 1, 'loos': 5, 'chip': 4, 'heather': 1, 'mill': 10, 'settlement': 1, 'separately': 3, 'riding': 16, 'recurring': 2, 'inexcusable': 3, 'bestial': 3, 'macho': 3, 'q': 12, 'pin': 6, 'gaze': 13, 'wandered': 3, 'botanical': 3, 'tor': 3, 'approval': 1, 'craved': 1, 'poseur': 6, 'keiko': 6, 'zoll': 6, 'blissed': 6, 'spotlight': 6, 'craziest': 6, 'weirdest': 6, 'karin': 6, 'conspiring': 6, 'existent': 5, 'sloughed': 1, 'kathumped': 1, 'enthusiast': 2, 'papermakeupstamps': 6, 'overdo': 5, 'welfare': 6, 'nyc': 6, 'layout': 6, 'alarm': 12, 'bass': 1, 'shahzad': 1, 'ismaily': 1, 'prevention': 5, 'vegetable': 4, 'glycerin': 8, 'learing': 5, 'square': 8, 'diktats': 2, 'indonesia': 8, 'query': 3, 'gary': 2, 'jeoffrey': 6, 'eyo': 6, 'dy': 1, 'looming': 5, 'whale': 5, 'horned': 3, 'owl': 15, 'bout': 11, 'introverted': 7, 'cathy': 3, 'wanders': 5, 'techno': 5, 'slander': 5, 'snail': 5, 'mucus': 5, 'nokia': 1, 'gp': 6, 'rested': 17, 'suggesting': 7, 'articulated': 1, 'ulysses': 6, 'parted': 6, 'wallet': 17, 'speedy': 2, 'filmmaker': 5, 'conceiving': 6, 'peasy': 6, 'anipike': 2, 'fanfictions': 2, 'belle': 5, 'sebastian': 5, 'snowy': 2, 'destined': 9, 'southern': 2, 'unfolds': 3, 'venturing': 1, 'discriminated': 6, 'nugget': 7, 'serina': 5, 'cleaner': 5, 'tch': 2, 'accessary': 4, 'bereft': 1, 'persistent': 2, 'nothnig': 6, 'someoen': 6, 'lauging': 6, 'kiddos': 6, 'daniel': 6, 'sweetheart': 12, 'outweighs': 2, 'lurker': 2, 'trusty': 10, 'memorable': 6, 'squint': 6, 'magnifying': 6, 'dictionary': 6, 'wrecking': 6, 'eyesight': 6, 'quixote': 2, 'blinding': 2, 'windmill': 2, 'eventual': 8, 'resident': 14, 'lin': 6, 'chubby': 6, 'ah': 14, 'adjective': 1, 'collecting': 4, 'strict': 3, 'torment': 3, 'korea': 6, 'kj': 2, 'middot': 2, 'vanquished': 2, 'mooshilu': 1, 'nylon': 3, 'weeded': 6, 'victoria': 1, 'ruby': 1, 'manufacturing': 4, 'ollie': 6, 'indy': 6, 'founder': 6, 'artisan': 12, 'poverty': 7, 'clot': 1, 'clint': 5, 'fetish': 4, 'homophobic': 2, 'projection': 1, 'repression': 1, 'wising': 2, 'figuratively': 1, 'befc': 3, 'giraffe': 6, 'majestic': 6, 'appealing': 6, 'creates': 3, 'descriptive': 3, 'stillness': 8, 'shyness': 11, 'aloof': 5, 'analyzing': 12, 'smirking': 6, 'gmc': 1, 'denali': 1, 'conquering': 1, 'explorable': 6, 'ungodly': 6, 'approve': 4, 'disapprove': 4, 'dot': 4, 'solo': 18, 'yesubais': 6, 'professionally': 6, 'smother': 3, 'misrepresented': 1, 'acco': 6, 'nahariya': 6, 'capability': 7, 'encompass': 1, 'stride': 4, 'nonstop': 4, 'maintained': 6, 'outset': 6, 'mccanns': 6, 'disappearance': 6, 'sci': 1, 'stuffy': 7, 'congested': 1, 'thrill': 16, 'velocity': 4, 'picoult': 6, 'sporkgasm': 1, 'backstage': 1, 'phenomenal': 6, 'travesty': 1, 'bobby': 5, 'melodramatically': 5, 'sweatshirt': 5, 'taco': 11, 'ruin': 7, 'ade': 6, 'dakota': 6, 'hiatus': 1, 'reaffirmed': 3, 'inclusive': 9, 'chemotherapy': 2, 'pinching': 8, 'niggles': 2, 'poaching': 1, 'agtalk': 1, 'krem': 6, 'ye': 6, 'tget': 6, 'continent': 6, 'imbicilic': 6, 'smartest': 6, 'elizabeth': 3, 'unbelievable': 6, 'refreshing': 7, 'energizing': 1, 'shouted': 2, 'undeveloped': 1, 'extensive': 1, 'ping': 6, 'devote': 11, 'muas': 3, 'primer': 8, 'declined': 10, 'rlsh': 6, 'lacked': 6, 'comforting': 17, 'eco': 6, 'chart': 7, 'divinity': 5, 'rv': 6, 'dinette': 6, 'driveway': 6, 'trembly': 5, 'expanding': 6, 'heavily': 8, 'johnson': 6, 'pi': 1, 'ata': 1, 'spewing': 1, 'kristie': 1, 'colby': 6, 'reshaped': 3, 'upbringing': 6, 'contradicts': 6, 'cocky': 1, 'alhamdulillah': 1, 'breastfeeding': 7, 'hoop': 3, 'enable': 3, 'befuddled': 3, 'bengal': 3, 'oftentimes': 6, 'coasted': 6, 'tangle': 12, 'stewing': 3, 'urgent': 6, 'stalker': 5, 'receiver': 5, 'steamy': 5, 'strangling': 3, 'banging': 3, 'syaing': 3, 'wisely': 5, 'milly': 3, 'concieve': 2, 'sexuality': 1, 'remarkably': 4, 'logo': 7, 'inadvertently': 1, 'classmate': 8, 'injuring': 6, 'melty': 1, 'energetically': 2, 'mail': 9, 'discontinued': 6, 'integral': 12, 'theif': 6, 'copper': 5, 'pipe': 5, 'contemplated': 5, 'flowed': 5, 'outward': 5, 'instinctively': 5, 'passer': 5, 'sausage': 1, 'nw': 6, 'cumbersome': 6, 'additionally': 6, 'clumsiness': 6, 'mus': 6, 'knocking': 6, 'phyica': 6, 'jigsaw': 6, 'smirk': 6, 'outlook': 6, 'adores': 6, 'pointing': 13, 'gaming': 12, 'willis': 3, 'flick': 4, 'monkey': 3, 'shack': 1, 'follicle': 6, 'beluga': 2, 'embarassing': 2, 'seeps': 2, 'formation': 3, 'tec': 3, 'parish': 3, 'percieves': 1, 'graduate': 9, 'albuquerque': 1, 'preferred': 6, 'earthly': 6, 'willingness': 6, 'sufficiently': 4, 'cynicism': 6, 'embarrassment': 6, 'haircute': 12, 'athlete': 6, 'jonti': 6, 'valorized': 6, 'developer': 5, 'cig': 6, 'colomn': 6, 'conservatish': 6, 'tha': 12, 'bfs': 6, 'unwell': 3, 'picking': 1, 'ashton': 2, 'isaac': 8, 'irritation': 2, 'organized': 19, 'indulged': 2, 'lovin': 1, 'cafeteria': 1, 'pocketbook': 6, 'antm': 1, 'beam': 5, 'metre': 5, 'materialise': 1, 'sector': 6, 'oversharing': 1, 'zach': 15, 'orgasmic': 2, 'envelops': 2, 'brokeup': 2, 'schoolgirl': 12, 'utopia': 3, 'spoonful': 6, 'boredom': 6, 'innanimate': 5, 'carpet': 5, 'injured': 7, 'assault': 6, 'cheese': 10, 'yearn': 6, 'cindy': 6, 'atticus': 6, 'ttc': 6, 'programmed': 3, 'koyama': 6, 'jene': 6, 'braved': 6, 'crochet': 10, 'gland': 1, 'swollen': 4, 'cm': 3, 'thickness': 3, 'slat': 3, 'mattress': 3, 'unsurprisingly': 3, 'bob': 5, 'relented': 4, 'corrected': 4, 'solitary': 1, 'krista': 6, 'putter': 2, 'kubrick': 6, 'ibs': 2, 'bowel': 2, 'unreasonably': 2, 'idiosyncrasy': 2, 'diversified': 6, 'enchanted': 6, 'shire': 5, 'reunited': 5, 'abandon': 7, 'placement': 6, 'misjudged': 1, 'unsuspecting': 2, 'oneself': 1, 'bowling': 6, 'texting': 7, 'facilitating': 3, 'blogoversary': 6, 'lightheaded': 4, 'clump': 3, 'homeschooled': 1, 'freelance': 1, 'deity': 1, 'intrusive': 5, 'offset': 6, 'foray': 6, 'omitted': 2, 'questionable': 5, 'nyps': 2, 'webpage': 8, 'crutch': 1, 'marlon': 1, 'brando': 1, 'hunger': 6, 'ferocious': 6, 'bradbury': 1, 'saved': 18, 'narrowed': 6, 'spectator': 12, 'functioning': 7, 'midori': 1, 'getaway': 7, 'doorway': 2, 'cruelty': 6, 'azul': 6, 'pac': 12, 'schalm': 1, 'radical': 2, 'embarked': 6, 'woe': 1, 'meditative': 6, 'pam': 6, 'grotesque': 2, 'unrealistic': 9, 'cal': 6, 'pear': 6, 'blueberry': 6, 'footing': 16, 'harrassment': 4, 'implication': 2, 'panorma': 3, 'superbike': 6, 'cbs': 6, 'sportsline': 6, 'irl': 6, 'expands': 12, 'kiddy': 7, 'quitter': 2, 'morrow': 6, 'dangle': 1, 'tgirl': 3, 'whoever': 16, 'ignorantly': 6, 'convenient': 6, 'paralysis': 10, 'owning': 12, 'flame': 5, 'singed': 5, 'frail': 5, 'smelling': 5, 'patch': 7, 'birthed': 3, 'robert': 11, 'catapulted': 5, 'filtered': 1, 'workplace': 6, 'kuya': 6, 'buddy': 4, 'angee': 3, 'homemade': 12, 'tugging': 5, 'fluffed': 3, 'cbc': 3, 'jazzyboy': 3, 'fucker': 1, 'lowests': 6, 'zap': 6, 'standouts': 1, 'feist': 1, 'performer': 1, 'lawyer': 5, 'tested': 6, 'effectiveness': 6, 'snare': 6, 'inclined': 8, 'sd': 2, 'bothering': 8, 'joyfully': 6, 'illegitimate': 6, 'bouncier': 2, 'midcentury': 6, 'paired': 12, 'dresser': 6, 'santa': 6, 'battled': 1, 'whelming': 5, 'envision': 6, 'nearby': 5, 'translate': 6, 'commodity': 7, 'frosty': 6, 'cube': 24, 'bloated': 6, 'bind': 1, 'scraped': 5, 'nook': 5, 'cranny': 5, 'morsel': 8, 'coping': 6, 'vacancy': 6, 'sciatica': 1, 'swinging': 1, 'brake': 7, 'pedal': 1, 'heir': 6, 'legacy': 8, 'will': 2, 'normative': 1, 'blogosphere': 13, 'realizes': 3, 'crol': 2, 'tl': 2, 'skews': 6, 'encourages': 6, 'polenta': 1, 'broad': 3, 'categorie': 3, 'theater': 9, 'imping': 6, 'hook': 12, 'wholly': 9, 'unsurprising': 6, 'activist': 2, 'abide': 14, 'rewarding': 6, 'baffled': 5, 'exuberance': 6, 'latex': 3, 'hungover': 3, 'marketplace': 3, 'indie': 3, 'sorted': 6, 'edmontonians': 6, 'scandalous': 1, 'swimwear': 1, 'jazz': 8, 'ambitious': 6, 'crowed': 1, 'appease': 3, 'audie': 1, 'mona': 7, 'multiplied': 1, 'abated': 6, 'vegetarian': 2, 'coworker': 9, 'nakedness': 5, 'maid': 5, 'recovering': 11, 'umlungu': 6, 'screenshots': 6, 'carefully': 18, 'marveling': 5, 'waterside': 2, 'brooding': 2, 'gnawing': 8, 'forefoot': 1, 'lateral': 1, 'repaired': 5, 'chalking': 2, 'academia': 3, 'newbie': 6, 'controlling': 5, 'wary': 5, 'risen': 11, 'desolate': 5, 'soundscapes': 5, 'scarecrow': 1, 'wizard': 1, 'oz': 1, 'drown': 2, 'batter': 1, 'lard': 1, 'throe': 1, 'ownership': 1, 'culturally': 5, 'pegged': 6, 'savouring': 6, 'unbound': 6, 'embossed': 6, 'feather': 6, 'orihime': 6, 'blunt': 2, 'relation': 9, 'washed': 7, 'dir': 6, 'ltr': 6, 'henypire': 6, 'brassed': 2, 'contention': 6, 'header': 3, 'blowjob': 3, 'igniting': 6, 'raise': 7, 'weekly': 8, 'pleading': 5, 'nurtured': 6, 'committing': 6, 'transported': 6, 'adn': 5, 'someobdy': 5, 'interrupted': 1, 'transcends': 4, 'cinematic': 3, 'belongs': 3, 'awoken': 6, 'kindly': 13, 'awaiting': 6, 'predictable': 10, 'loki': 8, 'survivor': 4, 'abstract': 2, 'florence': 5, 'obeys': 1, 'lunar': 1, 'papamoka': 4, 'everchanging': 2, 'sailormoon': 2, 'gateway': 2, 'undesired': 1, 'unsupported': 1, 'avril': 6, 'lavigne': 6, 'happiest': 6, 'psych': 3, 'defined': 3, 'jayson': 3, 'clicked': 2, 'ken': 6, 'arrives': 2, 'mensa': 2, 'maddening': 6, 'splurge': 2, 'arrange': 6, 'rearrange': 6, 'assemble': 6, 'interlochen': 1, 'jonathan': 1, 'incessantly': 6, 'livevideo': 6, 'ptk': 6, 'convention': 14, 'vey': 5, 'oncology': 5, 'dpt': 5, 'paranoiud': 5, 'esteem': 3, 'katy': 2, 'perry': 1, 'comfident': 6, 'cheerfull': 6, 'loosing': 9, 'tigger': 6, 'wendy': 6, 'alexa': 6, 'glare': 2, 'directed': 2, 'exchanged': 6, 'fearing': 3, 'iv': 14, 'tripped': 7, 'vigorously': 6, 'signing': 14, 'oriented': 6, 'hyundai': 2, 'tucson': 2, 'savor': 6, 'mistreatment': 1, 'skillz': 1, 'rebuilding': 5, 'drake': 3, 'rudley': 6, 'distinction': 12, 'blurred': 6, 'bumbed': 3, 'strained': 1, 'sculpt': 6, 'brewing': 3, 'mystical': 5, 'conspiracy': 5, 'culmination': 6, 'dancefloor': 6, 'tempo': 6, 'menopause': 6, 'humming': 6, 'targeting': 1, 'ecology': 6, 'photographing': 6, 'radiates': 6, 'subsiding': 1, 'vermont': 1, 'tabloid': 1, 'comedic': 1, 'alva': 6, 'noe': 6, 'suuuper': 1, 'stinging': 4, 'nipple': 1, 'slew': 1, 'agreeing': 6, 'fitch': 4, 'mihm': 4, 'kyuhyun': 5, 'apgujeong': 5, 'hyunjin': 5, 'breathed': 5, 'sceptical': 10, 'mopping': 6, 'boast': 4, 'monster': 5, 'rubble': 4, 'pursued': 7, 'submit': 17, 'unwashed': 1, 'addisons': 1, 'revision': 6, 'ampatuan': 2, 'odor': 2, 'glowy': 6, 'marvel': 12, 'salvaging': 2, 'bbq': 18, 'backyard': 7, 'gutted': 11, 'residence': 5, 'minority': 4, 'powell': 1, 'clan': 1, 'colombian': 6, 'gringa': 6, 'amparo': 6, 'reckoned': 6, 'inquired': 6, 'creeped': 4, 'softer': 2, 'eurodancemix': 1, 'omegle': 3, 'balloon': 2, 'kiyoshi': 3, 'impromptu': 2, 'minuscule': 6, 'tampon': 6, 'fir': 6, 'disagreement': 1, 'ii': 5, 'installment': 1, 'globe': 10, 'hairstye': 6, 'disengaged': 2, 'zest': 2, 'embedding': 5, 'sob': 2, 'tsunami': 5, 'prenatal': 6, 'legtimately': 1, 'hammered': 6, 'pilate': 1, 'katie': 1, 'munching': 3, 'craisins': 3, 'thinker': 1, 'jerald': 6, 'rue': 6, 'stitch': 2, 'repeating': 5, 'lisas': 3, 'shred': 6, 'lt': 1, 'folkeskole': 1, 'policy': 9, 'analysis': 1, 'sep': 2, 'moribund': 1, 'mingled': 1, 'certainty': 7, 'valid': 2, 'subjective': 2, 'mri': 2, 'embarassed': 4, 'sharply': 3, 'fume': 2, 'progressively': 6, 'wire': 7, 'princess': 7, 'sauntered': 6, 'flickr': 1, 'hatchet': 2, 'apologizing': 2, 'skdd': 4, 'regional': 1, 'astonishment': 12, 'inauguration': 1, 'maturestudenthanginginthere': 1, 'miniscule': 6, 'thumbnail': 1, 'changeling': 6, 'cabbage': 6, 'venison': 6, 'stew': 6, 'pomegranate': 6, 'oiliness': 6, 'kali': 1, 'ni': 4, 'dah': 1, 'bertukar': 1, 'jadi': 1, 'benci': 1, 'bothersome': 2, 'kenya': 6, 'shiraishi': 12, 'reflective': 1, 'puncture': 10, 'tyre': 5, 'mediate': 5, 'condone': 2, 'revalidation': 5, 'portfolio': 5, 'gratuitously': 2, 'cello': 1, 'soundtrack': 1, 'hath': 6, 'constructivism': 8, 'affiliate': 6, 'humble': 23, 'chivalry': 1, 'magnanimity': 1, 'rachel': 6, 'pesach': 6, 'ethnic': 6, 'flowy': 15, 'jingly': 6, 'royal': 12, 'ar': 1, 'croatian': 1, 'shopper': 3, 'potted': 6, 'fuchsia': 6, 'cutting': 25, 'supervision': 1, 'heroic': 1, 'humiliating': 6, 'guffaw': 6, 'flooding': 6, 'unconcern': 6, 'automatically': 17, 'trope': 5, 'minimize': 5, 'pricked': 1, 'bound': 6, 'flogger': 1, 'fearlessness': 3, 'wholesale': 3, 'wisconsin': 5, 'bugging': 6, 'insyallah': 6, 'deprive': 1, 'cracking': 1, 'rereading': 3, 'portraying': 3, 'pacified': 2, 'selfless': 1, 'gospel': 7, 'northern': 1, 'saskatchewan': 1, 'truck': 8, 'buffalo': 6, 'sauce': 12, 'widow': 3, 'poked': 6, 'ridgerunner': 6, 'solberg': 6, 'lightsync': 6, 'mistress': 6, 'warsaw': 6, 'nutshell': 6, 'emillionstars': 1, 'soothes': 1, 'opinons': 6, 'restlessness': 6, 'listing': 4, 'haunt': 4, 'videotape': 2, 'naman': 2, 'na': 2, 'recommending': 5, 'marshal': 5, 'glenn': 5, 'scored': 6, 'handrail': 5, 'basement': 5, 'organise': 3, 'false': 12, 'dip': 16, 'defiled': 1, 'ski': 5, 'mulligan': 1, 'traction': 5, 'denise': 11, 'annual': 4, 'outbreak': 2, 'ptpt': 2, 'te': 8, 'pouhere': 2, 'mistaken': 1, 'normalcy': 5, 'wearer': 3, 'flexible': 2, 'prestigious': 6, 'unclear': 5, 'joel': 5, 'scrubbed': 6, 'huddled': 6, 'congregated': 6, 'rhinebeck': 6, 'percolated': 3, 'synonym': 3, 'homemaker': 6, 'monthly': 6, 'edmonton': 1, 'dodging': 6, 'seedy': 1, 'duct': 6, 'deepest': 1, 'permanenter': 1, 'zum': 1, 'eintrag': 1, 'funk': 5, 'prematurely': 1, 'manifest': 2, 'tactic': 6, 'multiplication': 1, 'tremus': 6, 'solves': 2, 'surmountable': 1, 'brittneys': 1, 'peppermint': 6, 'patty': 6, 'breakup': 2, 'runneth': 2, 'improvising': 6, 'hunter': 3, 'omangy': 2, 'heung': 6, 'fuzzy': 3, 'clash': 5, 'laconic': 5, 'polished': 3, 'hogging': 2, 'deliberate': 5, 'chooses': 6, 'hercules': 1, 'voicesfromkrypton': 1, 'paulie': 5, 'nurse': 11, 'grant': 4, 'chorus': 2, 'outro': 1, 'dope': 1, 'aforementioned': 6, 'schmidt': 6, 'esily': 2, 'airritated': 2, 'converse': 6, 'dreamed': 17, 'dnt': 1, 'yu': 6, 'fr': 1, 'knwing': 1, 'nthing': 1, 'plastikan': 1, 'makeover': 1, 'roslin': 3, 'lightmeter': 4, 'existence': 6, 'godly': 6, 'jamba': 1, 'frappucino': 1, 'reckon': 4, 'downtime': 1, 'teresa': 6, 'bottling': 2, 'unforgettable': 6, 'expansiveperspective': 6, 'walter': 1, 'eastern': 6, 'devastation': 6, 'danny': 1, 'stalk': 1, 'erica': 1, 'momma': 2, 'willed': 2, 'tx': 2, 'sassiness': 2, 'javascript': 6, 'mutual': 6, 'ensign': 6, 'camper': 1, 'stinking': 8, 'noisiest': 6, 'atoshealthcare': 1, 'poorly': 1, 'represented': 1, 'paraphrase': 1, 'ranted': 1, 'revulsion': 4, 'elicits': 4, 'fascination': 4, 'eats': 6, 'bartender': 6, 'kx': 6, 'fork': 6, 'disc': 6, 'lowering': 6, 'paypal': 6, 'copyright': 3, 'violation': 3, 'machiavellian': 3, 'shocking': 1, 'announcing': 6, 'witted': 1, 'nerd': 6, 'chukey': 6, 'inapporpriate': 6, 'fergie': 6, 'rider': 8, 'scientific': 6, 'smack': 3, 'olivia': 2, 'adhere': 6, 'unintelligent': 7, 'exceedingly': 4, 'memoir': 6, 'surviving': 1, 'holli': 3, 'reese': 3, 'witnesed': 6, 'coiled': 1, 'conforming': 6, 'rocker': 6, 'buff': 7, 'omg': 1, 'beirut': 2, 'distaste': 1, 'godaddy': 3, 'privellege': 3, 'domain': 3, 'vehemently': 3, 'oppose': 3, 'shoved': 6, 'elvive': 3, 'strayed': 3, 'sl': 7, 'formula': 3, 'sinai': 6, 'bewildered': 6, 'amd': 6, 'undiscovered': 6, 'mega': 7, 'clingy': 6, 'todayyy': 1, 'habitual': 5, 'wh': 11, 'initiation': 5, 'inconsequential': 3, 'illicit': 3, 'ungraciously': 3, 'outdoor': 1, 'bomber': 12, 'convoy': 6, 'hauler': 6, 'offending': 2, 'zine': 6, 'amsterdam': 1, 'sience': 1, 'feminism': 5, 'bauer': 5, 'proclaims': 5, 'unconvinced': 5, 'venus': 1, 'swell': 2, 'quiver': 2, 'smugly': 6, 'textile': 6, 'confirming': 6, 'acker': 6, 'recognise': 6, 'drunken': 1, 'rightfully': 6, 'agility': 6, 'pester': 2, 'lsd': 6, 'chemist': 6, 'shroomery': 6, 'smarty': 6, 'template': 6, 'cherry': 6, 'placing': 1, 'dubied': 3, 'dampening': 6, 'sentinel': 5, 'hanford': 5, 'councilman': 5, 'chin': 5, 'proposed': 5, 'committee': 5, 'summed': 5, 'judgement': 6, 'homophobia': 6, 'mend': 1, 'indian': 12, 'cricket': 25, 'sri': 6, 'lankas': 6, 'flatmate': 2, 'imprinted': 9, 'vibrates': 3, 'shoudlnt': 2, 'jacksonville': 1, 'seminar': 6, 'inadequacy': 13, 'pompous': 6, 'linklater': 6, 'confidential': 1, 'intermediary': 1, 'pollicino': 6, 'mourn': 8, 'overeat': 4, 'piddi': 3, 'float': 5, 'eurgh': 1, 'scout': 6, 'pinewood': 6, 'cleat': 5, 'smoked': 6, 'flooring': 6, 'cox': 5, 'liv': 4, 'pail': 1, 'tommy': 1, 'pry': 6, 'reconciled': 1, 'partaking': 6, 'feast': 6, 'carping': 1, 'alice': 5, 'extremly': 3, 'flusher': 1, 'preaching': 9, 'spain': 7, 'trumpeter': 6, 'gazing': 3, 'eqafe': 5, 'sane': 2, 'monopoly': 1, 'cocktail': 6, 'adrenaline': 12, 'inquisitive': 6, 'barcial': 1, 'allowance': 6, 'conditioning': 7, 'segregated': 2, 'reducing': 6, 'surreal': 1, 'etape': 4, 'caledonia': 2, 'choke': 5, 'gervase': 5, 'piped': 5, 'unfollows': 1, 'stocking': 6, 'thrift': 8, 'crown': 4, 'spoke': 12, 'decite': 6, 'avalanche': 3, 'wesleyan': 6, 'kitoben': 6, 'playground': 6, 'condemn': 1, 'linger': 2, 'queezy': 2, 'carcass': 6, 'nordstroms': 6, 'hatter': 2, 'pure': 4, 'subpar': 1, 'alternated': 5, 'reproductive': 5, 'everybitterthingissweet': 6, 'jonesing': 2, 'similarity': 11, 'chiuv': 6, 'kaddish': 6, 'daven': 6, 'amud': 6, 'straightforwardness': 6, 'cantina': 3, 'marginalised': 1, 'deployed': 1, 'jay': 6, 'council': 1, 'becasue': 3, 'assert': 14, 'drift': 6, 'decompress': 5, 'mush': 1, 'freeer': 1, 'acquainted': 2, 'ensure': 2, 'charlies': 6, 'zoo': 6, 'mag': 12, 'rocked': 6, 'apprised': 6, 'approximately': 6, 'disrupted': 1, 'savior': 7, 'verbally': 3, 'eighth': 1, 'suzanne': 1, 'vega': 1, 'formal': 8, 'evaluation': 2, 'intentional': 2, 'inconsiderate': 2, 'sissy': 1, 'bubbling': 12, 'missionary': 6, 'submitting': 6, 'palcebowhores': 6, 'paternal': 4, 'procrastinating': 1, 'rational': 6, 'enquiry': 6, 'notifying': 6, 'solidarity': 5, 'iraq': 5, 'stripping': 5, 'ptl': 5, 'dabble': 1, 'pubicly': 1, 'caste': 1, 'creed': 1, 'elite': 1, 'mogul': 1, 'comatose': 4, 'timely': 1, 'fragile': 8, 'kremlin': 6, 'chechen': 6, 'afghan': 6, 'mujahedin': 6, 'siting': 6, 'flakiness': 5, 'materialist': 6, 'newton': 2, 'panther': 2, 'dkang': 1, 'acumen': 1, 'ensues': 1, 'gifting': 6, 'subscription': 6, 'andreas': 2, 'annotation': 1, 'thequeenbuzz': 1, 'heartbreak': 7, 'mun': 2, 'thump': 1, 'extraordinarily': 9, 'nutritional': 5, 'demonstrate': 5, 'shedding': 6, 'stumble': 6, 'humping': 11, 'injected': 1, 'venom': 1, 'outrageously': 1, 'tourette': 1, 'unpredictability': 1, 'carnage': 1, 'skudrive': 6, 'becsuse': 6, 'microsoft': 6, 'physicality': 3, 'bacuse': 3, 'generate': 3, 'passerby': 3, 'sulk': 2, 'sensibility': 11, 'revolves': 6, 'yank': 5, 'readjust': 5, 'dispairing': 1, 'poser': 6, 'libertine': 2, 'jail': 2, 'inhuman': 2, 'netherlands': 2, 'macendarfer': 6, 'justquiltn': 6, 'unfinished': 6, 'thrifty': 1, 'tdy': 6, 'reviewing': 6, 'radar': 6, 'unnoticed': 6, 'slink': 5, 'indirectly': 1, 'manhandled': 1, 'hertha': 2, 'rejoice': 2, 'err': 1, 'unwilling': 1, 'jury': 6, 'reincarnation': 1, 'arabia': 1, 'indigenous': 1, 'meditate': 6, 'heater': 4, 'muddling': 4, 'guild': 4, 'wot': 4, 'acquaint': 6, 'sailing': 6, 'marching': 6, 'saluting': 6, 'temp': 8, 'murua': 6, 'wakeup': 1, 'simpler': 3, 'nourished': 4, 'lajoie': 6, 'famers': 6, 'boston': 3, 'dwell': 4, 'lowly': 2, 'khezef': 3, 'gettin': 4, 'scad': 4, 'nailart': 1, 'headlamp': 5, 'tent': 5, 'dharavi': 2, 'turnover': 2, 'feelingless': 2, 'nighters': 1, 'poison': 1, 'hierarchy': 6, 'selectively': 1, 'chink': 2, 'sustainability': 2, 'hindered': 2, 'genentech': 2, 'takeover': 2, 'pageviews': 6, 'reaaallyyyy': 6, 'rego': 5, 'instant': 2, 'refocus': 2, 'epileptic': 2, 'melee': 2, 'dp': 2, 'exertion': 6, 'prof': 6, 'pendant': 6, 'involve': 6, 'metropolitan': 2, 'pavilion': 2, 'mushy': 2, 'feverishly': 2, 'ship': 1, 'sailed': 1, 'trouser': 6, 'bleeds': 1, 'prejudiced': 1, 'bridgewater': 1, 'contemplate': 7, 'reactor': 6, 'rebel': 3, 'funding': 3, 'alien': 3, 'wt': 6, 'txl': 6, 'esteemed': 6, 'ultralight': 6, 'newcomer': 6, 'collapsing': 6, 'tangent': 2, 'jerked': 4, 'emma': 3, 'hypnosis': 6, 'porcupine': 5, 'landscape': 10, 'wrongfully': 6, 'astray': 6, 'sonia': 2, 'yixuan': 2, 'atiqah': 2, 'jens': 5, 'shortly': 5, 'react': 4, 'circus': 1, 'pitied': 2, 'chase': 6, 'chilled': 1, 'ambience': 1, 'screenshot': 4, 'environmental': 8, 'architect': 3, 'whatevers': 6, 'bee': 6, 'swore': 5, 'effing': 2, 'kristi': 6, 'gastric': 2, 'solved': 4, 'iteration': 2, 'fiercely': 6, 'superdrug': 6, 'slogging': 2, 'substantially': 1, 'slowed': 6, 'ml': 1, 'waft': 10, 'charred': 4, 'humility': 8, 'hypocritical': 2, 'bard': 6, 'hillary': 1, 'eluded': 6, 'void': 1, 'colin': 6, 'entirelly': 2, 'susanna': 1, 'visting': 3, 'devestated': 1, 'grave': 1, 'glint': 2, 'madness': 4, 'pathological': 2, 'autistics': 1, 'overslept': 3, 'drape': 1, 'conection': 6, 'customized': 6, 'winey': 1, 'scummy': 1, 'killer': 5, 'accompanied': 3, 'autism': 1, 'witless': 1, 'bontoc': 1, 'ribbon': 6, 'daydream': 8, 'flossing': 6, 'sabbatical': 6, 'embedded': 1, 'oxbow': 1, 'kentucky': 1, 'preakness': 1, 'jerry': 2, 'sloan': 2, 'utah': 2, 'wept': 1, 'replied': 1, 'logistics': 5, 'prediction': 1, 'fixing': 1, 'cathing': 1, 'pierce': 5, 'thatrupert': 2, 'intend': 8, 'jam': 6, 'flood': 6, 'jazzed': 6, 'confirm': 7, 'kierkegaard': 2, 'philosopher': 2, 'facilitate': 1, 'interference': 1, 'stunted': 1, 'instilled': 2, 'headcold': 1, 'assure': 4, 'perusal': 6, 'intensifying': 5, 'recruiter': 6, 'undecorating': 6, 'cornish': 2, 'cornwall': 2, 'katrina': 1, 'imbibed': 6, 'incalculable': 6, 'mischief': 6, 'lovedi': 4, 'slicing': 6, 'creamy': 6, 'cheesecake': 6, 'seemad': 2, 'humanity': 7, 'nadia': 6, 'neal': 6, 'frappe': 3, 'cliche': 2, 'overtook': 5, 'parked': 5, 'soulbitesblog': 6, 'louder': 2, 'raider': 6, 'methinks': 6, 'hurl': 1, 'egypt': 2, 'confront': 2, 'openness': 2, 'disorganised': 2, 'logical': 2, 'uuuugh': 2, 'recourse': 1, 'cabeal': 1, 'viral': 6, 'hotline': 6, 'revving': 2, 'reliant': 6, 'soulmate': 6, 'chemistry': 5, 'scattering': 1, 'pew': 1, 'inundated': 3, 'dominate': 6, 'dissappear': 6, 'qq': 6, 'mineral': 6, 'impoverished': 2, 'fold': 2, 'traveler': 1, 'freestone': 6, 'irritant': 1, 'fundamentally': 2, 'democratic': 2, 'burning': 1, 'alexander': 4, 'hectic': 6, 'canadian': 12, 'publication': 1, 'espa': 1, 'hd': 1, 'contemplating': 5, 'surge': 6, 'marbled': 6, 'murrelets': 6, 'conductor': 2, 'oiut': 2, 'minibus': 2, 'fare': 2, 'saddest': 1, 'restrained': 6, 'crawled': 6, 'externally': 5, 'faithsedge': 6, 'archdiocese': 3, 'restoration': 3, 'cathedral': 3, 'strategic': 3, 'iam': 1, 'continuous': 6, 'hickory': 1, 'lenoir': 1, 'morganton': 1, 'lathi': 2, 'yea': 6, 'fragment': 3, 'pillar': 12, 'vietnam': 1, 'tazi': 6, 'strives': 6, 'compromising': 6, 'bias': 2, 'themed': 2, 'anthology': 2, 'lh': 12, 'herd': 1, 'mindless': 1, 'cohort': 6, 'institution': 6, 'inadaquate': 6, 'confuse': 3, 'tether': 2, 'vocalist': 3, 'femininely': 3, 'overrrrrrrrrrrr': 2, 'brandish': 1, 'obedient': 1, 'abortion': 1, 'india': 12, 'overdone': 1, 'exotic': 9, 'matte': 3, 'bioware': 1, 'invested': 6, 'proximity': 6, 'playroom': 4, 'bombsite': 4, 'conservatory': 4, 'escaping': 4, 'deceived': 5, 'coolness': 6, 'fluid': 5, 'timeline': 2, 'carseat': 1, 'energetics': 3, 'cinnamon': 3, 'egan': 5, 'kurt': 5, 'intentionality': 2, 'interactive': 6, 'travelogue': 6, 'june': 8, 'peeking': 12, 'bough': 6, 'pervasive': 1, 'par': 2, 'faculty': 2, 'crossword': 2, 'milkshake': 6, 'tooth': 9, 'habanero': 6, 'rad': 6, 'poking': 12, 'stimulation': 6, 'shirley': 2, 'maclaine': 1, 'sub': 6, 'abundance': 6, 'extraordinary': 6, 'obesity': 1, 'invented': 5, 'hail': 5, 'ember': 5, 'flake': 5, 'whalentee': 6, 'benson': 1, 'monica': 5, 'burdening': 1, 'relegated': 2, 'wanatribe': 6, 'tranquility': 6, 'spotlessly': 6, 'tattered': 1, 'gust': 1, 'plein': 6, 'dlpt': 5, 'stressor': 1, 'segment': 1, 'consignment': 3, 'goodwill': 3, 'scarf': 2, 'roughly': 1, 'flux': 1, 'biochemistry': 2, 'zambia': 2, 'ransom': 6, 'nancy': 6, 'alotta': 6, 'mumbling': 6, 'sonogram': 6, 'coldplays': 6, 'overtone': 5, 'ink': 5, 'marry': 1, 'differs': 6, 'jonny': 6, 'elation': 1, 'offing': 1, 'cardiovascular': 3, 'absurd': 2, 'emoexaderistic': 1, 'sorta': 15, 'providence': 3, 'protecting': 3, 'slitting': 6, 'tartandheathered': 1, 'inspected': 5, 'louche': 5, 'revenue': 6, 'disbelief': 2, 'fixture': 6, 'jajaja': 6, 'overtaken': 6, 'florals': 6, 'greenery': 6, 'harmfully': 2, 'jogless': 6, 'stripe': 6, 'oogle': 6, 'actress': 5, 'vague': 6, 'contradicting': 6, 'sexier': 6, 'forefinger': 5, 'thumb': 5, 'persevered': 6, 'idaho': 1, 'league': 2, 'kudos': 6, 'organizer': 6, 'summit': 6, 'carlas': 6, 'reacts': 6, 'burkie': 6, 'banishes': 1, 'exhibitionism': 1, 'newrhinegargoyle': 1, 'adrasteius': 4, 'eulalias': 4, 'tho': 4, 'incest': 6, 'marred': 4, 'prose': 4, 'particulary': 6, 'folksy': 6, 'intercourse': 6, 'rawr': 3, 'fictional': 1, 'jillian': 6, 'crumbles': 6, 'documenti': 6, 'ffayths': 6, 'armpit': 6, 'hopper': 6, 'widely': 6, 'prided': 3, 'dianam': 6, 'cricnepal': 6, 'faint': 1, 'lll': 1, 'filed': 6, 'karmardav': 6, 'unappreciative': 1, 'distrustful': 5, 'cognize': 5, 'disregarding': 5, 'cosmos': 5, 'years': 5, 'zeno': 6, 'sermon': 1, 'practicing': 1, 'scotty': 5, 'priced': 5, 'snug': 12, 'envy': 6, 'mural': 6, 'painstakingly': 6, 'rigorous': 6, 'ingenious': 6, 'dummy': 2, 'pariah': 2, 'lve': 5, 'homeland': 5, 'mansion': 6, 'preached': 1, 'plantar': 5, 'fascitis': 5, 'reported': 2, 'dissassociated': 2, 'grudge': 2, 'glowing': 2, 'jasmine': 6, 'teapot': 6, 'pretzel': 6, 'downstairs': 10, 'athf': 3, 'minded': 6, 'sweatpants': 6, 'commuted': 6, 'ferry': 6, 'armani': 6, 'blazer': 6, 'overthink': 1, 'disbanding': 6, 'server': 6, 'lad': 9, 'herbal': 6, 'autonomy': 6, 'perceptive': 7, 'disposable': 2, 'ukrainian': 12, 'national': 6, 'farther': 1, 'discourages': 1, 'nonbipartisan': 6, 'aluminum': 6, 'conversational': 1, 'deader': 1, 'predawn': 6, 'scape': 1, 'goat': 1, 'ehh': 5, 'agency': 6, 'govern': 6, 'lungfuls': 3, 'hideously': 3, 'guily': 3, 'befoe': 1, 'tod': 2, 'keeper': 6, 'journaling': 6, 'suzanna': 6, 'idyllic': 6, 'vacationer': 6, 'breezing': 6, 'european': 1, 'correctly': 5, 'batchmates': 6, 'aggression': 2, 'thundershower': 6, 'ginormous': 6, 'alan': 1, 'unloveable': 1, 'exfoliate': 6, 'relating': 2, 'winehouse': 6, 'ford': 6, 'slighted': 2, 'sojourn': 6, 'judy': 1, 'glasberg': 1, 'unduly': 6, 'battery': 7, 'detector': 6, 'flaking': 1, 'practicies': 5, 'cult': 5, 'falun': 5, 'gong': 5, 'bemused': 5, 'childrens': 6, 'hurried': 6, 'frayed': 6, 'slip': 5, 'jammed': 5, 'excessive': 5, 'noseband': 5, 'considerable': 5, 'infusion': 1, 'sponsored': 1, 'unkindness': 2, 'selfishness': 2, 'distorted': 2, 'liek': 1, 'grasping': 2, 'eloquence': 2, 'publish': 11, 'hb': 3, 'orlando': 6, 'hirsi': 3, 'ingrid': 3, 'caressed': 6, 'affectionately': 6, 'sparsh': 6, 'peek': 6, 'climaxed': 6, 'quenched': 3, 'extinguished': 3, 'cracked': 1, 'mold': 1, 'rivalry': 1, 'riley': 1, 'unseat': 1, 'democrat': 7, 'insatiable': 3, 'frilly': 1, 'bloomer': 1, 'babydoll': 1, 'hehehehehe': 3, 'dissatisfaction': 2, 'misused': 2, 'apostrophe': 2, 'bbc': 2, 'spelling': 2, 'itv': 2, 'jittery': 6, 'meh': 6, 'looooong': 6, 'melodious': 3, 'benno': 1, 'motorcycle': 1, 'teamed': 12, 'slouchy': 6, 'studded': 6, 'resilience': 5, 'var': 1, 'bogart': 1, 'arvo': 4, 'joeys': 3, 'benedictine': 1, 'monastery': 6, 'monastic': 1, 'statesman': 1, 'mobbed': 1, 'lynched': 1, 'mob': 1, 'contend': 1, 'morality': 1, 'pediatrician': 1, 'aaaand': 6, 'rinse': 12, 'detergent': 6, 'satisfying': 3, 'crossfit': 6, 'newly': 2, 'addled': 1, 'emtyness': 6, 'weary': 2, 'smelt': 6, 'taint': 1, 'unbelievably': 1, 'jot': 2, 'thug': 2, 'traumatised': 3, 'pestilence': 3, 'starvation': 3, 'elevation': 6, 'leer': 5, 'firsthand': 6, 'outstretched': 6, 'purposeless': 1, 'hermione': 3, 'crampy': 3, 'eyeliner': 6, 'di': 6, 'spazzola': 3, 'prima': 3, 'andare': 3, 'dormire': 3, 'pampered': 6, 'weakest': 5, 'compensated': 4, 'flushing': 5, 'diligently': 1, 'underlined': 6, 'tuned': 4, 'manageable': 5, 'oxtail': 6, 'tomoe': 1, 'theofilou': 2, 'kastrioti': 2, 'selected': 6, 'impenetrable': 1, 'crescent': 1, 'scissor': 6, 'ipad': 11, 'havet': 1, 'heed': 2, 'obsessing': 5, 'hilariously': 3, 'contagious': 1, 'lodged': 6, 'oesophagus': 6, 'oregon': 3, 'condescending': 2, 'detention': 6, 'blurting': 2, 'withdrawn': 2, 'becuz': 2, 'badman': 2, 'combine': 11, 'headless': 5, 'contested': 1, 'competitive': 1, 'risky': 1, 'varies': 6, 'destroyer': 6, 'imitates': 6, 'reminisced': 1, 'millennium': 2, 'brainstorming': 2, 'vice': 2, 'sanitiation': 3, 'snoozel': 3, 'pesters': 1, 'contractual': 1, 'vietnamese': 1, 'unbreakable': 1, 'writin': 6, 'austen': 6, 'aided': 6, 'cheat': 2, 'dwindle': 6, 'arsenal': 6, 'mack': 4, 'nik': 1, 'pertaining': 8, 'dinn': 2, 'hawaiian': 6, 'pineapple': 6, 'prettiest': 6, 'starbucks': 12, 'slower': 2, 'julie': 9, 'jreyez': 6, 'jenny': 6, 'persuasion': 6, 'alll': 3, 'veryy': 3, 'crunchy': 5, 'packaged': 5, 'waitrose': 5, 'parking': 5, 'snuggled': 6, 'endured': 7, 'shimmer': 18, 'yearly': 6, 'hollyoaks': 6, 'liriano': 6, 'ardmore': 6, 'kaikohe': 6, 'pilot': 6, 'licence': 6, 'problematic': 6, 'heightened': 6, 'endlessly': 1, 'albeit': 8, 'riku': 2, 'rub': 6, 'extract': 1, 'overreacted': 2, 'bunking': 2, 'irritate': 3, 'experimented': 3, 'playwright': 4, 'reid': 4, 'posto': 12, 'portugu': 6, 'popeye': 5, 'cartoon': 5, 'nano': 6, 'levi': 1, 'treading': 2, 'osteopath': 3, 'boulder': 3, 'articulating': 2, 'loathing': 1, 'fraud': 1, 'snappy': 2, 'bayou': 6, 'cypress': 6, 'wildlife': 6, 'lest': 7, 'unpaved': 1, 'undergraduate': 6, 'humanly': 2, 'stub': 2, 'fee': 1, 'spew': 5, 'annulment': 2, 'intuitive': 5, 'akward': 2, 'surged': 2, 'powerlessness': 2, 'sends': 8, 'tizzy': 2, 'haagen': 2, 'dazs': 2, 'indisputably': 6, 'doorknob': 1, 'cloest': 1, 'privately': 2, 'growled': 2, 'nevercontrary': 1, 'jake': 1, 'mongoose': 1, 'jordan': 7, 'tai': 6, 'chi': 6, 'hasan': 5, 'retiring': 6, 'modest': 5, 'schadenfreude': 5, 'voyeur': 5, 'neurosurgeon': 5, 'ick': 5, 'rubbed': 1, 'rupture': 1, 'minimal': 17, 'churchy': 6, 'cheesy': 6, 'hourglass': 2, 'rfttttttttttsjiowefmklldkavsvdsbtwrsbdvfocxfibjxrklrgrmvaeridubneosdvfrwfd': 1, 'gen': 6, 'xers': 6, 'expend': 1, 'boasting': 2, 'tasked': 5, 'miscreant': 5, 'lauper': 3, 'sadlovequotesforhim': 6, 'travis': 1, 'heighten': 6, 'crucial': 6, 'expatriate': 6, 'budgetary': 6, 'fascinating': 6, 'ant': 4, 'costume': 8, 'freaky': 4, 'monarch': 3, 'geographically': 3, 'removed': 3, 'australian': 8, 'overemotional': 1, 'donna': 1, 'jtwoo': 1, 'fixable': 1, 'horrifying': 1, 'tenderness': 3, 'overconfident': 5, 'underappreciated': 1, 'mcraven': 6, 'ut': 6, 'plusone': 6, 'wilcfry': 6, 'treasure': 14, 'lifespan': 6, 'mumbled': 1, 'alli': 1, 'twiggy': 6, 'holder': 6, 'neon': 5, 'shizz': 5, 'vancouver': 9, 'oppressive': 1, 'rockette': 6, 'expects': 6, 'releasing': 6, 'feminine': 6, 'masculine': 6, 'stipulation': 1, 'skeered': 1, 'console': 1, 'allusion': 1, 'massou': 1, 'puters': 1, 'invasion': 1, 'lik': 6, 'debra': 6, 'woodston': 6, 'kansa': 6, 'assembly': 6, 'fiesty': 6, 'haggle': 1, 'willfully': 1, 'nickey': 2, 'out': 1, 'popcorn': 1, 'pinot': 1, 'gris': 1, 'obbie': 1, 'issued': 5, 'supplied': 5, 'consulate': 5, 'los': 5, 'angeles': 5, 'infp': 1, 'tabby': 2, 'creek': 2, 'meadow': 2, 'fighter': 4, 'binging': 2, 'gertrude': 1, 'stuckin': 1, 'knotting': 2, 'discombobulated': 1, 'frequent': 1, 'poster': 1, 'bryangregorylewis': 1, 'blogland': 6, 'dunnno': 1, 'stretched': 6, 'miniature': 1, 'alcoholic': 2, 'dribbling': 2, 'dispute': 1, 'universalized': 1, 'desired': 1, 'imperfection': 1, 'coerced': 1, 'mocked': 1, 'produced': 1, 'sexist': 1, 'whispering': 1, 'fug': 2, 'keynote': 6, 'wantig': 1, 'yawning': 6, 'manged': 6, 'retaining': 6, 'flourish': 6, 'rpgs': 12, 'jrpgs': 6, 'gamers': 6, 'pouring': 5, 'righteousness': 2, 'completion': 6, 'yomis': 4, 'unprofessional': 2, 'boosted': 1, 'detroit': 2, 'specialized': 2, 'oiler': 5, 'pt': 1, 'gloom': 1, 'finest': 2, 'ren': 1, 'stimpy': 1, 'gemini': 1, 'scorpio': 1, 'gardening': 3, 'slr': 6, 'registered': 1, 'goer': 1, 'zz': 1, 'keychain': 1, 'tltg': 1, 'delve': 5, 'weaved': 3, 'mystified': 3, 'karate': 12, 'diagonal': 6, 'kendo': 6, 'frog': 1, 'downstream': 1, 'motel': 1, 'char': 1, 'flashed': 2, 'assurance': 5, 'diminish': 6, 'borrow': 6, 'badger': 6, 'arse': 6, 'blend': 6, 'wolfiewolfgang': 6, 'numbingly': 1, 'nuance': 1, 'nudist': 5, 'repress': 6, 'snorkeling': 6, 'overcomes': 6, 'pond': 1, 'stamp': 6, 'backwards': 6, 'tunnel': 6, 'scramble': 1, 'meticulously': 1, 'frightening': 5, 'frightful': 5, 'chop': 6, 'winetasting': 1, 'purchasing': 3, 'genetic': 1, 'neferet': 2, 'festival': 6, 'kuribayashi': 3, 'psssh': 2, 'rear': 6, 'hesei': 3, 'kamen': 3, 'descend': 6, 'sooooooooper': 1, 'photoshoot': 1, 'backpack': 6, 'advertised': 1, 'james': 5, 'rocketed': 6, 'satire': 6, 'springy': 3, 'camwhore': 1, 'pudding': 1, 'anotehr': 1, 'apps': 7, 'ftw': 1, 'paramilitary': 2, 'intimidating': 2, 'provocation': 7, 'nagged': 1, 'tody': 2, 'executed': 1, 'decal': 1, 'apocalypse': 2, 'attacking': 2, 'ica': 3, 'loosen': 1, 'infatuation': 6, 'civilization': 6, 'vase': 3, 'questionnaire': 8, 'budding': 5, 'buoied': 6, 'cape': 1, 'akron': 6, 'odkh': 2, 'kilter': 6, 'shameless': 3, 'blond': 3, 'hottest': 3, 'gunna': 6, 'conceal': 5, 'venerable': 5, 'hymn': 4, 'proffer': 4, 'modeling': 2, 'duet': 2, 'tallest': 6, 'oops': 6, 'conqueror': 1, 'pissy': 1, 'preform': 12, 'awed': 1, 'dumbass': 1, 'rukia': 1, 'wiki': 1, 'accusing': 2, 'rudely': 5, 'flooded': 6, 'influx': 6, 'matching': 6, 'iming': 6, 'hunch': 1, 'disruption': 6, 'salute': 6, 'strapped': 1, 'beholding': 1, 'gop': 3, 'drinky': 3, 'lemur': 3, 'animated': 3, 'incestuous': 2, 'twoyear': 2, 'abhorrent': 2, 'clodia': 1, 'everitt': 1, 'kina': 1, 'darkest': 6, 'peice': 4, 'obrian': 2, 'characterisation': 2, 'evidenced': 2, 'wettest': 1, 'rec': 1, 'thompson': 4, 'fluff': 4, 'entranced': 3, 'eepctqlhiafjwnrrmas': 1, 'permitting': 6, 'flour': 1, 'complement': 6, 'chic': 6, 'structured': 6, 'wizarding': 2, 'mudbloods': 2, 'whatnot': 2, 'hockney': 3, 'saloon': 1, 'undertone': 2, 'convo': 2, 'teared': 1, 'aj': 3, 'frowned': 3, 'burnout': 1, 'deranged': 2, 'helena': 2, 'bonham': 2, 'carter': 7, 'scotched': 1, 'expedition': 1, 'amazingness': 5, 'noticeably': 1, 'ideally': 6, 'acim': 6, 'integrated': 6, 'abraham': 6, 'tolerating': 6, 'caramel': 3, 'syrup': 3, 'shhh': 3, 'laddie': 6, 'marking': 6, 'crib': 5, 'vantage': 1, 'cleanse': 3, 'flagellating': 5, 'albino': 5, 'priest': 5, 'hmm': 6, 'rhyme': 6, 'potion': 6, 'dessen': 1, 'muslim': 6, 'generalizing': 6, 'retaliation': 6, 'opera': 6, 'shhhhhhh': 6, 'hella': 6, 'outweigh': 1, 'juggling': 6, 'navigate': 2, 'amazement': 3, 'shuffle': 1, 'liable': 2, 'candy': 5, 'aussy': 6, 'paulo': 6, 'coelho': 6, 'counselor': 1, 'pending': 1, 'preschooler': 2, 'miller': 3, 'trickery': 6, 'dullness': 5, 'evoked': 5, 'yearns': 5, 'labelled': 1, 'convey': 7, 'geography': 6, 'rosary': 6, 'treachery': 3, 'variety': 4, 'gimme': 2, 'effin': 7, 'spout': 6, 'lulu': 6, 'mover': 2, 'ann': 1, 'blew': 1, 'supplicate': 6, 'celexa': 1, 'se': 1, 'organizing': 5, 'spectrum': 1, 'gfb': 1, 'finale': 1, 'bookworm': 6, 'choc': 6, 'bloc': 6, 'reminding': 4, 'freshly': 6, 'doodlesandscrapsofme': 6, 'buzz': 6, 'palpably': 3, 'diazepam': 5, 'takeing': 5, 'thatd': 1, 'seventy': 1, 'allocated': 6, 'advertisement': 6, 'sepang': 6, 'lore': 4, 'axilla': 1, 'morla': 2, 'jude': 4, 'asciatic': 2, 'nikolas': 2, 'moisturized': 1, 'tryst': 6, 'jurer': 4, 'construction': 4, 'pulpit': 6, 'efficacy': 6, 'varsity': 6, 'fortunately': 9, 'weaving': 6, 'muster': 1, 'tim': 6, 'plead': 1, 'empathise': 1, 'trailer': 5, 'mayor': 6, 'byron': 6, 'crossroad': 6, 'medicated': 4, 'cu': 2, 'overnight': 1, 'tiniest': 2, 'ahem': 1, 'arty': 6, 'pal': 6, 'ahkman': 5, 'maniacal': 5, 'aboard': 1, 'socialising': 1, 'attributed': 1, 'regaining': 6, 'gillard': 3, 'undefinable': 1, 'bleh': 5, 'irreparably': 1, 'noleans': 5, 'wihtout': 5, 'needin': 1, 'beth': 1, 'researching': 3, 'punched': 5, 'brunch': 5, 'waldo': 5, 'flinched': 5, 'airtime': 5, 'uncharacteristically': 6, 'unrealistically': 6, 'hubbie': 6, 'chanting': 2, 'reverberate': 2, 'remotional': 2, 'clammy': 3, 'flaunt': 5, 'tripping': 6, 'cotton': 6, 'snake': 6, 'barker': 6, 'proudly': 1, 'mimm': 6, 'thislifeissparkling': 6, 'muffin': 2, 'nashville': 3, 'shaved': 6, 'refrence': 6, 'comic': 6, 'mallrat': 2, 'torch': 6, 'communicates': 6, 'burrowing': 1, 'tickling': 1, 'posh': 4, 'cushy': 4, 'clamouring': 3, 'exicting': 3, 'nannying': 2, 'snark': 2, 'greeting': 6, 'prosecutor': 6, 'dc': 6, 'legal': 6, 'blundering': 6, 'downtown': 6, 'chicago': 6, 'storage': 1, 'deleted': 4, 'ryota': 2, 'keita': 2, 'kota': 2, 'undeniably': 6, 'managment': 2, 'reinforce': 6, 'rural': 2, 'vocref': 6, 'ontology': 6, 'showcasing': 6, 'affirmative': 6, 'reasoning': 1, 'erupted': 1, 'exploded': 1, 'disastered': 1, 'spotless': 1, 'stylish': 1, 'auction': 6, 'tom': 6, 'daley': 6, 'bronze': 6, 'wi': 6, 'carnivore': 4, 'councillor': 3, 'antidepressant': 6, 'miraculously': 2, 'conquer': 2, 'brach': 5, 'chipmunk': 5, 'elegance': 6, 'succeeding': 6, 'jonah': 6, 'vulturous': 1, 'sic': 1, 'poisonous': 1, 'psychiatry': 6, 'grumbled': 1, 'gfs': 2, 'vivek': 1, 'oberoi': 1, 'analysing': 2, 'herb': 6, 'arrow': 6, 'jerome': 5, 'contamination': 6, 'tower': 3, 'abbigail': 5, 'apraxia': 5, 'everyfuckingthing': 2, 'passive': 2, 'lovecraft': 1, 'sue': 6, 'sparkly': 6, 'evolving': 6, 'policeman': 5, 'exercised': 5, 'mammal': 6, 'accompaniment': 6, 'sheepish': 2, 'overlapping': 3, 'squeek': 2, 'grossed': 2, 'underlying': 1, 'hachi': 3, 'nobu': 3, 'nana': 3, 'slapped': 5, 'riotousrambling': 6, 'odeon': 6, 'portugal': 6, 'philosophical': 6, 'lev': 6, 'rubbing': 6, 'eachother': 6, 'sensed': 6, 'killjoy': 1, 'terrorised': 5, 'isobelmeg': 6, 'squirmed': 1, 'ribcage': 2, 'japan': 6, 'skipped': 2, 'manchester': 6, 'aunty': 6, 'bungalow': 4, 'inspect': 5, 'paste': 5, 'pandora': 6, 'cosmopolitian': 6, 'monkees': 6, 'tearing': 6, 'irrelevant': 1, 'braeden': 6, 'calvin': 6, 'beanbag': 1, 'subbing': 1}\n"
     ]
    }
   ],
   "source": [
    "analysis = {}\n",
    "for index, row in df_norm.iterrows():\n",
    "    for w in str(row['Text']).split():\n",
    "        if w in analysis:\n",
    "            analysis[w] += row['Sentiment']\n",
    "        else:\n",
    "            analysis [w] = row['Sentiment']\n",
    "print(analysis)"
   ]
  },
  {
   "cell_type": "code",
   "execution_count": 84,
   "metadata": {},
   "outputs": [],
   "source": [
    "for key in analysis:\n",
    "    # print(analysis[key])\n",
    "    # print(key)\n",
    "    analysis[key] = [analysis[key] / vocab[key], vocab[key]]\n"
   ]
  },
  {
   "cell_type": "code",
   "execution_count": 85,
   "metadata": {},
   "outputs": [
    {
     "name": "stdout",
     "output_type": "stream",
     "text": [
      "{'go': [3.7305555555555556, 360], 'feeling': [3.51149291850476, 4307], 'feel': [3.6437590792267294, 8949], 'know': [3.398701298701299, 770], 'still': [3.428861788617886, 492], 'ive': [3.3782696177062372, 497], 'little': [3.5768595041322313, 605], 'time': [3.64087061668682, 827], 'like': [3.537519747235387, 2532], 'life': [3.527237354085603, 514], 'make': [3.923538230884558, 667], 'something': [3.8067415730337077, 445], 'think': [3.6216216216216215, 518], 'work': [3.8172757475083055, 301], 'thing': [3.3663194444444446, 576], 'dont': [3.4262295081967213, 427], 'need': [3.6481481481481484, 378], 'get': [3.5427728613569323, 678], 'day': [3.6269982238010656, 563], 'pretty': [3.9714285714285715, 315], 'much': [3.5734265734265733, 429], 'would': [3.4527272727272726, 550], 'want': [3.512690355329949, 591], 'bit': [3.2772511848341233, 422], 'way': [3.511879049676026, 463], 'one': [3.5672727272727274, 550], 'could': [3.5762711864406778, 413], 'people': [3.629370629370629, 572], 'back': [3.4226190476190474, 336], 'love': [3.8475336322869955, 446], 'see': [3.673202614379085, 306], 'going': [3.8023529411764705, 425], 'good': [3.973607038123167, 341], 'really': [3.546153846153846, 780], 'even': [3.3041666666666667, 480], 'always': [3.712418300653595, 306], 'say': [3.454258675078864, 317]}\n"
     ]
    }
   ],
   "source": [
    "new_analysis = {k: v for k, v in analysis.items() if v[1] <= 300}\n",
    "outliers = {k: v for k, v in analysis.items() if v[1] > 300}\n",
    "print(outliers)\n"
   ]
  },
  {
   "cell_type": "code",
   "execution_count": 86,
   "metadata": {},
   "outputs": [
    {
     "data": {
      "text/plain": [
       "<matplotlib.collections.PathCollection at 0x7fa6200412e0>"
      ]
     },
     "execution_count": 86,
     "metadata": {},
     "output_type": "execute_result"
    },
    {
     "data": {
      "image/png": "[encoded data removed]",
      "text/plain": [
       "<Figure size 640x480 with 1 Axes>"
      ]
     },
     "metadata": {},
     "output_type": "display_data"
    }
   ],
   "source": [
    "txt = new_analysis.keys\n",
    "values = list(new_analysis.values())\n",
    "fig, ax = plt.subplots()\n",
    "ax.scatter([item[1] for item in values], [item[0] for item in values])\n"
   ]
  },
  {
   "attachments": {},
   "cell_type": "markdown",
   "metadata": {},
   "source": [
    "### Variable Definitions:\n",
    "N = number of unique words in total vocabulary\n",
    "T = numebr of topics in total document of twweets\n",
    "alpha = parameter "
   ]
  },
  {
   "cell_type": "code",
   "execution_count": null,
   "metadata": {},
   "outputs": [],
   "source": [
    "df_sad = df_norm[df_norm[\"Sentiment\"] == 1]\n",
    "df_sad = df_sad.groupby(df_sad.index // 5)['Text'].apply(' '.join)\n",
    "df_anger = df_norm[df_norm[\"Sentiment\"] == 2]\n",
    "df_anger = df_anger.groupby(df_anger.index // 5)['Text'].apply(' '.join)\n",
    "df_love = df_norm[df_norm[\"Sentiment\"] == 3]\n",
    "df_love = df_love.groupby(df_love.index // 5)['Text'].apply(' '.join)\n",
    "df_surprise = df_norm[df_norm[\"Sentiment\"] == 4]\n",
    "df_surprise = df_surprise.groupby(df_surprise.index // 5)['Text'].apply(' '.join)\n",
    "df_fear = df_norm[df_norm[\"Sentiment\"] == 5]\n",
    "df_fear = df_fear.groupby(df_fear.index // 5)['Text'].apply(' '.join)\n",
    "df_joy = df_norm[df_norm[\"Sentiment\"] == 6]\n",
    "df_joy = df_joy.groupby(df_joy.index // 5)['Text'].apply(' '.join)\n",
    "\n",
    "df_concat = pd.concat([df_sad, df_anger, df_love, df_surprise, df_fear, df_joy], axis=0)\n",
    "df_concat"
   ]
  },
  {
   "cell_type": "code",
   "execution_count": 48,
   "metadata": {},
   "outputs": [],
   "source": [
    "# def mix_weights(beta):\n",
    "#     beta1m_cumprod = (1 - beta).cumprod(-1)\n",
    "#     print(beta1m_cumprod)\n",
    "#     return F.pad(beta, (0, 1), value=1) * F.pad(beta1m_cumprod, (1, 0), value=1)\n",
    "\n",
    "# def model(data):\n",
    "#     alpha = 0.1\n",
    "#     T = 5\n",
    "#     N = 30\n",
    "\n",
    "#     # T-1 conditionally independent Beta distributions of B\n",
    "#     with pyro.plate(\"beta_plate\", T-1): \n",
    "#         beta = pyro.sample(\"beta\", dist.Beta(1, alpha)) \n",
    "\n",
    "#     # T conditionally independent priors\n",
    "#     with pyro.plate(\"mu_plate\", T):\n",
    "#         mu = pyro.sample(\"mu\", dist.MultivariateNormal(torch.zeros(2), 5 * torch.eye(2)))\n",
    "\n",
    "#     # N conditionally independent Categorical distributions for cluster assignment\n",
    "#     with pyro.plate(\"data\", N):\n",
    "#         z = pyro.sample(\"z\", dist.Categorical(mix_weights(beta)))\n",
    "#         pyro.sample(\"obs\", dist.MultivariateNormal(mu[z], torch.eye(2)), obs=data)\n",
    "\n",
    "# model([1,1,1])"
   ]
  },
  {
   "cell_type": "code",
   "execution_count": 49,
   "metadata": {},
   "outputs": [],
   "source": [
    "# def guide(data):\n",
    "#     kappa = pyro.param('kappa', lambda: dist.Uniform(0, 2).sample([T-1]), constraint=constraints.positive)\n",
    "#     tau = pyro.param('tau', lambda: dist.MultivariateNormal(torch.zeros(2), 3 * torch.eye(2)).sample([T]))\n",
    "#     phi = pyro.param('phi', lambda: dist.Dirichlet(1/T * torch.ones(T)).sample([N]), constraint=constraints.simplex)\n",
    "\n",
    "#     with pyro.plate(\"beta_plate\", T-1):\n",
    "#         q_beta = pyro.sample(\"beta\", dist.Beta(torch.ones(T-1), kappa))\n",
    "\n",
    "#     with pyro.plate(\"mu_plate\", T):\n",
    "#         q_mu = pyro.sample(\"mu\", dist.MultivariateNormal(tau, torch.eye(2)))\n",
    "\n",
    "#     with pyro.plate(\"data\", N):\n",
    "#         z = pyro.sample(\"z\", dist.Categorical(phi))"
   ]
  },
  {
   "cell_type": "code",
   "execution_count": 50,
   "metadata": {},
   "outputs": [],
   "source": [
    "# T = 10\n",
    "\n",
    "# def train(num_iterations):\n",
    "#     pyro.clear_param_store()\n",
    "#     for j in tqdm(range(num_iterations)):\n",
    "#         loss = svi.step(data)\n",
    "#         losses.append(loss)\n",
    "\n",
    "# def truncate(alpha, centers, weights):\n",
    "#     threshold = alpha**-1 / 100.\n",
    "#     true_centers = centers[weights > threshold]\n",
    "#     true_weights = weights[weights > threshold] / torch.sum(weights[weights > threshold])\n",
    "#     return true_centers, true_weights\n",
    "\n",
    "# alpha = 0.1\n",
    "# train(1000)\n",
    "\n",
    "# # We make a point-estimate of our model parameters using the posterior means of tau and phi for the centers and weights\n",
    "# Bayes_Centers_01, Bayes_Weights_01 = truncate(alpha, pyro.param(\"tau\").detach(), torch.mean(pyro.param(\"phi\").detach(), dim=0))\n",
    "\n",
    "# alpha = 1.5\n",
    "# train(1000)\n",
    "\n",
    "# # We make a point-estimate of our model parameters using the posterior means of tau and phi for the centers and weights\n",
    "# Bayes_Centers_15, Bayes_Weights_15 = truncate(alpha, pyro.param(\"tau\").detach(), torch.mean(pyro.param(\"phi\").detach(), dim=0))\n",
    "\n",
    "# plt.figure(figsize=(15, 5))\n",
    "# plt.subplot(1, 2, 1)\n",
    "# plt.scatter(data[:, 0], data[:, 1], color=\"blue\")\n",
    "# plt.scatter(Bayes_Centers_01[:, 0], Bayes_Centers_01[:, 1], color=\"red\")\n",
    "\n",
    "# plt.subplot(1, 2, 2)\n",
    "# plt.scatter(data[:, 0], data[:, 1], color=\"blue\")\n",
    "# plt.scatter(Bayes_Centers_15[:, 0], Bayes_Centers_15[:, 1], color=\"red\")\n",
    "# plt.tight_layout()\n",
    "# plt.show()\n"
   ]
  },
  {
   "cell_type": "code",
   "execution_count": 51,
   "metadata": {},
   "outputs": [],
   "source": [
    "# data = torch.tensor([5, 4, 2, 5, 6, 5, 3, 3, 1, 5, 5, 3, 5, 3, 5, \\\n",
    "#                      3, 5, 5, 3, 5, 5, 3, 1, 5, 3, 3, 6, 5, 5, 6])\n",
    "# counts = torch.unique(data, return_counts=True)[1].float()\n",
    "# counts.sum()\n"
   ]
  },
  {
   "cell_type": "code",
   "execution_count": 52,
   "metadata": {},
   "outputs": [],
   "source": [
    "\n",
    "# def model(counts):\n",
    "#     theta = pyro.sample('theta', dist.Dirichlet(torch.ones(6)))\n",
    "#     total_count = int(counts.sum())\n",
    "#     pyro.sample('counts', dist.Multinomial(total_count, theta), obs=counts)\n",
    "\n",
    "# data = torch.tensor([5, 4, 2, 5, 6, 5, 3, 3, 1, 5, 5, 3, 5, 3, 5, \\\n",
    "#                      3, 5, 5, 3, 5, 5, 3, 1, 5, 3, 3, 6, 5, 5, 6])\n",
    "# counts = torch.unique(data, return_counts=True)[1].float()\n",
    "\n",
    "# nuts_kernel = NUTS(model)\n",
    "# num_samples, warmup_steps = (1000, 200)\n",
    "# mcmc = MCMC(nuts_kernel, num_samples=1000, warmup_steps=200)\n",
    "# mcmc.run(counts)\n",
    "# hmc_samples = {k: v.detach().cpu().numpy()\n",
    "#                for k, v in mcmc.get_samples().items()}"
   ]
  },
  {
   "cell_type": "code",
   "execution_count": 53,
   "metadata": {},
   "outputs": [],
   "source": [
    "# means = hmc_samples['theta'].mean(axis=0)\n",
    "# stds = hmc_samples['theta'].std(axis=0)\n",
    "# print('Inferred dice probabilities from the data (68% confidence intervals):')\n",
    "# for i in range(6):\n",
    "#     print('%d: %.2f ± %.2f' % (i + 1, means[i], stds[i]))"
   ]
  },
  {
   "cell_type": "code",
   "execution_count": 54,
   "metadata": {},
   "outputs": [],
   "source": [
    "# def model(data):\n",
    "#     with pyro.plate(\"topics\", T):\n",
    "#         topic_weights = pyro.sample(\n",
    "#             \"topic_weights\", dist.Gamma(1.0 / T, 1.0)\n",
    "#         )\n",
    "#         topic_words = pyro.sample(\n",
    "#             \"topic_words\", dist.Dirichlet(torch.ones(N) / N)\n",
    "#         )\n",
    "\n",
    "#     with pyro.plate(\"documents\", data.shape[0]) as ind:\n",
    "#         doc_topics = pyro.sample(\"doc_topics\", dist.Dirichlet(topic_weights))\n",
    "#         with pyro.plate(\"words\", max_words):\n",
    "#             word_topics = pyro.sample(\n",
    "#                 \"word_topics\",\n",
    "#                 dist.Categorical(doc_topics),\n",
    "#                 infer={\"enumerate\": \"parallel\"},\n",
    "#                 )\n",
    "#             data = pyro.sample(\"doc_words\", dist.Categorical(topic_words[word_topics]), obs=data)\n",
    "#     return topic_weights, topic_words, data\n",
    "\n",
    "\n",
    "# T = 20\n",
    "# N = len(list(vocab.keys()))\n",
    "# max_words = 12\n",
    "# optim = Adam({\"lr\": 0.05})\n",
    "# svi = SVI(model, guide, optim, loss=Trace_ELBO())\n",
    "# losses = []\n"
   ]
  },
  {
   "cell_type": "code",
   "execution_count": 61,
   "metadata": {},
   "outputs": [
    {
     "name": "stdout",
     "output_type": "stream",
     "text": [
      "8752\n",
      "torch.Size([9378, 8752])\n",
      "8951\n"
     ]
    }
   ],
   "source": [
    "vectorizer = CountVectorizer(stop_words='english')\n",
    "docs = torch.from_numpy(vectorizer.fit_transform(df_norm['Text']).toarray())"
   ]
  },
  {
   "cell_type": "code",
   "execution_count": 36,
   "metadata": {},
   "outputs": [
    {
     "name": "stderr",
     "output_type": "stream",
     "text": [
      "  0%|          | 0/1500 [00:02<?, ?it/s]\n"
     ]
    },
    {
     "ename": "ValueError",
     "evalue": "at site \"obs\", invalid log_prob shape\n  Expected [8752], actual [9378, 8752]\n  Try one of the following fixes:\n  - enclose the batched tensor in a with pyro.plate(...): context\n  - .to_event(...) the distribution being sampled\n  - .permute() data dimensions",
     "output_type": "error",
     "traceback": [
      "\u001b[0;31m---------------------------------------------------------------------------\u001b[0m",
      "\u001b[0;31mValueError\u001b[0m                                Traceback (most recent call last)",
      "Cell \u001b[0;32mIn[36], line 46\u001b[0m\n\u001b[1;32m     43\u001b[0m losses \u001b[39m=\u001b[39m []\n\u001b[1;32m     44\u001b[0m N \u001b[39m=\u001b[39m docs\u001b[39m.\u001b[39msize()[\u001b[39m1\u001b[39m]\n\u001b[0;32m---> 46\u001b[0m train(n_iter)\n\u001b[1;32m     48\u001b[0m samples \u001b[39m=\u001b[39m torch\u001b[39m.\u001b[39marange(\u001b[39m0\u001b[39m, \u001b[39m300\u001b[39m)\u001b[39m.\u001b[39mtype(torch\u001b[39m.\u001b[39mfloat)\n\u001b[1;32m     50\u001b[0m tau0_optimal \u001b[39m=\u001b[39m pyro\u001b[39m.\u001b[39mparam(\u001b[39m\"\u001b[39m\u001b[39mtau_0\u001b[39m\u001b[39m\"\u001b[39m)\u001b[39m.\u001b[39mdetach()\n",
      "Cell \u001b[0;32mIn[36], line 35\u001b[0m, in \u001b[0;36mtrain\u001b[0;34m(num_iterations)\u001b[0m\n\u001b[1;32m     33\u001b[0m pyro\u001b[39m.\u001b[39mclear_param_store()\n\u001b[1;32m     34\u001b[0m \u001b[39mfor\u001b[39;00m j \u001b[39min\u001b[39;00m tqdm(\u001b[39mrange\u001b[39m(num_iterations)):\n\u001b[0;32m---> 35\u001b[0m     loss \u001b[39m=\u001b[39m svi\u001b[39m.\u001b[39;49mstep(docs)\n\u001b[1;32m     36\u001b[0m     losses\u001b[39m.\u001b[39mappend(loss)\n",
      "File \u001b[0;32m~/Desktop/CompCog/CompCogFinal/env/lib/python3.9/site-packages/pyro/infer/svi.py:145\u001b[0m, in \u001b[0;36mSVI.step\u001b[0;34m(self, *args, **kwargs)\u001b[0m\n\u001b[1;32m    143\u001b[0m \u001b[39m# get loss and compute gradients\u001b[39;00m\n\u001b[1;32m    144\u001b[0m \u001b[39mwith\u001b[39;00m poutine\u001b[39m.\u001b[39mtrace(param_only\u001b[39m=\u001b[39m\u001b[39mTrue\u001b[39;00m) \u001b[39mas\u001b[39;00m param_capture:\n\u001b[0;32m--> 145\u001b[0m     loss \u001b[39m=\u001b[39m \u001b[39mself\u001b[39;49m\u001b[39m.\u001b[39;49mloss_and_grads(\u001b[39mself\u001b[39;49m\u001b[39m.\u001b[39;49mmodel, \u001b[39mself\u001b[39;49m\u001b[39m.\u001b[39;49mguide, \u001b[39m*\u001b[39;49margs, \u001b[39m*\u001b[39;49m\u001b[39m*\u001b[39;49mkwargs)\n\u001b[1;32m    147\u001b[0m params \u001b[39m=\u001b[39m \u001b[39mset\u001b[39m(\n\u001b[1;32m    148\u001b[0m     site[\u001b[39m\"\u001b[39m\u001b[39mvalue\u001b[39m\u001b[39m\"\u001b[39m]\u001b[39m.\u001b[39munconstrained() \u001b[39mfor\u001b[39;00m site \u001b[39min\u001b[39;00m param_capture\u001b[39m.\u001b[39mtrace\u001b[39m.\u001b[39mnodes\u001b[39m.\u001b[39mvalues()\n\u001b[1;32m    149\u001b[0m )\n\u001b[1;32m    151\u001b[0m \u001b[39m# actually perform gradient steps\u001b[39;00m\n\u001b[1;32m    152\u001b[0m \u001b[39m# torch.optim objects gets instantiated for any params that haven't been seen yet\u001b[39;00m\n",
      "File \u001b[0;32m~/Desktop/CompCog/CompCogFinal/env/lib/python3.9/site-packages/pyro/infer/trace_elbo.py:140\u001b[0m, in \u001b[0;36mTrace_ELBO.loss_and_grads\u001b[0;34m(self, model, guide, *args, **kwargs)\u001b[0m\n\u001b[1;32m    138\u001b[0m loss \u001b[39m=\u001b[39m \u001b[39m0.0\u001b[39m\n\u001b[1;32m    139\u001b[0m \u001b[39m# grab a trace from the generator\u001b[39;00m\n\u001b[0;32m--> 140\u001b[0m \u001b[39mfor\u001b[39;00m model_trace, guide_trace \u001b[39min\u001b[39;00m \u001b[39mself\u001b[39m\u001b[39m.\u001b[39m_get_traces(model, guide, args, kwargs):\n\u001b[1;32m    141\u001b[0m     loss_particle, surrogate_loss_particle \u001b[39m=\u001b[39m \u001b[39mself\u001b[39m\u001b[39m.\u001b[39m_differentiable_loss_particle(\n\u001b[1;32m    142\u001b[0m         model_trace, guide_trace\n\u001b[1;32m    143\u001b[0m     )\n\u001b[1;32m    144\u001b[0m     loss \u001b[39m+\u001b[39m\u001b[39m=\u001b[39m loss_particle \u001b[39m/\u001b[39m \u001b[39mself\u001b[39m\u001b[39m.\u001b[39mnum_particles\n",
      "File \u001b[0;32m~/Desktop/CompCog/CompCogFinal/env/lib/python3.9/site-packages/pyro/infer/elbo.py:236\u001b[0m, in \u001b[0;36mELBO._get_traces\u001b[0;34m(self, model, guide, args, kwargs)\u001b[0m\n\u001b[1;32m    234\u001b[0m \u001b[39melse\u001b[39;00m:\n\u001b[1;32m    235\u001b[0m     \u001b[39mfor\u001b[39;00m i \u001b[39min\u001b[39;00m \u001b[39mrange\u001b[39m(\u001b[39mself\u001b[39m\u001b[39m.\u001b[39mnum_particles):\n\u001b[0;32m--> 236\u001b[0m         \u001b[39myield\u001b[39;00m \u001b[39mself\u001b[39;49m\u001b[39m.\u001b[39;49m_get_trace(model, guide, args, kwargs)\n",
      "File \u001b[0;32m~/Desktop/CompCog/CompCogFinal/env/lib/python3.9/site-packages/pyro/infer/trace_elbo.py:57\u001b[0m, in \u001b[0;36mTrace_ELBO._get_trace\u001b[0;34m(self, model, guide, args, kwargs)\u001b[0m\n\u001b[1;32m     52\u001b[0m \u001b[39mdef\u001b[39;00m \u001b[39m_get_trace\u001b[39m(\u001b[39mself\u001b[39m, model, guide, args, kwargs):\n\u001b[1;32m     53\u001b[0m \u001b[39m    \u001b[39m\u001b[39m\"\"\"\u001b[39;00m\n\u001b[1;32m     54\u001b[0m \u001b[39m    Returns a single trace from the guide, and the model that is run\u001b[39;00m\n\u001b[1;32m     55\u001b[0m \u001b[39m    against it.\u001b[39;00m\n\u001b[1;32m     56\u001b[0m \u001b[39m    \"\"\"\u001b[39;00m\n\u001b[0;32m---> 57\u001b[0m     model_trace, guide_trace \u001b[39m=\u001b[39m get_importance_trace(\n\u001b[1;32m     58\u001b[0m         \u001b[39m\"\u001b[39;49m\u001b[39mflat\u001b[39;49m\u001b[39m\"\u001b[39;49m, \u001b[39mself\u001b[39;49m\u001b[39m.\u001b[39;49mmax_plate_nesting, model, guide, args, kwargs\n\u001b[1;32m     59\u001b[0m     )\n\u001b[1;32m     60\u001b[0m     \u001b[39mif\u001b[39;00m is_validation_enabled():\n\u001b[1;32m     61\u001b[0m         check_if_enumerated(guide_trace)\n",
      "File \u001b[0;32m~/Desktop/CompCog/CompCogFinal/env/lib/python3.9/site-packages/pyro/infer/enum.py:80\u001b[0m, in \u001b[0;36mget_importance_trace\u001b[0;34m(graph_type, max_plate_nesting, model, guide, args, kwargs, detach)\u001b[0m\n\u001b[1;32m     78\u001b[0m \u001b[39mfor\u001b[39;00m site \u001b[39min\u001b[39;00m model_trace\u001b[39m.\u001b[39mnodes\u001b[39m.\u001b[39mvalues():\n\u001b[1;32m     79\u001b[0m     \u001b[39mif\u001b[39;00m site[\u001b[39m\"\u001b[39m\u001b[39mtype\u001b[39m\u001b[39m\"\u001b[39m] \u001b[39m==\u001b[39m \u001b[39m\"\u001b[39m\u001b[39msample\u001b[39m\u001b[39m\"\u001b[39m:\n\u001b[0;32m---> 80\u001b[0m         check_site_shape(site, max_plate_nesting)\n\u001b[1;32m     81\u001b[0m \u001b[39mfor\u001b[39;00m site \u001b[39min\u001b[39;00m guide_trace\u001b[39m.\u001b[39mnodes\u001b[39m.\u001b[39mvalues():\n\u001b[1;32m     82\u001b[0m     \u001b[39mif\u001b[39;00m site[\u001b[39m\"\u001b[39m\u001b[39mtype\u001b[39m\u001b[39m\"\u001b[39m] \u001b[39m==\u001b[39m \u001b[39m\"\u001b[39m\u001b[39msample\u001b[39m\u001b[39m\"\u001b[39m:\n",
      "File \u001b[0;32m~/Desktop/CompCog/CompCogFinal/env/lib/python3.9/site-packages/pyro/util.py:437\u001b[0m, in \u001b[0;36mcheck_site_shape\u001b[0;34m(site, max_plate_nesting)\u001b[0m\n\u001b[1;32m    433\u001b[0m \u001b[39mfor\u001b[39;00m actual_size, expected_size \u001b[39min\u001b[39;00m zip_longest(\n\u001b[1;32m    434\u001b[0m     \u001b[39mreversed\u001b[39m(actual_shape), \u001b[39mreversed\u001b[39m(expected_shape), fillvalue\u001b[39m=\u001b[39m\u001b[39m1\u001b[39m\n\u001b[1;32m    435\u001b[0m ):\n\u001b[1;32m    436\u001b[0m     \u001b[39mif\u001b[39;00m expected_size \u001b[39m!=\u001b[39m \u001b[39m-\u001b[39m\u001b[39m1\u001b[39m \u001b[39mand\u001b[39;00m expected_size \u001b[39m!=\u001b[39m actual_size:\n\u001b[0;32m--> 437\u001b[0m         \u001b[39mraise\u001b[39;00m \u001b[39mValueError\u001b[39;00m(\n\u001b[1;32m    438\u001b[0m             \u001b[39m\"\u001b[39m\u001b[39m\\n\u001b[39;00m\u001b[39m  \u001b[39m\u001b[39m\"\u001b[39m\u001b[39m.\u001b[39mjoin(\n\u001b[1;32m    439\u001b[0m                 [\n\u001b[1;32m    440\u001b[0m                     \u001b[39m'\u001b[39m\u001b[39mat site \u001b[39m\u001b[39m\"\u001b[39m\u001b[39m{}\u001b[39;00m\u001b[39m\"\u001b[39m\u001b[39m, invalid log_prob shape\u001b[39m\u001b[39m'\u001b[39m\u001b[39m.\u001b[39mformat(site[\u001b[39m\"\u001b[39m\u001b[39mname\u001b[39m\u001b[39m\"\u001b[39m]),\n\u001b[1;32m    441\u001b[0m                     \u001b[39m\"\u001b[39m\u001b[39mExpected \u001b[39m\u001b[39m{}\u001b[39;00m\u001b[39m, actual \u001b[39m\u001b[39m{}\u001b[39;00m\u001b[39m\"\u001b[39m\u001b[39m.\u001b[39mformat(expected_shape, actual_shape),\n\u001b[1;32m    442\u001b[0m                     \u001b[39m\"\u001b[39m\u001b[39mTry one of the following fixes:\u001b[39m\u001b[39m\"\u001b[39m,\n\u001b[1;32m    443\u001b[0m                     \u001b[39m\"\u001b[39m\u001b[39m- enclose the batched tensor in a with pyro.plate(...): context\u001b[39m\u001b[39m\"\u001b[39m,\n\u001b[1;32m    444\u001b[0m                     \u001b[39m\"\u001b[39m\u001b[39m- .to_event(...) the distribution being sampled\u001b[39m\u001b[39m\"\u001b[39m,\n\u001b[1;32m    445\u001b[0m                     \u001b[39m\"\u001b[39m\u001b[39m- .permute() data dimensions\u001b[39m\u001b[39m\"\u001b[39m,\n\u001b[1;32m    446\u001b[0m                 ]\n\u001b[1;32m    447\u001b[0m             )\n\u001b[1;32m    448\u001b[0m         )\n\u001b[1;32m    450\u001b[0m \u001b[39m# Check parallel dimensions on the left of max_plate_nesting.\u001b[39;00m\n\u001b[1;32m    451\u001b[0m enum_dim \u001b[39m=\u001b[39m site[\u001b[39m\"\u001b[39m\u001b[39minfer\u001b[39m\u001b[39m\"\u001b[39m]\u001b[39m.\u001b[39mget(\u001b[39m\"\u001b[39m\u001b[39m_enumerate_dim\u001b[39m\u001b[39m\"\u001b[39m)\n",
      "\u001b[0;31mValueError\u001b[0m: at site \"obs\", invalid log_prob shape\n  Expected [8752], actual [9378, 8752]\n  Try one of the following fixes:\n  - enclose the batched tensor in a with pyro.plate(...): context\n  - .to_event(...) the distribution being sampled\n  - .permute() data dimensions"
     ]
    }
   ],
   "source": [
    "def model(docs):\n",
    "    with pyro.plate(\"beta\", docs.size()[0]):\n",
    "        \n",
    "    theta = pyro.sample('theta', dist.Dirichlet(torch.ones[1,T]))\n",
    "    with pyro.plate(\"data\", words):\n",
    "        z = pyro.sample('obs', dist.Multinomial(words, theta), obs=words)\n",
    "\n",
    "nuts_kernel = NUTS(model)\n",
    "mcmc = MCMC(nuts_kernel, num_samples=1000, warmup_steps=200)\n",
    "T = 6\n",
    "mcmc.run(docs)\n",
    "\n",
    "\n",
    "hmc_samples = {k: v.detach().cpu().numpy()\n",
    "               for k, v in mcmc.get_samples().items()}"
   ]
  },
  {
   "cell_type": "code",
   "execution_count": 88,
   "metadata": {},
   "outputs": [
    {
     "name": "stderr",
     "output_type": "stream",
     "text": [
      "/var/folders/d5/d4vbmxhd4wxdb9smqpxs6x500000gn/T/ipykernel_33179/380873803.py:11: RuntimeWarning: The training result may differ even with fixed seed if `workers` != 1.\n",
      "  hdp.train(0)\n",
      "  0%|          | 0/100 [00:00<?, ?it/s]/var/folders/d5/d4vbmxhd4wxdb9smqpxs6x500000gn/T/ipykernel_33179/380873803.py:13: RuntimeWarning: The training result may differ even with fixed seed if `workers` != 1.\n",
      "  hdp.train(100)\n",
      "  1%|          | 1/100 [00:00<01:32,  1.07it/s]"
     ]
    },
    {
     "name": "stdout",
     "output_type": "stream",
     "text": [
      "i: 0, loss: -7.525953962284248, topics: 30\n"
     ]
    },
    {
     "name": "stderr",
     "output_type": "stream",
     "text": [
      "  2%|▏         | 2/100 [00:02<01:42,  1.04s/it]"
     ]
    },
    {
     "name": "stdout",
     "output_type": "stream",
     "text": [
      "i: 100, loss: -7.492867265030906, topics: 37\n",
      "i: 200, loss: -7.491677054618174, topics: 35\n"
     ]
    },
    {
     "name": "stderr",
     "output_type": "stream",
     "text": [
      "  4%|▍         | 4/100 [00:04<01:45,  1.10s/it]"
     ]
    },
    {
     "name": "stdout",
     "output_type": "stream",
     "text": [
      "i: 300, loss: -7.493253929001053, topics: 43\n",
      "i: 400, loss: -7.492679076760149, topics: 39\n"
     ]
    },
    {
     "name": "stderr",
     "output_type": "stream",
     "text": [
      "  6%|▌         | 6/100 [00:06<01:39,  1.06s/it]"
     ]
    },
    {
     "name": "stdout",
     "output_type": "stream",
     "text": [
      "i: 500, loss: -7.490428087064546, topics: 37\n",
      "i: 600, loss: -7.492871783478086, topics: 41\n"
     ]
    },
    {
     "name": "stderr",
     "output_type": "stream",
     "text": [
      "  8%|▊         | 8/100 [00:08<01:37,  1.06s/it]"
     ]
    },
    {
     "name": "stdout",
     "output_type": "stream",
     "text": [
      "i: 700, loss: -7.492929448993541, topics: 41\n",
      "i: 800, loss: -7.493706294792736, topics: 39\n"
     ]
    },
    {
     "name": "stderr",
     "output_type": "stream",
     "text": [
      " 10%|█         | 10/100 [00:10<01:35,  1.06s/it]"
     ]
    },
    {
     "name": "stdout",
     "output_type": "stream",
     "text": [
      "i: 900, loss: -7.490780328491356, topics: 34\n",
      "i: 1000, loss: -7.491692190411254, topics: 41\n"
     ]
    },
    {
     "name": "stderr",
     "output_type": "stream",
     "text": [
      " 12%|█▏        | 12/100 [00:12<01:35,  1.09s/it]"
     ]
    },
    {
     "name": "stdout",
     "output_type": "stream",
     "text": [
      "i: 1100, loss: -7.491930656500796, topics: 39\n",
      "i: 1200, loss: -7.492027136998707, topics: 43\n"
     ]
    },
    {
     "name": "stderr",
     "output_type": "stream",
     "text": [
      " 14%|█▍        | 14/100 [00:15<01:34,  1.10s/it]"
     ]
    },
    {
     "name": "stdout",
     "output_type": "stream",
     "text": [
      "i: 1300, loss: -7.492818256517917, topics: 35\n",
      "i: 1400, loss: -7.49244842625813, topics: 42\n"
     ]
    },
    {
     "name": "stderr",
     "output_type": "stream",
     "text": [
      " 16%|█▌        | 16/100 [00:17<01:31,  1.08s/it]"
     ]
    },
    {
     "name": "stdout",
     "output_type": "stream",
     "text": [
      "i: 1500, loss: -7.492122054027163, topics: 38\n",
      "i: 1600, loss: -7.491884433711445, topics: 41\n"
     ]
    },
    {
     "name": "stderr",
     "output_type": "stream",
     "text": [
      " 18%|█▊        | 18/100 [00:19<01:27,  1.07s/it]"
     ]
    },
    {
     "name": "stdout",
     "output_type": "stream",
     "text": [
      "i: 1700, loss: -7.491717136363969, topics: 39\n",
      "i: 1800, loss: -7.492475419607722, topics: 39\n"
     ]
    },
    {
     "name": "stderr",
     "output_type": "stream",
     "text": [
      " 20%|██        | 20/100 [00:21<01:25,  1.07s/it]"
     ]
    },
    {
     "name": "stdout",
     "output_type": "stream",
     "text": [
      "i: 1900, loss: -7.493085248622854, topics: 42\n",
      "i: 2000, loss: -7.492567163363593, topics: 35\n"
     ]
    },
    {
     "name": "stderr",
     "output_type": "stream",
     "text": [
      " 22%|██▏       | 22/100 [00:23<01:22,  1.06s/it]"
     ]
    },
    {
     "name": "stdout",
     "output_type": "stream",
     "text": [
      "i: 2100, loss: -7.493015380103591, topics: 41\n",
      "i: 2200, loss: -7.490981297828952, topics: 39\n"
     ]
    },
    {
     "name": "stderr",
     "output_type": "stream",
     "text": [
      " 24%|██▍       | 24/100 [00:25<01:21,  1.08s/it]"
     ]
    },
    {
     "name": "stdout",
     "output_type": "stream",
     "text": [
      "i: 2300, loss: -7.493264894558022, topics: 47\n",
      "i: 2400, loss: -7.493789945342277, topics: 41\n"
     ]
    },
    {
     "name": "stderr",
     "output_type": "stream",
     "text": [
      " 26%|██▌       | 26/100 [00:27<01:19,  1.08s/it]"
     ]
    },
    {
     "name": "stdout",
     "output_type": "stream",
     "text": [
      "i: 2500, loss: -7.492832882446216, topics: 41\n",
      "i: 2600, loss: -7.491812449081547, topics: 42\n"
     ]
    },
    {
     "name": "stderr",
     "output_type": "stream",
     "text": [
      " 28%|██▊       | 28/100 [00:29<01:16,  1.07s/it]"
     ]
    },
    {
     "name": "stdout",
     "output_type": "stream",
     "text": [
      "i: 2700, loss: -7.491929159364586, topics: 39\n",
      "i: 2800, loss: -7.491601300415538, topics: 37\n"
     ]
    },
    {
     "name": "stderr",
     "output_type": "stream",
     "text": [
      " 30%|███       | 30/100 [00:32<01:14,  1.07s/it]"
     ]
    },
    {
     "name": "stdout",
     "output_type": "stream",
     "text": [
      "i: 2900, loss: -7.491499179111531, topics: 44\n",
      "i: 3000, loss: -7.492456993500061, topics: 43\n"
     ]
    },
    {
     "name": "stderr",
     "output_type": "stream",
     "text": [
      " 32%|███▏      | 32/100 [00:34<01:12,  1.06s/it]"
     ]
    },
    {
     "name": "stdout",
     "output_type": "stream",
     "text": [
      "i: 3100, loss: -7.49268775750569, topics: 42\n",
      "i: 3200, loss: -7.490764337580525, topics: 39\n"
     ]
    },
    {
     "name": "stderr",
     "output_type": "stream",
     "text": [
      " 34%|███▍      | 34/100 [00:36<01:09,  1.06s/it]"
     ]
    },
    {
     "name": "stdout",
     "output_type": "stream",
     "text": [
      "i: 3300, loss: -7.493704910501581, topics: 40\n",
      "i: 3400, loss: -7.491885248098635, topics: 35\n"
     ]
    },
    {
     "name": "stderr",
     "output_type": "stream",
     "text": [
      " 36%|███▌      | 36/100 [00:38<01:11,  1.12s/it]"
     ]
    },
    {
     "name": "stdout",
     "output_type": "stream",
     "text": [
      "i: 3500, loss: -7.492304096487937, topics: 37\n",
      "i: 3600, loss: -7.4920102529439605, topics: 37\n"
     ]
    },
    {
     "name": "stderr",
     "output_type": "stream",
     "text": [
      " 38%|███▊      | 38/100 [00:41<01:11,  1.16s/it]"
     ]
    },
    {
     "name": "stdout",
     "output_type": "stream",
     "text": [
      "i: 3700, loss: -7.493030642587581, topics: 39\n",
      "i: 3800, loss: -7.492303948097094, topics: 40\n"
     ]
    },
    {
     "name": "stderr",
     "output_type": "stream",
     "text": [
      " 40%|████      | 40/100 [00:43<01:14,  1.24s/it]"
     ]
    },
    {
     "name": "stdout",
     "output_type": "stream",
     "text": [
      "i: 3900, loss: -7.49170965996207, topics: 41\n",
      "i: 4000, loss: -7.492416167206316, topics: 41\n"
     ]
    },
    {
     "name": "stderr",
     "output_type": "stream",
     "text": [
      " 42%|████▏     | 42/100 [00:46<01:11,  1.23s/it]"
     ]
    },
    {
     "name": "stdout",
     "output_type": "stream",
     "text": [
      "i: 4100, loss: -7.493692554407978, topics: 47\n",
      "i: 4200, loss: -7.49242773043453, topics: 43\n"
     ]
    },
    {
     "name": "stderr",
     "output_type": "stream",
     "text": [
      " 44%|████▍     | 44/100 [00:49<01:14,  1.33s/it]"
     ]
    },
    {
     "name": "stdout",
     "output_type": "stream",
     "text": [
      "i: 4300, loss: -7.491553160053754, topics: 38\n",
      "i: 4400, loss: -7.492379255812791, topics: 38\n"
     ]
    },
    {
     "name": "stderr",
     "output_type": "stream",
     "text": [
      " 46%|████▌     | 46/100 [00:51<01:05,  1.21s/it]"
     ]
    },
    {
     "name": "stdout",
     "output_type": "stream",
     "text": [
      "i: 4500, loss: -7.492014330520813, topics: 37\n",
      "i: 4600, loss: -7.492609352683097, topics: 45\n"
     ]
    },
    {
     "name": "stderr",
     "output_type": "stream",
     "text": [
      " 48%|████▊     | 48/100 [00:53<01:02,  1.21s/it]"
     ]
    },
    {
     "name": "stdout",
     "output_type": "stream",
     "text": [
      "i: 4700, loss: -7.49230552305078, topics: 42\n",
      "i: 4800, loss: -7.492645315255102, topics: 38\n"
     ]
    },
    {
     "name": "stderr",
     "output_type": "stream",
     "text": [
      " 50%|█████     | 50/100 [00:55<00:58,  1.18s/it]"
     ]
    },
    {
     "name": "stdout",
     "output_type": "stream",
     "text": [
      "i: 4900, loss: -7.491360329122587, topics: 43\n",
      "i: 5000, loss: -7.492179967966379, topics: 44\n"
     ]
    },
    {
     "name": "stderr",
     "output_type": "stream",
     "text": [
      " 52%|█████▏    | 52/100 [00:58<00:54,  1.13s/it]"
     ]
    },
    {
     "name": "stdout",
     "output_type": "stream",
     "text": [
      "i: 5100, loss: -7.4914667514560875, topics: 38\n",
      "i: 5200, loss: -7.493469384674835, topics: 42\n"
     ]
    },
    {
     "name": "stderr",
     "output_type": "stream",
     "text": [
      " 54%|█████▍    | 54/100 [01:00<00:52,  1.13s/it]"
     ]
    },
    {
     "name": "stdout",
     "output_type": "stream",
     "text": [
      "i: 5300, loss: -7.4918697859374666, topics: 42\n",
      "i: 5400, loss: -7.492128381455339, topics: 36\n"
     ]
    },
    {
     "name": "stderr",
     "output_type": "stream",
     "text": [
      " 56%|█████▌    | 56/100 [01:02<00:48,  1.10s/it]"
     ]
    },
    {
     "name": "stdout",
     "output_type": "stream",
     "text": [
      "i: 5500, loss: -7.491700743920689, topics: 39\n",
      "i: 5600, loss: -7.494100091666161, topics: 41\n"
     ]
    },
    {
     "name": "stderr",
     "output_type": "stream",
     "text": [
      " 58%|█████▊    | 58/100 [01:04<00:45,  1.09s/it]"
     ]
    },
    {
     "name": "stdout",
     "output_type": "stream",
     "text": [
      "i: 5700, loss: -7.492084641929252, topics: 38\n",
      "i: 5800, loss: -7.4914086188981335, topics: 38\n"
     ]
    },
    {
     "name": "stderr",
     "output_type": "stream",
     "text": [
      " 60%|██████    | 60/100 [01:07<00:46,  1.17s/it]"
     ]
    },
    {
     "name": "stdout",
     "output_type": "stream",
     "text": [
      "i: 5900, loss: -7.49303910730272, topics: 41\n",
      "i: 6000, loss: -7.4920224121916315, topics: 43\n"
     ]
    },
    {
     "name": "stderr",
     "output_type": "stream",
     "text": [
      " 62%|██████▏   | 62/100 [01:09<00:43,  1.16s/it]"
     ]
    },
    {
     "name": "stdout",
     "output_type": "stream",
     "text": [
      "i: 6100, loss: -7.491775473943116, topics: 49\n",
      "i: 6200, loss: -7.491889032243257, topics: 41\n"
     ]
    },
    {
     "name": "stderr",
     "output_type": "stream",
     "text": [
      " 64%|██████▍   | 64/100 [01:12<00:44,  1.25s/it]"
     ]
    },
    {
     "name": "stdout",
     "output_type": "stream",
     "text": [
      "i: 6300, loss: -7.491532976955872, topics: 42\n",
      "i: 6400, loss: -7.491703942588135, topics: 49\n"
     ]
    },
    {
     "name": "stderr",
     "output_type": "stream",
     "text": [
      " 66%|██████▌   | 66/100 [01:14<00:40,  1.19s/it]"
     ]
    },
    {
     "name": "stdout",
     "output_type": "stream",
     "text": [
      "i: 6500, loss: -7.491837425416869, topics: 47\n",
      "i: 6600, loss: -7.492998017959352, topics: 41\n"
     ]
    },
    {
     "name": "stderr",
     "output_type": "stream",
     "text": [
      " 68%|██████▊   | 68/100 [01:16<00:36,  1.15s/it]"
     ]
    },
    {
     "name": "stdout",
     "output_type": "stream",
     "text": [
      "i: 6700, loss: -7.491592658632714, topics: 40\n",
      "i: 6800, loss: -7.493749489175455, topics: 41\n"
     ]
    },
    {
     "name": "stderr",
     "output_type": "stream",
     "text": [
      " 70%|███████   | 70/100 [01:18<00:32,  1.10s/it]"
     ]
    },
    {
     "name": "stdout",
     "output_type": "stream",
     "text": [
      "i: 6900, loss: -7.49249687451067, topics: 39\n",
      "i: 7000, loss: -7.4920929562724865, topics: 40\n"
     ]
    },
    {
     "name": "stderr",
     "output_type": "stream",
     "text": [
      " 72%|███████▏  | 72/100 [01:21<00:30,  1.10s/it]"
     ]
    },
    {
     "name": "stdout",
     "output_type": "stream",
     "text": [
      "i: 7100, loss: -7.492293309801581, topics: 42\n",
      "i: 7200, loss: -7.492792314549025, topics: 45\n"
     ]
    },
    {
     "name": "stderr",
     "output_type": "stream",
     "text": [
      " 74%|███████▍  | 74/100 [01:23<00:31,  1.19s/it]"
     ]
    },
    {
     "name": "stdout",
     "output_type": "stream",
     "text": [
      "i: 7300, loss: -7.491875497905311, topics: 42\n",
      "i: 7400, loss: -7.492039676332599, topics: 41\n"
     ]
    },
    {
     "name": "stderr",
     "output_type": "stream",
     "text": [
      " 76%|███████▌  | 76/100 [01:25<00:28,  1.19s/it]"
     ]
    },
    {
     "name": "stdout",
     "output_type": "stream",
     "text": [
      "i: 7500, loss: -7.491705168153989, topics: 42\n",
      "i: 7600, loss: -7.493025444093076, topics: 51\n"
     ]
    },
    {
     "name": "stderr",
     "output_type": "stream",
     "text": [
      " 78%|███████▊  | 78/100 [01:28<00:26,  1.21s/it]"
     ]
    },
    {
     "name": "stdout",
     "output_type": "stream",
     "text": [
      "i: 7700, loss: -7.492069910588936, topics: 43\n",
      "i: 7800, loss: -7.493175919932357, topics: 40\n"
     ]
    },
    {
     "name": "stderr",
     "output_type": "stream",
     "text": [
      " 80%|████████  | 80/100 [01:30<00:24,  1.23s/it]"
     ]
    },
    {
     "name": "stdout",
     "output_type": "stream",
     "text": [
      "i: 7900, loss: -7.490941028837557, topics: 42\n",
      "i: 8000, loss: -7.491391312199385, topics: 38\n"
     ]
    },
    {
     "name": "stderr",
     "output_type": "stream",
     "text": [
      " 82%|████████▏ | 82/100 [01:33<00:21,  1.18s/it]"
     ]
    },
    {
     "name": "stdout",
     "output_type": "stream",
     "text": [
      "i: 8100, loss: -7.494070462578882, topics: 41\n",
      "i: 8200, loss: -7.491413664723885, topics: 38\n"
     ]
    },
    {
     "name": "stderr",
     "output_type": "stream",
     "text": [
      " 84%|████████▍ | 84/100 [01:35<00:18,  1.14s/it]"
     ]
    },
    {
     "name": "stdout",
     "output_type": "stream",
     "text": [
      "i: 8300, loss: -7.492771986855089, topics: 49\n"
     ]
    },
    {
     "name": "stderr",
     "output_type": "stream",
     "text": [
      " 85%|████████▌ | 85/100 [01:36<00:17,  1.14s/it]"
     ]
    },
    {
     "name": "stdout",
     "output_type": "stream",
     "text": [
      "i: 8400, loss: -7.492686436144344, topics: 42\n",
      "i: 8500, loss: -7.492257032299836, topics: 41\n"
     ]
    },
    {
     "name": "stderr",
     "output_type": "stream",
     "text": [
      " 87%|████████▋ | 87/100 [01:38<00:14,  1.13s/it]"
     ]
    },
    {
     "name": "stdout",
     "output_type": "stream",
     "text": [
      "i: 8600, loss: -7.49144217661543, topics: 44\n"
     ]
    },
    {
     "name": "stderr",
     "output_type": "stream",
     "text": [
      " 88%|████████▊ | 88/100 [01:39<00:13,  1.11s/it]"
     ]
    },
    {
     "name": "stdout",
     "output_type": "stream",
     "text": [
      "i: 8700, loss: -7.491310659860101, topics: 40\n",
      "i: 8800, loss: -7.492378288181962, topics: 45\n"
     ]
    },
    {
     "name": "stderr",
     "output_type": "stream",
     "text": [
      " 90%|█████████ | 90/100 [01:42<00:10,  1.09s/it]"
     ]
    },
    {
     "name": "stdout",
     "output_type": "stream",
     "text": [
      "i: 8900, loss: -7.49233732368069, topics: 43\n",
      "i: 9000, loss: -7.490623997586121, topics: 38\n"
     ]
    },
    {
     "name": "stderr",
     "output_type": "stream",
     "text": [
      " 92%|█████████▏| 92/100 [01:44<00:08,  1.10s/it]"
     ]
    },
    {
     "name": "stdout",
     "output_type": "stream",
     "text": [
      "i: 9100, loss: -7.492695668305722, topics: 46\n",
      "i: 9200, loss: -7.491602287214642, topics: 47\n"
     ]
    },
    {
     "name": "stderr",
     "output_type": "stream",
     "text": [
      " 94%|█████████▍| 94/100 [01:46<00:06,  1.08s/it]"
     ]
    },
    {
     "name": "stdout",
     "output_type": "stream",
     "text": [
      "i: 9300, loss: -7.4913266687894335, topics: 43\n",
      "i: 9400, loss: -7.49321757449963, topics: 45\n"
     ]
    },
    {
     "name": "stderr",
     "output_type": "stream",
     "text": [
      " 96%|█████████▌| 96/100 [01:48<00:04,  1.08s/it]"
     ]
    },
    {
     "name": "stdout",
     "output_type": "stream",
     "text": [
      "i: 9500, loss: -7.4911289578750715, topics: 39\n",
      "i: 9600, loss: -7.4934579299247, topics: 40\n"
     ]
    },
    {
     "name": "stderr",
     "output_type": "stream",
     "text": [
      " 98%|█████████▊| 98/100 [01:50<00:02,  1.07s/it]"
     ]
    },
    {
     "name": "stdout",
     "output_type": "stream",
     "text": [
      "i: 9700, loss: -7.492128250524307, topics: 41\n",
      "i: 9800, loss: -7.492120991189224, topics: 48\n"
     ]
    },
    {
     "name": "stderr",
     "output_type": "stream",
     "text": [
      "100%|██████████| 100/100 [01:52<00:00,  1.13s/it]"
     ]
    },
    {
     "name": "stdout",
     "output_type": "stream",
     "text": [
      "i: 9900, loss: -7.491884777021136, topics: 41\n"
     ]
    },
    {
     "name": "stderr",
     "output_type": "stream",
     "text": [
      "\n"
     ]
    }
   ],
   "source": [
    "import tomotopy as tp\n",
    "\n",
    "term_weight = tp.TermWeight.ONE\n",
    "\n",
    "hdp = tp.HDPModel(tw=term_weight, min_cf=5, rm_top=8, gamma=1, alpha=0.1, initial_k = 4, seed=0)\n",
    "\n",
    "for doc in list(df_concat):\n",
    "    hdp.add_doc(doc.split())\n",
    "\n",
    "hdp.burn_in = 100\n",
    "hdp.train(0)\n",
    "for i in tqdm(range(0, 10000, 100)):\n",
    "    hdp.train(100)\n",
    "    print(f'i: {i}, loss: {hdp.ll_per_word}, topics: {hdp.live_k}')\n",
    "    n_topics = hdp.live_k"
   ]
  },
  {
   "cell_type": "code",
   "execution_count": 28,
   "metadata": {},
   "outputs": [
    {
     "data": {
      "text/plain": [
       "['go feeling hopeless damned hopeful around someone care awake',\n",
       " 'grabbing minute post feel greedy wrong',\n",
       " 'ever feeling nostalgic fireplace know still property',\n",
       " 'ive feeling little burdened lately wasnt sure',\n",
       " 'ive taking milligram time recommended amount ive fallen asleep lot faster also feel like funny',\n",
       " 'feel confused life teenager jaded year old man',\n",
       " 'petronas year feel petronas performed well made huge profit',\n",
       " 'feel like make suffering seeing mean something',\n",
       " 'feel running divine experience expect type spiritual encounter',\n",
       " 'think easiest time year feel dissatisfied',\n",
       " 'started feeling sentimental doll child began collection vintage barbie doll sixty',\n",
       " 'feel compromised skeptical value every unit work put',\n",
       " 'feel irritated rejected without anyone anything saying anything',\n",
       " 'feeling completely overwhelmed two strategy help feel grounded pour heart journal form letter god end list five thing grateful',\n",
       " 'able help chai lifeline support encouragement great feeling glad able help',\n",
       " 'already feel like fucked though dont usually eat morning',\n",
       " 'feel inhibited someone el kitchen like painting someone el picture',\n",
       " 'feel kinda appalled feel like need explain wide lenghth body measure etc pp',\n",
       " 'feel superior dead chicken grieving child',\n",
       " 'get giddy feeling elegant perfectly fitted pencil skirt',\n",
       " 'remember feeling acutely distressed day',\n",
       " 'seen heard read past couple day left feeling impressed company',\n",
       " 'climbed hill feeling frustrated id pretty much paced entirely wrong course factor never ever hampered made dent day',\n",
       " 'sure would make feel content anything',\n",
       " 'however want know something someone causing feel le splendid self step away',\n",
       " 'feel bit rude writing elderly gentleman ask gift feel bit greedy christmas mild greed',\n",
       " 'need need someone need protected feel safe small find season word',\n",
       " 'plan share everyday life story traveling adventure inspiration handmade creation hope also feel inspired',\n",
       " 'already christmas tree got two feeling festive sure spurring get started book',\n",
       " 'ive worn little concealer day feeling brave dont want pale perfect',\n",
       " 'feel strongly passionate jerk decides poke make fun u',\n",
       " 'feeling discouraged already robbing peter pay paul get cow year cant afford get cow way',\n",
       " 'feeling listless need new thing something different',\n",
       " 'let go sad feeling want accepted first home mine',\n",
       " 'stopped feeling cold began feeling hot',\n",
       " 'need feel dough make sure perfect',\n",
       " 'found feeling little discouraged morning',\n",
       " 'stymied little bit wrote feeling unsure might go somewhere story unintended',\n",
       " 'feel know basically like fake realm science fiction',\n",
       " 'hate living dad roof give excuse asshole he providing live think feel need make feel unwelcome possible ill leave',\n",
       " 'keep feeling pleasantly surprised supportiveness also ease new situation',\n",
       " 'feeling anymore vigorous sexual activity coming yes misspelt cumming day part begin fall',\n",
       " 'feel mom graceful warm loving smile rob time nurture heal',\n",
       " 'feel talk brother law extremely popular one think stiff',\n",
       " 'ate could feel gentle tingle throughout almost feeling healing taking place cellular level',\n",
       " 'feel like pressured young beautiful thin depending trend girl rejuvenated butt implant',\n",
       " 'began several time week feeling tortured hallucination moving people figure sound vibration',\n",
       " 'nearly finished week detox feel amazing',\n",
       " 'feel selfish read back former post never asked prayer others never considered may others deserve prayer answered',\n",
       " 'know pain parent feel enraged child becomes violent',\n",
       " 'roller coaster emotion supposed feeling something unpleasant coming',\n",
       " 'suppose truth need shared havent feeling faithful lately ive dwelled doubt uncertainty faith',\n",
       " 'feeling brave bought clearly makeup',\n",
       " 'feeling miserable c also proudest mum earth',\n",
       " 'figure family love u matter around anyone else feel embarrassed michelle go ballistic',\n",
       " 'necessarily think f bomb sex necessary story feel reassured see print journal',\n",
       " 'feel ovary aching talking like put',\n",
       " 'feel like much chris mostly took many picture unimportant stuff',\n",
       " 'tired book ready finding given unsuitable image feeling blamed result sit well',\n",
       " 'successfully manage stretch mxm canvas feel achievement worthwhile usage money time use canvas future brief',\n",
       " 'think feeling one nay important thing',\n",
       " 'feel completely honored influence young talented fully alive beautiful girl woman',\n",
       " 'feel like miserable piece garbage',\n",
       " 'feel like need make list leanne would appalled thought dont miss anything',\n",
       " 'drove dannika school feeling little bit rushed greeted turned corner',\n",
       " 'remember feeling hellip furious shooter',\n",
       " 'feel happy excited since learned many thing',\n",
       " 'feel show around show horse people trusting relaxed show horse safe quiet handled frequently',\n",
       " 'couple thing left make start december done feeling smug',\n",
       " 'think u could make feel realize everything ok',\n",
       " 'feel worthless time struggling finding work',\n",
       " 'able lay bed dark feel terrified least',\n",
       " 'ready meet mom airport feel ever supportive arm around',\n",
       " 'feeling bitter today mood strange entire day guess',\n",
       " 'mum brother passed away involved car accident bringing present passed form five exam flying colour',\n",
       " 'letting go animosity towards anyone feel wronged',\n",
       " 'talk dog feel cannot understand word read emotion know supportive decided go home',\n",
       " 'feel like throwing away shitty piece shit paper',\n",
       " 'starting feel wryly amused banal comedy error life turning',\n",
       " 'find every body beautiful want people feel vital body',\n",
       " 'hear owner feel victimized association association attorney property manager',\n",
       " 'wont let child cry feel loving lily little going opportunity lasted short month',\n",
       " 'feel excited feel like ton catching',\n",
       " 'also know good feel look back see honored word help start',\n",
       " 'feel like thing getting little overwhelming spritz toner really help calm soothe',\n",
       " 'feeling festive today even going put tree soon finished catching week going ons coronation street',\n",
       " 'alright class combination feeling unsuccessful man handled stress late horrible week resulted almost cry finished grappling',\n",
       " 'feel rarely advance worthwhile cause always stick rule posting anything online wouldnt prepared say somebody face',\n",
       " 'feel like pain cannot imagine becoming passionate group idea causing pain',\n",
       " 'feeling homesick yet feeling alright',\n",
       " 'workout every morning feel fabulous',\n",
       " 'feel eye touch word eye know assuredly return love know shall vain',\n",
       " 'feeling fabulous friday morning started get awful cramp work',\n",
       " 'feel honoured able call friend share brotherhood',\n",
       " 'begun feel apprehensive thick black rain cloud stormed sky town',\n",
       " 'stated reason feel fearful feel unsafe',\n",
       " 'feel like getting shaken tsa quite yet pulled side creative croissant lunch',\n",
       " 'get group feel really awkward overcompensate talkative getting really quiet',\n",
       " 'excited finally meet companion companion time especially lonely lonely companion never disappoint companion put arm around make feel loved',\n",
       " 'feel pretty safe blog img src http',\n",
       " 'feel pretty eager get done fun plan quilting',\n",
       " 'feeling horny ask let go home',\n",
       " 'think poem put pressure feel uncomfortable sense feeling feel understanding understand loving able love',\n",
       " 'feel stranger strange land raising son place father ancestral home',\n",
       " 'left shower questioning feel gorgeous fantastic body confident movement effortlessly graceful',\n",
       " 'feel energetic bouncy happy go gym run around outside kid take pram long walk often three one day',\n",
       " 'burst tear devastating release feeling thought seemed know rich also go space without dumping',\n",
       " 'wanted get pumpkin spice latte morning hot last thing wanted hot coffee maybe feeling little bitter',\n",
       " 'suppose feel badly bit skeptical pain last month shes hyperchondria exaggeration habit past though never openly questioned',\n",
       " 'clench corner bed feel assured',\n",
       " 'also feel like selfish grateful life amazing thing',\n",
       " 'called god seen god book figured god right name feeling utterly affirmed accepted without question',\n",
       " 'know perhaps girl office nice short hair perhaps feeling rebellious',\n",
       " 'feel miserable family type celebrates eid',\n",
       " 'might go get car wash feeling really generous car need',\n",
       " 'still feel sleep deprived almost sleeping night giving u',\n",
       " 'bloging sitting feeling content dog amp cat etc know lucky truth',\n",
       " 'started feeling funny friday woke sick dog',\n",
       " 'feel need protect parent witch hunt repressed memory therapy',\n",
       " 'feel disgusted even associated woman race nationality',\n",
       " 'laughed bitterly wasnt feeling bitter',\n",
       " 'know feeling thought wished could u u knew however much hated first experience would remember forever',\n",
       " 'feeling quite mellow wanted soft easy look wear beginning cold',\n",
       " 'told maybe need time think ive feeling indecisive thing lately',\n",
       " 'still feel genre disservice story resolved artifically',\n",
       " 'remember feeling really terrified brazil bus going steep mountain hill side mountain middle big storm wondering going fall',\n",
       " 'could feel whimper thought unloved uncared',\n",
       " 'certainly going sit tell whats going personal life feel ever curious whats going life youd watch show',\n",
       " 'sorry wasnt humor post feeling funny',\n",
       " 'feel ive got foot door fantastic world walking running trail fell mountain',\n",
       " 'say whatever come mind tell directly feel jealous girl insecure love person trust worthy friend sweet one love',\n",
       " 'feel strange coming back work one day holiday',\n",
       " 'clearly influenced dash happiness emily dickinson example use dash instead colon semi colon enhance feeling rushed enjambment sonnet',\n",
       " 'could claim redeem genre leave feeling entirely frustrated point beating head wall either',\n",
       " 'getting feeling class little intimidated concept lit',\n",
       " 'still feel groggy get routine son',\n",
       " 'feeling view isnt going popular thats fine',\n",
       " 'want hold feeling shocked awe wonder forever',\n",
       " 'heard rumour st year exam result fear might one failure',\n",
       " 'want feel valued appreciated know people love arent going anywhere even nature relationship change',\n",
       " 'use regularly relaxing music always feel invigorated afterward',\n",
       " 'feeling distracted tend practice eye shut much possible',\n",
       " 'feel like perfect w see youtube influence even know trend',\n",
       " 'specifically wanted tango feeling shy mak quite opposite hard get far enough away get good pic lol',\n",
       " 'also feel weird sleeping bed two slept',\n",
       " 'wish okay thinking earlier today here thing cooped amp restless made feel needy',\n",
       " 'ive lost weight could fit tiny skirt ive unable wear didnt feel confident',\n",
       " 'hope feel bit creative soon miss presence life blog',\n",
       " 'fan current president conservative made feel unwelcome',\n",
       " 'enclose verse could weigh much thinking feeling curious hear odd couple',\n",
       " 'remember feeling inspired thinking fine example parenting',\n",
       " 'feel like always one getting punished stupid thing feel like chastised behaving',\n",
       " 'really feel life perfect right isnt much ask hope everything would stay',\n",
       " 'saying cut everyone life feel important find comfort solitude meditation working project alone',\n",
       " 'feeling act god work life amazing feeling',\n",
       " 'feel like bird flying air carefree manner',\n",
       " 'revise reply mind make sure reply sound appropriate enough person receive reply feel offended',\n",
       " 'felt sad friend mine died felt something irrevocably gone away',\n",
       " 'died would alex matt feel regretful coming visit',\n",
       " 'feel educating family supporting educationg mama papa key',\n",
       " 'sure lost feel like everyone hostile toward hate feeling',\n",
       " 'feel like boring sewing make since easy nothing else say fabric usage',\n",
       " 'always liked use original fragrance freshen lightly scent underwear drawer feel gorgeously glamorous girly',\n",
       " 'feel like talented young man feel talented work',\n",
       " 'feel reason apart others life help become something push succeed successful happy',\n",
       " 'feel pretty mellow far whatever healing wounding process may getting underway',\n",
       " 'wonder sometimes whether added antagonism misunderstanding many people towards u feel reluctant wholeheartedly support traditional armistice day remembrance',\n",
       " 'leg would feel shitty mile would come around like always',\n",
       " 'know unfair reaction run way explain feel shaken best come right',\n",
       " 'seriously feel blessed support home amazing',\n",
       " 'feel abused maligned mostly tired nervous feeling anticipating danger',\n",
       " 'feeling pretty restless right typing',\n",
       " 'admit hilarious e card seriously exactly feel stressed feel moment could start hy',\n",
       " 'wrote last year feeling dull inarticulate normal',\n",
       " 'id kick gear feel irritable motivation ever',\n",
       " 'feel child innocent feeling illustrating',\n",
       " 'satisfaction feeling longer supporting contributing looter driven consumerism made walking corpse america revered younger',\n",
       " 'spend vacation obligation headache feeling like emotional blackmailed three place',\n",
       " 'feel herpes coming would surprised point make checkup clinic wednesday',\n",
       " 'feel fucked like everyday life',\n",
       " 'ive worked really hard year try make child class feel like valued',\n",
       " 'feel like bitchy time upon retrospect think trying shake',\n",
       " 'still second guess still terrible time making definitive decision certain truth know feel assured truth',\n",
       " 'feel like egg benedict something equally delicious',\n",
       " 'feeling inspired summery element favorite past time beach bummin',\n",
       " 'feel smiled love even gorgeous',\n",
       " 'make arcade simple purpose try make feel absolutely comfortable physically emotionally practically absolutely',\n",
       " 'feeling eager hopped tube ride eye london',\n",
       " 'go online see friend talking another one talking feel ignored feel unloved',\n",
       " 'monitoring say anything ever come across blog feel offended please dont stop',\n",
       " 'feel like weird cancer one time',\n",
       " 'want feel safe well maybe maybe there small chance feel joy dream come true',\n",
       " 'also think puzzling particular administrator singled praise ability get student read feel ssr time productive use class time',\n",
       " 'tried fill befriending people knew using didnt care needed feel accepted even complete loser',\n",
       " 'remember feeling another cramp also ignored',\n",
       " 'hope feel mellow well fed well slept peace within external world',\n",
       " 'also learned take lot effort positive thinking break tear feeling exhausted guilty better mom',\n",
       " 'feeling awful hung friend new baby day',\n",
       " 'feel suffering really feel pain',\n",
       " 'go sleep feel giving precious time something else life',\n",
       " 'feel like neglecting beloved mom blog',\n",
       " 'shalt say co din feel thing wrote hw keen xxx',\n",
       " 'feel terrified like edge precipice staring ahead',\n",
       " 'feel totally listless exam come gone whole five month front uni free time',\n",
       " 'feel furious right life advocate tell live die lobbying supporting politician sympathic view',\n",
       " 'still paying attention feel distracted',\n",
       " 'started third block feeling hot cold tingly time knowing still five hour examination ahead idea would good',\n",
       " 'hesitant make suggestion feel outcome would sincere',\n",
       " 'feel terribly fond majority precise time',\n",
       " 'feel gaining control damaged good aspect personal security',\n",
       " 'bombed first interview left second interview feeling pretty fan freaking tastic',\n",
       " 'feel advise dad whose child soon become teenager cool pull kid high school pick smelly jalopy plant coming window',\n",
       " 'would feel lucky call material kit site mine beautifully curated',\n",
       " 'blood proved reason feeling lethargic rubbish low iron prescribed iron tablet',\n",
       " 'mind feel like mind dangerous life',\n",
       " 'feel like love everyone least compassionate toward others',\n",
       " 'feel like doesnt capture beauty lovely polish',\n",
       " 'feel like lost main root feel le secure emotionally financially socially',\n",
       " 'feel like bite bullet every time think feel stressed fully supported decision',\n",
       " 'id terrible nightmare feeling little disturbed',\n",
       " 'didnt want walk passed case customer feel disturbed',\n",
       " 'want sufferer able find hope battle help feel alone',\n",
       " 'feeling exceptionally reluctant go school tomorrow even though monday timetable pretty good',\n",
       " 'festive feel delicious wheeeeee great night',\n",
       " 'looking forward beaten feeling like disappointment husband emotional pain',\n",
       " 'feel like almost convinced going pattern',\n",
       " 'also wear wearing dress make feel slutty feel like antique underwear obviously little bit edgy maybe little bit little bit',\n",
       " 'feel perverse pride self control managed stay ordered reach tempting human flesh close u',\n",
       " 'feel impatient easily annoyed outraged blatant defiance seems olivias prominent characteristic day',\n",
       " 'positively giddy kid left morning last official class year feeling little sad',\n",
       " 'feel supportive also cant help feel jealous',\n",
       " 'mainly like text feel like much clever written word rather spoken',\n",
       " 'seriouly feel respected dont privacy ordered around',\n",
       " 'guess would feel like joseph walt trusting care mother finance six month died time want defend self god make quiet',\n",
       " 'warming starting feeling little lethargic',\n",
       " 'feel excelent sometimes there nothing especially since really keen video game anymore watch bit anime movie there got life',\n",
       " 'wonder master feeling r wanting eager please master could much enjoy attention wrong desire return affection',\n",
       " 'feeling rather sentimental right say feel lucky max mom',\n",
       " 'make show feel isolated crowd ill know wrong anti social feeling',\n",
       " 'ive learned turn emotion often find feeling completely blank mother cry continuously suicidalness',\n",
       " 'understand may feel youd rather bit vulnerable homeless london precise way',\n",
       " 'finally stop feeling listless like waste space',\n",
       " 'know feeling agitated side effect high dose',\n",
       " 'always spend money mean feel dissatisfied exit store',\n",
       " 'feel kerry didnt supporting civil union gay equality',\n",
       " 'finally left feeling judged ridiculed intelligent',\n",
       " 'starting feel bit insulted stranger',\n",
       " 'many day feel hopeless today light end yellow brick road shining little brighter',\n",
       " 'see woman wearing boot feel envious want curse',\n",
       " 'feel feel tell together apologize make keep loving bit bit',\n",
       " 'go say feeling impressed youre naomi klein right',\n",
       " 'began feel sens dull cold black unconsciousness came',\n",
       " 'suspect feel le fond private',\n",
       " 'honoured young woman felt comfortable enough ask kind faux hawk thing going back must looked dykey enough feel safe talking',\n",
       " 'wonder cast caveman told perfect part feel insulted complimented',\n",
       " 'feel convinced plus many diverse price tag feel sure everyone come fund plot lighted relatively economically',\n",
       " 'stopped feeling exhausted href http provokingbeauty',\n",
       " 'hand bead consciously breathing consciously working feel calm list thing accomplish afternoon',\n",
       " 'always feel intimidated people especially always compare people ever since young',\n",
       " 'started feeling hostile checking hemorrhoid',\n",
       " 'love wearing new shoe feel glamourous get pair designer shoe love box trimming come',\n",
       " 'know largely fact feeling romantic sexual successfully hidden',\n",
       " 'love feeling something warmly hugging feeling precious small precious someone something',\n",
       " 'became dismayed studied people wearing started feeling like though outfit gorgeous bought way',\n",
       " 'dont want wax draw anything need unibrow maybe get rid spare hair creeping toward eyelid feeling brave',\n",
       " 'feeling lucky width li style border px list style outside margin px px',\n",
       " 'recall high school feeling longing watched olympic runner feel st',\n",
       " 'woke feeling confident watched bodypump dvd gather coaching tip compulsory cue',\n",
       " 'didnt say strong feeling always make skeptical first',\n",
       " 'want talk limited time phone current arrangment feel hesitant bring',\n",
       " 'beginning feel there good chance might pas',\n",
       " 'feel like little control help sweet pea better know ahead',\n",
       " 'feel like receiving end violent attack',\n",
       " 'feel worthwhile document people familiar batch file',\n",
       " 'feeling especially thankful many small blessing life right',\n",
       " 'hoping weatherman right forecast stay home dont venture rain tomorrow feeling kind creative',\n",
       " 'feel like edge microcosm one awkward moment missed party id outside',\n",
       " 'learnt nothing else last two year best feel way trusting instinct',\n",
       " 'feeling also blossoming eager anxiety',\n",
       " 'always want nemo side sleeping without feel weird even though doesnt happen often get',\n",
       " 'feel session useful gave tool need move forward life',\n",
       " 'feel selfish bringing loneliness child know parent newtown grieving lost baby',\n",
       " 'took away disappointed feeling paining gave heart heal lord one love never betrayed never lose loyalty even loyal',\n",
       " 'could feel frantic need need make',\n",
       " 'feeling overwhelmed responsibility teacher someone trusting precious gift honor',\n",
       " 'feel frustrated new music new lyric clearly nothing',\n",
       " 'thought going talk try work thing shocked find steve decided wanted thing broke feeling unloved',\n",
       " 'wouldnt beared witness incredibly well spoken bouncer making emo kid feel completely unwelcome',\n",
       " 'tend stop breathing feeling stressed',\n",
       " 'smoker year quit week ago right finished book cant believe free feel knew quit terrified life without cigarette',\n",
       " 'feel like insecurity good thing first started writing pictured',\n",
       " 'crave fall submission feel submissive least',\n",
       " 'feel irritated pissed even like someone wake moment edge falling deep slumber',\n",
       " 'made work feeling little groggy',\n",
       " 'want love feel like sort hindrance thats keeping loving',\n",
       " 'feel fond ok second thought really sensitive spelled everything',\n",
       " 'ill get round quarter feeling hopeful one',\n",
       " 'starting feel unwelcome life people already tell',\n",
       " 'feel absolutely fantastic hope baby',\n",
       " 'watched snow fall accumulate conifer tree shoveling shirt sleeve feeling vigorous',\n",
       " 'love feel passionate living dream gotten taste feel like nothing stop',\n",
       " 'play rain squeal glee feeling mud squishing toe enjoy pretty much anything take place outdoors',\n",
       " 'feeling humorous put cold caller hold',\n",
       " 'busy stuff never blog thread make feel miserable',\n",
       " 'feel energized curious life god potential give something back society finding someone heart',\n",
       " 'feel privileged also lot work',\n",
       " 'pretty happy little nauseated side feel thrilled',\n",
       " 'close eye hear pitiful wailing sound cry taste salty taste tear feel anger hurt saturating heart',\n",
       " 'sure folk virginia florida handful swing state agree feel put upon insulted constant barrage',\n",
       " 'feel like putting innocent man death row',\n",
       " 'sure else help feel smart',\n",
       " 'begin feel every waking moment devoted work',\n",
       " 'feel longing sadness see family child',\n",
       " 'feel distinctly called clermont focus little one seem naughty',\n",
       " 'hope feel glad gave many thing including memory cherish',\n",
       " 'feel project clever useful enough figured would start sharing instructables wrote first one weekend',\n",
       " 'continued think along line probably would done dish anger got wed fight feeling completely abused',\n",
       " 'didnt feel especially nervous finland landed paris little unsure would ahead u thought st grade student janne suominen',\n",
       " 'feel envious kid certain moment',\n",
       " 'feeling like pretty crappy mom',\n",
       " 'feeling pissed aac feeling kind miserable frustrated life whole week',\n",
       " 'scared anymore fine feel terrific surgery',\n",
       " 'feel caring person attract caring people life',\n",
       " 'left feeling quite embarrassed say nothing new',\n",
       " 'feel unwelcome place buti cant decide scared anything ok situation staying dead end situation afraid thing get worse',\n",
       " 'may may cried thanking making child feel special loved',\n",
       " 'really want go buy yardage art gallery play feel amazing',\n",
       " 'feel like shes losing sense self adapt think loyal',\n",
       " 'feel burdened several loved one miss big kid havent seen since friday',\n",
       " 'feel still really low abdomen',\n",
       " 'feel like welcomed tight knit family make sure feel alone ever',\n",
       " 'usually use smaller lego however year student fine motor delay want student feel successful',\n",
       " 'get exercise feel like something worthwhile meantime',\n",
       " 'feel like life rich fulfilling know people look way live feel misplaced pity',\n",
       " 'feel blessed amazed yes excited',\n",
       " 'try get least minute day five day week though known skip workout feeling particularly lethargic lazy',\n",
       " 'feeling beaten sick utterly devoid hope ever life want',\n",
       " 'feel hesitant comment want add pileon seems clear involved learned past experience interested applying learning future project',\n",
       " 'feel quite passionate communion tremendous importance personally theologically',\n",
       " 'got feeling brig sincere strong desire help others become successful financially also building strengthening relationship christianity',\n",
       " 'feel like ive fake feeling lot often would liked',\n",
       " 'feeling energetic decided going bike rest temple',\n",
       " 'happpy get good result field academic athletics',\n",
       " 'dont know want work always something make feel stressed anxious work whatever job may job require sort rule pressure',\n",
       " 'id pop chair feeling like something worthwhile',\n",
       " 'really hoping theyd get far enough ahead u could feel like navigating delighted punching second control headed onto trail wood',\n",
       " 'feel like normally would angry thats actually think could never beautiful size',\n",
       " 'wonder many people feel like perspective think sake without wanting turn result crappy work',\n",
       " 'feel indecisive whether feel book huckleberry finn censored',\n",
       " 'known like kamiki kun laugh nozomi feel unpleasant knot stomach must think fool nonchan',\n",
       " 'made choice start recognizing feeling unloved kick choose keep persistence level allowing old reaction shut',\n",
       " 'feel like hated celebrated cant wait till day say made',\n",
       " 'still feel funny writing like maybe call spirit guide really observant cheerleader something',\n",
       " 'would rather feel nothing feel surprised find life depressing grey unrewarding',\n",
       " 'get really sweaty episode stomach feel really funny like free falling',\n",
       " 'learnt much wonderful world beaubronz feel lovely tanning brand fit perfectly latest mantra stolen boudoir lash mother asma docrat',\n",
       " 'feel rebellious particularly like watching romcoms get feeling may pretty good writing',\n",
       " 'didnt feel welcomed first entered morris quickly changed left feeling happy',\n",
       " 'feel like care bit heartless',\n",
       " 'hate chemo thought toxin washing every single cell making feel horrible make cringe',\n",
       " 'feel honoured hosted series talented',\n",
       " 'love feel threatened around little',\n",
       " 'feel reading allthingsbucks blog brought tear eye lump throat feeling worthwhile thing upset shouldnt write lame blog',\n",
       " 'feeling determined didnt take long start nomming naughty stuff',\n",
       " 'feel honored many wonderful artist display work public see',\n",
       " 'remember fully stressed fun feel could lively',\n",
       " 'feel dazed href http twitter',\n",
       " 'always feel like ive assaulted pic',\n",
       " 'thankful everything seems working wrap week new job also feeling pretty lucky people life',\n",
       " 'feel selfish talk anyone else thyroid want think dramatic whiny really hard understand yes someone look fine still feel terrible',\n",
       " 'admit worried feeling isolated work cubicle pretty much unless someone need',\n",
       " 'feeling like life fairly sweet',\n",
       " 'going clean slate unilaterally forgiving feel wronged someone love intentionally carelessness thereby time forget perceived insult abuse',\n",
       " 'feel like year teach get passionate job find love kid want try even harder',\n",
       " 'one people bury feeling anger second giving sweet smile even pain anger',\n",
       " 'knew holy spirit work plus feel divine gooooood way like massage reassuring',\n",
       " 'feel though ive reached point career highly respected',\n",
       " 'make light sometimes feel really awkward small group one one conversation',\n",
       " 'ive lot good day feel fabulous lot energy lately ive also bad day feel gigantic slow clumsy',\n",
       " 'also feel like google hated seo know',\n",
       " 'didnt get wink sleep night continued feeling fabulous next morning',\n",
       " 'feel like feel mistake time fucked sleep take',\n",
       " 'love sliding nice big throbbing cock feeling gorgeous body man',\n",
       " 'found novel position feeling bit uncertain stock market rally',\n",
       " 'feel like judging want seem like needy girl know',\n",
       " 'still feel little dazed sort disbelieving feeling oh god',\n",
       " 'feeling super excited week seem flying getting closer closer due date',\n",
       " 'turned page feel like way getting back irresponcible year carefree college',\n",
       " 'favourite choice book dvd u uk feeling generous limit something like',\n",
       " 'feeling energetic alive happier long time',\n",
       " 'feel world class player benzema mould would fantastic',\n",
       " 'feeling terribly burdened impending anxiety trying keep eye prize',\n",
       " 'feel could unpleasant layered love healing forgiveness expectation thing turn well',\n",
       " 'feeling gloomy completed nothing though supposed complete many thing',\n",
       " 'working amount would like feel like lifestyle change successful far',\n",
       " 'love porn industry feel satisfied fulfilled working say really bring big buck',\n",
       " 'overhear victory tune geek ringtone feel triumphant',\n",
       " 'love child literature author feel need dumb thing kid',\n",
       " 'soo quiet mixture sleeping well feeling bit isolated big group',\n",
       " 'feel greedy money hungry absolutely',\n",
       " 'feel passionate certain topic love backing position actual knowledge fact instead relying solely opinion',\n",
       " 'feel like today way suffering exam day open book everytime went home',\n",
       " 'woke morning hike feeling jubilant',\n",
       " 'feel like little kid whose mom proud touched soccer ball game',\n",
       " 'feel miserable inside outside like',\n",
       " 'must find way accept limitation older without feeling held back resentful',\n",
       " 'feel incredibly charmed people life exciting amazing chapter thing',\n",
       " 'feel wronged judge people make time however also found actually life need responsible action people around u',\n",
       " 'know feeling stem part accepted mainstream importantly community seek belongingness',\n",
       " 'really like special edition really feel special song',\n",
       " 'feel must blog constantly loyal fan baker thia sandwich scruncher course mini rex',\n",
       " 'currently feeling way fucked mother tongue paper',\n",
       " 'feel like sweet carby yet low glycemic meal breakfast often dessert',\n",
       " 'feel opportunity return moz god gracious gracious way giving heat desire despite self doubt uncertainty past',\n",
       " 'feel really lucky found resource always felt answer needed asking',\n",
       " 'keep running hill fitness wise feel fine along foot calf starting hurt also begin tire',\n",
       " 'always sensitive every sense feel like assaulted drag away darkness',\n",
       " 'supposed ought feel thankful adding sarcastic edge age',\n",
       " 'couldnt help feel totally distraught utterly helpless lorena kidnapped tortured almost death band enemy desperate freedom',\n",
       " 'feel unfortunate mister magnum sound cheer travelling well long period race',\n",
       " 'feel tortured tragic enough without importance sparkle',\n",
       " 'feel selfish thinking way feel lonely time',\n",
       " 'think day chatted mom amp also feeling horny masturbate',\n",
       " 'feeling pretty stinkin shitty horrible reviewer',\n",
       " 'dont know started feel weird pressure largely silent audience falsely inflated sense importance expressing ever articulate opinion said audience',\n",
       " 'woke nap feel extremely agitated grumpy',\n",
       " 'ive studying really hard discovering pretty word never crossed mind portray exact meaning feel like ive missed lot',\n",
       " 'feel lonely work social bird usually school',\n",
       " 'love comment feel free post one',\n",
       " 'feel intimidated great woman family tree',\n",
       " 'truly feel lot positive thing help condition worker family kid',\n",
       " 'think may reason would want fly back uae oblivious conflict plague conflict feel helpless resolving',\n",
       " 'saw video cena kissing maria surprisingly didnt feel like hated',\n",
       " 'feel bit obnoxious definately weather',\n",
       " 'say pressing torso siwons bringing face close enough feel siwons agitated breath',\n",
       " 'indifferent tell feeling word treasured ever since feeling start bloom one moment want keep',\n",
       " 'feel he casual entire future',\n",
       " 'still feeling strong missed couple lift',\n",
       " 'sat couch several hour feeling pretty low',\n",
       " 'checked long time ago say happy way back feeling contented everyone everything around',\n",
       " 'write something big happened like fun trip milestone time write tell feeling sweet baby snuggle growing personality',\n",
       " 'hate expectation must need man life feel worthwhile valued',\n",
       " 'feel loving kindness allow u think feel conscious interact various thing body mind',\n",
       " 'feel completely blessed part group',\n",
       " 'type doesnt use moisturizer skin oily product designed contain ton moisturizing ingredient make skin feel lovely without oil',\n",
       " 'afraid environment make feel relaxed cause',\n",
       " 'feeling overwhelmed want physically shake everything way would spider shirt',\n",
       " 'say little piece feel agitated watch discussion race style color font family georgia serif font size px line height',\n",
       " 'feel cant touch said love bit much wont deny broke heart cant find crush dont come back home',\n",
       " 'feel little frustrated ache longing settled heart weariness life slipped around shoulder like unwelcome friend',\n",
       " 'even remember trying last year feeling crappy nowhere near closing',\n",
       " 'broke uncle radio player accidentally feared going cut going house well playing',\n",
       " 'feeling conflicted whether follower christ celebrate ever popular pagan originated modern day holiday',\n",
       " 'feel carefree weightless yet worried grounded time',\n",
       " 'feel sincere repentant past opposition civil right',\n",
       " 'one point put son daycare mom constantly made feel like terrible parent',\n",
       " 'thing list feel super guilty relax',\n",
       " 'feel uncertain motif feel inbalance committment process counselling reconciliation',\n",
       " 'feel like go emotion angry',\n",
       " 'ive much training grammar language reading something written like kind feel like assaulted',\n",
       " 'feeling insulted everyone comparing sneha',\n",
       " 'still wake every morning feeling blessed unable believe lucky enough able call amazing family mine life',\n",
       " 'feel leader country depict people country love god hope one thought way supportive like george w',\n",
       " 'feeling really horny afternoon one fulfill sexual desire bed creative thought help forgetting hands aahhh work like magic',\n",
       " 'know scone must food determined live frugal lifestyle without feeling deprived',\n",
       " 'feel horrible helplessness make thing better feel like kill inside',\n",
       " 'taking picture house feel far messy post photo online ill clean bit post',\n",
       " 'feeling every bit spiteful vindictive bitch time',\n",
       " 'got feeling look eye sincere',\n",
       " 'believe feel nervous father reassures nothing nervous make nervous',\n",
       " 'feel uptight day complete he around feel right little nervs dream date thing pursue wedding always dream mine day min',\n",
       " 'think would come fast would come suppose feel cranky today',\n",
       " 'start feel agitated lacking patience right cranky',\n",
       " 'know easy twist thing create explanation still sure one help feel little le mad',\n",
       " 'feeling rich yup know blessed',\n",
       " 'didnt tell didnt want feel afraid',\n",
       " 'love medium coverage sometime feel put ugly picture',\n",
       " 'feel though little neglectful fellow blogger',\n",
       " 'sort hate glass make eye look small since huge eye going quite upset hoping bigger frame make feel le paranoid',\n",
       " 'cant believe moment feel useful washing dish',\n",
       " 'feel distressed music mind rewrite fma op',\n",
       " 'feeling quite lonely monday half term',\n",
       " 'feel really socially awkward dont like get meet new people thing group adventurous',\n",
       " 'admire athleticism feel like would entertained got watch severely shape people participate olympic event',\n",
       " 'feel horrible feel horrible made worse fact havent gotten workout',\n",
       " 'would hate bit imagine secretary feeling irritable day eh',\n",
       " 'feel like take time care flower wonderfully loyal hive',\n",
       " 'know never see place would break heart thick layer moss encased thick shell muffling sharper feeling pleasant painful',\n",
       " 'truly feel contribute blog world especially regard educating writer valuable',\n",
       " 'feel like would clever get ton thing time',\n",
       " 'quickly trotted added feel embarrassed ask hoping would enter kind conversation',\n",
       " 'hated got drunk whole next day spent sleeping feeling groggy',\n",
       " 'love discussion class feel passionate feminist issue go write feel though faking',\n",
       " 'would want welcome home end feeling mommyhood threatened inability breastfeed baby',\n",
       " 'feel agitated result pleasant opposite calm peaceful',\n",
       " 'feel honored student come class',\n",
       " 'often tell want attention especially feel horny want good sex hour',\n",
       " 'get anxious feeling feel xox soon itll real thing already need flawless',\n",
       " 'truly feel somehow enough hate get mad',\n",
       " 'remember feeling uncertain young especially became teenager',\n",
       " 'feel cant get far enough away feed melancholy long enough would wither die',\n",
       " 'want enter defiance coming different culture feel offended allowed',\n",
       " 'feel agitated restless edge quite often',\n",
       " 'feel uncomfortable using word awesome idea actually',\n",
       " 'feel like lead gentle kind',\n",
       " 'feel like actively hated every single second rather borne',\n",
       " 'feel violent tug eye socket',\n",
       " 'believe displayed deep emotional yearning semblance normality peace since appears dancing arab feel threatened fully armed soldier',\n",
       " 'feel going get messy get fixed back road',\n",
       " 'feel frustrated easier day remember blessing research learning trial error hard success patience give far better garden long run',\n",
       " 'sick cold amp feeling well wondering would even able patience go whitleys month photo shoot',\n",
       " 'tempted feel little bitter saw',\n",
       " 'feel kind insecure anyways back doha',\n",
       " 'grateful longer feel frantic urge fix emotional upset around',\n",
       " 'feel quite strongly student punished due well badly faired compared completely unrelated group people',\n",
       " 'want job permanent feel like valued',\n",
       " 'care someone emotional spiritual intellectual progress point feel like exert progress important love',\n",
       " 'actually feel comfortable speaking others japanese feel pretty happy current progress',\n",
       " 'learned different thing like family plan arrangement even real pain feel loved one pass',\n",
       " 'feel least dating would vain',\n",
       " 'like keeping record life written form picture feel like even important baby',\n",
       " 'feel unhappy miserable wretched glum gloomy forelorn heartbroken',\n",
       " 'really feeling horribly irritable little bit depressed',\n",
       " 'feel honoured part series join wonderful talented lady celebration womanhood',\n",
       " 'feel confident team right four hour ago',\n",
       " 'simply said sorry got car got house feeling restless',\n",
       " 'ive feeling bit paranoid like really noticable everyone see',\n",
       " 'feel fabulous birding weekend everyone',\n",
       " 'bus stop hear squeak baachan trolley feel little paranoid',\n",
       " 'feeling rushed like planned certain thing summer longer',\n",
       " 'try breathe feel frustrated breathe calm desire',\n",
       " 'feel language warning pretty benign open suggestion improve',\n",
       " 'suddenly feel lot smarter talented last night',\n",
       " 'get actually feel like everyone buy smell amazing',\n",
       " 'feel though cant bear motion quilting even though idea delighted day ago',\n",
       " 'feel heartless feeling bored believe love anymore',\n",
       " 'ended shoeless making feel even vulnerable slowing',\n",
       " 'highly critical dennis covingtons book article must admit say something merit discussion noted closing chapter feeling god dangerous business',\n",
       " 'refers course though cant help feeling somehow ironically retrospect loudons son kate mcgarrigle rather talented rufus wainwright',\n",
       " 'feel like captured sweet look',\n",
       " 'envisioned intended feeling unsure whether got vision intention right',\n",
       " 'feel like need cute picture share',\n",
       " 'feel really angry sometimes love god havent enough',\n",
       " 'hope certain people attend important thing life still come back blogging feel missed blogging',\n",
       " 'feel comfortable staying house feel relentless asked something tired almost time bored without money',\n",
       " 'guess feeling generous today decided offer fabulous deal popular print moment',\n",
       " 'begin feel unpleasant anime fandom general',\n",
       " 'feeling really carefree today really carefree',\n",
       " 'comfortable relationship wont feel slutty one person amount would single',\n",
       " 'feel troubled ongoing relocation front door',\n",
       " 'asked making feel fabulous said healthy family healthy live free country',\n",
       " 'woke feeling incredibly content amp optimistic today however woke terrible cold complete lack energy',\n",
       " 'feel gulam ali even talented many classical singer',\n",
       " 'go guy someone want genuine guy would treat right spend quality time make feel special',\n",
       " 'think feel passionate favorite workout gear love seeing people love need live without hoping share favorite comment',\n",
       " 'always notice even though fabulous hiding according rest world feel keenly greatly distressed',\n",
       " 'feel shaken guilty better mother shielding offspring health problem',\n",
       " 'feel like greedy little traitor looking looking among cover hey little snotface take',\n",
       " 'feel like rude as hole hookah',\n",
       " 'would feel differently believed leader perfectly truthful',\n",
       " 'cant help feel longing outside feel rain skin sticky tree droppings foot',\n",
       " 'made feel like fault control husband violent behavior even believed existed',\n",
       " 'feel like important reveal lesson youve learned tough time along one youve learned awesome time endeavoring build audience honesty authenticity',\n",
       " 'feel disgusted need act cute like action gwiyomi',\n",
       " 'said feel incredibly thankful whole',\n",
       " 'feel inspired eager press sun shine',\n",
       " 'hoping walk thigh feeling friendly today',\n",
       " 'feeling nervous sure like anyone else would position',\n",
       " 'older might feel frightened spending time left alone',\n",
       " 'must say feel accepted something poisoned chalice',\n",
       " 'feeling generous ill give story well',\n",
       " 'like person become feel much carefree liberated time dont recognize',\n",
       " 'feel numb right thought feeling angry dont know dont feel anything sad happy angry dont know feel anymore',\n",
       " 'feel truly impatient taking long',\n",
       " 'want say want feel come bitter angry',\n",
       " 'know feel like face irate customer',\n",
       " 'always people life gone way put trip make feel completely moronic worthy enough',\n",
       " 'prep another sleepless night help feel ashamed feeling way',\n",
       " 'still feel shaky worst hit area damage destruction complete',\n",
       " 'throw ocean feel would missed something career win oscar',\n",
       " 'feel privileged narrated erik prince autobiography civilian warrior inside story blackwater unsung hero war terror released monday nov th',\n",
       " 'used feeling dependency neediness needy least wasnt prior recently',\n",
       " 'feel mccarthy place yet career really consistently humanize character balancing fact supposed funny',\n",
       " 'feel nervous going back america knowing expect transition like',\n",
       " 'love little boy sometimes feel inadequate parent',\n",
       " 'keep thing predominantly fix function arranged right create style applying twelve month previous ingredient feeling much perverse usual',\n",
       " 'havent worked today feel like going feel ive stressed work life week bad',\n",
       " 'thought well respected recognized mother autistic boy would perfect guest blogger message feel passionate',\n",
       " 'ive coursing cycle happiness feeling mellow feeling really depressed mellow back beginning',\n",
       " 'feeling amazed california ness moment currently sitting pool drinking wine spritzer nagalene connecting via google wifi using stellarium figure star',\n",
       " 'probably go back washington permanently baby least although torn whether want yes bleu know feel still completely convinced',\n",
       " 'also feel strange sense guilt people arent similarly situated move different neighborhood',\n",
       " 'feeling agitated pour brandy coffee',\n",
       " 'feel way considering people pretending way sincere',\n",
       " 'feel give even period feel detail sharpe certainly good enough read cover cover',\n",
       " 'feel like reached plateau buying much use feeling satisfied wardrobe personal style',\n",
       " 'learned hard way three hour feel like month friendly people stop talk',\n",
       " 'feel like amazed degree biology blown away',\n",
       " 'feel hear vibration gentle doesnt bother',\n",
       " 'pretty certain use name middle name girl special feeling connection poppy lovely',\n",
       " 'feel something wonderful going happen',\n",
       " 'getting since feel accepted mark beast shot thought going kill screamed loud didnt want die',\n",
       " 'try let ignorance get energy feel important sometimes ill engage little light debate try broaden view world',\n",
       " 'feeling lousy may dismiss gorgeous day feeling bright cheerful dreary day becomes tolerable',\n",
       " 'going assume moral obligation find way make sure feel pretty damn rich every day',\n",
       " 'thought would sweetly cover really feeling say something pleasant bad thing done whatever',\n",
       " 'ironic feel dont feel anything special still smile broadly whenever tell something',\n",
       " 'really like good moral nice respectful like feel like still belong brad couldnt picture eric he innocent',\n",
       " 'sense wat let feeling unsure',\n",
       " 'extremely good friend someone course feel reluctant extent favour someone',\n",
       " 'sleeping room woke middle night think could hear noise see shadow moving felt someone house',\n",
       " 'sometimes feel resentful come life time',\n",
       " 'began feeling amorous towards everyone stage towards people around experienced moment',\n",
       " 'sometimes feel disheartened realise far culture',\n",
       " 'overwhelmed feeling blessed pray fear last time say happy birthday',\n",
       " 'feel popular also little pressure keep exactly need',\n",
       " 'feel horrible cancel one best guy friend trip stressing babysitting hour got cut afford',\n",
       " 'climbed mountain made way village people stared child looked frightened ran away everyone came across asked way make feel unwelcome',\n",
       " 'dont feel inhibited work problem',\n",
       " 'took chance kept cry hope might feel benevolent',\n",
       " 'done hope inspiring time looking solace people rather god proof maybe something good feel horrible',\n",
       " 'feeling melancholy back school stuff today',\n",
       " 'begin doubt stomach clench heart race feel fearful',\n",
       " 'liked ro intimidated anna wealth anna feel guilt superior wealth enjoys',\n",
       " 'feel like really cranky school day',\n",
       " 'feel like try stay faithful possible perceives real event happened mountain',\n",
       " 'walia feel suspicious tarun ban',\n",
       " 'feel like hostile toward others fail nice',\n",
       " 'feel glad little blog share danger see path ahead',\n",
       " 'even dare say biggest stiller vaughn hater still could get enjoyment movie feel annoyed performance character',\n",
       " 'make punjabi lobia masala mostly winter feel protein punch spice rich recipe winter warmer one',\n",
       " 'truly terrifying still feel shaken uneasy',\n",
       " 'begin feel burdened thing amp long empty',\n",
       " 'write space feel quite nostalgic mind race back good old day used daily park learning memory',\n",
       " 'sit tonight pensive tense feeling little fearful',\n",
       " 'want someone know know thought feeling want keep loyal faithful reader',\n",
       " 'feel joy anticipation divine right',\n",
       " 'feeling overwhelmed asked bqff keep house theyre ready loaded dont feel behind',\n",
       " 'feel thrilled able investigate personal mythology around subject',\n",
       " 'feel creative right make happy',\n",
       " 'could wear casual shopping trip feel fabulous without even trying',\n",
       " 'want others happy mean step back yet feel like allow happy deserve even deserve',\n",
       " 'limiting reasonably without causing greater injury sort physical exercise start feel horrible',\n",
       " 'would always feel amazed impacted year old subject',\n",
       " 'feel lucky live portland land delicious food',\n",
       " 'feeling pretty cranky morning stopping really made feel lot better',\n",
       " 'didnt feel cold fire every night',\n",
       " 'also feeling cranky main character scientist brother observing moon mention zero gravity',\n",
       " 'feel divine force strongly sometimes wonder agnostic atheist judeo christian fundamentalist feeling excitement heart',\n",
       " 'started feel discouraged thought one day',\n",
       " 'feel like maybe going stop loving maybe true terrible wife',\n",
       " 'already feeling sentimental time newborn wee sadly outgrown fave thrifted outfit',\n",
       " 'feel like ive innocent version one night stand',\n",
       " 'finish typing post realise ok longer feel annoyed angry even sad',\n",
       " 'refuse rate book publisher feel snobbish take say jeanette winterson cannot write essentially wish anything scope explore',\n",
       " 'feel petty even though thought arent real fleshed thought fluttering feel like kind thought',\n",
       " 'felt sad apprehensive angry vertigo left feeling uncertain',\n",
       " 'feel like ive got handle trusting instinct',\n",
       " 'feel complacent start thinking smart',\n",
       " 'admitted defeat asked half come back lake coz feel uptight already',\n",
       " 'missed month combined class pretty much bed ridden month semester feel really amazed able pas',\n",
       " 'put leg around wrap arm feel safe',\n",
       " 'feel like pretty enough like personality boring obnoxious',\n",
       " 'proud crafted something people care even enough click make feel wonderful',\n",
       " 'switched song one beginning make feel little melancholy fuck need',\n",
       " 'feel embarrassed talk time feel small moment like favor deserve given attention',\n",
       " 'sound entitled cant help feel disappointed even though already knew going',\n",
       " 'remember feeling husband felt would see people rude mom mom sweet self',\n",
       " 'feeling remorseful breakfast took diet pill',\n",
       " 'feel though concept lifestyle change rather weight loss beaten death really something believe currently experiencing',\n",
       " 'know next step longer feel lost',\n",
       " 'believe imagining would like act live front audience make feel joyful',\n",
       " 'thought maybe hand feeling funny touched hair totally clean forearm became sticky',\n",
       " 'hate moment completely feel perfect people around love suddenly disappear',\n",
       " 'remember feeling little jealous realized time together wasnt solely larger network social interaction ready progress got',\n",
       " 'known feel affectionate toward adore leonard cohen make like quite lot',\n",
       " 'feel impatient yet fully sure searching',\n",
       " 'tearful feeling unloved even though know',\n",
       " 'feel like everything ive nothing sincere bother wanted hurt even told',\n",
       " 'feel like much write got distracted home wednesday evening challenge therefore lost train thought',\n",
       " 'admit feeling bit intimidated challenge',\n",
       " 'think feeling vulnerable due stress buy new sewing machine printer',\n",
       " 'hear teenaged girl devastated pimple face morning prom feel devastated',\n",
       " 'woke beautiful sunday morning feeling restless miserable',\n",
       " 'dont need wear mask moment show feeling beloved without missgivings',\n",
       " 'turn head away even feel frightened',\n",
       " 'feel like go supermarket buy something totally delicious dinner money mother put account today',\n",
       " 'feel fine e terminando com eight day week um ano depois',\n",
       " 'feel vital full energy every day super positive',\n",
       " 'feel completely dissatisfied whole world human character inconsistent',\n",
       " 'mean would feel euan got hauled murder knew innocent',\n",
       " 'knew high school pretty fuckin chill say girl feel insulted threatened blog wrote would like apologize offended sorry',\n",
       " 'feel talented impacting thing end moment',\n",
       " 'find feeling happy feel good',\n",
       " 'feel bit nostalgic wonder passion writing blog time week gone',\n",
       " 'feeling particularly dangerous chocolate cookie',\n",
       " 'feeling ok always hand sits close',\n",
       " 'feeling quite mellow spite raging pm past day mean likely erupt little warning',\n",
       " 'feel like innocent victim feel win',\n",
       " 'actually thought would feel bothered since ehb woman ow spent quite bit time together didnt feel much anything',\n",
       " 'feel sincere wanting resolve grievance',\n",
       " 'feel hint beloved art nouveau era bracelet',\n",
       " 'mostly take stair occasionally feeling particularly lethargic number consecutive late night bow ease convenience',\n",
       " 'feel sort pathetic saying iphone internet tv must have let honest',\n",
       " 'guess understand concern help feel little rejected',\n",
       " 'laced shoe pounded feeling hot black pavement',\n",
       " 'male stupid first woman cry baby get feel really cool putting stupid men place',\n",
       " 'praying everyday feel convinced god called see',\n",
       " 'love everything learning feel really passionate design',\n",
       " 'feel brain damaged getting worst dis moment',\n",
       " 'feeling terribly adventurous plus family visiting cant completely neglect meaning going business usual',\n",
       " 'funeral friend killed car accident age',\n",
       " 'people really dont many proplems talking feel said love bitched last month vain',\n",
       " 'think writing really expressed intensity emotion one would feel losing beloved spouse',\n",
       " 'cant imagine agony folk feel waiting news sentimental thing',\n",
       " 'feel lethargic uninspired next morning go',\n",
       " 'feel need little romantic boost relationship',\n",
       " 'close friend intimate bodily relationship girlfriend started avoid didnt want talk',\n",
       " 'use elevated lexicon feel intelligent',\n",
       " 'feel lethargic lazy completely uncomposed dressed something like',\n",
       " 'feel director editor missed teachable moment tiphany make comment nice feel like everyone else',\n",
       " 'write anything feel passionate least genuinely interest',\n",
       " 'working hard shake feeling popular genre novel non literary fiction make book le legitimate le something read enjoy analyze',\n",
       " 'feel agitated empty missing something',\n",
       " 'realized ignoring better heartbreaking feel helpless',\n",
       " 'still feel little dazed high alarming since hour',\n",
       " 'feel like feed food touch love caring compassion',\n",
       " 'feel terribly ignored sweet email',\n",
       " 'feeling deeply offended big hurt feeling fact',\n",
       " 'feel romantic finally finish blog post',\n",
       " 'kinda steal joshua customer feel amused',\n",
       " 'feel thrilled presence eye feel belief peace sincerity',\n",
       " 'dontknow never feel way anyone else really cant without linus love never thought could ever love anyone went fucked relationship',\n",
       " 'feel like life practically perfect every way right every happy',\n",
       " 'feel like suffer produce something worthwhile',\n",
       " 'feeling creative see alternate version',\n",
       " 'feel like show change many country taken many country way making decision includes supporting increasing woman area life',\n",
       " 'feel like dirty trash bin street nobody really sought',\n",
       " 'make new friend process dont feel slutty lol',\n",
       " 'feel bit reluctant turn people',\n",
       " 'feel like look gorgeous curl instead making full transition ended getting extremely natural red lowlights bottom section hair',\n",
       " 'feel gonna start aching rainy season come next year',\n",
       " 'glad know reason recent lapse sanity still feel like want go violent rampage slightest inconvenience',\n",
       " 'feel high ecstatic normal feel like thousand mile drop unhappy excruciating',\n",
       " 'read one horrific sitting made feel ashamed world live',\n",
       " 'could feel sweet spirit happy helping',\n",
       " 'really love eating fresh fig feel delicate look much prettier ugly dried fig',\n",
       " 'watch hgtv feel like talented',\n",
       " 'never feel brave want believe order brave make conscious choice whether want brave',\n",
       " 'probably love handful friend always feel bit strange describing love',\n",
       " 'express gene dominant voice feel rather wonderful really writer poet carefree crazy',\n",
       " 'wonder jealous feeling discontent covetousnes',\n",
       " 'feeling low lately feeling hopelessness disturbing making tired sick entire living kind life',\n",
       " 'put hand scar covered chest feel half heart beating oh beating feel sweet rhythm remind alone',\n",
       " 'feel resolved yet somehow depressed',\n",
       " 'feel like acceptable favourite yet nowhere see terpene responsible flavour',\n",
       " 'feeling bit strange never felt ever really stop writing blog',\n",
       " 'ive gained wieght really would like lose pound feel like ive finally gotten acceptable happy place',\n",
       " 'feel book explains thing well easy use',\n",
       " 'still feel alone cant give anything call feel breathing keeping awake feel beating',\n",
       " 'feel loving presence parent daily even though physically dead almost two decade',\n",
       " 'read case son ignoring old helpless parent feel unhappy sad',\n",
       " 'feel humiliated body husband make advance towards reminds despite ra try take life still find sexually attractive beautiful',\n",
       " 'feeling seriously pissed something fantabulous utterly stupid',\n",
       " 'wish could say hey know died tomorrow wouldnt feel cheated life regretful didnt accomplish something',\n",
       " 'could look act like know lie feel smug know ness frankly way lazy',\n",
       " 'something tell girl finally feel brave enough share news',\n",
       " 'feel defeated like lion prey',\n",
       " 'excited hope personal u wont feel like rushed',\n",
       " 'surround bible verse help transcend space feel safe secure',\n",
       " 'know feel awkwardly hesitant return melbourne',\n",
       " 'feel little le gloomy little optimistic little better prepared face life throw way',\n",
       " 'wont lie little worried nervous feel inadequate job ill best thats heavenly father want',\n",
       " 'slough carapace crud enveloped past thirty odd hour feel invigorated finally ready face day',\n",
       " 'ive busy girl good type busy feeling really happy thing right loving new start glasgow',\n",
       " 'set mind wanting specific item needing specific event specific time find ill end spending want feel pressured constraint',\n",
       " 'written prayer journal morning meditating greatness lord psalm written closing may feel tender care today',\n",
       " 'feel like enough people age actually think pretty devastated come gone',\n",
       " 'get home laze around pajama feeling grouchy',\n",
       " 'started feeling really optimistic driven paper coz gonna teach meaning way leader',\n",
       " 'need best possibly even get feel listless study like right',\n",
       " 'drove u car part place terry feel like safe drive yippee',\n",
       " 'feel like even though dont buy society idea woman look like still constantly unhappy',\n",
       " 'idea feel beyond wanting beloved',\n",
       " 'want tell people first made feel want think gorgeous guy ever seen love people disagree want see truly wonderful',\n",
       " 'still feel like admission like popular show put category people kick puppy people steal ratty clothes back dickensian orphan',\n",
       " 'feel character little beaten comedy little bit smaller',\n",
       " 'feel everything around fucked everyone around falling piece',\n",
       " 'anyone another lovely day today weather running late life generally done art today yet feel deprived bit',\n",
       " 'blanked little lesson seamlessly jumped support without making feel stupid inferring kid',\n",
       " 'feel like smell scent taiwan quite frequently cute coffee shop bathroom',\n",
       " 'feel like one blamed thing',\n",
       " 'cant help feeling mad man',\n",
       " 'guess depends mood whether feeling sociable',\n",
       " 'think much time spent fun childhood stuff together family feel amazed',\n",
       " 'continued feel submissive continued aroused well',\n",
       " 'told didnt want feel uncomfortable',\n",
       " 'feel constantly battle like need continuously improve feel like nothing ever enough make feel chronically exhausted',\n",
       " 'feel like shy enormous pink flamingo man',\n",
       " 'feel like much unfortunate situation wasnt father great place',\n",
       " 'want show take care feel wronged staying',\n",
       " 'went ahead shooting afterwards guy asked go drink agreed knew rang tried work thing angry feeling stubborn',\n",
       " 'listening right feel like need want share little one despite convinced atheism somehow never fails make feel better',\n",
       " 'ive comfort eating still feeling rubbish havent bothered log there point checking food log yeah know',\n",
       " 'received first year result first year involved lot work pleased got result',\n",
       " 'feel like ive isolated regular relationship',\n",
       " 'also perfect girl friend always disappointment always feeling doubtful always putting hard time mood swing sudden outburst low emo mood',\n",
       " 'feel assured world around seems brighter',\n",
       " 'cant hide feeling feel glad',\n",
       " 'feel like pissed spend entire extra year school stupid biochem',\n",
       " 'ready cry feel sweet presence ruach hakodesh holy spirit room right',\n",
       " 'feel little pound lovely truly gift',\n",
       " 'woke monday feeling like crap blamed weather',\n",
       " 'didnt feel like anyone really hated noone new anyway managed think',\n",
       " 'random moment feel suddenly creative would love sit hear tick tick tick keyboard key thought spilled onto screen',\n",
       " 'feel nostalgic travel away country family friend dont like',\n",
       " 'found email scott dale reading frusterated much feel need post show world neurotic freak',\n",
       " 'smoothly hand twenty feeling smug interested',\n",
       " 'see thing would never done movie adaption feel read book would bothered',\n",
       " 'ive harden heart toughen skin order truly protect myelf feeling utterly devastated',\n",
       " 'feel like perfect time enlist extra help',\n",
       " 'know feel today part convinced making much difficult actually mehow casually remark april infield insider getting box never first place',\n",
       " 'feeling bit casual put plain tank top loose bottom got zara',\n",
       " 'think get caught nature busy feeling need fill moment industry sort occupying blank space effort chore',\n",
       " 'feeling fearful thing arent going go way want ex',\n",
       " 'honestly feel kind embarrassed bit guilty',\n",
       " 'said wanted give little sample writing denied feeling little generous today suppose share one little taste',\n",
       " 'feel bit rotten putting post teaching stone tag list blog really grumble groan subject honest',\n",
       " 'ive learned short journey thus far know body enough sugar fast food junk even though day far start feel lethargic',\n",
       " 'felt better thursday today friday felt good enough come work though still feel kind shitty foggy',\n",
       " 'need get touch want want feel mention much hate people caring',\n",
       " 'feel like failure parent add emotional rollercoaster unplanned c section well day feel like failed beginning',\n",
       " 'feel rather intimidated impressive background clinic general',\n",
       " 'secretly well guess secretly anymore feel insecure time want learn come common ground',\n",
       " 'need feel assured need feel secure',\n",
       " 'could genuinely feel loving toward someone without ever knowing dont act like',\n",
       " 'never seem get good foot feel crappy',\n",
       " 'want something give major orgasm make feel horny ill screw anything move',\n",
       " 'drove home aware feeling like called ask ok',\n",
       " 'feel guilty complaining life knowing people much worse',\n",
       " 'id feel completely lost without',\n",
       " 'feeling discouraged look remember achieve goal set always surprise success',\n",
       " 'tried explain lyme coinfections feel like guess could say horrible painful nightmare end',\n",
       " 'cherish feeling baby asleep chest amazingly sweet breath feeling give needed',\n",
       " 'feel weighing filling thought try homework help special olympics',\n",
       " 'love rainbow look going think feel really festive hope kid feel like suppose constant party classroom thanks tissue paper ball',\n",
       " 'would truly express utter gratitude thankfulness feel sincere gesture grateful',\n",
       " 'feel energized eager write tomorrow',\n",
       " 'feel respected notion feeling good thinking good someone become notion ensuring respect',\n",
       " 'feel ecstatic survived comprehensive exam never sure would survive pas survive',\n",
       " 'remember feeling violent disgusted oscar winner tell access hollywood',\n",
       " 'woke sofa feeling extremely agitated around pm',\n",
       " 'honestly think possible feel romantic love point',\n",
       " 'like listening hardcore sxe music one thing let feel rebellious chocolating spending till gone',\n",
       " 'feel time hand beloved signal agreement',\n",
       " 'even feel particularly loyal shell',\n",
       " 'feel ashamed readily turn aside',\n",
       " 'guess cant help least feel remorseful died horribly pretty sure matt wasnt cry cared',\n",
       " 'feel like smarter well rounded person',\n",
       " 'bopping around house yesterday singing possibly loud bit feel charming oh charming',\n",
       " 'came across exchange point feeling strong',\n",
       " 'really remember feeling wonderful oatmeal bath',\n",
       " 'feel today schedule aching pm backed mere hour sleep one sandwich tall espresso',\n",
       " 'could feel delicate pressure finger searching feel arm beneath course fabric',\n",
       " 'ive clawed time back still feel strong',\n",
       " 'walk whole distance sampled four five stretch came home feel charmed experience',\n",
       " 'wake morning voice throat feel ok afternoon scratchy sound like marge simpson night bad throat sore whisper',\n",
       " 'going sleep still feel triumphant',\n",
       " 'one guest room current house supposed craft office closet honestly never use since stair cold hot room feel get messy',\n",
       " 'also niggling feeling getting complacent ability',\n",
       " 'feel ease sweet communing teach far little know',\n",
       " 'feel combination slightly superior sitting virtual event feel another day office',\n",
       " 'remember feeling terrified ever felt entire life still affecting ive never thought accounted trauma',\n",
       " 'put christmas tree feeling fairly festive',\n",
       " 'feel numb way wound really start hurt',\n",
       " 'didnt want others negative energy weighing u influencing feeling thought process special time',\n",
       " 'feel glad proud could answer complicated question ever done',\n",
       " 'tell people feel like trying convince people innocent one belief',\n",
       " 'feel burdened many situation around right',\n",
       " 'sure relish feeling squelching mud toe content uncertain',\n",
       " 'always find feeling thankful year gathered trick allow feel grateful face moment last thing want say thanks',\n",
       " 'taking advantage feeling artistic incase run away bell baby day yay',\n",
       " 'still feel ashamed live world people dont know',\n",
       " 'want feel pressured making love',\n",
       " 'feel like actually supporting making use know love',\n",
       " 'ask shed like say doesnt mind always making suggestion feel like try every day keep entertained',\n",
       " 'honestly believe darker day reason push hard someone worth future feel duty make time lost',\n",
       " 'still want lady like lady feel inhibited kiss another woman public guess disregard societal view pertain sexual preference portray',\n",
       " 'done something feel inspired challenged',\n",
       " 'feel everyone ability artistic special way find attractive art unleashed fromthe virgin artist',\n",
       " 'think energy job writing always spent think sell rather pet project truly feel invigorated',\n",
       " 'actually feel quite scared get back exercising feel like ive lost much strength condition put much weight',\n",
       " 'wanted go ask batting feeling hesitant approaching big player',\n",
       " 'ive feeling bit overwhelmed whole marathon idea lately',\n",
       " 'know would feel weird probably act strangely day',\n",
       " 'feel like impostor work smile talk behavior contract positive reinforcement cognitive reframing physical activity mean diminishing dissolving deferring pain reality',\n",
       " 'feel suspicious one outside like rapture happened something',\n",
       " 'manage two short run walk today back feeling shy awful',\n",
       " 'told horsey people rare find feel quite lucky',\n",
       " 'spent much time feel comfortable',\n",
       " 'think brag feel strange still see little fattie pre teen unworthy male attention',\n",
       " 'cant help feel little humiliated',\n",
       " 'feel depressed lack husband time',\n",
       " 'feel really lucky part look like active friendly homeschooling group dubai',\n",
       " 'feeling much positive impending move',\n",
       " 'want still feel appreciative thing',\n",
       " 'feeling mellow excited partly know annie churn kind emotion inside esp',\n",
       " 'double victory brown struff went back sunday feeling really optimistic looking forward another day filled fedtastic tennis',\n",
       " 'face turn red feel shy emm',\n",
       " 'hoped get weekend attempt feel utterly isolated inside ambleside curtain firmly closed warmest sunniest day year far',\n",
       " 'felt sadness remorse supposed feel realize wronged someone corinthian',\n",
       " 'really feel progressing towards society fearless incrementally throwing away seemingly rigid boundary like paranoia security one belonging href http www',\n",
       " 'feel unimportant insignificant like slipping gap finger doesnt care',\n",
       " 'think browser comfortable booth attention focused feel pressured make purchase',\n",
       " 'develop unknown feeling think thats reason feel like ive settling guy liked',\n",
       " 'wasnt feeling hot prior vineman little racin lot self talk better spot mentally physically',\n",
       " 'eager know feeling unhappy unsatisfied',\n",
       " 'feel invigorated focused led pursue right future',\n",
       " 'feel shy afraid keeping point view',\n",
       " 'feel like get lot question list search phrase point people sometimes awfully disturbed thing somehow bring blog search engine',\n",
       " 'help feel sympathetic netflix army misinformed denounced netflix recent price hike',\n",
       " 'going lie feel little insulted',\n",
       " 'feel peaceful unafraid certain god best interest heart',\n",
       " 'feel awful chill day night',\n",
       " 'feeling start didnt want move much really glad experience glimpse sort vibrant energy gain year',\n",
       " 'feel virtuous going spin class driving way blackburn manual unsupervised sucessfully handbrake starting',\n",
       " 'feel like nothing stop sometimes feel like defeated',\n",
       " 'email author interview feel little intimidated',\n",
       " 'believe people use fulsome manner social reason top scale human evolution feel hurt fake behavior',\n",
       " 'necessarily sure something education system must change student feel anxiety pressure needing flawless vast knowledge world',\n",
       " 'dont think desire level much bear feel unwelcome',\n",
       " 'find never stop feeling excited company future',\n",
       " 'grateful every single thing maybe ill start feeling dismayed',\n",
       " 'like feeling making difference time really reluctant change first however get used',\n",
       " 'feel like life flawless long stressed wanting cry half time',\n",
       " 'feel emotional reaching three final four year',\n",
       " 'wasnt feeling well yesterday today randomly busy',\n",
       " 'ultimate place restore peace feel divine kneel worship attain hapiness',\n",
       " 'feel read word realize one time good writer feeling shared sympathy',\n",
       " 'feel pity gatsby longing feel past evident',\n",
       " 'met used want lock vault feel precious',\n",
       " 'really hate feeling youre unsure something',\n",
       " 'feel like rich people fall category belong see bus',\n",
       " 'write consider real profession even though teaching poetry troubled poor kid feel something useful',\n",
       " 'feel honored witness another process',\n",
       " 'horrible tragedy something terribly ashamed something causing great pain making feel vulnerable one two trusted people know could call help',\n",
       " 'feel stupid incapable dont know want work stupid next two week questioning everything',\n",
       " 'writing time also upset real parent almost constantly life there brother sister around either child feel kinda lonely',\n",
       " 'feel like concert much successful previous one',\n",
       " 'also feel awful feeling way',\n",
       " 'always intended achieving could everyone else feel like intelligent productive successful person',\n",
       " 'feel like beaten hard baseball bat arm doctor said apt description',\n",
       " 'feel overwhelmingly remorseful guilty watch much news many sad movie television drama',\n",
       " 'feel completely drained physically mentally worn',\n",
       " 'feeling broke right loved every minute',\n",
       " 'want say feel vulnerable writing sharing info',\n",
       " 'using vent ugly feeling vicious nasty rather deal like adult',\n",
       " 'always thought contracted something one people passed feel awful got sti test thought basically clear',\n",
       " 'didnt feel enough strong smart funny female main character fiction since thats imagine started writing',\n",
       " 'would go straight point rather defination romance feeling anger feeling suspicious feeling',\n",
       " 'feel like regained another vital part life living',\n",
       " 'went teacher said gonna step outside second really feeling well',\n",
       " 'pray hurting feeling afraid tonight find peace soon',\n",
       " 'could feel getting shaky feeling',\n",
       " 'feel crucified heartbroken tortured forsaken ever felt hand enemy hand love',\n",
       " 'believe possible joyful full thanks feeling overwhelmed exhausted life',\n",
       " 'want people feel brave want society accept u disabled people amongst u deserve dignity respect shunned laughed',\n",
       " 'guess cant see wed feel bit unwelcome',\n",
       " 'think people born hold key opening many door u need make feel treasured enough share',\n",
       " 'would like reduce amount jealousy feel god command u jealous feel every jew religious obey prohibition',\n",
       " 'feel highly intimidated get flustered cant form word even english',\n",
       " 'feel reluctant talking current situation know feel guess important know situation know go',\n",
       " 'id never woke feeling stressed',\n",
       " 'feel need put beloved uggs one side get back ballet pump bandwagon',\n",
       " 'feel terrible lady driver though',\n",
       " 'told feel satisfied good standing power',\n",
       " 'sitting belmont library listening hold tight electric light orchestra feeling bit discontent',\n",
       " 'feel really bless supportive family appreciate everything',\n",
       " 'feeling pretty wiped mentally amp physically determined get oxygen brain',\n",
       " 'said recent interview two guest next alcest album today feel glad reveal first one',\n",
       " 'feel weird saying goodnight mike',\n",
       " 'feel lighter compassionate little talk',\n",
       " 'impressed dunham portrayed hannahs whole experience trying deny happening feeling offended feel like someone trying minimise distress causing',\n",
       " 'watched face contort sadness began feel regretful action',\n",
       " 'stumbling quote quote urging really feel meant away hated day job dedicate effort matter',\n",
       " 'prayed trust god desire feel divine sense home',\n",
       " 'found feeling worthless waste time',\n",
       " 'go detail long night woke bus feeling like could barely stand trusting pit stomach',\n",
       " 'feel incredibly graceful sexy pose say',\n",
       " 'feel unimportant even way still place making decision voicing opinion certainly place sharing feeling',\n",
       " 'learning step back call proud admit yes feeling annoyed yes tell',\n",
       " 'feel pretty lame typing upper body weak',\n",
       " 'feeling little like cold coming',\n",
       " 'wanna say last three month feel happy blog',\n",
       " 'left feeling defeated like nothing accomplished day complete waste time amp energy',\n",
       " 'ritz cracker desk drawer theyre something ill eat even feel crappy dont feel like eating',\n",
       " 'feel tenure protects lot teacher r innocent',\n",
       " 'wake morning feeling like day sloth keen get geared head higher altitude',\n",
       " 'feel love weight watcher program faithful count point',\n",
       " 'feel like one girl school hated outfit perfect everyday went shopping week',\n",
       " ...]"
      ]
     },
     "metadata": {},
     "output_type": "display_data"
    }
   ],
   "source": [
    "display(list(df_norm['Text']))\n"
   ]
  },
  {
   "cell_type": "code",
   "execution_count": 90,
   "metadata": {},
   "outputs": [
    {
     "name": "stdout",
     "output_type": "stream",
     "text": [
      "['feel', 'feeling', 'like', 'time', 'really', 'know', 'get', 'make']\n"
     ]
    },
    {
     "data": {
      "text/plain": [
       "{3: [('thing', 0.006793622858822346),\n",
       "  ('little', 0.006652359385043383),\n",
       "  ('want', 0.0064725689589977264),\n",
       "  ('people', 0.006395516451448202),\n",
       "  ('day', 0.006254252512007952),\n",
       "  ('would', 0.006112989038228989)],\n",
       " 2: [('little', 0.010392633266746998),\n",
       "  ('people', 0.009859814308583736),\n",
       "  ('would', 0.009326995350420475),\n",
       "  ('le', 0.009060585871338844),\n",
       "  ('dont', 0.008794176392257214),\n",
       "  ('think', 0.008794176392257214)],\n",
       " 1: [('one', 0.012457533739507198),\n",
       "  ('life', 0.01072780229151249),\n",
       "  ('want', 0.008998068980872631),\n",
       "  ('little', 0.007960230112075806),\n",
       "  ('bit', 0.0076142833568155766),\n",
       "  ('love', 0.006922390311956406)],\n",
       " 0: [('want', 0.009955523535609245),\n",
       "  ('little', 0.009190008044242859),\n",
       "  ('need', 0.008424493484199047),\n",
       "  ('dont', 0.008041735738515854),\n",
       "  ('even', 0.007658977992832661),\n",
       "  ('life', 0.007276220712810755)],\n",
       " 4: [('blank', 0.04709293693304062),\n",
       "  ('rel', 0.039257172495126724),\n",
       "  ('target', 0.039257172495126724),\n",
       "  ('title', 0.039257172495126724),\n",
       "  ('nofollow', 0.039257172495126724),\n",
       "  ('src', 0.023585645481944084)],\n",
       " 17: [('sore', 0.034092843532562256),\n",
       "  ('intelligent', 0.034092843532562256),\n",
       "  ('woke', 0.034092843532562256),\n",
       "  ('throat', 0.034092843532562256),\n",
       "  ('bed', 0.034092843532562256),\n",
       "  ('day', 0.025590887293219566)],\n",
       " 8: [('fail', 0.08072030544281006),\n",
       "  ('doomed', 0.06280236691236496),\n",
       "  ('life', 0.05384340137243271),\n",
       "  ('low', 0.03592546656727791),\n",
       "  ('others', 0.01800752617418766),\n",
       "  ('lesson', 0.01800752617418766)],\n",
       " 9: [('ideal', 0.0203812625259161),\n",
       "  ('canada', 0.010241330601274967),\n",
       "  ('developed', 0.010241330601274967),\n",
       "  ('people', 0.010241330601274967),\n",
       "  ('responsible', 0.010241330601274967),\n",
       "  ('asian', 0.010241330601274967)],\n",
       " 25: [('hair', 0.08376909047365189),\n",
       "  ('lovely', 0.04193683713674545),\n",
       "  ('wash', 0.031478770077228546),\n",
       "  ('looking', 0.021020708605647087),\n",
       "  ('day', 0.021020708605647087),\n",
       "  ('give', 0.021020708605647087)],\n",
       " 40: [('pain', 0.08839108794927597),\n",
       "  ('suffering', 0.05528581514954567),\n",
       "  ('love', 0.0442507229745388),\n",
       "  ('loneliness', 0.0442507229745388),\n",
       "  ('sorrow', 0.03321562707424164),\n",
       "  ('also', 0.02218053489923477)],\n",
       " 6: [('cool', 0.13489341735839844),\n",
       "  ('ha', 0.049130119383335114),\n",
       "  ('girl', 0.03687821701169014),\n",
       "  ('supporting', 0.03687821701169014),\n",
       "  ('team', 0.024626318365335464),\n",
       "  ('key', 0.024626318365335464)],\n",
       " 5: [('accepted', 0.049739524722099304),\n",
       "  ('uncertain', 0.049739524722099304),\n",
       "  ('forgive', 0.049739524722099304),\n",
       "  ('within', 0.03733564913272858),\n",
       "  ('perceive', 0.03733564913272858),\n",
       "  ('accepting', 0.024931780993938446)],\n",
       " 15: [('culture', 0.024931780993938446),\n",
       "  ('album', 0.024931780993938446),\n",
       "  ('hatred', 0.012527909129858017),\n",
       "  ('classic', 0.012527909129858017),\n",
       "  ('authority', 0.012527909129858017),\n",
       "  ('cheap', 0.012527909129858017)],\n",
       " 7: [('day', 0.06454522907733917),\n",
       "  ('resist', 0.03877866640686989),\n",
       "  ('one', 0.03877866640686989),\n",
       "  ('rel', 0.03877866640686989),\n",
       "  ('bookmark', 0.03877866640686989),\n",
       "  ('said', 0.025895388796925545)],\n",
       " 46: [('companion', 0.06805216521024704),\n",
       "  ('arm', 0.054468899965286255),\n",
       "  ('leg', 0.04088563099503517),\n",
       "  ('around', 0.027302365750074387),\n",
       "  ('put', 0.027302365750074387),\n",
       "  ('lonely', 0.027302365750074387)],\n",
       " 11: [('cricket', 0.058437779545784),\n",
       "  ('blog', 0.043864764273166656),\n",
       "  ('update', 0.043864764273166656),\n",
       "  ('season', 0.029291752725839615),\n",
       "  ('found', 0.029291752725839615),\n",
       "  ('website', 0.029291752725839615)],\n",
       " 26: [('ate', 0.10215681791305542),\n",
       "  ('horrible', 0.029291752725839615),\n",
       "  ('hateful', 0.029291752725839615),\n",
       "  ('people', 0.014718742109835148),\n",
       "  ('economy', 0.014718742109835148),\n",
       "  ('bar', 0.014718742109835148)],\n",
       " 36: [('answer', 0.10366756469011307),\n",
       "  ('u', 0.044513460248708725),\n",
       "  ('question', 0.044513460248708725),\n",
       "  ('right', 0.029724935069680214),\n",
       "  ('fool', 0.014936409890651703),\n",
       "  ('attack', 0.014936409890651703)],\n",
       " 42: [('sweet', 0.07409051805734634),\n",
       "  ('dessert', 0.044513460248708725),\n",
       "  ('naughty', 0.044513460248708725),\n",
       "  ('craving', 0.044513460248708725),\n",
       "  ('food', 0.029724935069680214),\n",
       "  ('still', 0.029724935069680214)],\n",
       " 48: [('lens', 0.04518163204193115),\n",
       "  ('scent', 0.04518163204193115),\n",
       "  ('sweet', 0.030171122401952744),\n",
       "  ('uncomfortable', 0.030171122401952744),\n",
       "  ('breath', 0.030171122401952744),\n",
       "  ('smell', 0.030171122401952744)],\n",
       " 50: [('dream', 0.09021315723657608),\n",
       "  ('woke', 0.030171122401952744),\n",
       "  ('couldnt', 0.030171122401952744),\n",
       "  ('infuriated', 0.030171122401952744),\n",
       "  ('list', 0.030171122401952744),\n",
       "  ('realized', 0.030171122401952744)],\n",
       " 38: [('violent', 0.08000639081001282),\n",
       "  ('give', 0.03209837153553963),\n",
       "  ('weapon', 0.03209837153553963),\n",
       "  ('particularly', 0.03209837153553963),\n",
       "  ('involved', 0.03209837153553963),\n",
       "  ('attack', 0.016129031777381897)],\n",
       " 10: [('campaign', 0.032619278877973557),\n",
       "  ('woman', 0.032619278877973557),\n",
       "  ('beautiful', 0.032619278877973557),\n",
       "  ('supportive', 0.032619278877973557),\n",
       "  ('wear', 0.032619278877973557),\n",
       "  ('six', 0.032619278877973557)],\n",
       " 23: [('curious', 0.06725931167602539),\n",
       "  ('strange', 0.05048641562461853),\n",
       "  ('latter', 0.03371351957321167),\n",
       "  ('category', 0.03371351957321167),\n",
       "  ('button', 0.03371351957321167),\n",
       "  ('fall', 0.03371351957321167)],\n",
       " 12: [('giving', 0.06840669363737106),\n",
       "  ('pretty', 0.05134766548871994),\n",
       "  ('dangerous', 0.05134766548871994),\n",
       "  ('vibe', 0.03428863734006882),\n",
       "  ('match', 0.03428863734006882),\n",
       "  ('one', 0.03428863734006882)],\n",
       " 32: [('work', 0.07478553056716919),\n",
       "  ('inspiration', 0.037486013025045395),\n",
       "  ('job', 0.037486013025045395),\n",
       "  ('strike', 0.037486013025045395),\n",
       "  ('rather', 0.037486013025045395),\n",
       "  ('often', 0.037486013025045395)],\n",
       " 37: [('accessory', 0.018836256116628647),\n",
       "  ('drawn', 0.018836256116628647),\n",
       "  ('dropping', 0.018836256116628647),\n",
       "  ('paranoia', 0.018836256116628647),\n",
       "  ('spreading', 0.018836256116628647),\n",
       "  ('neutral', 0.018836256116628647)],\n",
       " 13: [('utterly', 0.07620677351951599),\n",
       "  ('away', 0.038198404014110565),\n",
       "  ('terrified', 0.038198404014110565),\n",
       "  ('walked', 0.038198404014110565),\n",
       "  ('international', 0.038198404014110565),\n",
       "  ('would', 0.038198404014110565)],\n",
       " 20: [('circle', 0.03893839567899704),\n",
       "  ('realised', 0.03893839567899704),\n",
       "  ('craft', 0.019566059112548828),\n",
       "  ('income', 0.019566059112548828),\n",
       "  ('various', 0.019566059112548828),\n",
       "  ('therapy', 0.019566059112548828)],\n",
       " 27: [('began', 0.03893839567899704),\n",
       "  ('amount', 0.03893839567899704),\n",
       "  ('distressed', 0.03893839567899704),\n",
       "  ('disappointment', 0.019566059112548828),\n",
       "  ('horse', 0.019566059112548828),\n",
       "  ('kill', 0.019566059112548828)],\n",
       " 34: [('hateful', 0.03893839567899704),\n",
       "  ('fandom', 0.019566059112548828),\n",
       "  ('floor', 0.019566059112548828),\n",
       "  ('white', 0.019566059112548828),\n",
       "  ('bastard', 0.019566059112548828),\n",
       "  ('build', 0.019566059112548828)],\n",
       " 29: [('standing', 0.040507860481739044),\n",
       "  ('spin', 0.02035469561815262),\n",
       "  ('stepped', 0.02035469561815262),\n",
       "  ('pant', 0.02035469561815262),\n",
       "  ('reminded', 0.02035469561815262),\n",
       "  ('suit', 0.02035469561815262)],\n",
       " 28: [('doll', 0.047160957008600235),\n",
       "  ('child', 0.047160957008600235),\n",
       "  ('collection', 0.02369779534637928),\n",
       "  ('vintage', 0.02369779534637928),\n",
       "  ('distressed', 0.02369779534637928),\n",
       "  ('sentimental', 0.02369779534637928)],\n",
       " 39: [('little', 0.02369779534637928),\n",
       "  ('serving', 0.02369779534637928),\n",
       "  ('youth', 0.02369779534637928),\n",
       "  ('committed', 0.02369779534637928),\n",
       "  ('development', 0.02369779534637928),\n",
       "  ('belly', 0.02369779534637928)],\n",
       " 14: [('tiger', 0.07410143315792084),\n",
       "  ('album', 0.024864599108695984),\n",
       "  ('dance', 0.024864599108695984),\n",
       "  ('opinion', 0.024864599108695984),\n",
       "  ('describe', 0.024864599108695984),\n",
       "  ('gorgeous', 0.024864599108695984)],\n",
       " 30: [('search', 0.04948301613330841),\n",
       "  ('code', 0.04948301613330841),\n",
       "  ('perform', 0.024864599108695984),\n",
       "  ('canada', 0.024864599108695984),\n",
       "  ('abused', 0.024864599108695984),\n",
       "  ('insulted', 0.024864599108695984)],\n",
       " 35: [('hundred', 0.028354857116937637),\n",
       "  ('thrown', 0.028354857116937637),\n",
       "  ('specific', 0.028354857116937637),\n",
       "  ('wall', 0.028354857116937637),\n",
       "  ('issue', 0.028354857116937637),\n",
       "  ('couple', 0.028354857116937637)],\n",
       " 24: [('charming', 0.058058928698301315),\n",
       "  ('worker', 0.02917388826608658),\n",
       "  ('co', 0.02917388826608658),\n",
       "  ('envious', 0.02917388826608658),\n",
       "  ('awkward', 0.02917388826608658),\n",
       "  ('one', 0.00028885036590509117)],\n",
       " 31: [('paranoia', 0.030041642487049103),\n",
       "  ('gained', 0.030041642487049103),\n",
       "  ('everyday', 0.030041642487049103),\n",
       "  ('casual', 0.030041642487049103),\n",
       "  ('sense', 0.030041642487049103),\n",
       "  ('one', 0.0002974419912789017)],\n",
       " 16: [('skirt', 0.03096259944140911),\n",
       "  ('giddy', 0.03096259944140911),\n",
       "  ('perfectly', 0.03096259944140911),\n",
       "  ('elegant', 0.03096259944140911),\n",
       "  ('day', 0.0003065603959839791),\n",
       "  ('one', 0.0003065603959839791)],\n",
       " 22: [('remembering', 0.03096259944140911),\n",
       "  ('finger', 0.03096259944140911),\n",
       "  ('touch', 0.03096259944140911),\n",
       "  ('aching', 0.03096259944140911),\n",
       "  ('day', 0.0003065603959839791),\n",
       "  ('one', 0.0003065603959839791)]}"
      ]
     },
     "execution_count": 90,
     "metadata": {},
     "output_type": "execute_result"
    }
   ],
   "source": [
    "sorted_topics = [k for k, v in sorted(enumerate(hdp.get_count_by_topics()), key=lambda x:x[1], reverse=True)]\n",
    "\n",
    "topics={}\n",
    "\n",
    "# For topics found, extract only those that are still assigned\n",
    "for k in sorted_topics:\n",
    "    if not hdp.is_live_topic(k): continue # remove un-assigned topics at the end (i.e. not alive)\n",
    "    topic_wp =[]\n",
    "    for word, prob in hdp.get_topic_words(k, top_n=6):\n",
    "        topic_wp.append((word, prob))\n",
    "\n",
    "    topics[k] = topic_wp # store topic word/frequency array\n",
    "print(hdp.removed_top_words)\n",
    "topics\n"
   ]
  },
  {
   "cell_type": "code",
   "execution_count": 43,
   "metadata": {},
   "outputs": [
    {
     "data": {
      "text/plain": [
       "103833"
      ]
     },
     "metadata": {},
     "output_type": "display_data"
    },
    {
     "data": {
      "text/plain": [
       "12199"
      ]
     },
     "metadata": {},
     "output_type": "display_data"
    }
   ],
   "source": [
    "display(hdp.num_words)\n",
    "display(hdp.num_vocabs)"
   ]
  }
 ],
 "metadata": {
  "kernelspec": {
   "display_name": "compcog",
   "language": "python",
   "name": "compcog"
  },
  "language_info": {
   "codemirror_mode": {
    "name": "ipython",
    "version": 3
   },
   "file_extension": ".py",
   "mimetype": "text/x-python",
   "name": "python",
   "nbconvert_exporter": "python",
   "pygments_lexer": "ipython3",
   "version": "3.9.13"
  },
  "orig_nbformat": 4,
  "vscode": {
   "interpreter": {
    "hash": "5ce9a0a13be4ee4cf9cd9142f1ce1137306d57b32ab37bbb53246363ac0ddbd6"
   }
  }
 },
 "nbformat": 4,
 "nbformat_minor": 2
}
